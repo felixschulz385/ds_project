{
 "cells": [
  {
   "cell_type": "code",
   "execution_count": 120,
   "metadata": {},
   "outputs": [],
   "source": [
    "def get_splits(pic_size):\n",
    "    \n",
    "    xmax = pic_size[0]\n",
    "    ymax = pic_size[1]\n",
    "    \n",
    "    n = 0\n",
    "    out = [(None, None)] * ((xmax // 1000 + 1) * (ymax // 1000 + 1))\n",
    "\n",
    "    for xsplit in range(xmax // 1000 + 1):\n",
    "        for ysplit in range(ymax // 1000 + 1):\n",
    "            \n",
    "            ## initialize ignoring limits\n",
    "            # splits\n",
    "            xsplit_lower = xsplit * 1000\n",
    "            xsplit_upper = (xsplit + 1) * 1000\n",
    "            ysplit_lower = ysplit * 1000\n",
    "            ysplit_upper = (ysplit + 1) * 1000\n",
    "            # writes\n",
    "            xwrite_lower = xsplit * 1000\n",
    "            xwrite_upper = (xsplit + 1) * 1000\n",
    "            ywrite_lower = ysplit * 1000\n",
    "            ywrite_upper = (ysplit + 1) * 1000\n",
    "            # reads\n",
    "            xread_lower = 0\n",
    "            xread_upper = 1000\n",
    "            yread_lower = 0\n",
    "            yread_upper = 1000\n",
    "            \n",
    "            ## if exceeding limit, set to limit\n",
    "            # splits\n",
    "            if xmax < (xsplit + 1) * 1000:\n",
    "                xsplit_lower = xmax - 1000\n",
    "                xsplit_upper = xmax\n",
    "            if ymax < (ysplit + 1) * 1000:\n",
    "                ysplit_lower = ymax - 1000\n",
    "                ysplit_upper = ymax\n",
    "            # writes\n",
    "            if xmax < (xsplit + 1) * 1000:\n",
    "                xwrite_lower = xsplit * 1000\n",
    "                xwrite_upper = xmax\n",
    "            if ymax < (ysplit + 1) * 1000:\n",
    "                ywrite_lower = ysplit * 1000\n",
    "                ywrite_upper = ymax\n",
    "            # reads\n",
    "            if xmax < (xsplit + 1) * 1000:\n",
    "                xread_upper = (xmax - xsplit * 1000)\n",
    "            if ymax < (ysplit + 1) * 1000:\n",
    "                yread_upper = (ymax - ysplit * 1000)\n",
    "                \n",
    "            ## write to out\n",
    "            out[n] = ([xsplit_lower, ysplit_lower, xsplit_upper, ysplit_upper], \n",
    "                      [xwrite_lower, ywrite_lower, xwrite_upper, ywrite_upper],\n",
    "                      [xread_lower, yread_lower, xread_upper, yread_upper] )\n",
    "            n += 1\n",
    "            \n",
    "    return out"
   ]
  },
  {
   "cell_type": "code",
   "execution_count": 121,
   "metadata": {},
   "outputs": [
    {
     "data": {
      "text/plain": [
       "[([0, 0, 1000, 1000], [0, 0, 1000, 1000], [0, 0, 1000, 1000]),\n",
       " ([0, 1000, 1000, 2000], [0, 1000, 1000, 2000], [0, 0, 1000, 1000]),\n",
       " ([0, 1001, 1000, 2001], [0, 2000, 1000, 2001], [0, 0, 1000, 1]),\n",
       " ([1000, 0, 2000, 1000], [1000, 0, 2000, 1000], [0, 0, 1000, 1000]),\n",
       " ([1000, 1000, 2000, 2000], [1000, 1000, 2000, 2000], [0, 0, 1000, 1000]),\n",
       " ([1000, 1001, 2000, 2001], [1000, 2000, 2000, 2001], [0, 0, 1000, 1]),\n",
       " ([1001, 0, 2001, 1000], [2000, 0, 2001, 1000], [0, 0, 1, 1000]),\n",
       " ([1001, 1000, 2001, 2000], [2000, 1000, 2001, 2000], [0, 0, 1, 1000]),\n",
       " ([1001, 1001, 2001, 2001], [2000, 2000, 2001, 2001], [0, 0, 1, 1])]"
      ]
     },
     "execution_count": 121,
     "metadata": {},
     "output_type": "execute_result"
    }
   ],
   "source": [
    "get_splits((2001, 2001))"
   ]
  },
  {
   "cell_type": "code",
   "execution_count": 14,
   "metadata": {},
   "outputs": [
    {
     "data": {
      "text/plain": [
       "([-183, 0, 817, 1000], [0, 0, 817, 1000])"
      ]
     },
     "execution_count": 14,
     "metadata": {},
     "output_type": "execute_result"
    }
   ],
   "source": [
    "splits[0]"
   ]
  },
  {
   "cell_type": "code",
   "execution_count": 90,
   "metadata": {},
   "outputs": [],
   "source": [
    "splits = get_splits((817, 817))\n",
    "bbox = {\"minx\": 1000, \"miny\": 1000, \"maxx\": 1817, \"maxy\": 1817}\n",
    "bbox_image = {\"minx\": 0, \"miny\": 0, \"maxx\": 1817, \"maxy\": 1817}"
   ]
  },
  {
   "cell_type": "code",
   "execution_count": 91,
   "metadata": {},
   "outputs": [],
   "source": [
    "def correct_overshot(splits, bbox, bbox_image):\n",
    "    # test if x range is overshot\n",
    "    f_xover = any(any([x[0] < 0, x[2] < 0]) for x in splits[0])\n",
    "    # test if y range is overshot\n",
    "    f_yover = any(any([x[1] < 0, x[3] < 0]) for x in splits[0])\n",
    "    #\n",
    "    f_problem = False\n",
    "    \n",
    "    if f_xover:\n",
    "        # get range above x\n",
    "        a_xover = - splits[0][0][0]\n",
    "        # get potential exceeding space from bboxes\n",
    "        p_xupper = bbox_image[\"maxx\"] - bbox[\"maxx\"]\n",
    "        p_xlower = bbox[\"minx\"] - bbox_image[\"minx\"]\n",
    "        # check if the upper potential covers the range\n",
    "        if p_xupper >= a_xover:\n",
    "            # extend the queried range above only\n",
    "            bbox[\"maxx\"] += a_xover\n",
    "        else:\n",
    "            # extend the queried range above as much as possible\n",
    "            bbox[\"maxx\"] += + p_xupper\n",
    "            # check if the lower potential covers the remaining range\n",
    "            if p_xlower >= a_xover - p_xupper:\n",
    "                # further extend the queried range below as much as possible\n",
    "                bbox[\"minx\"] -= a_xover - p_xupper\n",
    "            else:\n",
    "                # if both upper and lower combined do not suffice, flag an error\n",
    "                f_problem = True\n",
    "    if f_yover:\n",
    "        # get range above y\n",
    "        a_yover = - splits[0][0][1]\n",
    "        # get potential exceeding space from bboxes\n",
    "        p_yupper = bbox_image[\"maxy\"] - bbox[\"maxy\"]\n",
    "        p_ylower = bbox[\"miny\"] - bbox_image[\"miny\"]\n",
    "        # check if the upper potential covers the range\n",
    "        if p_yupper >= a_yover:\n",
    "            # extend the queried range above only\n",
    "            bbox[\"maxy\"] += a_yover\n",
    "        else:\n",
    "            # extend the queried range above as much as possible\n",
    "            bbox[\"maxy\"] += + p_yupper\n",
    "            # check if the lower potential covers the remaining range\n",
    "            if p_ylower >= a_yover - p_yupper:\n",
    "                # further extend the queried range below as much as possible\n",
    "                bbox[\"miny\"] -= a_yover - p_yupper\n",
    "            else:\n",
    "                # if both upper and lower combined do not suffice, flag an error\n",
    "                f_problem = True\n",
    "    \n",
    "    return f_problem, bbox, get_splits((bbox[\"maxx\"] - bbox[\"minx\"], bbox[\"maxy\"] - bbox[\"miny\"]))"
   ]
  },
  {
   "cell_type": "code",
   "execution_count": 92,
   "metadata": {},
   "outputs": [
    {
     "data": {
      "text/plain": [
       "(False,\n",
       " {'minx': 817, 'miny': 817, 'maxx': 1817, 'maxy': 1817},\n",
       " [([0, 0, 1000, 1000], [0, 0, 1000, 1000]),\n",
       "  ([0, 0, 1000, 1000], [0, 1000, 1000, 1000]),\n",
       "  ([0, 0, 1000, 1000], [1000, 0, 1000, 1000]),\n",
       "  ([0, 0, 1000, 1000], [1000, 1000, 1000, 1000])])"
      ]
     },
     "execution_count": 92,
     "metadata": {},
     "output_type": "execute_result"
    }
   ],
   "source": [
    "correct_overshot(get_splits((817, 817)), bbox, bbox_image)"
   ]
  }
 ],
 "metadata": {
  "interpreter": {
   "hash": "488307011aaf990456e74b9f2d65811f2d14a922aa5ea10f6ce2a4be1284880c"
  },
  "kernelspec": {
   "display_name": "Python 3.10.8 ('ds_project')",
   "language": "python",
   "name": "python3"
  },
  "language_info": {
   "codemirror_mode": {
    "name": "ipython",
    "version": 3
   },
   "file_extension": ".py",
   "mimetype": "text/x-python",
   "name": "python",
   "nbconvert_exporter": "python",
   "pygments_lexer": "ipython3",
   "version": "3.10.8"
  },
  "orig_nbformat": 4
 },
 "nbformat": 4,
 "nbformat_minor": 2
}
