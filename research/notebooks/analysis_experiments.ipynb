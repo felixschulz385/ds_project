{
 "cells": [
  {
   "cell_type": "code",
   "execution_count": 1,
   "metadata": {},
   "outputs": [],
   "source": [
    "import geopandas as gpd\n",
    "\n",
    "driveways = gpd.read_file(\"/pfs/work7/workspace/scratch/tu_zxobe27-ds_project/data/OSM/processed/brandenburg_polygons.geojson\")"
   ]
  },
  {
   "cell_type": "markdown",
   "metadata": {},
   "source": [
    "---\n",
    "# Iridiation"
   ]
  },
  {
   "cell_type": "code",
   "execution_count": 11,
   "metadata": {},
   "outputs": [],
   "source": [
    "import xarray\n",
    "import rioxarray\n",
    "\n",
    "iridiation = rioxarray.open_rasterio(\"/pfs/work7/workspace/scratch/tu_zxobe27-ds_project/data/SARAH/processed/gh_0_year.nc\")"
   ]
  },
  {
   "cell_type": "code",
   "execution_count": 39,
   "metadata": {},
   "outputs": [
    {
     "data": {
      "text/plain": [
       "0       118.500000\n",
       "1       118.500000\n",
       "2       118.500000\n",
       "3       118.500000\n",
       "4       118.500000\n",
       "           ...    \n",
       "1261    123.099998\n",
       "1262    123.099998\n",
       "1263    123.099998\n",
       "1264    123.099998\n",
       "1265    123.099998\n",
       "Length: 1266, dtype: float64"
      ]
     },
     "execution_count": 39,
     "metadata": {},
     "output_type": "execute_result"
    }
   ],
   "source": [
    "def worker(x):\n",
    "    if x != None:\n",
    "        return iridiation.sel(x = list(x.coords)[0][0], y = list(x.coords)[0][1], method = \"nearest\").values[0]\n",
    "driveways.centroid.apply(worker) "
   ]
  },
  {
   "cell_type": "markdown",
   "metadata": {},
   "source": [
    "---\n",
    "# Network Centrality"
   ]
  },
  {
   "cell_type": "code",
   "execution_count": null,
   "metadata": {},
   "outputs": [],
   "source": [
    "import pandas as pd\n",
    "\n",
    "network = "
   ]
  }
 ],
 "metadata": {
  "interpreter": {
   "hash": "488307011aaf990456e74b9f2d65811f2d14a922aa5ea10f6ce2a4be1284880c"
  },
  "kernelspec": {
   "display_name": "Python 3.10.6 ('ds_project': conda)",
   "language": "python",
   "name": "python3"
  },
  "language_info": {
   "codemirror_mode": {
    "name": "ipython",
    "version": 3
   },
   "file_extension": ".py",
   "mimetype": "text/x-python",
   "name": "python",
   "nbconvert_exporter": "python",
   "pygments_lexer": "ipython3",
   "version": "3.10.6"
  },
  "orig_nbformat": 4
 },
 "nbformat": 4,
 "nbformat_minor": 2
}
