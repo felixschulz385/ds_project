{
 "cells": [
  {
   "attachments": {},
   "cell_type": "markdown",
   "metadata": {},
   "source": [
    "The url parameter of the dl.GeoJSON component is pointing to a local file (\"/home/jan/Uni/DS-Project/modules/dashboard/us-states.js\"). This file will only be accessible to the server, and not to the client-side JavaScript that is running in the user's web browser. To display the polygons on the map, you will need to either:\n",
    "\n",
    "- Host the us-states.js file on a public server and provide the URL to that server in the dl.GeoJSON component.\n",
    "- Serve the us-states.js file from the same server that is running the Dash app, and provide the URL to that file in the dl.GeoJSON component."
   ]
  },
  {
   "cell_type": "code",
   "execution_count": 1,
   "metadata": {},
   "outputs": [],
   "source": [
    "import os\n",
    "import dash_leaflet as dl\n",
    "import dash_leaflet.express as dlx\n",
    "from dash import Dash, html, Output, Input, dcc\n",
    "from dash_extensions.javascript import arrow_function, assign\n",
    "import json\n",
    "import urllib.request"
   ]
  },
  {
   "cell_type": "code",
   "execution_count": 2,
   "metadata": {},
   "outputs": [],
   "source": [
    "us_states_path = \"assets/us-states.json\"\n",
    "# Download asset if it doesn't exists.\n",
    "os.makedirs(\"assets\", exist_ok=True)\n",
    "if not os.path.isfile(us_states_path):\n",
    "    urllib.request.urlretrieve(\"http://dash-leaflet.herokuapp.com/assets/us-states.json\", us_states_path)\n",
    "# Load us states.\n",
    "with open(us_states_path) as f:\n",
    "    states = [f[\"properties\"] for f in json.load(f)[\"features\"]]"
   ]
  },
  {
   "cell_type": "code",
   "execution_count": 3,
   "metadata": {},
   "outputs": [
    {
     "data": {
      "text/plain": [
       "{'name': 'Alabama', 'density': 94.65}"
      ]
     },
     "execution_count": 3,
     "metadata": {},
     "output_type": "execute_result"
    }
   ],
   "source": [
    "states[0]"
   ]
  },
  {
   "cell_type": "code",
   "execution_count": 3,
   "metadata": {},
   "outputs": [],
   "source": [
    "def get_info(feature=None):\n",
    "    header = [html.H4(\"US Population Density\")]\n",
    "    if not feature:\n",
    "        return header + [html.P(\"Hoover over a state\")]\n",
    "    return header + [html.B(feature[\"properties\"][\"name\"]), html.Br(),\n",
    "                     \"{:.3f} people / mi\".format(feature[\"properties\"][\"density\"]), html.Sup(\"2\")]\n",
    "\n",
    "classes = [0, 10, 20, 50, 100, 200, 500, 1000]\n",
    "colorscale = ['#FFEDA0', '#FED976', '#FEB24C', '#FD8D3C', '#FC4E2A', '#E31A1C', '#BD0026', '#800026']\n",
    "style = dict(weight=2, opacity=1, color='white', dashArray='3', fillOpacity=0.7)\n",
    "# Create colorbar.\n",
    "ctg = [\"{}+\".format(cls, classes[i + 1]) for i, cls in enumerate(classes[:-1])] + [\"{}+\".format(classes[-1])]\n",
    "colorbar = dlx.categorical_colorbar(categories=ctg, colorscale=colorscale, width=300, height=30, position=\"bottomleft\")\n",
    "# Geojson rendering logic, must be JavaScript as it is executed in clientside.\n",
    "style_handle = assign(\"\"\"function(feature, context){\n",
    "    const {classes, colorscale, style, colorProp} = context.props.hideout;  // get props from hideout\n",
    "    const value = feature.properties[colorProp];  // get value the determines the color\n",
    "    for (let i = 0; i < classes.length; ++i) {\n",
    "        if (value > classes[i]) {\n",
    "            style.fillColor = colorscale[i];  // set the fill color according to the class\n",
    "        }\n",
    "    }\n",
    "    return style;\n",
    "}\"\"\")\n",
    "# Create geojson.\n",
    "geojson = dl.GeoJSON(url=f\"/{us_states_path}\",  # url to geojson file\n",
    "                     options=dict(style=style_handle),  # how to style each polygon\n",
    "                     zoomToBounds=True,  # when true, zooms to bounds when data changes (e.g. on load)\n",
    "                     zoomToBoundsOnClick=True,  # when true, zooms to bounds of feature (e.g. polygon) on click\n",
    "                     hoverStyle=arrow_function(dict(weight=5, color='#666', dashArray='')),  # style applied on hover\n",
    "                     hideout=dict(colorscale=colorscale, classes=classes, style=style, colorProp=\"density\"),\n",
    "                     id=\"geojson\")\n",
    "# Create info control.\n",
    "info = html.Div(children=get_info(), id=\"info\", className=\"info\",\n",
    "                style={\"position\": \"absolute\", \"top\": \"10px\", \"right\": \"10px\", \"z-index\": \"1000\"})\n",
    "# Create app.\n",
    "app = Dash(prevent_initial_callbacks=True)\n",
    "app.layout = html.Div([dl.Map(children=[dl.TileLayer(), geojson, colorbar, info])],\n",
    "                      style={'width': '100%', 'height': '50vh', 'margin': \"auto\", \"display\": \"block\"}, id=\"map\")\n",
    "\n",
    "\n",
    "@app.callback(Output(\"info\", \"children\"), [Input(\"geojson\", \"hover_feature\")])\n",
    "def info_hover(feature):\n",
    "    return get_info(feature)"
   ]
  },
  {
   "cell_type": "code",
   "execution_count": 4,
   "metadata": {},
   "outputs": [
    {
     "name": "stdout",
     "output_type": "stream",
     "text": [
      "Dash is running on http://127.0.0.1:8050/\n",
      "\n",
      " * Serving Flask app '__main__'\n",
      " * Debug mode: off\n"
     ]
    },
    {
     "name": "stderr",
     "output_type": "stream",
     "text": [
      "WARNING: This is a development server. Do not use it in a production deployment. Use a production WSGI server instead.\n",
      " * Running on http://127.0.0.1:8050\n",
      "Press CTRL+C to quit\n",
      "127.0.0.1 - - [04/Jan/2023 11:27:57] \"GET / HTTP/1.1\" 200 -\n",
      "127.0.0.1 - - [04/Jan/2023 11:27:59] \"GET /assets/dashExtensions_default.js?m=1672828060.2624562 HTTP/1.1\" 200 -\n",
      "127.0.0.1 - - [04/Jan/2023 11:28:01] \"GET /_dash-layout HTTP/1.1\" 200 -\n",
      "127.0.0.1 - - [04/Jan/2023 11:28:01] \"GET /_dash-dependencies HTTP/1.1\" 200 -\n"
     ]
    }
   ],
   "source": [
    "if __name__ == '__main__':\n",
    "    app.run_server()"
   ]
  },
  {
   "attachments": {},
   "cell_type": "markdown",
   "metadata": {},
   "source": [
    "links:\n",
    "- https://community.plotly.com/t/dash-leaflet-efficiency-filtering-a-large-geojson-11-mb/52785/2\n",
    "- https://github.com/thedirtyfew/dash-leaflet/issues/14\n",
    "- https://leafletjs.com/examples/choropleth/ [java]\n",
    "- https://dash-leaflet-docs.onrender.com/#"
   ]
  }
 ],
 "metadata": {
  "kernelspec": {
   "display_name": "Python 3.10.8 64-bit",
   "language": "python",
   "name": "python3"
  },
  "language_info": {
   "codemirror_mode": {
    "name": "ipython",
    "version": 3
   },
   "file_extension": ".py",
   "mimetype": "text/x-python",
   "name": "python",
   "nbconvert_exporter": "python",
   "pygments_lexer": "ipython3",
   "version": "3.10.8"
  },
  "orig_nbformat": 4,
  "vscode": {
   "interpreter": {
    "hash": "e7370f93d1d0cde622a1f8e1c04877d8463912d04d973331ad4851f04de6915a"
   }
  }
 },
 "nbformat": 4,
 "nbformat_minor": 2
}
