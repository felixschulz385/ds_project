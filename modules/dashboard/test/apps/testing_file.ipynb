{
 "cells": [
  {
   "cell_type": "code",
   "execution_count": 1,
   "metadata": {},
   "outputs": [
    {
     "name": "stderr",
     "output_type": "stream",
     "text": [
      "/tmp/ipykernel_45136/4291485928.py:8: UserWarning: \n",
      "The dash_table package is deprecated. Please replace\n",
      "`import dash_table` with `from dash import dash_table`\n",
      "\n",
      "Also, if you're using any of the table format helpers (e.g. Group), replace \n",
      "`from dash_table.Format import Group` with \n",
      "`from dash.dash_table.Format import Group`\n",
      "  import dash_table\n"
     ]
    }
   ],
   "source": [
    "import plotly.graph_objects as go\n",
    "import pandas as pd\n",
    "import numpy as np\n",
    "\n",
    "from dash import Dash, html, dcc\n",
    "from dash.dependencies import Input, Output\n",
    "import dash_bootstrap_components as dbc\n",
    "import dash_table"
   ]
  },
  {
   "cell_type": "code",
   "execution_count": 2,
   "metadata": {},
   "outputs": [],
   "source": [
    "# import data\n",
    "kreise_df = pd.read_csv('/home/jan/Uni/DS-Project/modules/dashboard/test/assets/kreise_df.csv')\n",
    "# rename and drop columns\n",
    "kreise_df = kreise_df.drop(columns=['Unnamed: 0']).rename(columns={'ID_1': 'ID_Bundesland', 'NAME_1': 'Bundesland', 'ID_3': 'ID_Landkreis', 'NAME_3': 'Landkreis', 'ENGTYPE_3': 'Land_Stadt'})\n",
    "\n",
    "kreise_df.head()\n",
    "\n",
    "# good if there are many options\n",
    "Bundesland_unique = kreise_df['Bundesland'].unique()\n",
    "Bundesland_options = [{'label': item, 'value': item} for item in np.sort(kreise_df['Bundesland'].unique())]"
   ]
  },
  {
   "cell_type": "code",
   "execution_count": 4,
   "metadata": {},
   "outputs": [],
   "source": [
    "table = dash_table.DataTable(\n",
    "    id='table',\n",
    "    columns=[{\"name\": i, \"id\": i} for i in kreise_df.columns],\n",
    "    data=kreise_df,\n",
    "    page_current=0,\n",
    "    page_size=5,\n",
    "    page_action='native'\n",
    ")"
   ]
  },
  {
   "cell_type": "code",
   "execution_count": 3,
   "metadata": {},
   "outputs": [
    {
     "ename": "TypeError",
     "evalue": "The `dash_bootstrap_components.Table` component (version 1.3.1) received an unexpected keyword argument: `page_size`\nAllowed arguments: bordered, borderless, children, className, class_name, color, dark, hover, id, key, loading_state, responsive, size, striped, style",
     "output_type": "error",
     "traceback": [
      "\u001b[0;31m---------------------------------------------------------------------------\u001b[0m",
      "\u001b[0;31mTypeError\u001b[0m                                 Traceback (most recent call last)",
      "Cell \u001b[0;32mIn [3], line 1\u001b[0m\n\u001b[0;32m----> 1\u001b[0m table \u001b[39m=\u001b[39m dbc\u001b[39m.\u001b[39;49mTable\u001b[39m.\u001b[39;49mfrom_dataframe(\n\u001b[1;32m      2\u001b[0m     kreise_df,\n\u001b[1;32m      3\u001b[0m     striped\u001b[39m=\u001b[39;49m\u001b[39mTrue\u001b[39;49;00m,\n\u001b[1;32m      4\u001b[0m     bordered\u001b[39m=\u001b[39;49m\u001b[39mTrue\u001b[39;49;00m,\n\u001b[1;32m      5\u001b[0m     hover\u001b[39m=\u001b[39;49m\u001b[39mTrue\u001b[39;49;00m,\n\u001b[1;32m      6\u001b[0m     page_current \u001b[39m=\u001b[39;49m \u001b[39m0\u001b[39;49m,\n\u001b[1;32m      7\u001b[0m     page_size \u001b[39m=\u001b[39;49m \u001b[39m25\u001b[39;49m,\n\u001b[1;32m      8\u001b[0m     page_action \u001b[39m=\u001b[39;49m \u001b[39m'\u001b[39;49m\u001b[39mnative\u001b[39;49m\u001b[39m'\u001b[39;49m\n\u001b[1;32m      9\u001b[0m     )\n",
      "File \u001b[0;32m~/.local/lib/python3.10/site-packages/dash_bootstrap_components/_table.py:144\u001b[0m, in \u001b[0;36m_generate_table_from_df\u001b[0;34m(cls, df, float_format, columns, header, index, index_label, date_format, **table_kwargs)\u001b[0m\n\u001b[1;32m    133\u001b[0m     table \u001b[39m=\u001b[39m []\n\u001b[1;32m    134\u001b[0m table\u001b[39m.\u001b[39mappend(\n\u001b[1;32m    135\u001b[0m     html\u001b[39m.\u001b[39mTbody(\n\u001b[1;32m    136\u001b[0m         [\n\u001b[0;32m   (...)\u001b[0m\n\u001b[1;32m    142\u001b[0m     )\n\u001b[1;32m    143\u001b[0m )\n\u001b[0;32m--> 144\u001b[0m \u001b[39mreturn\u001b[39;00m \u001b[39mcls\u001b[39;49m(table, \u001b[39m*\u001b[39;49m\u001b[39m*\u001b[39;49mtable_kwargs)\n",
      "File \u001b[0;32m~/.local/lib/python3.10/site-packages/dash/development/base_component.py:420\u001b[0m, in \u001b[0;36m_explicitize_args.<locals>.wrapper\u001b[0;34m(*args, **kwargs)\u001b[0m\n\u001b[1;32m    418\u001b[0m \u001b[39mif\u001b[39;00m \u001b[39m\"\u001b[39m\u001b[39mself\u001b[39m\u001b[39m\"\u001b[39m \u001b[39min\u001b[39;00m kwargs[\u001b[39m\"\u001b[39m\u001b[39m_explicit_args\u001b[39m\u001b[39m\"\u001b[39m]:\n\u001b[1;32m    419\u001b[0m     kwargs[\u001b[39m\"\u001b[39m\u001b[39m_explicit_args\u001b[39m\u001b[39m\"\u001b[39m]\u001b[39m.\u001b[39mremove(\u001b[39m\"\u001b[39m\u001b[39mself\u001b[39m\u001b[39m\"\u001b[39m)\n\u001b[0;32m--> 420\u001b[0m \u001b[39mreturn\u001b[39;00m func(\u001b[39m*\u001b[39;49margs, \u001b[39m*\u001b[39;49m\u001b[39m*\u001b[39;49mkwargs)\n",
      "File \u001b[0;32m~/.local/lib/python3.10/site-packages/dash_bootstrap_components/_components/Table.py:97\u001b[0m, in \u001b[0;36mTable.__init__\u001b[0;34m(self, children, id, style, class_name, className, key, size, bordered, borderless, striped, color, dark, hover, responsive, loading_state, **kwargs)\u001b[0m\n\u001b[1;32m     94\u001b[0m _locals\u001b[39m.\u001b[39mupdate(kwargs)  \u001b[39m# For wildcard attrs and excess named props\u001b[39;00m\n\u001b[1;32m     95\u001b[0m args \u001b[39m=\u001b[39m {k: _locals[k] \u001b[39mfor\u001b[39;00m k \u001b[39min\u001b[39;00m _explicit_args \u001b[39mif\u001b[39;00m k \u001b[39m!=\u001b[39m \u001b[39m'\u001b[39m\u001b[39mchildren\u001b[39m\u001b[39m'\u001b[39m}\n\u001b[0;32m---> 97\u001b[0m \u001b[39msuper\u001b[39;49m(Table, \u001b[39mself\u001b[39;49m)\u001b[39m.\u001b[39;49m\u001b[39m__init__\u001b[39;49m(children\u001b[39m=\u001b[39;49mchildren, \u001b[39m*\u001b[39;49m\u001b[39m*\u001b[39;49margs)\n",
      "File \u001b[0;32m~/.local/lib/python3.10/site-packages/dash/development/base_component.py:138\u001b[0m, in \u001b[0;36mComponent.__init__\u001b[0;34m(self, **kwargs)\u001b[0m\n\u001b[1;32m    134\u001b[0m \u001b[39mif\u001b[39;00m \u001b[39mnot\u001b[39;00m k_in_propnames \u001b[39mand\u001b[39;00m \u001b[39mnot\u001b[39;00m k_in_wildcards:\n\u001b[1;32m    135\u001b[0m     allowed_args \u001b[39m=\u001b[39m \u001b[39m\"\u001b[39m\u001b[39m, \u001b[39m\u001b[39m\"\u001b[39m\u001b[39m.\u001b[39mjoin(\n\u001b[1;32m    136\u001b[0m         \u001b[39msorted\u001b[39m(\u001b[39mself\u001b[39m\u001b[39m.\u001b[39m_prop_names)\n\u001b[1;32m    137\u001b[0m     )  \u001b[39m# pylint: disable=no-member\u001b[39;00m\n\u001b[0;32m--> 138\u001b[0m     \u001b[39mraise\u001b[39;00m \u001b[39mTypeError\u001b[39;00m(\n\u001b[1;32m    139\u001b[0m         \u001b[39mf\u001b[39m\u001b[39m\"\u001b[39m\u001b[39m{\u001b[39;00merror_string_prefix\u001b[39m}\u001b[39;00m\u001b[39m received an unexpected keyword argument: `\u001b[39m\u001b[39m{\u001b[39;00mk\u001b[39m}\u001b[39;00m\u001b[39m`\u001b[39m\u001b[39m\"\u001b[39m\n\u001b[1;32m    140\u001b[0m         \u001b[39mf\u001b[39m\u001b[39m\"\u001b[39m\u001b[39m\\n\u001b[39;00m\u001b[39mAllowed arguments: \u001b[39m\u001b[39m{\u001b[39;00mallowed_args\u001b[39m}\u001b[39;00m\u001b[39m\"\u001b[39m\n\u001b[1;32m    141\u001b[0m     )\n\u001b[1;32m    143\u001b[0m \u001b[39mif\u001b[39;00m k \u001b[39mnot\u001b[39;00m \u001b[39min\u001b[39;00m \u001b[39mself\u001b[39m\u001b[39m.\u001b[39m_base_nodes \u001b[39mand\u001b[39;00m \u001b[39misinstance\u001b[39m(v, Component):\n\u001b[1;32m    144\u001b[0m     \u001b[39mraise\u001b[39;00m \u001b[39mTypeError\u001b[39;00m(\n\u001b[1;32m    145\u001b[0m         error_string_prefix\n\u001b[1;32m    146\u001b[0m         \u001b[39m+\u001b[39m \u001b[39m\"\u001b[39m\u001b[39m detected a Component for a prop other than `children`\u001b[39m\u001b[39m\\n\u001b[39;00m\u001b[39m\"\u001b[39m\n\u001b[0;32m   (...)\u001b[0m\n\u001b[1;32m    149\u001b[0m         \u001b[39m+\u001b[39m \u001b[39m'\u001b[39m\u001b[39mFor example, it must be html.Div([\u001b[39m\u001b[39m\"\u001b[39m\u001b[39ma\u001b[39m\u001b[39m\"\u001b[39m\u001b[39m, \u001b[39m\u001b[39m\"\u001b[39m\u001b[39mb\u001b[39m\u001b[39m\"\u001b[39m\u001b[39m, \u001b[39m\u001b[39m\"\u001b[39m\u001b[39mc\u001b[39m\u001b[39m\"\u001b[39m\u001b[39m]) not html.Div(\u001b[39m\u001b[39m\"\u001b[39m\u001b[39ma\u001b[39m\u001b[39m\"\u001b[39m\u001b[39m, \u001b[39m\u001b[39m\"\u001b[39m\u001b[39mb\u001b[39m\u001b[39m\"\u001b[39m\u001b[39m, \u001b[39m\u001b[39m\"\u001b[39m\u001b[39mc\u001b[39m\u001b[39m\"\u001b[39m\u001b[39m)\u001b[39m\u001b[39m\\n\u001b[39;00m\u001b[39m'\u001b[39m\n\u001b[1;32m    150\u001b[0m     )\n",
      "\u001b[0;31mTypeError\u001b[0m: The `dash_bootstrap_components.Table` component (version 1.3.1) received an unexpected keyword argument: `page_size`\nAllowed arguments: bordered, borderless, children, className, class_name, color, dark, hover, id, key, loading_state, responsive, size, striped, style"
     ]
    }
   ],
   "source": [
    "table = dbc.Table.from_dataframe(\n",
    "    kreise_df,\n",
    "    striped=True,\n",
    "    bordered=True,\n",
    "    hover=True\n",
    "    )"
   ]
  },
  {
   "cell_type": "code",
   "execution_count": 5,
   "metadata": {},
   "outputs": [],
   "source": [
    "external_stylesheets = [dbc.themes.LITERA]\n",
    "\n",
    "app = Dash(__name__, external_stylesheets=external_stylesheets)"
   ]
  },
  {
   "cell_type": "code",
   "execution_count": 6,
   "metadata": {},
   "outputs": [],
   "source": [
    "# change to app.layout if running as single page app instead\n",
    "app.layout = html.Div([\n",
    "    dbc.Container([\n",
    "        dbc.Row([\n",
    "            dbc.Col(html.H1(children='Alle Landkreise auf einen Blick'), className=\"mb-2\")\n",
    "        ]),\n",
    "        dbc.Row([\n",
    "            dbc.Col(html.H6(children='die wichtigsten Kennzahlen zur Filterung und zum Nachschlagen.'), className=\"mb-4\")\n",
    "        ]),\n",
    "# choose between Bundesland\n",
    "    dcc.Dropdown(\n",
    "        id='Bundesland_choice',\n",
    "        options=Bundesland_options,\n",
    "        value=None,\n",
    "        #multi=True,\n",
    "        style={'width': '50%'}\n",
    "        ),\n",
    "\n",
    "    dbc.Row([\n",
    "        table\n",
    "        ])\n",
    "\n",
    "])\n",
    "\n",
    "\n",
    "])"
   ]
  },
  {
   "cell_type": "code",
   "execution_count": 7,
   "metadata": {},
   "outputs": [
    {
     "name": "stdout",
     "output_type": "stream",
     "text": [
      "Dash is running on http://127.0.0.1:8050/\n",
      "\n",
      " * Serving Flask app '__main__'\n",
      " * Debug mode: off\n"
     ]
    },
    {
     "name": "stderr",
     "output_type": "stream",
     "text": [
      "WARNING: This is a development server. Do not use it in a production deployment. Use a production WSGI server instead.\n",
      " * Running on http://127.0.0.1:8050\n",
      "Press CTRL+C to quit\n",
      "127.0.0.1 - - [04/Feb/2023 19:43:51] \"GET / HTTP/1.1\" 200 -\n",
      "127.0.0.1 - - [04/Feb/2023 19:43:52] \"GET /_dash-dependencies HTTP/1.1\" 200 -\n"
     ]
    },
    {
     "name": "stdout",
     "output_type": "stream",
     "text": [
      "Exception on /_dash-layout [GET]\n",
      "Traceback (most recent call last):\n",
      "  File \"/home/jan/.local/lib/python3.10/site-packages/flask/app.py\", line 2525, in wsgi_app\n",
      "    response = self.full_dispatch_request()\n",
      "  File \"/home/jan/.local/lib/python3.10/site-packages/flask/app.py\", line 1822, in full_dispatch_request\n",
      "    rv = self.handle_user_exception(e)\n",
      "  File \"/home/jan/.local/lib/python3.10/site-packages/flask/app.py\", line 1820, in full_dispatch_request\n",
      "    rv = self.dispatch_request()\n",
      "  File \"/home/jan/.local/lib/python3.10/site-packages/flask/app.py\", line 1796, in dispatch_request\n",
      "    return self.ensure_sync(self.view_functions[rule.endpoint])(**view_args)\n",
      "  File \"/home/jan/.local/lib/python3.10/site-packages/dash/dash.py\", line 659, in serve_layout\n",
      "    to_json(layout),\n",
      "  File \"/home/jan/.local/lib/python3.10/site-packages/dash/_utils.py\", line 22, in to_json\n",
      "    return to_json_plotly(value)\n",
      "  File \"/home/jan/.local/lib/python3.10/site-packages/plotly/io/_json.py\", line 123, in to_json_plotly\n",
      "    return json.dumps(plotly_object, cls=PlotlyJSONEncoder, **opts)\n",
      "  File \"/usr/lib/python3.10/json/__init__.py\", line 238, in dumps\n",
      "    **kw).encode(obj)\n",
      "  File \"/home/jan/.local/lib/python3.10/site-packages/_plotly_utils/utils.py\", line 59, in encode\n",
      "    encoded_o = super(PlotlyJSONEncoder, self).encode(o)\n",
      "  File \"/usr/lib/python3.10/json/encoder.py\", line 199, in encode\n",
      "    chunks = self.iterencode(o, _one_shot=True)\n",
      "  File \"/usr/lib/python3.10/json/encoder.py\", line 257, in iterencode\n",
      "    return _iterencode(o, 0)\n",
      "  File \"/home/jan/.local/lib/python3.10/site-packages/_plotly_utils/utils.py\", line 136, in default\n",
      "    return _json.JSONEncoder.default(self, obj)\n",
      "  File \"/usr/lib/python3.10/json/encoder.py\", line 179, in default\n",
      "    raise TypeError(f'Object of type {o.__class__.__name__} '\n",
      "TypeError: Object of type DataFrame is not JSON serializable\n"
     ]
    },
    {
     "name": "stderr",
     "output_type": "stream",
     "text": [
      "127.0.0.1 - - [04/Feb/2023 19:43:52] \"GET /_dash-layout HTTP/1.1\" 500 -\n",
      "127.0.0.1 - - [04/Feb/2023 19:43:52] \"GET /_favicon.ico?v=2.7.1 HTTP/1.1\" 200 -\n"
     ]
    }
   ],
   "source": [
    "# run app\n",
    "if __name__ == '__main__':\n",
    "    app.run_server()"
   ]
  }
 ],
 "metadata": {
  "kernelspec": {
   "display_name": "Python 3.10.8 64-bit",
   "language": "python",
   "name": "python3"
  },
  "language_info": {
   "codemirror_mode": {
    "name": "ipython",
    "version": 3
   },
   "file_extension": ".py",
   "mimetype": "text/x-python",
   "name": "python",
   "nbconvert_exporter": "python",
   "pygments_lexer": "ipython3",
   "version": "3.10.8"
  },
  "orig_nbformat": 4,
  "vscode": {
   "interpreter": {
    "hash": "e7370f93d1d0cde622a1f8e1c04877d8463912d04d973331ad4851f04de6915a"
   }
  }
 },
 "nbformat": 4,
 "nbformat_minor": 2
}
