{
 "cells": [
  {
   "cell_type": "code",
   "execution_count": 9,
   "metadata": {},
   "outputs": [],
   "source": [
    "import dash_bootstrap_components as dbc\n",
    "from dash import Dash, Input, Output, html, dcc\n",
    "\n",
    "import pandas as pd\n",
    "import numpy as np\n",
    "import plotly.express as px\n",
    "import plotly.graph_objects as go"
   ]
  },
  {
   "cell_type": "code",
   "execution_count": 2,
   "metadata": {},
   "outputs": [],
   "source": [
    "# import data\n",
    "kreise_df = pd.read_csv('/home/jan/Uni/DS-Project/modules/dashboard/test/assets/kreise_df.csv')\n",
    "# rename and drop columns\n",
    "kreise_df = kreise_df.drop(columns=['Unnamed: 0', 'ID_1', 'ID_3']).rename(columns={'NAME_1': 'Bundesland', 'NAME_3': 'Landkreis', 'ENGTYPE_3': 'Land_Stadt'})\n",
    "\n",
    "# good if there are many options\n",
    "Bundesland_unique = kreise_df['Bundesland'].unique()\n",
    "Bundesland_options = [{'label': item, 'value': item} for item in np.sort(kreise_df['Bundesland'].unique())]"
   ]
  },
  {
   "cell_type": "code",
   "execution_count": 8,
   "metadata": {},
   "outputs": [
    {
     "name": "stdout",
     "output_type": "stream",
     "text": [
      "                       ids    labels parents\n",
      "0        Enzymatic-Flowery   Flowery     NaN\n",
      "1         Enzymatic-Fruity    Fruity     NaN\n",
      "2          Enzymatic-Herby     Herby     NaN\n",
      "3     Sugar Browning-Nutty     Nutty     NaN\n",
      "4  Sugar Browning-Carmelly  Carmelly     NaN\n"
     ]
    },
    {
     "data": {
      "application/vnd.plotly.v1+json": {
       "config": {
        "plotlyServerURL": "https://plot.ly"
       },
       "data": [
        {
         "branchvalues": "total",
         "customdata": [
          [
           "Rural district"
          ],
          [
           "Rural district"
          ],
          [
           "Rural district"
          ],
          [
           "Rural district"
          ],
          [
           "Urban district"
          ],
          [
           "Rural district"
          ],
          [
           "Rural district"
          ],
          [
           "Rural district"
          ],
          [
           "Urban district"
          ],
          [
           "Rural district"
          ],
          [
           "Rural district"
          ],
          [
           "Rural district"
          ],
          [
           "Rural district"
          ],
          [
           "Rural District"
          ],
          [
           "Rural district"
          ],
          [
           "Urban district"
          ],
          [
           "Rural district"
          ],
          [
           "Urban district"
          ],
          [
           "Rural district"
          ],
          [
           "Urban district"
          ],
          [
           "Rural district"
          ],
          [
           "Rural district"
          ],
          [
           "Rural district"
          ],
          [
           "Rural district"
          ],
          [
           "Rural district"
          ],
          [
           "Rural district"
          ],
          [
           "Rural district"
          ],
          [
           "Rural district"
          ],
          [
           "Rural district"
          ],
          [
           "Rural district"
          ],
          [
           "Rural district"
          ],
          [
           "Rural district"
          ],
          [
           "Rural district"
          ],
          [
           "Rural district"
          ],
          [
           "Urban district"
          ],
          [
           "Urban district"
          ],
          [
           "Rural district"
          ],
          [
           "Rural district"
          ],
          [
           "Urban district"
          ],
          [
           "Rural district"
          ],
          [
           "Rural district"
          ],
          [
           "Rural district"
          ],
          [
           "Rural district"
          ],
          [
           "Rural district"
          ],
          [
           "Urban district"
          ],
          [
           "Rural district"
          ],
          [
           "Rural district"
          ],
          [
           "Rural district"
          ],
          [
           "Rural district"
          ],
          [
           "Rural district"
          ],
          [
           "Urban district"
          ],
          [
           "Rural district"
          ],
          [
           "Rural district"
          ],
          [
           "Urban district"
          ],
          [
           "Rural district"
          ],
          [
           "Rural district"
          ],
          [
           "Rural district"
          ],
          [
           "Rural district"
          ],
          [
           "Urban district"
          ],
          [
           "Urban district"
          ],
          [
           "Rural district"
          ],
          [
           "Urban district"
          ],
          [
           "Rural district"
          ],
          [
           "Rural district"
          ],
          [
           "Urban district"
          ],
          [
           "Rural district"
          ],
          [
           "Rural district"
          ],
          [
           "Rural district"
          ],
          [
           "Rural district"
          ],
          [
           "Urban district"
          ],
          [
           "Urban district"
          ],
          [
           "Urban district"
          ],
          [
           "Urban district"
          ],
          [
           "Rural district"
          ],
          [
           "Urban district"
          ],
          [
           "Rural district"
          ],
          [
           "Rural district"
          ],
          [
           "Urban district"
          ],
          [
           "Rural district"
          ],
          [
           "Rural district"
          ],
          [
           "Rural district"
          ],
          [
           "Rural district"
          ],
          [
           "Rural district"
          ],
          [
           "Rural district"
          ],
          [
           "Rural district"
          ],
          [
           "Urban district"
          ],
          [
           "Rural district"
          ],
          [
           "Rural district"
          ],
          [
           "Rural district"
          ],
          [
           "Rural district"
          ],
          [
           "Rural district"
          ],
          [
           "Rural district"
          ],
          [
           "Rural district"
          ],
          [
           "Rural district"
          ],
          [
           "Rural district"
          ],
          [
           "Rural district"
          ],
          [
           "Rural district"
          ],
          [
           "Rural district"
          ],
          [
           "Rural district"
          ],
          [
           "Rural district"
          ],
          [
           "Rural district"
          ],
          [
           "Rural district"
          ],
          [
           "Rural district"
          ],
          [
           "Urban district"
          ],
          [
           "Rural district"
          ],
          [
           "Rural district"
          ],
          [
           "Rural district"
          ],
          [
           "Rural district"
          ],
          [
           "Rural district"
          ],
          [
           "Urban district"
          ],
          [
           "Rural district"
          ],
          [
           "Rural district"
          ],
          [
           "Rural district"
          ],
          [
           "Rural district"
          ],
          [
           "Urban district"
          ],
          [
           "Urban district"
          ],
          [
           "Rural district"
          ],
          [
           "Rural district"
          ],
          [
           "Urban district"
          ],
          [
           "Rural district"
          ],
          [
           "Rural district"
          ],
          [
           "Urban district"
          ],
          [
           "Rural district"
          ],
          [
           "Urban district"
          ],
          [
           "Urban district"
          ],
          [
           "Rural district"
          ],
          [
           "Rural district"
          ],
          [
           "Rural district"
          ],
          [
           "Urban district"
          ],
          [
           "Urban district"
          ],
          [
           "Rural district"
          ],
          [
           "Rural district"
          ],
          [
           "Rural district"
          ],
          [
           "Rural district"
          ],
          [
           "Rural district"
          ],
          [
           "Rural district"
          ],
          [
           "Rural district"
          ],
          [
           "Urban district"
          ],
          [
           "Urban district"
          ],
          [
           "Rural district"
          ],
          [
           "Urban district"
          ],
          [
           "Rural district"
          ],
          [
           "Rural district"
          ],
          [
           "Urban district"
          ],
          [
           "Rural district"
          ],
          [
           "Rural district"
          ],
          [
           "Rural district"
          ],
          [
           "Rural district"
          ],
          [
           "Rural district"
          ],
          [
           "Rural district"
          ],
          [
           "Rural district"
          ],
          [
           "Rural district"
          ],
          [
           "Rural district"
          ],
          [
           "Rural district"
          ],
          [
           "Rural District"
          ],
          [
           "Rural district"
          ],
          [
           "Rural district"
          ],
          [
           "Rural district"
          ],
          [
           "Rural district"
          ],
          [
           "Rural district"
          ],
          [
           "Rural district"
          ],
          [
           "Rural district"
          ],
          [
           "Urban district"
          ],
          [
           "Rural District"
          ],
          [
           "Rural district"
          ],
          [
           "Rural district"
          ],
          [
           "Rural district"
          ],
          [
           "Rural district"
          ],
          [
           "Rural district"
          ],
          [
           "Rural district"
          ],
          [
           "Rural district"
          ],
          [
           "Urban district"
          ],
          [
           "Rural district"
          ],
          [
           "Urban district"
          ],
          [
           "Rural district"
          ],
          [
           "Rural district"
          ],
          [
           "Rural district"
          ],
          [
           "Rural district"
          ],
          [
           "Rural district"
          ],
          [
           "Rural district"
          ],
          [
           "Urban district"
          ],
          [
           "Urban district"
          ],
          [
           "Rural district"
          ],
          [
           "Rural district"
          ],
          [
           "Urban district"
          ],
          [
           "Rural district"
          ],
          [
           "Rural district"
          ],
          [
           "Rural district"
          ],
          [
           "Rural district"
          ],
          [
           "Rural district"
          ],
          [
           "Rural district"
          ],
          [
           "Urban district"
          ],
          [
           "Rural district"
          ],
          [
           "Rural district"
          ],
          [
           "Rural district"
          ],
          [
           "Urban district"
          ],
          [
           "Urban district"
          ],
          [
           "Rural district"
          ],
          [
           "Rural district"
          ],
          [
           "Rural district"
          ],
          [
           "Rural district"
          ],
          [
           "Urban district"
          ],
          [
           "Rural district"
          ],
          [
           "Urban district"
          ],
          [
           "Rural district"
          ],
          [
           "Urban District"
          ],
          [
           "Rural district"
          ],
          [
           "Rural district"
          ],
          [
           "Rural district"
          ],
          [
           "Rural district"
          ],
          [
           "Rural district"
          ],
          [
           "Rural district"
          ],
          [
           "Rural district"
          ],
          [
           "Urban district"
          ],
          [
           "Rural district"
          ],
          [
           "Urban district"
          ],
          [
           "Rural district"
          ],
          [
           "Urban District"
          ],
          [
           "Rural district"
          ],
          [
           "Urban district"
          ],
          [
           "Rural district"
          ],
          [
           "Rural district"
          ],
          [
           "Rural district"
          ],
          [
           "Rural district"
          ],
          [
           "Rural district"
          ],
          [
           "Rural district"
          ],
          [
           "Rural district"
          ],
          [
           "Urban district"
          ],
          [
           "Rural district"
          ],
          [
           "Rural district"
          ],
          [
           "Rural district"
          ],
          [
           "Rural district"
          ],
          [
           "Urban district"
          ],
          [
           "Urban district"
          ],
          [
           "Rural district"
          ],
          [
           "Rural district"
          ],
          [
           "Rural district"
          ],
          [
           "Urban district"
          ],
          [
           "Rural district"
          ],
          [
           "Rural district"
          ],
          [
           "Rural district"
          ],
          [
           "Rural district"
          ],
          [
           "Rural district"
          ],
          [
           "Rural district"
          ],
          [
           "Urban district"
          ],
          [
           "Rural district"
          ],
          [
           "Rural district"
          ],
          [
           "Urban district"
          ],
          [
           "Urban district"
          ],
          [
           "Urban district"
          ],
          [
           "Urban district"
          ],
          [
           "Rural district"
          ],
          [
           "Rural district"
          ],
          [
           "Urban district"
          ],
          [
           "Rural district"
          ],
          [
           "Urban district"
          ],
          [
           "Rural district"
          ],
          [
           "Rural district"
          ],
          [
           "Rural district"
          ],
          [
           "Rural district"
          ],
          [
           "Urban district"
          ],
          [
           "Rural district"
          ],
          [
           "Rural district"
          ],
          [
           "Rural district"
          ],
          [
           "Rural district"
          ],
          [
           "Rural district"
          ],
          [
           "Rural district"
          ],
          [
           "Rural district"
          ],
          [
           "Rural district"
          ],
          [
           "Urban district"
          ],
          [
           "Urban district"
          ],
          [
           "Rural district"
          ],
          [
           "Urban district"
          ],
          [
           "Urban district"
          ],
          [
           "Rural district"
          ],
          [
           "Rural district"
          ],
          [
           "Urban district"
          ],
          [
           "Urban district"
          ],
          [
           "Urban district"
          ],
          [
           "Rural district"
          ],
          [
           "Rural district"
          ],
          [
           "Urban district"
          ],
          [
           "Urban district"
          ],
          [
           "Rural district"
          ],
          [
           "Rural district"
          ],
          [
           "Urban district"
          ],
          [
           "Rural district"
          ],
          [
           "Rural district"
          ],
          [
           "Rural district"
          ],
          [
           "Rural district"
          ],
          [
           "Urban district"
          ],
          [
           "Rural district"
          ],
          [
           "Rural district"
          ],
          [
           "Urban district"
          ],
          [
           "Rural district"
          ],
          [
           "Rural district"
          ],
          [
           "Rural district"
          ],
          [
           "Rural district"
          ],
          [
           "Rural district"
          ],
          [
           "Urban district"
          ],
          [
           "Rural district"
          ],
          [
           "Rural district"
          ],
          [
           "Rural district"
          ],
          [
           "Rural district"
          ],
          [
           "Rural district"
          ],
          [
           "Rural district"
          ],
          [
           "Rural district"
          ],
          [
           "Rural district"
          ],
          [
           "Urban district"
          ],
          [
           "Urban district"
          ],
          [
           "Rural district"
          ],
          [
           "Rural district"
          ],
          [
           "Urban district"
          ],
          [
           "Rural district"
          ],
          [
           "Urban district"
          ],
          [
           "Rural district"
          ],
          [
           "Urban district"
          ],
          [
           "Rural district"
          ],
          [
           "Rural district"
          ],
          [
           "Rural district"
          ],
          [
           "Rural district"
          ],
          [
           "Rural district"
          ],
          [
           "Rural district"
          ],
          [
           "Rural district"
          ],
          [
           "Rural district"
          ],
          [
           "Rural district"
          ],
          [
           "Rural district"
          ],
          [
           "Rural district"
          ],
          [
           "Urban district"
          ],
          [
           "Rural district"
          ],
          [
           "Rural district"
          ],
          [
           "Urban district"
          ],
          [
           "Urban district"
          ],
          [
           "Rural district"
          ],
          [
           "Rural district"
          ],
          [
           "Urban district"
          ],
          [
           "Urban district"
          ],
          [
           "Rural district"
          ],
          [
           "Rural district"
          ],
          [
           "Rural district"
          ],
          [
           "Rural district"
          ],
          [
           "Rural district"
          ],
          [
           "Rural district"
          ],
          [
           "Rural district"
          ],
          [
           "Rural district"
          ],
          [
           "Rural district"
          ],
          [
           "Urban district"
          ],
          [
           "Urban district"
          ],
          [
           "Urban district"
          ],
          [
           "Rural district"
          ],
          [
           "Rural district"
          ],
          [
           "Rural district"
          ],
          [
           "Urban district"
          ],
          [
           "Rural district"
          ],
          [
           "Rural district"
          ],
          [
           "Rural district"
          ],
          [
           "Urban district"
          ],
          [
           "Rural district"
          ],
          [
           "Rural district"
          ],
          [
           "Rural district"
          ],
          [
           "Rural district"
          ],
          [
           "Rural district"
          ],
          [
           "Rural district"
          ],
          [
           "Rural district"
          ],
          [
           "Urban district"
          ],
          [
           "Rural district"
          ],
          [
           "Rural district"
          ],
          [
           "Rural district"
          ],
          [
           "Rural district"
          ],
          [
           "Rural district"
          ],
          [
           "Urban district"
          ],
          [
           "Rural district"
          ],
          [
           "Rural district"
          ],
          [
           "Rural district"
          ],
          [
           "Rural district"
          ],
          [
           "Urban district"
          ],
          [
           "Rural district"
          ],
          [
           "Urban district"
          ],
          [
           "Rural district"
          ],
          [
           "Rural district"
          ],
          [
           "Urban district"
          ],
          [
           "Urban district"
          ],
          [
           "Rural district"
          ],
          [
           "Rural district"
          ],
          [
           "Rural district"
          ],
          [
           "Urban district"
          ],
          [
           "Rural district"
          ],
          [
           "Rural district"
          ],
          [
           "Urban district"
          ],
          [
           "Rural district"
          ],
          [
           "Rural district"
          ],
          [
           "Urban district"
          ],
          [
           "Rural district"
          ],
          [
           "Rural district"
          ],
          [
           "Rural district"
          ],
          [
           "Rural district"
          ],
          [
           "Rural district"
          ],
          [
           "Rural district"
          ],
          [
           "Rural district"
          ],
          [
           "Rural district"
          ],
          [
           "Rural district"
          ],
          [
           "Urban district"
          ],
          [
           "Urban district"
          ],
          [
           "Rural district"
          ],
          [
           "Rural district"
          ],
          [
           "Rural district"
          ],
          [
           "Urban district"
          ],
          [
           "Rural district"
          ],
          [
           "Urban district"
          ],
          [
           "Rural district"
          ],
          [
           "Rural district"
          ],
          [
           "Rural district"
          ],
          [
           "Rural district"
          ],
          [
           "Urban district"
          ],
          [
           "Rural district"
          ],
          [
           "Rural district"
          ],
          [
           "Rural district"
          ],
          [
           "Urban district"
          ],
          [
           "Rural district"
          ],
          [
           "Rural district"
          ],
          [
           "Rural district"
          ],
          [
           "Rural district"
          ],
          [
           "Urban district"
          ],
          [
           "Urban district"
          ],
          [
           "Rural district"
          ],
          [
           "Urban district"
          ],
          [
           "Rural district"
          ],
          [
           "Urban district"
          ],
          [
           "Rural district"
          ],
          [
           "Urban district"
          ],
          [
           "Rural district"
          ],
          [
           "Urban district"
          ],
          [
           "Rural district"
          ],
          [
           "Rural District"
          ],
          [
           "(?)"
          ],
          [
           "(?)"
          ],
          [
           "Urban District"
          ],
          [
           "(?)"
          ],
          [
           "Urban district"
          ],
          [
           "Urban district"
          ],
          [
           "(?)"
          ],
          [
           "(?)"
          ],
          [
           "(?)"
          ],
          [
           "(?)"
          ],
          [
           "(?)"
          ],
          [
           "(?)"
          ],
          [
           "(?)"
          ],
          [
           "(?)"
          ],
          [
           "(?)"
          ],
          [
           "(?)"
          ]
         ],
         "domain": {
          "x": [
           0,
           1
          ],
          "y": [
           0,
           1
          ]
         },
         "hovertemplate": "labels=%{label}<br>avg_Score=%{value}<br>parent=%{parent}<br>id=%{id}<br>Land_Stadt=%{customdata[0]}<extra></extra>",
         "ids": [
          "Bayern/Kitzingen",
          "Baden-Württemberg/Tübingen",
          "Sachsen/Leipziger Land",
          "Bayern/Kulmbach",
          "Mecklenburg-Vorpommern/Neubrandenburg Städte",
          "Nordrhein-Westfalen/Oberbergischer Kreis",
          "Bayern/Oberallgäu",
          "Bayern/Nürnberger Land",
          "Bayern/Nuremberg Städte",
          "Niedersachsen/Northeim",
          "Mecklenburg-Vorpommern/Nordwestmecklenburg",
          "Thüringen/Nordhausen",
          "Schleswig-Holstein/Nordfriesland",
          "Sachsen/Niederschlesischer Oberlausitzkreis",
          "Rheinland-Pfalz/Neuwied",
          "Nordrhein-Westfalen/Oberhausen Städte",
          "Bayern/Neustadt-Bad Windsheim",
          "Rheinland-Pfalz/Neustadt Städte",
          "Saarland/Neunkirchen",
          "Schleswig-Holstein/Neumünster Städte",
          "Bayern/Neumarkt",
          "Bayern/Neuburg-Schrobenhausen",
          "Bayern/Neu-Ulm",
          "Hessen/Offenbach",
          "Nordrhein-Westfalen/Olpe",
          "Niedersachsen/Osnabrück",
          "Bayern/Regensburg",
          "Bayern/Regen",
          "Nordrhein-Westfalen/Recklinghausen",
          "Baden-Württemberg/Ravensburg",
          "Baden-Württemberg/Rastatt",
          "Sachsen-Anhalt/Quedlinburg",
          "Brandenburg/Prignitz",
          "Brandenburg/Potsdam-Mittelmark",
          "Sachsen/Plauen Städte",
          "Baden-Württemberg/Pforzheim Städte",
          "Bayern/Pfaffenhofen",
          "Niedersachsen/Peine",
          "Bayern/Passau Städte",
          "Bayern/Passau",
          "Nordrhein-Westfalen/Paderborn",
          "Mecklenburg-Vorpommern/Ostvorpommern",
          "Brandenburg/Ostprignitz-Ruppin",
          "Niedersachsen/Osterholz",
          "Niedersachsen/Osnabrück Städte",
          "Baden-Württemberg/Neckar-Odenwald-Kreis",
          "Mecklenburg-Vorpommern/Müritz",
          "Nordrhein-Westfalen/Aachen",
          "Baden-Württemberg/Rems-Murr-Kreis",
          "Niedersachsen/Lüchow-Dannenberg",
          "Schleswig-Holstein/Lübeck Städte",
          "Sachsen/Löbau-Zittau",
          "Mecklenburg-Vorpommern/Ludwigslust",
          "Rheinland-Pfalz/Ludwigshafen Städte",
          "Baden-Württemberg/Ludwigsburg",
          "Bayern/Lindau",
          "Hessen/Limburg-Weilburg",
          "Bayern/Lichtenfels",
          "Nordrhein-Westfalen/Leverkusen Städte",
          "Sachsen/Leipzig Städte",
          "Schleswig-Holstein/Lauenburg",
          "Bayern/Landshut Städte",
          "Bayern/Landshut",
          "Bayern/Landsberg",
          "Rheinland-Pfalz/Landau Städte",
          "Hessen/Lahn-Dill-Kreis",
          "Sachsen-Anhalt/Köthen",
          "Rheinland-Pfalz/Kusel",
          "Niedersachsen/Lüneburg",
          "Nordrhein-Westfalen/Münster Städte",
          "Sachsen-Anhalt/Magdeburg Städte",
          "Rheinland-Pfalz/Mainz Städte",
          "Nordrhein-Westfalen/Mülheim Städte",
          "Bayern/Mühldorf",
          "Nordrhein-Westfalen/Mönchengladbach Städte",
          "Nordrhein-Westfalen/Märkischer Kreis",
          "Brandenburg/Märkisch-Oderland",
          "Bayern/Munich Städte",
          "Sachsen/Muldentalkreis",
          "Sachsen/Mittweida",
          "Sachsen/Mittlerer Erzgebirgskreis",
          "Nordrhein-Westfalen/Minden-Lübbecke",
          "Bayern/Miltenberg",
          "Nordrhein-Westfalen/Mettmann",
          "Sachsen-Anhalt/Merseburg-Querfurt",
          "Bayern/Memmingen Städte",
          "Sachsen/Meißen",
          "Mecklenburg-Vorpommern/Mecklenburg-Strelitz",
          "Rheinland-Pfalz/Mayen-Koblenz",
          "Hessen/Marburg-Biedenkopf",
          "Sachsen-Anhalt/Mansfelder Land",
          "Bayern/Main-Spessart",
          "Bayern/München",
          "Schleswig-Holstein/Rendsburg-Eckernförde",
          "Baden-Württemberg/Reutlingen",
          "Thüringen/Wartburgkreis",
          "Nordrhein-Westfalen/Warendorf",
          "Rheinland-Pfalz/Vulkaneifel",
          "Nordrhein-Westfalen/Viersen",
          "Niedersachsen/Verden",
          "Niedersachsen/Vechta",
          "Bayern/Unterallgäu",
          "Nordrhein-Westfalen/Unna",
          "Baden-Württemberg/Ulm Städte",
          "Niedersachsen/Uelzen",
          "Mecklenburg-Vorpommern/Uecker-Randow",
          "Brandenburg/Uckermark",
          "Baden-Württemberg/Tuttlingen",
          "Rheinland-Pfalz/Trier-Saarburg",
          "Rheinland-Pfalz/Trier Städte",
          "Bayern/Tirschenreuth",
          "Brandenburg/Teltow-Fläming",
          "Rheinland-Pfalz/Südliche Weinstraße",
          "Thüringen/Sömmerda",
          "Bayern/Weiden Städte",
          "Thüringen/Suhl Städte",
          "Bayern/Weilheim-Schongau",
          "Thüringen/Weimarer Land",
          "Rheinland-Pfalz/Zweibrücken Städte",
          "Baden-Württemberg/Zollernalbkreis",
          "Bayern/Würzburg",
          "Nordrhein-Westfalen/Wuppertal Städte",
          "Bayern/Wunsiedel",
          "Rheinland-Pfalz/Worms Städte",
          "Niedersachsen/Wolfsburg Städte",
          "Niedersachsen/Wolfenbüttel",
          "Niedersachsen/Wittmund",
          "Sachsen-Anhalt/Wittenberg",
          "Niedersachsen/Wilhelmshaven Städte",
          "Hessen/Wiesbaden Städte",
          "Hessen/Wetteraukreis",
          "Rheinland-Pfalz/Westerwaldkreis",
          "Hessen/Werra-Meißner-Kreis",
          "Sachsen-Anhalt/Wernigerode",
          "Sachsen/Weißeritzkreis",
          "Sachsen-Anhalt/Weißenfels",
          "Bayern/Weißenburg-Gunzenhausen",
          "Thüringen/Weimar Städte",
          "Baden-Württemberg/Stuttgart Städte",
          "Bayern/Straubing-Bogen",
          "Bayern/Straubing Städte",
          "Niedersachsen/Schaumburg",
          "Saarland/Sankt Wendel",
          "Niedersachsen/Salzgitter Städte",
          "Saarland/Saarpfalz",
          "Saarland/Saarlouis",
          "Sachsen-Anhalt/Saalkreis",
          "Thüringen/Saalfeld-Rudolstadt",
          "Thüringen/Saale-Orla",
          "Baden-Württemberg/Rottweil",
          "Bayern/Rottal-Inn",
          "Niedersachsen/Rotenburg",
          "Bayern/Rosenheim",
          "Nordrhein-Westfalen/Rheinisch-Bergischer Kreis",
          "Hessen/Rheingau-Taunus-Kreis",
          "Rheinland-Pfalz/Rhein-Pfalz-Kreis",
          "Rheinland-Pfalz/Rhein-Lahn",
          "Nordrhein-Westfalen/Rhein-Kreis Neuss",
          "Rheinland-Pfalz/Rhein-Hunsrück",
          "Nordrhein-Westfalen/Rhein-Erft-Kreis",
          "Schleswig-Holstein/Schleswig-Flensburg",
          "Thüringen/Schmalkalden-Meiningen",
          "Bayern/Schwabach Städte",
          "Hessen/Schwalm-Eder-Kreis",
          "Schleswig-Holstein/Stormarn",
          "Sachsen/Stollberg",
          "Sachsen-Anhalt/Stendal",
          "Nordrhein-Westfalen/Steinfurt",
          "Schleswig-Holstein/Steinburg",
          "Bayern/Starnberg",
          "Niedersachsen/Stade",
          "Rheinland-Pfalz/Speyer Spires Städte",
          "Thüringen/Sonneberg",
          "Nordrhein-Westfalen/Remscheid Städte",
          "Niedersachsen/Soltau-Fallingbostel",
          "Nordrhein-Westfalen/Soest",
          "Baden-Württemberg/Sigmaringen",
          "Nordrhein-Westfalen/Siegen-Wittgenstein",
          "Schleswig-Holstein/Segeberg",
          "Sachsen-Anhalt/Schönebeck",
          "Mecklenburg-Vorpommern/Schwerin Städte",
          "Bayern/Schweinfurt Städte",
          "Bayern/Schweinfurt",
          "Baden-Württemberg/Schwarzwald-Baar-Kreis",
          "Nordrhein-Westfalen/Solingen Städte",
          "Bayern/Kronach",
          "Sachsen/Zwickauer Land",
          "Bayern/Eichstätt",
          "Rheinland-Pfalz/Bernkastel-Wittlich",
          "Nordrhein-Westfalen/Euskirchen",
          "Baden-Württemberg/Esslingen",
          "Nordrhein-Westfalen/Essen Städte",
          "Bayern/Erlangen-Höchstadt",
          "Baden-Württemberg/Biberach",
          "Bayern/Forchheim",
          "Nordrhein-Westfalen/Bielefeld Städte",
          "Thüringen/Erfurt Städte",
          "Bayern/Erding",
          "Nordrhein-Westfalen/Ennepe-Ruhr",
          "Niedersachsen/Emsland",
          "Baden-Württemberg/Emmendingen",
          "Niedersachsen/Emden Städte",
          "Rheinland-Pfalz/Birkenfeld",
          "Hessen/Frankfurt am Main Städte",
          "Sachsen-Anhalt/Bernburg",
          "Berlin/Berlin",
          "Bayern/Garmisch-Partenkirchen",
          "Bayern/Fürth",
          "Bayern/Fürstenfeldbruck",
          "Hessen/Fulda",
          "Niedersachsen/Friesland",
          "Bayern/Freyung-Grafenau",
          "Nordrhein-Westfalen/Cleves",
          "Baden-Württemberg/Baden-Baden Städte",
          "Baden-Württemberg/Freudenstadt",
          "Bayern/Bamberg Städte",
          "Brandenburg/Barnim",
          "Baden-Württemberg/Freiburg",
          "Sachsen/Freiberg",
          "Bayern/Bayreuth Städte",
          "Bayern/Berchtesgadener Land",
          "Rheinland-Pfalz/Bitburg-Prüm",
          "Baden-Württemberg/Konstanz",
          "Thüringen/Eichsfeld",
          "Bayern/Ebersberg",
          "Bayern/Deggendorf",
          "Hessen/Darmstadt-Dieburg",
          "Hessen/Darmstadt Städte",
          "Sachsen-Anhalt/Bördekreis",
          "Brandenburg/Dahme-Spreewald",
          "Bayern/Dachau",
          "Baden-Württemberg/Calw",
          "Brandenburg/Cottbus Städte",
          "Nordrhein-Westfalen/Cologne Städte",
          "Niedersachsen/Celle",
          "Bayern/Cham",
          "Rheinland-Pfalz/Cochem-Zell",
          "Bayern/Coburg Städte",
          "Bayern/Coburg",
          "Niedersachsen/Cloppenburg",
          "Baden-Württemberg/Böblingen",
          "Bayern/Bad Kissingen",
          "Sachsen-Anhalt/Burgenlandkreis",
          "Baden-Württemberg/Breisgau-Hochschwarzwald",
          "Nordrhein-Westfalen/Düsseldorf Städte",
          "Nordrhein-Westfalen/Düren",
          "Sachsen/Döbeln",
          "Nordrhein-Westfalen/Duisburg Städte",
          "Sachsen/Dresden Städte",
          "Nordrhein-Westfalen/Bochum Städte",
          "Nordrhein-Westfalen/Dortmund Städte",
          "Baden-Württemberg/Bodensee",
          "Rheinland-Pfalz/Donnersbergkreis",
          "Nordrhein-Westfalen/Bonn Städte",
          "Schleswig-Holstein/Dithmarschen",
          "Brandenburg/Brandenburg an der Havel Städte",
          "Bayern/Dingolfing-Landau",
          "Bayern/Dillingen",
          "Niedersachsen/Diepholz",
          "Mecklenburg-Vorpommern/Demmin",
          "Nordrhein-Westfalen/Gelsenkirchen Städte",
          "Rheinland-Pfalz/Bad Kreuznach",
          "Niedersachsen/Helmstedt",
          "Rheinland-Pfalz/Alzey-Worms",
          "Bayern/Hof",
          "Nordrhein-Westfalen/Hochsauerlandkreis",
          "Niedersachsen/Hildesheim",
          "Sachsen-Anhalt/Anhalt-Zerbst",
          "Sachsen/Annaberg",
          "Bayern/Hof Städte",
          "Nordrhein-Westfalen/Herne Städte",
          "Bayern/Ansbach",
          "Baden-Württemberg/Heilbronn city Städte",
          "Bayern/Ansbach Städte",
          "Baden-Württemberg/Heidenheim",
          "Bayern/Aschaffenburg",
          "Baden-Württemberg/Heidelberg Städte",
          "Thüringen/Gera Städte",
          "Bayern/Aschaffenburg Städte",
          "Baden-Württemberg/Hohenlohe",
          "Nordrhein-Westfalen/Höxter",
          "Schleswig-Holstein/Kiel Städte",
          "Bayern/Kempten Städte",
          "Rheinland-Pfalz/Ahrweiler",
          "Bayern/Aichach-Friedberg",
          "Hessen/Kassel Städte",
          "Hessen/Kassel",
          "Niedersachsen/Holzminden",
          "Baden-Württemberg/Alb-Donau",
          "Rheinland-Pfalz/Altenkirchen",
          "Rheinland-Pfalz/Kaiserslautern Städte",
          "Rheinland-Pfalz/Kaiserslautern",
          "Sachsen-Anhalt/Jerichower Land",
          "Bayern/Ingolstadt Städte",
          "Thüringen/Ilm-Kreis",
          "Sachsen/Kamenz",
          "Bayern/Haßberge",
          "Sachsen/Chemnitzer Land",
          "Niedersachsen/Goslar",
          "Sachsen/Görlitz Städte",
          "Brandenburg/Havelland",
          "Bayern/Augsburg",
          "Mecklenburg-Vorpommern/Güstrow",
          "Mecklenburg-Vorpommern/Bad Doberan",
          "Rheinland-Pfalz/Bad Dürkheim",
          "Niedersachsen/Gifhorn",
          "Niedersachsen/Aurich",
          "Hessen/Gießen",
          "Bayern/Augsburg Städte",
          "Nordrhein-Westfalen/Hagen Städte",
          "Sachsen-Anhalt/Halberstadt",
          "Baden-Württemberg/Göppingen",
          "Sachsen-Anhalt/Halle Städte",
          "Hessen/Groß-Gerau",
          "Hamburg/Hamburg Städte",
          "Sachsen-Anhalt/Aschersleben-Staßfurt",
          "Nordrhein-Westfalen/Hamm Städte",
          "Niedersachsen/Hanover",
          "Niedersachsen/Harburg",
          "Thüringen/Greiz",
          "Niedersachsen/Grafschaft Bentheim",
          "Nordrhein-Westfalen/Herford",
          "Hessen/Bergstraße",
          "Bayern/Bad Tölz-Wolfratshausen",
          "Sachsen-Anhalt/Altmarkkreis Salzwedel",
          "Rheinland-Pfalz/Südwestpfalz",
          "Thüringen/Altenburger Land",
          "Bayern/Bamberg",
          "Bayern/Würzburg Städte",
          "Sachsen/Vogtlandkreis",
          "Baden-Württemberg/Waldshut",
          "Nordrhein-Westfalen/Aachen Städte",
          "Sachsen/Chemnitz Städte",
          "Hessen/Vogelsbergkreis",
          "Thüringen/Unstrut-Hainich",
          "Nordrhein-Westfalen/Bottrop Städte",
          "Bremen/Bremen Städte",
          "Sachsen/Sächsische Schweiz",
          "Sachsen/Torgau-Oschatz",
          "Bayern/Traunstein",
          "Sachsen-Anhalt/Bitterfeld",
          "Nordrhein-Westfalen/Wesel",
          "Niedersachsen/Wesermarsch",
          "Sachsen/Aue-Schwarzenberg",
          "Niedersachsen/Ammerland",
          "Bayern/Amberg-Sulzbach",
          "Mecklenburg-Vorpommern/Wismar Städte",
          "Bayern/Amberg Städte",
          "Mecklenburg-Vorpommern/Stralsund Städte",
          "Nordrhein-Westfalen/Borken",
          "Bayern/Bayreuth",
          "Sachsen/Bautzen",
          "Niedersachsen/Braunschweig Städte",
          "Bayern/Altötting",
          "Brandenburg/Spree-Neiße",
          "Hessen/Waldeck-Frankenberg",
          "Nordrhein-Westfalen/Krefeld Städte",
          "Bayern/Schwandorf",
          "Saarland/Merzig-Wadern",
          "Bayern/Miesbach",
          "Niedersachsen/Hamelin-Pyrmont",
          "Nordrhein-Westfalen/Gütersloh",
          "Bayern/Günzburg",
          "Niedersachsen/Göttingen",
          "Mecklenburg-Vorpommern/Greifswald Städte",
          "Thüringen/Gotha",
          "Bayern/Neustadt",
          "Rheinland-Pfalz/Germersheim",
          "Niedersachsen/Nienburg",
          "Mecklenburg-Vorpommern/Nordvorpommern",
          "Bayern/Fürth Städte",
          "Brandenburg/Oberhavel",
          "Brandenburg/Oberspreewald-Lausitz",
          "Baden-Württemberg/Heilbronn",
          "Nordrhein-Westfalen/Heinsberg",
          "Baden-Württemberg/Mannheim Städte",
          "Rheinland-Pfalz/Mainz-Bingen",
          "Rheinland-Pfalz/Koblenz Coblenz Städte",
          "Thüringen/Kyffhäuserkreis",
          "Bayern/Kelheim",
          "Bayern/Kaufbeuren Städte",
          "Baden-Württemberg/Karlsruhe Städte",
          "Baden-Württemberg/Karlsruhe",
          "Niedersachsen/Leer",
          "Hessen/Odenwaldkreis",
          "Thüringen/Jena Städte",
          "Baden-Württemberg/Lörrach",
          "Hessen/Hochtaunuskreis",
          "Sachsen/Zwickau Städte",
          "Thüringen/Hildburghausen",
          "Baden-Württemberg/Main-Tauber",
          "Hessen/Main-Taunus-Kreis Städte",
          "Hessen/Hersfeld-Rotenburg",
          "Nordrhein-Westfalen/Lippe",
          "Baden-Württemberg/Schwäbisch Hall",
          "Brandenburg/Oder-Spree",
          "Sachsen-Anhalt/Ohrekreis",
          "Nordrhein-Westfalen/Rhein-Sieg",
          "Bayern/Donau-Ries",
          "Bayern/Rhön-Grabfeld",
          "Sachsen/Riesa-Großenhain",
          "Bayern/Rosenheim Städte",
          "Mecklenburg-Vorpommern/Rostock Städte",
          "Bayern/Roth",
          "Mecklenburg-Vorpommern/Rügen",
          "Thüringen/Saale-Holzland",
          "Sachsen-Anhalt/Dessau Städte",
          "Sachsen/Delitzsch",
          "Saarland/Saarbrücken Städte",
          "Sachsen-Anhalt/Sangerhausen",
          "Niedersachsen/Cuxhaven",
          "Nordrhein-Westfalen/Coesfeld",
          "Baden-Württemberg/Rhein-Neckar-Kreis",
          "Bayern/Regensburg Städte",
          "Brandenburg/Elbe-Elster",
          "Baden-Württemberg/Enz",
          "Niedersachsen/Oldenburg",
          "Niedersachsen/Oldenburg Städte",
          "Bayern/Freising",
          "Baden-Württemberg/Ortenaukreis",
          "Baden-Württemberg/Ostalbkreis",
          "Bayern/Ostallgäu",
          "Brandenburg/Frankfurt am Oder Städte",
          "Hessen/Offenbach am Main Städte",
          "Niedersachsen/Osterode",
          "Rheinland-Pfalz/Frankenthal Städte",
          "Mecklenburg-Vorpommern/Parchim",
          "Schleswig-Holstein/Flensburg Städte",
          "Schleswig-Holstein/Pinneberg",
          "Bayern/Erlangen Städte",
          "Schleswig-Holstein/Plön",
          "Brandenburg/Potsdam Städte",
          "Schleswig-Holstein/Ostholstein",
          "Hessen/Main-Kinzig-Kreis",
          "Baden-Württemberg",
          "Bayern",
          "Berlin",
          "Brandenburg",
          "Bremen",
          "Hamburg",
          "Hessen",
          "Mecklenburg-Vorpommern",
          "Niedersachsen",
          "Nordrhein-Westfalen",
          "Rheinland-Pfalz",
          "Saarland",
          "Sachsen",
          "Sachsen-Anhalt",
          "Schleswig-Holstein",
          "Thüringen"
         ],
         "labels": [
          "Kitzingen",
          "Tübingen",
          "Leipziger Land",
          "Kulmbach",
          "Neubrandenburg Städte",
          "Oberbergischer Kreis",
          "Oberallgäu",
          "Nürnberger Land",
          "Nuremberg Städte",
          "Northeim",
          "Nordwestmecklenburg",
          "Nordhausen",
          "Nordfriesland",
          "Niederschlesischer Oberlausitzkreis",
          "Neuwied",
          "Oberhausen Städte",
          "Neustadt-Bad Windsheim",
          "Neustadt Städte",
          "Neunkirchen",
          "Neumünster Städte",
          "Neumarkt",
          "Neuburg-Schrobenhausen",
          "Neu-Ulm",
          "Offenbach",
          "Olpe",
          "Osnabrück",
          "Regensburg",
          "Regen",
          "Recklinghausen",
          "Ravensburg",
          "Rastatt",
          "Quedlinburg",
          "Prignitz",
          "Potsdam-Mittelmark",
          "Plauen Städte",
          "Pforzheim Städte",
          "Pfaffenhofen",
          "Peine",
          "Passau Städte",
          "Passau",
          "Paderborn",
          "Ostvorpommern",
          "Ostprignitz-Ruppin",
          "Osterholz",
          "Osnabrück Städte",
          "Neckar-Odenwald-Kreis",
          "Müritz",
          "Aachen",
          "Rems-Murr-Kreis",
          "Lüchow-Dannenberg",
          "Lübeck Städte",
          "Löbau-Zittau",
          "Ludwigslust",
          "Ludwigshafen Städte",
          "Ludwigsburg",
          "Lindau",
          "Limburg-Weilburg",
          "Lichtenfels",
          "Leverkusen Städte",
          "Leipzig Städte",
          "Lauenburg",
          "Landshut Städte",
          "Landshut",
          "Landsberg",
          "Landau Städte",
          "Lahn-Dill-Kreis",
          "Köthen",
          "Kusel",
          "Lüneburg",
          "Münster Städte",
          "Magdeburg Städte",
          "Mainz Städte",
          "Mülheim Städte",
          "Mühldorf",
          "Mönchengladbach Städte",
          "Märkischer Kreis",
          "Märkisch-Oderland",
          "Munich Städte",
          "Muldentalkreis",
          "Mittweida",
          "Mittlerer Erzgebirgskreis",
          "Minden-Lübbecke",
          "Miltenberg",
          "Mettmann",
          "Merseburg-Querfurt",
          "Memmingen Städte",
          "Meißen",
          "Mecklenburg-Strelitz",
          "Mayen-Koblenz",
          "Marburg-Biedenkopf",
          "Mansfelder Land",
          "Main-Spessart",
          "München",
          "Rendsburg-Eckernförde",
          "Reutlingen",
          "Wartburgkreis",
          "Warendorf",
          "Vulkaneifel",
          "Viersen",
          "Verden",
          "Vechta",
          "Unterallgäu",
          "Unna",
          "Ulm Städte",
          "Uelzen",
          "Uecker-Randow",
          "Uckermark",
          "Tuttlingen",
          "Trier-Saarburg",
          "Trier Städte",
          "Tirschenreuth",
          "Teltow-Fläming",
          "Südliche Weinstraße",
          "Sömmerda",
          "Weiden Städte",
          "Suhl Städte",
          "Weilheim-Schongau",
          "Weimarer Land",
          "Zweibrücken Städte",
          "Zollernalbkreis",
          "Würzburg",
          "Wuppertal Städte",
          "Wunsiedel",
          "Worms Städte",
          "Wolfsburg Städte",
          "Wolfenbüttel",
          "Wittmund",
          "Wittenberg",
          "Wilhelmshaven Städte",
          "Wiesbaden Städte",
          "Wetteraukreis",
          "Westerwaldkreis",
          "Werra-Meißner-Kreis",
          "Wernigerode",
          "Weißeritzkreis",
          "Weißenfels",
          "Weißenburg-Gunzenhausen",
          "Weimar Städte",
          "Stuttgart Städte",
          "Straubing-Bogen",
          "Straubing Städte",
          "Schaumburg",
          "Sankt Wendel",
          "Salzgitter Städte",
          "Saarpfalz",
          "Saarlouis",
          "Saalkreis",
          "Saalfeld-Rudolstadt",
          "Saale-Orla",
          "Rottweil",
          "Rottal-Inn",
          "Rotenburg",
          "Rosenheim",
          "Rheinisch-Bergischer Kreis",
          "Rheingau-Taunus-Kreis",
          "Rhein-Pfalz-Kreis",
          "Rhein-Lahn",
          "Rhein-Kreis Neuss",
          "Rhein-Hunsrück",
          "Rhein-Erft-Kreis",
          "Schleswig-Flensburg",
          "Schmalkalden-Meiningen",
          "Schwabach Städte",
          "Schwalm-Eder-Kreis",
          "Stormarn",
          "Stollberg",
          "Stendal",
          "Steinfurt",
          "Steinburg",
          "Starnberg",
          "Stade",
          "Speyer Spires Städte",
          "Sonneberg",
          "Remscheid Städte",
          "Soltau-Fallingbostel",
          "Soest",
          "Sigmaringen",
          "Siegen-Wittgenstein",
          "Segeberg",
          "Schönebeck",
          "Schwerin Städte",
          "Schweinfurt Städte",
          "Schweinfurt",
          "Schwarzwald-Baar-Kreis",
          "Solingen Städte",
          "Kronach",
          "Zwickauer Land",
          "Eichstätt",
          "Bernkastel-Wittlich",
          "Euskirchen",
          "Esslingen",
          "Essen Städte",
          "Erlangen-Höchstadt",
          "Biberach",
          "Forchheim",
          "Bielefeld Städte",
          "Erfurt Städte",
          "Erding",
          "Ennepe-Ruhr",
          "Emsland",
          "Emmendingen",
          "Emden Städte",
          "Birkenfeld",
          "Frankfurt am Main Städte",
          "Bernburg",
          "Berlin",
          "Garmisch-Partenkirchen",
          "Fürth",
          "Fürstenfeldbruck",
          "Fulda",
          "Friesland",
          "Freyung-Grafenau",
          "Cleves",
          "Baden-Baden Städte",
          "Freudenstadt",
          "Bamberg Städte",
          "Barnim",
          "Freiburg",
          "Freiberg",
          "Bayreuth Städte",
          "Berchtesgadener Land",
          "Bitburg-Prüm",
          "Konstanz",
          "Eichsfeld",
          "Ebersberg",
          "Deggendorf",
          "Darmstadt-Dieburg",
          "Darmstadt Städte",
          "Bördekreis",
          "Dahme-Spreewald",
          "Dachau",
          "Calw",
          "Cottbus Städte",
          "Cologne Städte",
          "Celle",
          "Cham",
          "Cochem-Zell",
          "Coburg Städte",
          "Coburg",
          "Cloppenburg",
          "Böblingen",
          "Bad Kissingen",
          "Burgenlandkreis",
          "Breisgau-Hochschwarzwald",
          "Düsseldorf Städte",
          "Düren",
          "Döbeln",
          "Duisburg Städte",
          "Dresden Städte",
          "Bochum Städte",
          "Dortmund Städte",
          "Bodensee",
          "Donnersbergkreis",
          "Bonn Städte",
          "Dithmarschen",
          "Brandenburg an der Havel Städte",
          "Dingolfing-Landau",
          "Dillingen",
          "Diepholz",
          "Demmin",
          "Gelsenkirchen Städte",
          "Bad Kreuznach",
          "Helmstedt",
          "Alzey-Worms",
          "Hof",
          "Hochsauerlandkreis",
          "Hildesheim",
          "Anhalt-Zerbst",
          "Annaberg",
          "Hof Städte",
          "Herne Städte",
          "Ansbach",
          "Heilbronn city Städte",
          "Ansbach Städte",
          "Heidenheim",
          "Aschaffenburg",
          "Heidelberg Städte",
          "Gera Städte",
          "Aschaffenburg Städte",
          "Hohenlohe",
          "Höxter",
          "Kiel Städte",
          "Kempten Städte",
          "Ahrweiler",
          "Aichach-Friedberg",
          "Kassel Städte",
          "Kassel",
          "Holzminden",
          "Alb-Donau",
          "Altenkirchen",
          "Kaiserslautern Städte",
          "Kaiserslautern",
          "Jerichower Land",
          "Ingolstadt Städte",
          "Ilm-Kreis",
          "Kamenz",
          "Haßberge",
          "Chemnitzer Land",
          "Goslar",
          "Görlitz Städte",
          "Havelland",
          "Augsburg",
          "Güstrow",
          "Bad Doberan",
          "Bad Dürkheim",
          "Gifhorn",
          "Aurich",
          "Gießen",
          "Augsburg Städte",
          "Hagen Städte",
          "Halberstadt",
          "Göppingen",
          "Halle Städte",
          "Groß-Gerau",
          "Hamburg Städte",
          "Aschersleben-Staßfurt",
          "Hamm Städte",
          "Hanover",
          "Harburg",
          "Greiz",
          "Grafschaft Bentheim",
          "Herford",
          "Bergstraße",
          "Bad Tölz-Wolfratshausen",
          "Altmarkkreis Salzwedel",
          "Südwestpfalz",
          "Altenburger Land",
          "Bamberg",
          "Würzburg Städte",
          "Vogtlandkreis",
          "Waldshut",
          "Aachen Städte",
          "Chemnitz Städte",
          "Vogelsbergkreis",
          "Unstrut-Hainich",
          "Bottrop Städte",
          "Bremen Städte",
          "Sächsische Schweiz",
          "Torgau-Oschatz",
          "Traunstein",
          "Bitterfeld",
          "Wesel",
          "Wesermarsch",
          "Aue-Schwarzenberg",
          "Ammerland",
          "Amberg-Sulzbach",
          "Wismar Städte",
          "Amberg Städte",
          "Stralsund Städte",
          "Borken",
          "Bayreuth",
          "Bautzen",
          "Braunschweig Städte",
          "Altötting",
          "Spree-Neiße",
          "Waldeck-Frankenberg",
          "Krefeld Städte",
          "Schwandorf",
          "Merzig-Wadern",
          "Miesbach",
          "Hamelin-Pyrmont",
          "Gütersloh",
          "Günzburg",
          "Göttingen",
          "Greifswald Städte",
          "Gotha",
          "Neustadt",
          "Germersheim",
          "Nienburg",
          "Nordvorpommern",
          "Fürth Städte",
          "Oberhavel",
          "Oberspreewald-Lausitz",
          "Heilbronn",
          "Heinsberg",
          "Mannheim Städte",
          "Mainz-Bingen",
          "Koblenz Coblenz Städte",
          "Kyffhäuserkreis",
          "Kelheim",
          "Kaufbeuren Städte",
          "Karlsruhe Städte",
          "Karlsruhe",
          "Leer",
          "Odenwaldkreis",
          "Jena Städte",
          "Lörrach",
          "Hochtaunuskreis",
          "Zwickau Städte",
          "Hildburghausen",
          "Main-Tauber",
          "Main-Taunus-Kreis Städte",
          "Hersfeld-Rotenburg",
          "Lippe",
          "Schwäbisch Hall",
          "Oder-Spree",
          "Ohrekreis",
          "Rhein-Sieg",
          "Donau-Ries",
          "Rhön-Grabfeld",
          "Riesa-Großenhain",
          "Rosenheim Städte",
          "Rostock Städte",
          "Roth",
          "Rügen",
          "Saale-Holzland",
          "Dessau Städte",
          "Delitzsch",
          "Saarbrücken Städte",
          "Sangerhausen",
          "Cuxhaven",
          "Coesfeld",
          "Rhein-Neckar-Kreis",
          "Regensburg Städte",
          "Elbe-Elster",
          "Enz",
          "Oldenburg",
          "Oldenburg Städte",
          "Freising",
          "Ortenaukreis",
          "Ostalbkreis",
          "Ostallgäu",
          "Frankfurt am Oder Städte",
          "Offenbach am Main Städte",
          "Osterode",
          "Frankenthal Städte",
          "Parchim",
          "Flensburg Städte",
          "Pinneberg",
          "Erlangen Städte",
          "Plön",
          "Potsdam Städte",
          "Ostholstein",
          "Main-Kinzig-Kreis",
          "Baden-Württemberg",
          "Bayern",
          "Berlin",
          "Brandenburg",
          "Bremen",
          "Hamburg",
          "Hessen",
          "Mecklenburg-Vorpommern",
          "Niedersachsen",
          "Nordrhein-Westfalen",
          "Rheinland-Pfalz",
          "Saarland",
          "Sachsen",
          "Sachsen-Anhalt",
          "Schleswig-Holstein",
          "Thüringen"
         ],
         "marker": {
          "colors": [
           "#636efa",
           "#636efa",
           "#636efa",
           "#636efa",
           "#EF553B",
           "#636efa",
           "#636efa",
           "#636efa",
           "#EF553B",
           "#636efa",
           "#636efa",
           "#636efa",
           "#636efa",
           "#00cc96",
           "#636efa",
           "#EF553B",
           "#636efa",
           "#EF553B",
           "#636efa",
           "#EF553B",
           "#636efa",
           "#636efa",
           "#636efa",
           "#636efa",
           "#636efa",
           "#636efa",
           "#636efa",
           "#636efa",
           "#636efa",
           "#636efa",
           "#636efa",
           "#636efa",
           "#636efa",
           "#636efa",
           "#EF553B",
           "#EF553B",
           "#636efa",
           "#636efa",
           "#EF553B",
           "#636efa",
           "#636efa",
           "#636efa",
           "#636efa",
           "#636efa",
           "#EF553B",
           "#636efa",
           "#636efa",
           "#636efa",
           "#636efa",
           "#636efa",
           "#EF553B",
           "#636efa",
           "#636efa",
           "#EF553B",
           "#636efa",
           "#636efa",
           "#636efa",
           "#636efa",
           "#EF553B",
           "#EF553B",
           "#636efa",
           "#EF553B",
           "#636efa",
           "#636efa",
           "#EF553B",
           "#636efa",
           "#636efa",
           "#636efa",
           "#636efa",
           "#EF553B",
           "#EF553B",
           "#EF553B",
           "#EF553B",
           "#636efa",
           "#EF553B",
           "#636efa",
           "#636efa",
           "#EF553B",
           "#636efa",
           "#636efa",
           "#636efa",
           "#636efa",
           "#636efa",
           "#636efa",
           "#636efa",
           "#EF553B",
           "#636efa",
           "#636efa",
           "#636efa",
           "#636efa",
           "#636efa",
           "#636efa",
           "#636efa",
           "#636efa",
           "#636efa",
           "#636efa",
           "#636efa",
           "#636efa",
           "#636efa",
           "#636efa",
           "#636efa",
           "#636efa",
           "#636efa",
           "#EF553B",
           "#636efa",
           "#636efa",
           "#636efa",
           "#636efa",
           "#636efa",
           "#EF553B",
           "#636efa",
           "#636efa",
           "#636efa",
           "#636efa",
           "#EF553B",
           "#EF553B",
           "#636efa",
           "#636efa",
           "#EF553B",
           "#636efa",
           "#636efa",
           "#EF553B",
           "#636efa",
           "#EF553B",
           "#EF553B",
           "#636efa",
           "#636efa",
           "#636efa",
           "#EF553B",
           "#EF553B",
           "#636efa",
           "#636efa",
           "#636efa",
           "#636efa",
           "#636efa",
           "#636efa",
           "#636efa",
           "#EF553B",
           "#EF553B",
           "#636efa",
           "#EF553B",
           "#636efa",
           "#636efa",
           "#EF553B",
           "#636efa",
           "#636efa",
           "#636efa",
           "#636efa",
           "#636efa",
           "#636efa",
           "#636efa",
           "#636efa",
           "#636efa",
           "#636efa",
           "#00cc96",
           "#636efa",
           "#636efa",
           "#636efa",
           "#636efa",
           "#636efa",
           "#636efa",
           "#636efa",
           "#EF553B",
           "#00cc96",
           "#636efa",
           "#636efa",
           "#636efa",
           "#636efa",
           "#636efa",
           "#636efa",
           "#636efa",
           "#EF553B",
           "#636efa",
           "#EF553B",
           "#636efa",
           "#636efa",
           "#636efa",
           "#636efa",
           "#636efa",
           "#636efa",
           "#EF553B",
           "#EF553B",
           "#636efa",
           "#636efa",
           "#EF553B",
           "#636efa",
           "#636efa",
           "#636efa",
           "#636efa",
           "#636efa",
           "#636efa",
           "#EF553B",
           "#636efa",
           "#636efa",
           "#636efa",
           "#EF553B",
           "#EF553B",
           "#636efa",
           "#636efa",
           "#636efa",
           "#636efa",
           "#EF553B",
           "#636efa",
           "#EF553B",
           "#636efa",
           "#ab63fa",
           "#636efa",
           "#636efa",
           "#636efa",
           "#636efa",
           "#636efa",
           "#636efa",
           "#636efa",
           "#EF553B",
           "#636efa",
           "#EF553B",
           "#636efa",
           "#ab63fa",
           "#636efa",
           "#EF553B",
           "#636efa",
           "#636efa",
           "#636efa",
           "#636efa",
           "#636efa",
           "#636efa",
           "#636efa",
           "#EF553B",
           "#636efa",
           "#636efa",
           "#636efa",
           "#636efa",
           "#EF553B",
           "#EF553B",
           "#636efa",
           "#636efa",
           "#636efa",
           "#EF553B",
           "#636efa",
           "#636efa",
           "#636efa",
           "#636efa",
           "#636efa",
           "#636efa",
           "#EF553B",
           "#636efa",
           "#636efa",
           "#EF553B",
           "#EF553B",
           "#EF553B",
           "#EF553B",
           "#636efa",
           "#636efa",
           "#EF553B",
           "#636efa",
           "#EF553B",
           "#636efa",
           "#636efa",
           "#636efa",
           "#636efa",
           "#EF553B",
           "#636efa",
           "#636efa",
           "#636efa",
           "#636efa",
           "#636efa",
           "#636efa",
           "#636efa",
           "#636efa",
           "#EF553B",
           "#EF553B",
           "#636efa",
           "#EF553B",
           "#EF553B",
           "#636efa",
           "#636efa",
           "#EF553B",
           "#EF553B",
           "#EF553B",
           "#636efa",
           "#636efa",
           "#EF553B",
           "#EF553B",
           "#636efa",
           "#636efa",
           "#EF553B",
           "#636efa",
           "#636efa",
           "#636efa",
           "#636efa",
           "#EF553B",
           "#636efa",
           "#636efa",
           "#EF553B",
           "#636efa",
           "#636efa",
           "#636efa",
           "#636efa",
           "#636efa",
           "#EF553B",
           "#636efa",
           "#636efa",
           "#636efa",
           "#636efa",
           "#636efa",
           "#636efa",
           "#636efa",
           "#636efa",
           "#EF553B",
           "#EF553B",
           "#636efa",
           "#636efa",
           "#EF553B",
           "#636efa",
           "#EF553B",
           "#636efa",
           "#EF553B",
           "#636efa",
           "#636efa",
           "#636efa",
           "#636efa",
           "#636efa",
           "#636efa",
           "#636efa",
           "#636efa",
           "#636efa",
           "#636efa",
           "#636efa",
           "#EF553B",
           "#636efa",
           "#636efa",
           "#EF553B",
           "#EF553B",
           "#636efa",
           "#636efa",
           "#EF553B",
           "#EF553B",
           "#636efa",
           "#636efa",
           "#636efa",
           "#636efa",
           "#636efa",
           "#636efa",
           "#636efa",
           "#636efa",
           "#636efa",
           "#EF553B",
           "#EF553B",
           "#EF553B",
           "#636efa",
           "#636efa",
           "#636efa",
           "#EF553B",
           "#636efa",
           "#636efa",
           "#636efa",
           "#EF553B",
           "#636efa",
           "#636efa",
           "#636efa",
           "#636efa",
           "#636efa",
           "#636efa",
           "#636efa",
           "#EF553B",
           "#636efa",
           "#636efa",
           "#636efa",
           "#636efa",
           "#636efa",
           "#EF553B",
           "#636efa",
           "#636efa",
           "#636efa",
           "#636efa",
           "#EF553B",
           "#636efa",
           "#EF553B",
           "#636efa",
           "#636efa",
           "#EF553B",
           "#EF553B",
           "#636efa",
           "#636efa",
           "#636efa",
           "#EF553B",
           "#636efa",
           "#636efa",
           "#EF553B",
           "#636efa",
           "#636efa",
           "#EF553B",
           "#636efa",
           "#636efa",
           "#636efa",
           "#636efa",
           "#636efa",
           "#636efa",
           "#636efa",
           "#636efa",
           "#636efa",
           "#EF553B",
           "#EF553B",
           "#636efa",
           "#636efa",
           "#636efa",
           "#EF553B",
           "#636efa",
           "#EF553B",
           "#636efa",
           "#636efa",
           "#636efa",
           "#636efa",
           "#EF553B",
           "#636efa",
           "#636efa",
           "#636efa",
           "#EF553B",
           "#636efa",
           "#636efa",
           "#636efa",
           "#636efa",
           "#EF553B",
           "#EF553B",
           "#636efa",
           "#EF553B",
           "#636efa",
           "#EF553B",
           "#636efa",
           "#EF553B",
           "#636efa",
           "#EF553B",
           "#636efa",
           "#00cc96",
           "#FFA15A",
           "#FFA15A",
           "#ab63fa",
           "#FFA15A",
           "#EF553B",
           "#EF553B",
           "#FFA15A",
           "#FFA15A",
           "#FFA15A",
           "#FFA15A",
           "#FFA15A",
           "#FFA15A",
           "#FFA15A",
           "#FFA15A",
           "#FFA15A",
           "#FFA15A"
          ]
         },
         "name": "",
         "parents": [
          "Bayern",
          "Baden-Württemberg",
          "Sachsen",
          "Bayern",
          "Mecklenburg-Vorpommern",
          "Nordrhein-Westfalen",
          "Bayern",
          "Bayern",
          "Bayern",
          "Niedersachsen",
          "Mecklenburg-Vorpommern",
          "Thüringen",
          "Schleswig-Holstein",
          "Sachsen",
          "Rheinland-Pfalz",
          "Nordrhein-Westfalen",
          "Bayern",
          "Rheinland-Pfalz",
          "Saarland",
          "Schleswig-Holstein",
          "Bayern",
          "Bayern",
          "Bayern",
          "Hessen",
          "Nordrhein-Westfalen",
          "Niedersachsen",
          "Bayern",
          "Bayern",
          "Nordrhein-Westfalen",
          "Baden-Württemberg",
          "Baden-Württemberg",
          "Sachsen-Anhalt",
          "Brandenburg",
          "Brandenburg",
          "Sachsen",
          "Baden-Württemberg",
          "Bayern",
          "Niedersachsen",
          "Bayern",
          "Bayern",
          "Nordrhein-Westfalen",
          "Mecklenburg-Vorpommern",
          "Brandenburg",
          "Niedersachsen",
          "Niedersachsen",
          "Baden-Württemberg",
          "Mecklenburg-Vorpommern",
          "Nordrhein-Westfalen",
          "Baden-Württemberg",
          "Niedersachsen",
          "Schleswig-Holstein",
          "Sachsen",
          "Mecklenburg-Vorpommern",
          "Rheinland-Pfalz",
          "Baden-Württemberg",
          "Bayern",
          "Hessen",
          "Bayern",
          "Nordrhein-Westfalen",
          "Sachsen",
          "Schleswig-Holstein",
          "Bayern",
          "Bayern",
          "Bayern",
          "Rheinland-Pfalz",
          "Hessen",
          "Sachsen-Anhalt",
          "Rheinland-Pfalz",
          "Niedersachsen",
          "Nordrhein-Westfalen",
          "Sachsen-Anhalt",
          "Rheinland-Pfalz",
          "Nordrhein-Westfalen",
          "Bayern",
          "Nordrhein-Westfalen",
          "Nordrhein-Westfalen",
          "Brandenburg",
          "Bayern",
          "Sachsen",
          "Sachsen",
          "Sachsen",
          "Nordrhein-Westfalen",
          "Bayern",
          "Nordrhein-Westfalen",
          "Sachsen-Anhalt",
          "Bayern",
          "Sachsen",
          "Mecklenburg-Vorpommern",
          "Rheinland-Pfalz",
          "Hessen",
          "Sachsen-Anhalt",
          "Bayern",
          "Bayern",
          "Schleswig-Holstein",
          "Baden-Württemberg",
          "Thüringen",
          "Nordrhein-Westfalen",
          "Rheinland-Pfalz",
          "Nordrhein-Westfalen",
          "Niedersachsen",
          "Niedersachsen",
          "Bayern",
          "Nordrhein-Westfalen",
          "Baden-Württemberg",
          "Niedersachsen",
          "Mecklenburg-Vorpommern",
          "Brandenburg",
          "Baden-Württemberg",
          "Rheinland-Pfalz",
          "Rheinland-Pfalz",
          "Bayern",
          "Brandenburg",
          "Rheinland-Pfalz",
          "Thüringen",
          "Bayern",
          "Thüringen",
          "Bayern",
          "Thüringen",
          "Rheinland-Pfalz",
          "Baden-Württemberg",
          "Bayern",
          "Nordrhein-Westfalen",
          "Bayern",
          "Rheinland-Pfalz",
          "Niedersachsen",
          "Niedersachsen",
          "Niedersachsen",
          "Sachsen-Anhalt",
          "Niedersachsen",
          "Hessen",
          "Hessen",
          "Rheinland-Pfalz",
          "Hessen",
          "Sachsen-Anhalt",
          "Sachsen",
          "Sachsen-Anhalt",
          "Bayern",
          "Thüringen",
          "Baden-Württemberg",
          "Bayern",
          "Bayern",
          "Niedersachsen",
          "Saarland",
          "Niedersachsen",
          "Saarland",
          "Saarland",
          "Sachsen-Anhalt",
          "Thüringen",
          "Thüringen",
          "Baden-Württemberg",
          "Bayern",
          "Niedersachsen",
          "Bayern",
          "Nordrhein-Westfalen",
          "Hessen",
          "Rheinland-Pfalz",
          "Rheinland-Pfalz",
          "Nordrhein-Westfalen",
          "Rheinland-Pfalz",
          "Nordrhein-Westfalen",
          "Schleswig-Holstein",
          "Thüringen",
          "Bayern",
          "Hessen",
          "Schleswig-Holstein",
          "Sachsen",
          "Sachsen-Anhalt",
          "Nordrhein-Westfalen",
          "Schleswig-Holstein",
          "Bayern",
          "Niedersachsen",
          "Rheinland-Pfalz",
          "Thüringen",
          "Nordrhein-Westfalen",
          "Niedersachsen",
          "Nordrhein-Westfalen",
          "Baden-Württemberg",
          "Nordrhein-Westfalen",
          "Schleswig-Holstein",
          "Sachsen-Anhalt",
          "Mecklenburg-Vorpommern",
          "Bayern",
          "Bayern",
          "Baden-Württemberg",
          "Nordrhein-Westfalen",
          "Bayern",
          "Sachsen",
          "Bayern",
          "Rheinland-Pfalz",
          "Nordrhein-Westfalen",
          "Baden-Württemberg",
          "Nordrhein-Westfalen",
          "Bayern",
          "Baden-Württemberg",
          "Bayern",
          "Nordrhein-Westfalen",
          "Thüringen",
          "Bayern",
          "Nordrhein-Westfalen",
          "Niedersachsen",
          "Baden-Württemberg",
          "Niedersachsen",
          "Rheinland-Pfalz",
          "Hessen",
          "Sachsen-Anhalt",
          "Berlin",
          "Bayern",
          "Bayern",
          "Bayern",
          "Hessen",
          "Niedersachsen",
          "Bayern",
          "Nordrhein-Westfalen",
          "Baden-Württemberg",
          "Baden-Württemberg",
          "Bayern",
          "Brandenburg",
          "Baden-Württemberg",
          "Sachsen",
          "Bayern",
          "Bayern",
          "Rheinland-Pfalz",
          "Baden-Württemberg",
          "Thüringen",
          "Bayern",
          "Bayern",
          "Hessen",
          "Hessen",
          "Sachsen-Anhalt",
          "Brandenburg",
          "Bayern",
          "Baden-Württemberg",
          "Brandenburg",
          "Nordrhein-Westfalen",
          "Niedersachsen",
          "Bayern",
          "Rheinland-Pfalz",
          "Bayern",
          "Bayern",
          "Niedersachsen",
          "Baden-Württemberg",
          "Bayern",
          "Sachsen-Anhalt",
          "Baden-Württemberg",
          "Nordrhein-Westfalen",
          "Nordrhein-Westfalen",
          "Sachsen",
          "Nordrhein-Westfalen",
          "Sachsen",
          "Nordrhein-Westfalen",
          "Nordrhein-Westfalen",
          "Baden-Württemberg",
          "Rheinland-Pfalz",
          "Nordrhein-Westfalen",
          "Schleswig-Holstein",
          "Brandenburg",
          "Bayern",
          "Bayern",
          "Niedersachsen",
          "Mecklenburg-Vorpommern",
          "Nordrhein-Westfalen",
          "Rheinland-Pfalz",
          "Niedersachsen",
          "Rheinland-Pfalz",
          "Bayern",
          "Nordrhein-Westfalen",
          "Niedersachsen",
          "Sachsen-Anhalt",
          "Sachsen",
          "Bayern",
          "Nordrhein-Westfalen",
          "Bayern",
          "Baden-Württemberg",
          "Bayern",
          "Baden-Württemberg",
          "Bayern",
          "Baden-Württemberg",
          "Thüringen",
          "Bayern",
          "Baden-Württemberg",
          "Nordrhein-Westfalen",
          "Schleswig-Holstein",
          "Bayern",
          "Rheinland-Pfalz",
          "Bayern",
          "Hessen",
          "Hessen",
          "Niedersachsen",
          "Baden-Württemberg",
          "Rheinland-Pfalz",
          "Rheinland-Pfalz",
          "Rheinland-Pfalz",
          "Sachsen-Anhalt",
          "Bayern",
          "Thüringen",
          "Sachsen",
          "Bayern",
          "Sachsen",
          "Niedersachsen",
          "Sachsen",
          "Brandenburg",
          "Bayern",
          "Mecklenburg-Vorpommern",
          "Mecklenburg-Vorpommern",
          "Rheinland-Pfalz",
          "Niedersachsen",
          "Niedersachsen",
          "Hessen",
          "Bayern",
          "Nordrhein-Westfalen",
          "Sachsen-Anhalt",
          "Baden-Württemberg",
          "Sachsen-Anhalt",
          "Hessen",
          "Hamburg",
          "Sachsen-Anhalt",
          "Nordrhein-Westfalen",
          "Niedersachsen",
          "Niedersachsen",
          "Thüringen",
          "Niedersachsen",
          "Nordrhein-Westfalen",
          "Hessen",
          "Bayern",
          "Sachsen-Anhalt",
          "Rheinland-Pfalz",
          "Thüringen",
          "Bayern",
          "Bayern",
          "Sachsen",
          "Baden-Württemberg",
          "Nordrhein-Westfalen",
          "Sachsen",
          "Hessen",
          "Thüringen",
          "Nordrhein-Westfalen",
          "Bremen",
          "Sachsen",
          "Sachsen",
          "Bayern",
          "Sachsen-Anhalt",
          "Nordrhein-Westfalen",
          "Niedersachsen",
          "Sachsen",
          "Niedersachsen",
          "Bayern",
          "Mecklenburg-Vorpommern",
          "Bayern",
          "Mecklenburg-Vorpommern",
          "Nordrhein-Westfalen",
          "Bayern",
          "Sachsen",
          "Niedersachsen",
          "Bayern",
          "Brandenburg",
          "Hessen",
          "Nordrhein-Westfalen",
          "Bayern",
          "Saarland",
          "Bayern",
          "Niedersachsen",
          "Nordrhein-Westfalen",
          "Bayern",
          "Niedersachsen",
          "Mecklenburg-Vorpommern",
          "Thüringen",
          "Bayern",
          "Rheinland-Pfalz",
          "Niedersachsen",
          "Mecklenburg-Vorpommern",
          "Bayern",
          "Brandenburg",
          "Brandenburg",
          "Baden-Württemberg",
          "Nordrhein-Westfalen",
          "Baden-Württemberg",
          "Rheinland-Pfalz",
          "Rheinland-Pfalz",
          "Thüringen",
          "Bayern",
          "Bayern",
          "Baden-Württemberg",
          "Baden-Württemberg",
          "Niedersachsen",
          "Hessen",
          "Thüringen",
          "Baden-Württemberg",
          "Hessen",
          "Sachsen",
          "Thüringen",
          "Baden-Württemberg",
          "Hessen",
          "Hessen",
          "Nordrhein-Westfalen",
          "Baden-Württemberg",
          "Brandenburg",
          "Sachsen-Anhalt",
          "Nordrhein-Westfalen",
          "Bayern",
          "Bayern",
          "Sachsen",
          "Bayern",
          "Mecklenburg-Vorpommern",
          "Bayern",
          "Mecklenburg-Vorpommern",
          "Thüringen",
          "Sachsen-Anhalt",
          "Sachsen",
          "Saarland",
          "Sachsen-Anhalt",
          "Niedersachsen",
          "Nordrhein-Westfalen",
          "Baden-Württemberg",
          "Bayern",
          "Brandenburg",
          "Baden-Württemberg",
          "Niedersachsen",
          "Niedersachsen",
          "Bayern",
          "Baden-Württemberg",
          "Baden-Württemberg",
          "Bayern",
          "Brandenburg",
          "Hessen",
          "Niedersachsen",
          "Rheinland-Pfalz",
          "Mecklenburg-Vorpommern",
          "Schleswig-Holstein",
          "Schleswig-Holstein",
          "Bayern",
          "Schleswig-Holstein",
          "Brandenburg",
          "Schleswig-Holstein",
          "Hessen",
          "",
          "",
          "",
          "",
          "",
          "",
          "",
          "",
          "",
          "",
          "",
          "",
          "",
          "",
          "",
          ""
         ],
         "type": "sunburst",
         "values": [
          8.74,
          9.12,
          3.42,
          10.76,
          10,
          3.73,
          5.74,
          7.93,
          6.05,
          9.03,
          9.26,
          8.36,
          0.8,
          10.53,
          4.17,
          2.29,
          1.35,
          10.52,
          2.57,
          10.78,
          2.57,
          7.55,
          6.37,
          4.81,
          0.32,
          4.5,
          3.13,
          10.18,
          2.28,
          0.86,
          1.07,
          6.22,
          4.33,
          2.09,
          7.59,
          1.22,
          0.81,
          3.32,
          0.93,
          1.73,
          0.83,
          3.6,
          9.41,
          2.41,
          4.03,
          9.46,
          7.73,
          0.49,
          4.09,
          8.05,
          8.01,
          0.55,
          5.83,
          2.64,
          2.64,
          10.59,
          2.16,
          7.86,
          9.64,
          10.13,
          5.38,
          6.21,
          3.33,
          7.03,
          3.65,
          6.49,
          5.77,
          6.79,
          6.98,
          5.98,
          3.32,
          1.33,
          5.46,
          0.71,
          10.63,
          4.42,
          0.97,
          5.88,
          8.25,
          0.11,
          0.88,
          1.54,
          5.28,
          7.99,
          8.66,
          0.27,
          9.45,
          5.44,
          9.97,
          6.44,
          3.46,
          8,
          8.94,
          2.97,
          0.61,
          8.87,
          1.25,
          2.37,
          2.93,
          6.37,
          9.3,
          0.26,
          1.83,
          4,
          10.13,
          7.92,
          10.04,
          9.13,
          7.07,
          2.41,
          3.44,
          9.81,
          0.52,
          2.54,
          0.24,
          3.74,
          2.82,
          9.63,
          2.64,
          5.64,
          9.73,
          8.25,
          6.37,
          10.87,
          6.6,
          10.25,
          4.31,
          4.98,
          1.82,
          7.25,
          3.97,
          10.5,
          10.95,
          7.42,
          8.54,
          5.16,
          8.82,
          4.64,
          1.76,
          1.81,
          7.29,
          6.35,
          7.1,
          4.33,
          4.95,
          0.03,
          6.8,
          10.27,
          5.99,
          7.01,
          10.8,
          8.16,
          0.26,
          6.89,
          1.43,
          2.89,
          10.93,
          10.25,
          5.19,
          11,
          5.52,
          2.24,
          5.44,
          0.22,
          2.01,
          10.39,
          5.17,
          6.9,
          8.94,
          8.92,
          2.27,
          9.57,
          6.73,
          2.31,
          2.3,
          1.47,
          9.14,
          6.34,
          1.74,
          0.62,
          9.97,
          5.62,
          2.26,
          9.34,
          8.26,
          1.48,
          0.19,
          5.98,
          5.83,
          5.78,
          0.04,
          0.46,
          0.18,
          8.5,
          10.14,
          6.17,
          8.16,
          10.94,
          5.14,
          2.69,
          10.61,
          7.51,
          9.6,
          1.79,
          5.6,
          4.68,
          7.25,
          7.15,
          7.21,
          3.32,
          5.67,
          1.09,
          1.27,
          4.67,
          8.55,
          7.4,
          10.34,
          3.87,
          0.1,
          1.68,
          7.39,
          5.47,
          2.8,
          8.44,
          2.84,
          10.21,
          5.86,
          4.49,
          4.12,
          10.31,
          9.83,
          2.28,
          7.05,
          8.66,
          7.03,
          3.83,
          4.15,
          6.69,
          4.47,
          7.93,
          7.94,
          5.76,
          1.39,
          9.61,
          8.02,
          1.35,
          6.02,
          1.09,
          4.94,
          9.24,
          7.17,
          6.78,
          9.83,
          6.49,
          7.68,
          10.21,
          0.25,
          7.39,
          9.47,
          5.74,
          5.02,
          8.79,
          10.36,
          7.89,
          1.38,
          5.2,
          9.19,
          9.47,
          7.03,
          6.61,
          9.22,
          11,
          7.77,
          5.69,
          9.92,
          2.84,
          6.82,
          8.58,
          9.61,
          2.03,
          9.37,
          9.3,
          1.73,
          7.69,
          4.26,
          4.51,
          10.33,
          8.81,
          10.99,
          1.13,
          1.5,
          7.56,
          6.92,
          2.65,
          10.18,
          6.42,
          1.79,
          3.95,
          2.18,
          8.55,
          2.82,
          7.55,
          10.07,
          5.43,
          8.92,
          2.36,
          10.45,
          8.49,
          2.28,
          1.34,
          8.35,
          3.85,
          1.47,
          9.65,
          0.49,
          1.29,
          2.42,
          4.43,
          9.37,
          1.01,
          3.84,
          4.44,
          3.6,
          7.1,
          6.03,
          6.77,
          8.25,
          1.97,
          10.67,
          10.87,
          6.59,
          6.4,
          4.58,
          7.37,
          2.57,
          8.89,
          8.05,
          10.12,
          9.42,
          5.39,
          10.92,
          3.28,
          3.55,
          5.02,
          10.94,
          10.73,
          1.25,
          6.98,
          8.96,
          1.64,
          2.49,
          9.13,
          5.4,
          7.98,
          6.51,
          8.69,
          4.02,
          8.7,
          0.59,
          5.18,
          5.26,
          7.46,
          0.1,
          7.65,
          3.27,
          5.95,
          10.01,
          6.52,
          0.55,
          8.83,
          1.67,
          4.91,
          9.91,
          10.5,
          8.54,
          3.55,
          4.61,
          9.77,
          6.63,
          3.04,
          9.15,
          10.29,
          9.97,
          4.58,
          4.13,
          1.77,
          10.17,
          3.54,
          4.18,
          6.22,
          8.65,
          7.58,
          6.54,
          1.33,
          5.57,
          5.23,
          10.56,
          6.39,
          3.32,
          10.02,
          10.21,
          7.46,
          0.18,
          2.66,
          1.99,
          2.03,
          1.29,
          10.39,
          6.67,
          7.11,
          9.39,
          2.53,
          0.69,
          3.01,
          10.44,
          3.08,
          0.56,
          0.76,
          6.35,
          4.97,
          8.39,
          0.53,
          8.82,
          7.2,
          0.02,
          3.76,
          1.42,
          0.93,
          7.3,
          7.06,
          3.31,
          3.29,
          3.56,
          3.85,
          264.54,
          520.14,
          4.68,
          126.49000000000001,
          8.05,
          0.49,
          144.66,
          106.89,
          260.46,
          271.61,
          213.82,
          21.91,
          180.96,
          132.1,
          78.23,
          132.8
         ]
        }
       ],
       "layout": {
        "legend": {
         "tracegroupgap": 0
        },
        "margin": {
         "t": 60
        },
        "template": {
         "data": {
          "bar": [
           {
            "error_x": {
             "color": "#2a3f5f"
            },
            "error_y": {
             "color": "#2a3f5f"
            },
            "marker": {
             "line": {
              "color": "#E5ECF6",
              "width": 0.5
             },
             "pattern": {
              "fillmode": "overlay",
              "size": 10,
              "solidity": 0.2
             }
            },
            "type": "bar"
           }
          ],
          "barpolar": [
           {
            "marker": {
             "line": {
              "color": "#E5ECF6",
              "width": 0.5
             },
             "pattern": {
              "fillmode": "overlay",
              "size": 10,
              "solidity": 0.2
             }
            },
            "type": "barpolar"
           }
          ],
          "carpet": [
           {
            "aaxis": {
             "endlinecolor": "#2a3f5f",
             "gridcolor": "white",
             "linecolor": "white",
             "minorgridcolor": "white",
             "startlinecolor": "#2a3f5f"
            },
            "baxis": {
             "endlinecolor": "#2a3f5f",
             "gridcolor": "white",
             "linecolor": "white",
             "minorgridcolor": "white",
             "startlinecolor": "#2a3f5f"
            },
            "type": "carpet"
           }
          ],
          "choropleth": [
           {
            "colorbar": {
             "outlinewidth": 0,
             "ticks": ""
            },
            "type": "choropleth"
           }
          ],
          "contour": [
           {
            "colorbar": {
             "outlinewidth": 0,
             "ticks": ""
            },
            "colorscale": [
             [
              0,
              "#0d0887"
             ],
             [
              0.1111111111111111,
              "#46039f"
             ],
             [
              0.2222222222222222,
              "#7201a8"
             ],
             [
              0.3333333333333333,
              "#9c179e"
             ],
             [
              0.4444444444444444,
              "#bd3786"
             ],
             [
              0.5555555555555556,
              "#d8576b"
             ],
             [
              0.6666666666666666,
              "#ed7953"
             ],
             [
              0.7777777777777778,
              "#fb9f3a"
             ],
             [
              0.8888888888888888,
              "#fdca26"
             ],
             [
              1,
              "#f0f921"
             ]
            ],
            "type": "contour"
           }
          ],
          "contourcarpet": [
           {
            "colorbar": {
             "outlinewidth": 0,
             "ticks": ""
            },
            "type": "contourcarpet"
           }
          ],
          "heatmap": [
           {
            "colorbar": {
             "outlinewidth": 0,
             "ticks": ""
            },
            "colorscale": [
             [
              0,
              "#0d0887"
             ],
             [
              0.1111111111111111,
              "#46039f"
             ],
             [
              0.2222222222222222,
              "#7201a8"
             ],
             [
              0.3333333333333333,
              "#9c179e"
             ],
             [
              0.4444444444444444,
              "#bd3786"
             ],
             [
              0.5555555555555556,
              "#d8576b"
             ],
             [
              0.6666666666666666,
              "#ed7953"
             ],
             [
              0.7777777777777778,
              "#fb9f3a"
             ],
             [
              0.8888888888888888,
              "#fdca26"
             ],
             [
              1,
              "#f0f921"
             ]
            ],
            "type": "heatmap"
           }
          ],
          "heatmapgl": [
           {
            "colorbar": {
             "outlinewidth": 0,
             "ticks": ""
            },
            "colorscale": [
             [
              0,
              "#0d0887"
             ],
             [
              0.1111111111111111,
              "#46039f"
             ],
             [
              0.2222222222222222,
              "#7201a8"
             ],
             [
              0.3333333333333333,
              "#9c179e"
             ],
             [
              0.4444444444444444,
              "#bd3786"
             ],
             [
              0.5555555555555556,
              "#d8576b"
             ],
             [
              0.6666666666666666,
              "#ed7953"
             ],
             [
              0.7777777777777778,
              "#fb9f3a"
             ],
             [
              0.8888888888888888,
              "#fdca26"
             ],
             [
              1,
              "#f0f921"
             ]
            ],
            "type": "heatmapgl"
           }
          ],
          "histogram": [
           {
            "marker": {
             "pattern": {
              "fillmode": "overlay",
              "size": 10,
              "solidity": 0.2
             }
            },
            "type": "histogram"
           }
          ],
          "histogram2d": [
           {
            "colorbar": {
             "outlinewidth": 0,
             "ticks": ""
            },
            "colorscale": [
             [
              0,
              "#0d0887"
             ],
             [
              0.1111111111111111,
              "#46039f"
             ],
             [
              0.2222222222222222,
              "#7201a8"
             ],
             [
              0.3333333333333333,
              "#9c179e"
             ],
             [
              0.4444444444444444,
              "#bd3786"
             ],
             [
              0.5555555555555556,
              "#d8576b"
             ],
             [
              0.6666666666666666,
              "#ed7953"
             ],
             [
              0.7777777777777778,
              "#fb9f3a"
             ],
             [
              0.8888888888888888,
              "#fdca26"
             ],
             [
              1,
              "#f0f921"
             ]
            ],
            "type": "histogram2d"
           }
          ],
          "histogram2dcontour": [
           {
            "colorbar": {
             "outlinewidth": 0,
             "ticks": ""
            },
            "colorscale": [
             [
              0,
              "#0d0887"
             ],
             [
              0.1111111111111111,
              "#46039f"
             ],
             [
              0.2222222222222222,
              "#7201a8"
             ],
             [
              0.3333333333333333,
              "#9c179e"
             ],
             [
              0.4444444444444444,
              "#bd3786"
             ],
             [
              0.5555555555555556,
              "#d8576b"
             ],
             [
              0.6666666666666666,
              "#ed7953"
             ],
             [
              0.7777777777777778,
              "#fb9f3a"
             ],
             [
              0.8888888888888888,
              "#fdca26"
             ],
             [
              1,
              "#f0f921"
             ]
            ],
            "type": "histogram2dcontour"
           }
          ],
          "mesh3d": [
           {
            "colorbar": {
             "outlinewidth": 0,
             "ticks": ""
            },
            "type": "mesh3d"
           }
          ],
          "parcoords": [
           {
            "line": {
             "colorbar": {
              "outlinewidth": 0,
              "ticks": ""
             }
            },
            "type": "parcoords"
           }
          ],
          "pie": [
           {
            "automargin": true,
            "type": "pie"
           }
          ],
          "scatter": [
           {
            "fillpattern": {
             "fillmode": "overlay",
             "size": 10,
             "solidity": 0.2
            },
            "type": "scatter"
           }
          ],
          "scatter3d": [
           {
            "line": {
             "colorbar": {
              "outlinewidth": 0,
              "ticks": ""
             }
            },
            "marker": {
             "colorbar": {
              "outlinewidth": 0,
              "ticks": ""
             }
            },
            "type": "scatter3d"
           }
          ],
          "scattercarpet": [
           {
            "marker": {
             "colorbar": {
              "outlinewidth": 0,
              "ticks": ""
             }
            },
            "type": "scattercarpet"
           }
          ],
          "scattergeo": [
           {
            "marker": {
             "colorbar": {
              "outlinewidth": 0,
              "ticks": ""
             }
            },
            "type": "scattergeo"
           }
          ],
          "scattergl": [
           {
            "marker": {
             "colorbar": {
              "outlinewidth": 0,
              "ticks": ""
             }
            },
            "type": "scattergl"
           }
          ],
          "scattermapbox": [
           {
            "marker": {
             "colorbar": {
              "outlinewidth": 0,
              "ticks": ""
             }
            },
            "type": "scattermapbox"
           }
          ],
          "scatterpolar": [
           {
            "marker": {
             "colorbar": {
              "outlinewidth": 0,
              "ticks": ""
             }
            },
            "type": "scatterpolar"
           }
          ],
          "scatterpolargl": [
           {
            "marker": {
             "colorbar": {
              "outlinewidth": 0,
              "ticks": ""
             }
            },
            "type": "scatterpolargl"
           }
          ],
          "scatterternary": [
           {
            "marker": {
             "colorbar": {
              "outlinewidth": 0,
              "ticks": ""
             }
            },
            "type": "scatterternary"
           }
          ],
          "surface": [
           {
            "colorbar": {
             "outlinewidth": 0,
             "ticks": ""
            },
            "colorscale": [
             [
              0,
              "#0d0887"
             ],
             [
              0.1111111111111111,
              "#46039f"
             ],
             [
              0.2222222222222222,
              "#7201a8"
             ],
             [
              0.3333333333333333,
              "#9c179e"
             ],
             [
              0.4444444444444444,
              "#bd3786"
             ],
             [
              0.5555555555555556,
              "#d8576b"
             ],
             [
              0.6666666666666666,
              "#ed7953"
             ],
             [
              0.7777777777777778,
              "#fb9f3a"
             ],
             [
              0.8888888888888888,
              "#fdca26"
             ],
             [
              1,
              "#f0f921"
             ]
            ],
            "type": "surface"
           }
          ],
          "table": [
           {
            "cells": {
             "fill": {
              "color": "#EBF0F8"
             },
             "line": {
              "color": "white"
             }
            },
            "header": {
             "fill": {
              "color": "#C8D4E3"
             },
             "line": {
              "color": "white"
             }
            },
            "type": "table"
           }
          ]
         },
         "layout": {
          "annotationdefaults": {
           "arrowcolor": "#2a3f5f",
           "arrowhead": 0,
           "arrowwidth": 1
          },
          "autotypenumbers": "strict",
          "coloraxis": {
           "colorbar": {
            "outlinewidth": 0,
            "ticks": ""
           }
          },
          "colorscale": {
           "diverging": [
            [
             0,
             "#8e0152"
            ],
            [
             0.1,
             "#c51b7d"
            ],
            [
             0.2,
             "#de77ae"
            ],
            [
             0.3,
             "#f1b6da"
            ],
            [
             0.4,
             "#fde0ef"
            ],
            [
             0.5,
             "#f7f7f7"
            ],
            [
             0.6,
             "#e6f5d0"
            ],
            [
             0.7,
             "#b8e186"
            ],
            [
             0.8,
             "#7fbc41"
            ],
            [
             0.9,
             "#4d9221"
            ],
            [
             1,
             "#276419"
            ]
           ],
           "sequential": [
            [
             0,
             "#0d0887"
            ],
            [
             0.1111111111111111,
             "#46039f"
            ],
            [
             0.2222222222222222,
             "#7201a8"
            ],
            [
             0.3333333333333333,
             "#9c179e"
            ],
            [
             0.4444444444444444,
             "#bd3786"
            ],
            [
             0.5555555555555556,
             "#d8576b"
            ],
            [
             0.6666666666666666,
             "#ed7953"
            ],
            [
             0.7777777777777778,
             "#fb9f3a"
            ],
            [
             0.8888888888888888,
             "#fdca26"
            ],
            [
             1,
             "#f0f921"
            ]
           ],
           "sequentialminus": [
            [
             0,
             "#0d0887"
            ],
            [
             0.1111111111111111,
             "#46039f"
            ],
            [
             0.2222222222222222,
             "#7201a8"
            ],
            [
             0.3333333333333333,
             "#9c179e"
            ],
            [
             0.4444444444444444,
             "#bd3786"
            ],
            [
             0.5555555555555556,
             "#d8576b"
            ],
            [
             0.6666666666666666,
             "#ed7953"
            ],
            [
             0.7777777777777778,
             "#fb9f3a"
            ],
            [
             0.8888888888888888,
             "#fdca26"
            ],
            [
             1,
             "#f0f921"
            ]
           ]
          },
          "colorway": [
           "#636efa",
           "#EF553B",
           "#00cc96",
           "#ab63fa",
           "#FFA15A",
           "#19d3f3",
           "#FF6692",
           "#B6E880",
           "#FF97FF",
           "#FECB52"
          ],
          "font": {
           "color": "#2a3f5f"
          },
          "geo": {
           "bgcolor": "white",
           "lakecolor": "white",
           "landcolor": "#E5ECF6",
           "showlakes": true,
           "showland": true,
           "subunitcolor": "white"
          },
          "hoverlabel": {
           "align": "left"
          },
          "hovermode": "closest",
          "mapbox": {
           "style": "light"
          },
          "paper_bgcolor": "white",
          "plot_bgcolor": "#E5ECF6",
          "polar": {
           "angularaxis": {
            "gridcolor": "white",
            "linecolor": "white",
            "ticks": ""
           },
           "bgcolor": "#E5ECF6",
           "radialaxis": {
            "gridcolor": "white",
            "linecolor": "white",
            "ticks": ""
           }
          },
          "scene": {
           "xaxis": {
            "backgroundcolor": "#E5ECF6",
            "gridcolor": "white",
            "gridwidth": 2,
            "linecolor": "white",
            "showbackground": true,
            "ticks": "",
            "zerolinecolor": "white"
           },
           "yaxis": {
            "backgroundcolor": "#E5ECF6",
            "gridcolor": "white",
            "gridwidth": 2,
            "linecolor": "white",
            "showbackground": true,
            "ticks": "",
            "zerolinecolor": "white"
           },
           "zaxis": {
            "backgroundcolor": "#E5ECF6",
            "gridcolor": "white",
            "gridwidth": 2,
            "linecolor": "white",
            "showbackground": true,
            "ticks": "",
            "zerolinecolor": "white"
           }
          },
          "shapedefaults": {
           "line": {
            "color": "#2a3f5f"
           }
          },
          "ternary": {
           "aaxis": {
            "gridcolor": "white",
            "linecolor": "white",
            "ticks": ""
           },
           "baxis": {
            "gridcolor": "white",
            "linecolor": "white",
            "ticks": ""
           },
           "bgcolor": "#E5ECF6",
           "caxis": {
            "gridcolor": "white",
            "linecolor": "white",
            "ticks": ""
           }
          },
          "title": {
           "x": 0.05
          },
          "xaxis": {
           "automargin": true,
           "gridcolor": "white",
           "linecolor": "white",
           "ticks": "",
           "title": {
            "standoff": 15
           },
           "zerolinecolor": "white",
           "zerolinewidth": 2
          },
          "yaxis": {
           "automargin": true,
           "gridcolor": "white",
           "linecolor": "white",
           "ticks": "",
           "title": {
            "standoff": 15
           },
           "zerolinecolor": "white",
           "zerolinewidth": 2
          }
         }
        }
       }
      }
     },
     "metadata": {},
     "output_type": "display_data"
    },
    {
     "data": {
      "text/html": [
       "<div>\n",
       "<style scoped>\n",
       "    .dataframe tbody tr th:only-of-type {\n",
       "        vertical-align: middle;\n",
       "    }\n",
       "\n",
       "    .dataframe tbody tr th {\n",
       "        vertical-align: top;\n",
       "    }\n",
       "\n",
       "    .dataframe thead th {\n",
       "        text-align: right;\n",
       "    }\n",
       "</style>\n",
       "<table border=\"1\" class=\"dataframe\">\n",
       "  <thead>\n",
       "    <tr style=\"text-align: right;\">\n",
       "      <th></th>\n",
       "      <th>Bundesland</th>\n",
       "      <th>Landkreis</th>\n",
       "      <th>Land_Stadt</th>\n",
       "      <th>Zahl_Ohren</th>\n",
       "      <th>Zahl_PV</th>\n",
       "      <th>avg_Score</th>\n",
       "    </tr>\n",
       "  </thead>\n",
       "  <tbody>\n",
       "    <tr>\n",
       "      <th>0</th>\n",
       "      <td>Niedersachsen</td>\n",
       "      <td>Oldenburg</td>\n",
       "      <td>Rural district</td>\n",
       "      <td>26</td>\n",
       "      <td>278</td>\n",
       "      <td>0.56</td>\n",
       "    </tr>\n",
       "    <tr>\n",
       "      <th>1</th>\n",
       "      <td>Niedersachsen</td>\n",
       "      <td>Osnabrück Städte</td>\n",
       "      <td>Urban district</td>\n",
       "      <td>9</td>\n",
       "      <td>94</td>\n",
       "      <td>4.03</td>\n",
       "    </tr>\n",
       "    <tr>\n",
       "      <th>2</th>\n",
       "      <td>Niedersachsen</td>\n",
       "      <td>Osnabrück</td>\n",
       "      <td>Rural district</td>\n",
       "      <td>10</td>\n",
       "      <td>211</td>\n",
       "      <td>4.50</td>\n",
       "    </tr>\n",
       "    <tr>\n",
       "      <th>3</th>\n",
       "      <td>Niedersachsen</td>\n",
       "      <td>Vechta</td>\n",
       "      <td>Rural district</td>\n",
       "      <td>22</td>\n",
       "      <td>471</td>\n",
       "      <td>9.30</td>\n",
       "    </tr>\n",
       "    <tr>\n",
       "      <th>4</th>\n",
       "      <td>Niedersachsen</td>\n",
       "      <td>Wesermarsch</td>\n",
       "      <td>Rural district</td>\n",
       "      <td>22</td>\n",
       "      <td>240</td>\n",
       "      <td>3.55</td>\n",
       "    </tr>\n",
       "  </tbody>\n",
       "</table>\n",
       "</div>"
      ],
      "text/plain": [
       "      Bundesland         Landkreis      Land_Stadt  Zahl_Ohren  Zahl_PV  \\\n",
       "0  Niedersachsen         Oldenburg  Rural district          26      278   \n",
       "1  Niedersachsen  Osnabrück Städte  Urban district           9       94   \n",
       "2  Niedersachsen         Osnabrück  Rural district          10      211   \n",
       "3  Niedersachsen            Vechta  Rural district          22      471   \n",
       "4  Niedersachsen       Wesermarsch  Rural district          22      240   \n",
       "\n",
       "   avg_Score  \n",
       "0       0.56  \n",
       "1       4.03  \n",
       "2       4.50  \n",
       "3       9.30  \n",
       "4       3.55  "
      ]
     },
     "execution_count": 8,
     "metadata": {},
     "output_type": "execute_result"
    }
   ],
   "source": [
    "# create sunburst plot\n",
    "Ohren_sunburst = px.sunburst(kreise_df, path=['Bundesland', 'Landkreis'], values='avg_Score', color='Land_Stadt')\n",
    "print(pd.read_csv('https://raw.githubusercontent.com/plotly/datasets/718417069ead87650b90472464c7565dc8c2cb1c/coffee-flavors.csv').head())\n",
    "Ohren_sunburst.show()\n",
    "kreise_df.head()"
   ]
  },
  {
   "cell_type": "code",
   "execution_count": 10,
   "metadata": {},
   "outputs": [
    {
     "data": {
      "application/vnd.plotly.v1+json": {
       "config": {
        "plotlyServerURL": "https://plot.ly"
       },
       "data": [
        {
         "ids": [
          "Niedersachsen-Oldenburg",
          "Niedersachsen-Osnabrück Städte",
          "Niedersachsen-Osnabrück",
          "Niedersachsen-Vechta",
          "Niedersachsen-Wesermarsch",
          "Niedersachsen-Wilhelmshaven Städte",
          "Niedersachsen-Wittmund",
          "Nordrhein-Westfalen-Bochum Städte",
          "Nordrhein-Westfalen-Dortmund Städte",
          "Nordrhein-Westfalen-Ennepe-Ruhr",
          "Nordrhein-Westfalen-Hagen Städte",
          "Nordrhein-Westfalen-Hamm Städte",
          "Nordrhein-Westfalen-Herne Städte",
          "Nordrhein-Westfalen-Hochsauerlandkreis",
          "Nordrhein-Westfalen-Märkischer Kreis",
          "Nordrhein-Westfalen-Olpe",
          "Nordrhein-Westfalen-Siegen-Wittgenstein",
          "Baden-Württemberg-Ostalbkreis",
          "Baden-Württemberg-Rems-Murr-Kreis",
          "Baden-Württemberg-Schwäbisch Hall",
          "Baden-Württemberg-Stuttgart Städte",
          "Baden-Württemberg-Alb-Donau",
          "Baden-Württemberg-Biberach",
          "Baden-Württemberg-Bodensee",
          "Baden-Württemberg-Ravensburg",
          "Baden-Württemberg-Reutlingen",
          "Baden-Württemberg-Sigmaringen",
          "Baden-Württemberg-Tübingen",
          "Baden-Württemberg-Ulm Städte",
          "Baden-Württemberg-Zollernalbkreis",
          "Bayern-Ansbach Städte",
          "Bayern-Ansbach",
          "Bayern-Erlangen-Höchstadt",
          "Bayern-Erlangen Städte",
          "Bayern-Fürth Städte",
          "Baden-Württemberg-Breisgau-Hochschwarzwald",
          "Baden-Württemberg-Emmendingen",
          "Baden-Württemberg-Freiburg",
          "Baden-Württemberg-Konstanz",
          "Baden-Württemberg-Lörrach",
          "Baden-Württemberg-Ortenaukreis",
          "Baden-Württemberg-Rottweil",
          "Baden-Württemberg-Schwarzwald-Baar-Kreis",
          "Baden-Württemberg-Tuttlingen",
          "Baden-Württemberg-Waldshut",
          "Baden-Württemberg-Baden-Baden Städte",
          "Baden-Württemberg-Calw",
          "Baden-Württemberg-Enz",
          "Baden-Württemberg-Freudenstadt",
          "Baden-Württemberg-Heidelberg Städte",
          "Baden-Württemberg-Karlsruhe Städte",
          "Baden-Württemberg-Karlsruhe",
          "Baden-Württemberg-Mannheim Städte",
          "Baden-Württemberg-Neckar-Odenwald-Kreis",
          "Baden-Württemberg-Pforzheim Städte",
          "Baden-Württemberg-Rastatt",
          "Baden-Württemberg-Rhein-Neckar-Kreis",
          "Baden-Württemberg-Böblingen",
          "Baden-Württemberg-Esslingen",
          "Baden-Württemberg-Göppingen",
          "Baden-Württemberg-Heidenheim",
          "Baden-Württemberg-Heilbronn city Städte",
          "Baden-Württemberg-Heilbronn",
          "Baden-Württemberg-Hohenlohe",
          "Baden-Württemberg-Ludwigsburg",
          "Baden-Württemberg-Main-Tauber",
          "Bayern-Fürth",
          "Bayern-Neustadt-Bad Windsheim",
          "Bayern-Nuremberg Städte",
          "Bayern-Nürnberger Land",
          "Bayern-Roth",
          "Bayern-Schwabach Städte",
          "Bayern-Weißenburg-Gunzenhausen",
          "Bayern-Deggendorf",
          "Bayern-Dingolfing-Landau",
          "Bayern-Freyung-Grafenau",
          "Bayern-Kelheim",
          "Bayern-Landshut Städte",
          "Bayern-Landshut",
          "Bayern-Passau Städte",
          "Bayern-Passau",
          "Bayern-Regen",
          "Bayern-Rottal-Inn",
          "Bayern-Straubing-Bogen",
          "Bayern-Straubing Städte",
          "Bayern-Altötting",
          "Bayern-Bad Tölz-Wolfratshausen",
          "Bayern-Berchtesgadener Land",
          "Bayern-Dachau",
          "Bayern-Ebersberg",
          "Bayern-Eichstätt",
          "Bayern-Erding",
          "Bayern-Freising",
          "Bayern-Fürstenfeldbruck",
          "Bayern-Garmisch-Partenkirchen",
          "Bayern-Ingolstadt Städte",
          "Bayern-Landsberg",
          "Bayern-Miesbach",
          "Bayern-Mühldorf",
          "Bayern-München",
          "Bayern-Munich Städte",
          "Bayern-Neuburg-Schrobenhausen",
          "Bayern-Pfaffenhofen",
          "Bayern-Rosenheim Städte",
          "Bayern-Rosenheim",
          "Bayern-Starnberg",
          "Bayern-Traunstein",
          "Bayern-Weilheim-Schongau",
          "Bayern-Bamberg Städte",
          "Bayern-Bamberg",
          "Bayern-Bayreuth Städte",
          "Bayern-Bayreuth",
          "Bayern-Coburg Städte",
          "Bayern-Coburg",
          "Bayern-Forchheim",
          "Bayern-Hof Städte",
          "Bayern-Hof",
          "Bayern-Kronach",
          "Bayern-Kulmbach",
          "Bayern-Lichtenfels",
          "Bayern-Wunsiedel",
          "Bayern-Amberg-Sulzbach",
          "Bayern-Amberg Städte",
          "Bayern-Cham",
          "Bayern-Neumarkt",
          "Bayern-Neustadt",
          "Bayern-Regensburg Städte",
          "Bayern-Regensburg",
          "Bayern-Schwandorf",
          "Bayern-Tirschenreuth",
          "Bayern-Weiden Städte",
          "Bayern-Aichach-Friedberg",
          "Bayern-Augsburg Städte",
          "Bayern-Augsburg",
          "Bayern-Dillingen",
          "Bayern-Donau-Ries",
          "Bayern-Günzburg",
          "Bayern-Kaufbeuren Städte",
          "Bayern-Kempten Städte",
          "Bayern-Lindau",
          "Bayern-Memmingen Städte",
          "Bayern-Neu-Ulm",
          "Bayern-Oberallgäu",
          "Bayern-Ostallgäu",
          "Bayern-Unterallgäu",
          "Bayern-Aschaffenburg Städte",
          "Bayern-Aschaffenburg",
          "Bayern-Bad Kissingen",
          "Bayern-Haßberge",
          "Bayern-Kitzingen",
          "Bayern-Main-Spessart",
          "Bayern-Miltenberg",
          "Bayern-Rhön-Grabfeld",
          "Bayern-Schweinfurt Städte",
          "Bayern-Schweinfurt",
          "Bayern-Würzburg Städte",
          "Bayern-Würzburg",
          "Berlin-Berlin",
          "Brandenburg-Barnim",
          "Brandenburg-Brandenburg an der Havel Städte",
          "Brandenburg-Cottbus Städte",
          "Brandenburg-Dahme-Spreewald",
          "Brandenburg-Elbe-Elster",
          "Brandenburg-Frankfurt am Oder Städte",
          "Brandenburg-Havelland",
          "Brandenburg-Märkisch-Oderland",
          "Brandenburg-Oberhavel",
          "Brandenburg-Oberspreewald-Lausitz",
          "Brandenburg-Oder-Spree",
          "Brandenburg-Ostprignitz-Ruppin",
          "Brandenburg-Potsdam-Mittelmark",
          "Brandenburg-Potsdam Städte",
          "Brandenburg-Prignitz",
          "Brandenburg-Spree-Neiße",
          "Brandenburg-Teltow-Fläming",
          "Brandenburg-Uckermark",
          "Bremen-Bremen Städte",
          "Hamburg-Hamburg Städte",
          "Hessen-Bergstraße",
          "Hessen-Darmstadt-Dieburg",
          "Hessen-Darmstadt Städte",
          "Hessen-Frankfurt am Main Städte",
          "Hessen-Groß-Gerau",
          "Hessen-Hochtaunuskreis",
          "Hessen-Main-Kinzig-Kreis",
          "Hessen-Main-Taunus-Kreis Städte",
          "Hessen-Odenwaldkreis",
          "Hessen-Offenbach am Main Städte",
          "Hessen-Offenbach",
          "Hessen-Rheingau-Taunus-Kreis",
          "Hessen-Wetteraukreis",
          "Hessen-Wiesbaden Städte",
          "Hessen-Gießen",
          "Hessen-Lahn-Dill-Kreis",
          "Hessen-Limburg-Weilburg",
          "Hessen-Marburg-Biedenkopf",
          "Hessen-Vogelsbergkreis",
          "Hessen-Fulda",
          "Hessen-Hersfeld-Rotenburg",
          "Hessen-Kassel Städte",
          "Hessen-Kassel",
          "Hessen-Schwalm-Eder-Kreis",
          "Hessen-Waldeck-Frankenberg",
          "Hessen-Werra-Meißner-Kreis",
          "Mecklenburg-Vorpommern-Bad Doberan",
          "Mecklenburg-Vorpommern-Demmin",
          "Mecklenburg-Vorpommern-Greifswald Städte",
          "Mecklenburg-Vorpommern-Güstrow",
          "Mecklenburg-Vorpommern-Ludwigslust",
          "Mecklenburg-Vorpommern-Mecklenburg-Strelitz",
          "Mecklenburg-Vorpommern-Müritz",
          "Mecklenburg-Vorpommern-Neubrandenburg Städte",
          "Mecklenburg-Vorpommern-Nordvorpommern",
          "Mecklenburg-Vorpommern-Nordwestmecklenburg",
          "Mecklenburg-Vorpommern-Ostvorpommern",
          "Mecklenburg-Vorpommern-Parchim",
          "Mecklenburg-Vorpommern-Rostock Städte",
          "Mecklenburg-Vorpommern-Rügen",
          "Mecklenburg-Vorpommern-Schwerin Städte",
          "Mecklenburg-Vorpommern-Stralsund Städte",
          "Mecklenburg-Vorpommern-Uecker-Randow",
          "Mecklenburg-Vorpommern-Wismar Städte",
          "Niedersachsen-Braunschweig Städte",
          "Niedersachsen-Gifhorn",
          "Niedersachsen-Goslar",
          "Niedersachsen-Göttingen",
          "Niedersachsen-Helmstedt",
          "Niedersachsen-Northeim",
          "Niedersachsen-Osterode",
          "Niedersachsen-Peine",
          "Niedersachsen-Salzgitter Städte",
          "Niedersachsen-Wolfenbüttel",
          "Niedersachsen-Wolfsburg Städte",
          "Niedersachsen-Diepholz",
          "Niedersachsen-Hamelin-Pyrmont",
          "Niedersachsen-Hanover",
          "Niedersachsen-Hildesheim",
          "Niedersachsen-Holzminden",
          "Niedersachsen-Nienburg",
          "Niedersachsen-Schaumburg",
          "Niedersachsen-Celle",
          "Niedersachsen-Cuxhaven",
          "Niedersachsen-Harburg",
          "Niedersachsen-Lüchow-Dannenberg",
          "Niedersachsen-Lüneburg",
          "Niedersachsen-Osterholz",
          "Niedersachsen-Rotenburg",
          "Niedersachsen-Soltau-Fallingbostel",
          "Niedersachsen-Stade",
          "Niedersachsen-Uelzen",
          "Niedersachsen-Verden",
          "Niedersachsen-Ammerland",
          "Niedersachsen-Aurich",
          "Niedersachsen-Cloppenburg",
          "Niedersachsen-Emden Städte",
          "Niedersachsen-Emsland",
          "Niedersachsen-Friesland",
          "Niedersachsen-Grafschaft Bentheim",
          "Niedersachsen-Leer",
          "Niedersachsen-Oldenburg Städte",
          "Nordrhein-Westfalen-Soest",
          "Nordrhein-Westfalen-Unna",
          "Nordrhein-Westfalen-Bielefeld Städte",
          "Nordrhein-Westfalen-Gütersloh",
          "Nordrhein-Westfalen-Herford",
          "Nordrhein-Westfalen-Höxter",
          "Nordrhein-Westfalen-Lippe",
          "Nordrhein-Westfalen-Minden-Lübbecke",
          "Nordrhein-Westfalen-Paderborn",
          "Nordrhein-Westfalen-Cleves",
          "Nordrhein-Westfalen-Duisburg Städte",
          "Nordrhein-Westfalen-Düsseldorf Städte",
          "Nordrhein-Westfalen-Essen Städte",
          "Nordrhein-Westfalen-Krefeld Städte",
          "Nordrhein-Westfalen-Mettmann",
          "Nordrhein-Westfalen-Mönchengladbach Städte",
          "Nordrhein-Westfalen-Mülheim Städte",
          "Nordrhein-Westfalen-Oberhausen Städte",
          "Nordrhein-Westfalen-Remscheid Städte",
          "Nordrhein-Westfalen-Rhein-Kreis Neuss",
          "Nordrhein-Westfalen-Solingen Städte",
          "Nordrhein-Westfalen-Viersen",
          "Nordrhein-Westfalen-Wesel",
          "Nordrhein-Westfalen-Wuppertal Städte",
          "Nordrhein-Westfalen-Aachen Städte",
          "Nordrhein-Westfalen-Aachen",
          "Nordrhein-Westfalen-Bonn Städte",
          "Nordrhein-Westfalen-Cologne Städte",
          "Nordrhein-Westfalen-Düren",
          "Nordrhein-Westfalen-Euskirchen",
          "Nordrhein-Westfalen-Heinsberg",
          "Nordrhein-Westfalen-Leverkusen Städte",
          "Nordrhein-Westfalen-Oberbergischer Kreis",
          "Nordrhein-Westfalen-Rhein-Erft-Kreis",
          "Nordrhein-Westfalen-Rhein-Sieg",
          "Nordrhein-Westfalen-Rheinisch-Bergischer Kreis",
          "Nordrhein-Westfalen-Borken",
          "Nordrhein-Westfalen-Bottrop Städte",
          "Nordrhein-Westfalen-Coesfeld",
          "Nordrhein-Westfalen-Gelsenkirchen Städte",
          "Nordrhein-Westfalen-Münster Städte",
          "Nordrhein-Westfalen-Recklinghausen",
          "Nordrhein-Westfalen-Steinfurt",
          "Nordrhein-Westfalen-Warendorf",
          "Rheinland-Pfalz-Ahrweiler",
          "Rheinland-Pfalz-Altenkirchen",
          "Rheinland-Pfalz-Bad Kreuznach",
          "Rheinland-Pfalz-Birkenfeld",
          "Rheinland-Pfalz-Cochem-Zell",
          "Rheinland-Pfalz-Koblenz Coblenz Städte",
          "Rheinland-Pfalz-Mayen-Koblenz",
          "Rheinland-Pfalz-Neuwied",
          "Rheinland-Pfalz-Rhein-Hunsrück",
          "Rheinland-Pfalz-Rhein-Lahn",
          "Rheinland-Pfalz-Westerwaldkreis",
          "Rheinland-Pfalz-Alzey-Worms",
          "Rheinland-Pfalz-Bad Dürkheim",
          "Rheinland-Pfalz-Donnersbergkreis",
          "Rheinland-Pfalz-Frankenthal Städte",
          "Rheinland-Pfalz-Germersheim",
          "Rheinland-Pfalz-Kaiserslautern Städte",
          "Rheinland-Pfalz-Kaiserslautern",
          "Rheinland-Pfalz-Kusel",
          "Rheinland-Pfalz-Landau Städte",
          "Rheinland-Pfalz-Ludwigshafen Städte",
          "Rheinland-Pfalz-Mainz-Bingen",
          "Rheinland-Pfalz-Mainz Städte",
          "Rheinland-Pfalz-Neustadt Städte",
          "Rheinland-Pfalz-Rhein-Pfalz-Kreis",
          "Rheinland-Pfalz-Speyer Spires Städte",
          "Rheinland-Pfalz-Südliche Weinstraße",
          "Rheinland-Pfalz-Südwestpfalz",
          "Rheinland-Pfalz-Worms Städte",
          "Rheinland-Pfalz-Zweibrücken Städte",
          "Rheinland-Pfalz-Bernkastel-Wittlich",
          "Rheinland-Pfalz-Bitburg-Prüm",
          "Rheinland-Pfalz-Trier-Saarburg",
          "Rheinland-Pfalz-Trier Städte",
          "Rheinland-Pfalz-Vulkaneifel",
          "Saarland-Merzig-Wadern",
          "Saarland-Neunkirchen",
          "Saarland-Saarbrücken Städte",
          "Saarland-Saarlouis",
          "Saarland-Saarpfalz",
          "Saarland-Sankt Wendel",
          "Sachsen-Anhalt-Anhalt-Zerbst",
          "Sachsen-Anhalt-Bernburg",
          "Sachsen-Anhalt-Bitterfeld",
          "Sachsen-Anhalt-Dessau Städte",
          "Sachsen-Anhalt-Köthen",
          "Sachsen-Anhalt-Wittenberg",
          "Sachsen-Anhalt-Aschersleben-Staßfurt",
          "Sachsen-Anhalt-Burgenlandkreis",
          "Sachsen-Anhalt-Halle Städte",
          "Sachsen-Anhalt-Mansfelder Land",
          "Sachsen-Anhalt-Merseburg-Querfurt",
          "Sachsen-Anhalt-Saalkreis",
          "Sachsen-Anhalt-Sangerhausen",
          "Sachsen-Anhalt-Weißenfels",
          "Sachsen-Anhalt-Altmarkkreis Salzwedel",
          "Sachsen-Anhalt-Bördekreis",
          "Sachsen-Anhalt-Halberstadt",
          "Sachsen-Anhalt-Jerichower Land",
          "Sachsen-Anhalt-Magdeburg Städte",
          "Sachsen-Anhalt-Ohrekreis",
          "Sachsen-Anhalt-Quedlinburg",
          "Sachsen-Anhalt-Schönebeck",
          "Sachsen-Anhalt-Stendal",
          "Sachsen-Anhalt-Wernigerode",
          "Sachsen-Annaberg",
          "Sachsen-Aue-Schwarzenberg",
          "Sachsen-Chemnitz Städte",
          "Sachsen-Chemnitzer Land",
          "Sachsen-Freiberg",
          "Sachsen-Mittlerer Erzgebirgskreis",
          "Sachsen-Mittweida",
          "Sachsen-Plauen Städte",
          "Sachsen-Stollberg",
          "Sachsen-Vogtlandkreis",
          "Sachsen-Zwickau Städte",
          "Sachsen-Zwickauer Land",
          "Sachsen-Bautzen",
          "Sachsen-Dresden Städte",
          "Sachsen-Görlitz Städte",
          "Sachsen-Kamenz",
          "Sachsen-Löbau-Zittau",
          "Sachsen-Meißen",
          "Sachsen-Niederschlesischer Oberlausitzkreis",
          "Sachsen-Riesa-Großenhain",
          "Sachsen-Sächsische Schweiz",
          "Sachsen-Weißeritzkreis",
          "Sachsen-Delitzsch",
          "Sachsen-Döbeln",
          "Sachsen-Leipzig Städte",
          "Sachsen-Leipziger Land",
          "Sachsen-Muldentalkreis",
          "Sachsen-Torgau-Oschatz",
          "Schleswig-Holstein-Dithmarschen",
          "Schleswig-Holstein-Flensburg Städte",
          "Schleswig-Holstein-Kiel Städte",
          "Schleswig-Holstein-Lauenburg",
          "Schleswig-Holstein-Lübeck Städte",
          "Schleswig-Holstein-Neumünster Städte",
          "Schleswig-Holstein-Nordfriesland",
          "Schleswig-Holstein-Ostholstein",
          "Schleswig-Holstein-Pinneberg",
          "Schleswig-Holstein-Plön",
          "Schleswig-Holstein-Rendsburg-Eckernförde",
          "Schleswig-Holstein-Schleswig-Flensburg",
          "Schleswig-Holstein-Segeberg",
          "Schleswig-Holstein-Steinburg",
          "Schleswig-Holstein-Stormarn",
          "Thüringen-Altenburger Land",
          "Thüringen-Eichsfeld",
          "Thüringen-Erfurt Städte",
          "Thüringen-Gera Städte",
          "Thüringen-Gotha",
          "Thüringen-Greiz",
          "Thüringen-Hildburghausen",
          "Thüringen-Ilm-Kreis",
          "Thüringen-Jena Städte",
          "Thüringen-Kyffhäuserkreis",
          "Thüringen-Nordhausen",
          "Thüringen-Saale-Holzland",
          "Thüringen-Saale-Orla",
          "Thüringen-Saalfeld-Rudolstadt",
          "Thüringen-Schmalkalden-Meiningen",
          "Thüringen-Sömmerda",
          "Thüringen-Sonneberg",
          "Thüringen-Suhl Städte",
          "Thüringen-Unstrut-Hainich",
          "Thüringen-Wartburgkreis",
          "Thüringen-Weimar Städte",
          "Thüringen-Weimarer Land"
         ],
         "insidetextorientation": "radial",
         "labels": [
          "Oldenburg",
          "Osnabrück Städte",
          "Osnabrück",
          "Vechta",
          "Wesermarsch",
          "Wilhelmshaven Städte",
          "Wittmund",
          "Bochum Städte",
          "Dortmund Städte",
          "Ennepe-Ruhr",
          "Hagen Städte",
          "Hamm Städte",
          "Herne Städte",
          "Hochsauerlandkreis",
          "Märkischer Kreis",
          "Olpe",
          "Siegen-Wittgenstein",
          "Ostalbkreis",
          "Rems-Murr-Kreis",
          "Schwäbisch Hall",
          "Stuttgart Städte",
          "Alb-Donau",
          "Biberach",
          "Bodensee",
          "Ravensburg",
          "Reutlingen",
          "Sigmaringen",
          "Tübingen",
          "Ulm Städte",
          "Zollernalbkreis",
          "Ansbach Städte",
          "Ansbach",
          "Erlangen-Höchstadt",
          "Erlangen Städte",
          "Fürth Städte",
          "Breisgau-Hochschwarzwald",
          "Emmendingen",
          "Freiburg",
          "Konstanz",
          "Lörrach",
          "Ortenaukreis",
          "Rottweil",
          "Schwarzwald-Baar-Kreis",
          "Tuttlingen",
          "Waldshut",
          "Baden-Baden Städte",
          "Calw",
          "Enz",
          "Freudenstadt",
          "Heidelberg Städte",
          "Karlsruhe Städte",
          "Karlsruhe",
          "Mannheim Städte",
          "Neckar-Odenwald-Kreis",
          "Pforzheim Städte",
          "Rastatt",
          "Rhein-Neckar-Kreis",
          "Böblingen",
          "Esslingen",
          "Göppingen",
          "Heidenheim",
          "Heilbronn city Städte",
          "Heilbronn",
          "Hohenlohe",
          "Ludwigsburg",
          "Main-Tauber",
          "Fürth",
          "Neustadt-Bad Windsheim",
          "Nuremberg Städte",
          "Nürnberger Land",
          "Roth",
          "Schwabach Städte",
          "Weißenburg-Gunzenhausen",
          "Deggendorf",
          "Dingolfing-Landau",
          "Freyung-Grafenau",
          "Kelheim",
          "Landshut Städte",
          "Landshut",
          "Passau Städte",
          "Passau",
          "Regen",
          "Rottal-Inn",
          "Straubing-Bogen",
          "Straubing Städte",
          "Altötting",
          "Bad Tölz-Wolfratshausen",
          "Berchtesgadener Land",
          "Dachau",
          "Ebersberg",
          "Eichstätt",
          "Erding",
          "Freising",
          "Fürstenfeldbruck",
          "Garmisch-Partenkirchen",
          "Ingolstadt Städte",
          "Landsberg",
          "Miesbach",
          "Mühldorf",
          "München",
          "Munich Städte",
          "Neuburg-Schrobenhausen",
          "Pfaffenhofen",
          "Rosenheim Städte",
          "Rosenheim",
          "Starnberg",
          "Traunstein",
          "Weilheim-Schongau",
          "Bamberg Städte",
          "Bamberg",
          "Bayreuth Städte",
          "Bayreuth",
          "Coburg Städte",
          "Coburg",
          "Forchheim",
          "Hof Städte",
          "Hof",
          "Kronach",
          "Kulmbach",
          "Lichtenfels",
          "Wunsiedel",
          "Amberg-Sulzbach",
          "Amberg Städte",
          "Cham",
          "Neumarkt",
          "Neustadt",
          "Regensburg Städte",
          "Regensburg",
          "Schwandorf",
          "Tirschenreuth",
          "Weiden Städte",
          "Aichach-Friedberg",
          "Augsburg Städte",
          "Augsburg",
          "Dillingen",
          "Donau-Ries",
          "Günzburg",
          "Kaufbeuren Städte",
          "Kempten Städte",
          "Lindau",
          "Memmingen Städte",
          "Neu-Ulm",
          "Oberallgäu",
          "Ostallgäu",
          "Unterallgäu",
          "Aschaffenburg Städte",
          "Aschaffenburg",
          "Bad Kissingen",
          "Haßberge",
          "Kitzingen",
          "Main-Spessart",
          "Miltenberg",
          "Rhön-Grabfeld",
          "Schweinfurt Städte",
          "Schweinfurt",
          "Würzburg Städte",
          "Würzburg",
          "Berlin",
          "Barnim",
          "Brandenburg an der Havel Städte",
          "Cottbus Städte",
          "Dahme-Spreewald",
          "Elbe-Elster",
          "Frankfurt am Oder Städte",
          "Havelland",
          "Märkisch-Oderland",
          "Oberhavel",
          "Oberspreewald-Lausitz",
          "Oder-Spree",
          "Ostprignitz-Ruppin",
          "Potsdam-Mittelmark",
          "Potsdam Städte",
          "Prignitz",
          "Spree-Neiße",
          "Teltow-Fläming",
          "Uckermark",
          "Bremen Städte",
          "Hamburg Städte",
          "Bergstraße",
          "Darmstadt-Dieburg",
          "Darmstadt Städte",
          "Frankfurt am Main Städte",
          "Groß-Gerau",
          "Hochtaunuskreis",
          "Main-Kinzig-Kreis",
          "Main-Taunus-Kreis Städte",
          "Odenwaldkreis",
          "Offenbach am Main Städte",
          "Offenbach",
          "Rheingau-Taunus-Kreis",
          "Wetteraukreis",
          "Wiesbaden Städte",
          "Gießen",
          "Lahn-Dill-Kreis",
          "Limburg-Weilburg",
          "Marburg-Biedenkopf",
          "Vogelsbergkreis",
          "Fulda",
          "Hersfeld-Rotenburg",
          "Kassel Städte",
          "Kassel",
          "Schwalm-Eder-Kreis",
          "Waldeck-Frankenberg",
          "Werra-Meißner-Kreis",
          "Bad Doberan",
          "Demmin",
          "Greifswald Städte",
          "Güstrow",
          "Ludwigslust",
          "Mecklenburg-Strelitz",
          "Müritz",
          "Neubrandenburg Städte",
          "Nordvorpommern",
          "Nordwestmecklenburg",
          "Ostvorpommern",
          "Parchim",
          "Rostock Städte",
          "Rügen",
          "Schwerin Städte",
          "Stralsund Städte",
          "Uecker-Randow",
          "Wismar Städte",
          "Braunschweig Städte",
          "Gifhorn",
          "Goslar",
          "Göttingen",
          "Helmstedt",
          "Northeim",
          "Osterode",
          "Peine",
          "Salzgitter Städte",
          "Wolfenbüttel",
          "Wolfsburg Städte",
          "Diepholz",
          "Hamelin-Pyrmont",
          "Hanover",
          "Hildesheim",
          "Holzminden",
          "Nienburg",
          "Schaumburg",
          "Celle",
          "Cuxhaven",
          "Harburg",
          "Lüchow-Dannenberg",
          "Lüneburg",
          "Osterholz",
          "Rotenburg",
          "Soltau-Fallingbostel",
          "Stade",
          "Uelzen",
          "Verden",
          "Ammerland",
          "Aurich",
          "Cloppenburg",
          "Emden Städte",
          "Emsland",
          "Friesland",
          "Grafschaft Bentheim",
          "Leer",
          "Oldenburg Städte",
          "Soest",
          "Unna",
          "Bielefeld Städte",
          "Gütersloh",
          "Herford",
          "Höxter",
          "Lippe",
          "Minden-Lübbecke",
          "Paderborn",
          "Cleves",
          "Duisburg Städte",
          "Düsseldorf Städte",
          "Essen Städte",
          "Krefeld Städte",
          "Mettmann",
          "Mönchengladbach Städte",
          "Mülheim Städte",
          "Oberhausen Städte",
          "Remscheid Städte",
          "Rhein-Kreis Neuss",
          "Solingen Städte",
          "Viersen",
          "Wesel",
          "Wuppertal Städte",
          "Aachen Städte",
          "Aachen",
          "Bonn Städte",
          "Cologne Städte",
          "Düren",
          "Euskirchen",
          "Heinsberg",
          "Leverkusen Städte",
          "Oberbergischer Kreis",
          "Rhein-Erft-Kreis",
          "Rhein-Sieg",
          "Rheinisch-Bergischer Kreis",
          "Borken",
          "Bottrop Städte",
          "Coesfeld",
          "Gelsenkirchen Städte",
          "Münster Städte",
          "Recklinghausen",
          "Steinfurt",
          "Warendorf",
          "Ahrweiler",
          "Altenkirchen",
          "Bad Kreuznach",
          "Birkenfeld",
          "Cochem-Zell",
          "Koblenz Coblenz Städte",
          "Mayen-Koblenz",
          "Neuwied",
          "Rhein-Hunsrück",
          "Rhein-Lahn",
          "Westerwaldkreis",
          "Alzey-Worms",
          "Bad Dürkheim",
          "Donnersbergkreis",
          "Frankenthal Städte",
          "Germersheim",
          "Kaiserslautern Städte",
          "Kaiserslautern",
          "Kusel",
          "Landau Städte",
          "Ludwigshafen Städte",
          "Mainz-Bingen",
          "Mainz Städte",
          "Neustadt Städte",
          "Rhein-Pfalz-Kreis",
          "Speyer Spires Städte",
          "Südliche Weinstraße",
          "Südwestpfalz",
          "Worms Städte",
          "Zweibrücken Städte",
          "Bernkastel-Wittlich",
          "Bitburg-Prüm",
          "Trier-Saarburg",
          "Trier Städte",
          "Vulkaneifel",
          "Merzig-Wadern",
          "Neunkirchen",
          "Saarbrücken Städte",
          "Saarlouis",
          "Saarpfalz",
          "Sankt Wendel",
          "Anhalt-Zerbst",
          "Bernburg",
          "Bitterfeld",
          "Dessau Städte",
          "Köthen",
          "Wittenberg",
          "Aschersleben-Staßfurt",
          "Burgenlandkreis",
          "Halle Städte",
          "Mansfelder Land",
          "Merseburg-Querfurt",
          "Saalkreis",
          "Sangerhausen",
          "Weißenfels",
          "Altmarkkreis Salzwedel",
          "Bördekreis",
          "Halberstadt",
          "Jerichower Land",
          "Magdeburg Städte",
          "Ohrekreis",
          "Quedlinburg",
          "Schönebeck",
          "Stendal",
          "Wernigerode",
          "Annaberg",
          "Aue-Schwarzenberg",
          "Chemnitz Städte",
          "Chemnitzer Land",
          "Freiberg",
          "Mittlerer Erzgebirgskreis",
          "Mittweida",
          "Plauen Städte",
          "Stollberg",
          "Vogtlandkreis",
          "Zwickau Städte",
          "Zwickauer Land",
          "Bautzen",
          "Dresden Städte",
          "Görlitz Städte",
          "Kamenz",
          "Löbau-Zittau",
          "Meißen",
          "Niederschlesischer Oberlausitzkreis",
          "Riesa-Großenhain",
          "Sächsische Schweiz",
          "Weißeritzkreis",
          "Delitzsch",
          "Döbeln",
          "Leipzig Städte",
          "Leipziger Land",
          "Muldentalkreis",
          "Torgau-Oschatz",
          "Dithmarschen",
          "Flensburg Städte",
          "Kiel Städte",
          "Lauenburg",
          "Lübeck Städte",
          "Neumünster Städte",
          "Nordfriesland",
          "Ostholstein",
          "Pinneberg",
          "Plön",
          "Rendsburg-Eckernförde",
          "Schleswig-Flensburg",
          "Segeberg",
          "Steinburg",
          "Stormarn",
          "Altenburger Land",
          "Eichsfeld",
          "Erfurt Städte",
          "Gera Städte",
          "Gotha",
          "Greiz",
          "Hildburghausen",
          "Ilm-Kreis",
          "Jena Städte",
          "Kyffhäuserkreis",
          "Nordhausen",
          "Saale-Holzland",
          "Saale-Orla",
          "Saalfeld-Rudolstadt",
          "Schmalkalden-Meiningen",
          "Sömmerda",
          "Sonneberg",
          "Suhl Städte",
          "Unstrut-Hainich",
          "Wartburgkreis",
          "Weimar Städte",
          "Weimarer Land"
         ],
         "maxdepth": 2,
         "parents": [
          "Niedersachsen",
          "Niedersachsen",
          "Niedersachsen",
          "Niedersachsen",
          "Niedersachsen",
          "Niedersachsen",
          "Niedersachsen",
          "Nordrhein-Westfalen",
          "Nordrhein-Westfalen",
          "Nordrhein-Westfalen",
          "Nordrhein-Westfalen",
          "Nordrhein-Westfalen",
          "Nordrhein-Westfalen",
          "Nordrhein-Westfalen",
          "Nordrhein-Westfalen",
          "Nordrhein-Westfalen",
          "Nordrhein-Westfalen",
          "Baden-Württemberg",
          "Baden-Württemberg",
          "Baden-Württemberg",
          "Baden-Württemberg",
          "Baden-Württemberg",
          "Baden-Württemberg",
          "Baden-Württemberg",
          "Baden-Württemberg",
          "Baden-Württemberg",
          "Baden-Württemberg",
          "Baden-Württemberg",
          "Baden-Württemberg",
          "Baden-Württemberg",
          "Bayern",
          "Bayern",
          "Bayern",
          "Bayern",
          "Bayern",
          "Baden-Württemberg",
          "Baden-Württemberg",
          "Baden-Württemberg",
          "Baden-Württemberg",
          "Baden-Württemberg",
          "Baden-Württemberg",
          "Baden-Württemberg",
          "Baden-Württemberg",
          "Baden-Württemberg",
          "Baden-Württemberg",
          "Baden-Württemberg",
          "Baden-Württemberg",
          "Baden-Württemberg",
          "Baden-Württemberg",
          "Baden-Württemberg",
          "Baden-Württemberg",
          "Baden-Württemberg",
          "Baden-Württemberg",
          "Baden-Württemberg",
          "Baden-Württemberg",
          "Baden-Württemberg",
          "Baden-Württemberg",
          "Baden-Württemberg",
          "Baden-Württemberg",
          "Baden-Württemberg",
          "Baden-Württemberg",
          "Baden-Württemberg",
          "Baden-Württemberg",
          "Baden-Württemberg",
          "Baden-Württemberg",
          "Baden-Württemberg",
          "Bayern",
          "Bayern",
          "Bayern",
          "Bayern",
          "Bayern",
          "Bayern",
          "Bayern",
          "Bayern",
          "Bayern",
          "Bayern",
          "Bayern",
          "Bayern",
          "Bayern",
          "Bayern",
          "Bayern",
          "Bayern",
          "Bayern",
          "Bayern",
          "Bayern",
          "Bayern",
          "Bayern",
          "Bayern",
          "Bayern",
          "Bayern",
          "Bayern",
          "Bayern",
          "Bayern",
          "Bayern",
          "Bayern",
          "Bayern",
          "Bayern",
          "Bayern",
          "Bayern",
          "Bayern",
          "Bayern",
          "Bayern",
          "Bayern",
          "Bayern",
          "Bayern",
          "Bayern",
          "Bayern",
          "Bayern",
          "Bayern",
          "Bayern",
          "Bayern",
          "Bayern",
          "Bayern",
          "Bayern",
          "Bayern",
          "Bayern",
          "Bayern",
          "Bayern",
          "Bayern",
          "Bayern",
          "Bayern",
          "Bayern",
          "Bayern",
          "Bayern",
          "Bayern",
          "Bayern",
          "Bayern",
          "Bayern",
          "Bayern",
          "Bayern",
          "Bayern",
          "Bayern",
          "Bayern",
          "Bayern",
          "Bayern",
          "Bayern",
          "Bayern",
          "Bayern",
          "Bayern",
          "Bayern",
          "Bayern",
          "Bayern",
          "Bayern",
          "Bayern",
          "Bayern",
          "Bayern",
          "Bayern",
          "Bayern",
          "Bayern",
          "Bayern",
          "Bayern",
          "Bayern",
          "Bayern",
          "Bayern",
          "Bayern",
          "Bayern",
          "Bayern",
          "Berlin",
          "Brandenburg",
          "Brandenburg",
          "Brandenburg",
          "Brandenburg",
          "Brandenburg",
          "Brandenburg",
          "Brandenburg",
          "Brandenburg",
          "Brandenburg",
          "Brandenburg",
          "Brandenburg",
          "Brandenburg",
          "Brandenburg",
          "Brandenburg",
          "Brandenburg",
          "Brandenburg",
          "Brandenburg",
          "Brandenburg",
          "Bremen",
          "Hamburg",
          "Hessen",
          "Hessen",
          "Hessen",
          "Hessen",
          "Hessen",
          "Hessen",
          "Hessen",
          "Hessen",
          "Hessen",
          "Hessen",
          "Hessen",
          "Hessen",
          "Hessen",
          "Hessen",
          "Hessen",
          "Hessen",
          "Hessen",
          "Hessen",
          "Hessen",
          "Hessen",
          "Hessen",
          "Hessen",
          "Hessen",
          "Hessen",
          "Hessen",
          "Hessen",
          "Mecklenburg-Vorpommern",
          "Mecklenburg-Vorpommern",
          "Mecklenburg-Vorpommern",
          "Mecklenburg-Vorpommern",
          "Mecklenburg-Vorpommern",
          "Mecklenburg-Vorpommern",
          "Mecklenburg-Vorpommern",
          "Mecklenburg-Vorpommern",
          "Mecklenburg-Vorpommern",
          "Mecklenburg-Vorpommern",
          "Mecklenburg-Vorpommern",
          "Mecklenburg-Vorpommern",
          "Mecklenburg-Vorpommern",
          "Mecklenburg-Vorpommern",
          "Mecklenburg-Vorpommern",
          "Mecklenburg-Vorpommern",
          "Mecklenburg-Vorpommern",
          "Mecklenburg-Vorpommern",
          "Niedersachsen",
          "Niedersachsen",
          "Niedersachsen",
          "Niedersachsen",
          "Niedersachsen",
          "Niedersachsen",
          "Niedersachsen",
          "Niedersachsen",
          "Niedersachsen",
          "Niedersachsen",
          "Niedersachsen",
          "Niedersachsen",
          "Niedersachsen",
          "Niedersachsen",
          "Niedersachsen",
          "Niedersachsen",
          "Niedersachsen",
          "Niedersachsen",
          "Niedersachsen",
          "Niedersachsen",
          "Niedersachsen",
          "Niedersachsen",
          "Niedersachsen",
          "Niedersachsen",
          "Niedersachsen",
          "Niedersachsen",
          "Niedersachsen",
          "Niedersachsen",
          "Niedersachsen",
          "Niedersachsen",
          "Niedersachsen",
          "Niedersachsen",
          "Niedersachsen",
          "Niedersachsen",
          "Niedersachsen",
          "Niedersachsen",
          "Niedersachsen",
          "Niedersachsen",
          "Nordrhein-Westfalen",
          "Nordrhein-Westfalen",
          "Nordrhein-Westfalen",
          "Nordrhein-Westfalen",
          "Nordrhein-Westfalen",
          "Nordrhein-Westfalen",
          "Nordrhein-Westfalen",
          "Nordrhein-Westfalen",
          "Nordrhein-Westfalen",
          "Nordrhein-Westfalen",
          "Nordrhein-Westfalen",
          "Nordrhein-Westfalen",
          "Nordrhein-Westfalen",
          "Nordrhein-Westfalen",
          "Nordrhein-Westfalen",
          "Nordrhein-Westfalen",
          "Nordrhein-Westfalen",
          "Nordrhein-Westfalen",
          "Nordrhein-Westfalen",
          "Nordrhein-Westfalen",
          "Nordrhein-Westfalen",
          "Nordrhein-Westfalen",
          "Nordrhein-Westfalen",
          "Nordrhein-Westfalen",
          "Nordrhein-Westfalen",
          "Nordrhein-Westfalen",
          "Nordrhein-Westfalen",
          "Nordrhein-Westfalen",
          "Nordrhein-Westfalen",
          "Nordrhein-Westfalen",
          "Nordrhein-Westfalen",
          "Nordrhein-Westfalen",
          "Nordrhein-Westfalen",
          "Nordrhein-Westfalen",
          "Nordrhein-Westfalen",
          "Nordrhein-Westfalen",
          "Nordrhein-Westfalen",
          "Nordrhein-Westfalen",
          "Nordrhein-Westfalen",
          "Nordrhein-Westfalen",
          "Nordrhein-Westfalen",
          "Nordrhein-Westfalen",
          "Nordrhein-Westfalen",
          "Nordrhein-Westfalen",
          "Rheinland-Pfalz",
          "Rheinland-Pfalz",
          "Rheinland-Pfalz",
          "Rheinland-Pfalz",
          "Rheinland-Pfalz",
          "Rheinland-Pfalz",
          "Rheinland-Pfalz",
          "Rheinland-Pfalz",
          "Rheinland-Pfalz",
          "Rheinland-Pfalz",
          "Rheinland-Pfalz",
          "Rheinland-Pfalz",
          "Rheinland-Pfalz",
          "Rheinland-Pfalz",
          "Rheinland-Pfalz",
          "Rheinland-Pfalz",
          "Rheinland-Pfalz",
          "Rheinland-Pfalz",
          "Rheinland-Pfalz",
          "Rheinland-Pfalz",
          "Rheinland-Pfalz",
          "Rheinland-Pfalz",
          "Rheinland-Pfalz",
          "Rheinland-Pfalz",
          "Rheinland-Pfalz",
          "Rheinland-Pfalz",
          "Rheinland-Pfalz",
          "Rheinland-Pfalz",
          "Rheinland-Pfalz",
          "Rheinland-Pfalz",
          "Rheinland-Pfalz",
          "Rheinland-Pfalz",
          "Rheinland-Pfalz",
          "Rheinland-Pfalz",
          "Rheinland-Pfalz",
          "Saarland",
          "Saarland",
          "Saarland",
          "Saarland",
          "Saarland",
          "Saarland",
          "Sachsen-Anhalt",
          "Sachsen-Anhalt",
          "Sachsen-Anhalt",
          "Sachsen-Anhalt",
          "Sachsen-Anhalt",
          "Sachsen-Anhalt",
          "Sachsen-Anhalt",
          "Sachsen-Anhalt",
          "Sachsen-Anhalt",
          "Sachsen-Anhalt",
          "Sachsen-Anhalt",
          "Sachsen-Anhalt",
          "Sachsen-Anhalt",
          "Sachsen-Anhalt",
          "Sachsen-Anhalt",
          "Sachsen-Anhalt",
          "Sachsen-Anhalt",
          "Sachsen-Anhalt",
          "Sachsen-Anhalt",
          "Sachsen-Anhalt",
          "Sachsen-Anhalt",
          "Sachsen-Anhalt",
          "Sachsen-Anhalt",
          "Sachsen-Anhalt",
          "Sachsen",
          "Sachsen",
          "Sachsen",
          "Sachsen",
          "Sachsen",
          "Sachsen",
          "Sachsen",
          "Sachsen",
          "Sachsen",
          "Sachsen",
          "Sachsen",
          "Sachsen",
          "Sachsen",
          "Sachsen",
          "Sachsen",
          "Sachsen",
          "Sachsen",
          "Sachsen",
          "Sachsen",
          "Sachsen",
          "Sachsen",
          "Sachsen",
          "Sachsen",
          "Sachsen",
          "Sachsen",
          "Sachsen",
          "Sachsen",
          "Sachsen",
          "Schleswig-Holstein",
          "Schleswig-Holstein",
          "Schleswig-Holstein",
          "Schleswig-Holstein",
          "Schleswig-Holstein",
          "Schleswig-Holstein",
          "Schleswig-Holstein",
          "Schleswig-Holstein",
          "Schleswig-Holstein",
          "Schleswig-Holstein",
          "Schleswig-Holstein",
          "Schleswig-Holstein",
          "Schleswig-Holstein",
          "Schleswig-Holstein",
          "Schleswig-Holstein",
          "Thüringen",
          "Thüringen",
          "Thüringen",
          "Thüringen",
          "Thüringen",
          "Thüringen",
          "Thüringen",
          "Thüringen",
          "Thüringen",
          "Thüringen",
          "Thüringen",
          "Thüringen",
          "Thüringen",
          "Thüringen",
          "Thüringen",
          "Thüringen",
          "Thüringen",
          "Thüringen",
          "Thüringen",
          "Thüringen",
          "Thüringen",
          "Thüringen"
         ],
         "type": "sunburst",
         "values": [
          0.56,
          4.03,
          4.5,
          9.3,
          3.55,
          1.82,
          4.31,
          9.24,
          7.17,
          5.14,
          1.34,
          2.42,
          9.22,
          5.2,
          4.42,
          0.32,
          6.34,
          8.39,
          4.09,
          5.57,
          1.76,
          10.99,
          8.5,
          6.78,
          0.86,
          0.61,
          9.14,
          9.12,
          4,
          5.64,
          5.69,
          11,
          0.18,
          7.06,
          1.67,
          9.61,
          10.61,
          3.87,
          2.8,
          10.17,
          4.97,
          7.01,
          9.34,
          9.13,
          6.59,
          4.67,
          2.28,
          3.08,
          8.55,
          6.82,
          10.29,
          9.97,
          3.55,
          9.46,
          1.22,
          1.07,
          0.69,
          7.94,
          0.04,
          3.85,
          9.92,
          7.77,
          10.5,
          2.03,
          2.64,
          8.65,
          7.15,
          1.35,
          6.05,
          7.93,
          2.66,
          5.44,
          8.82,
          10.21,
          0.25,
          1.09,
          3.04,
          6.21,
          3.33,
          0.93,
          1.73,
          10.18,
          10.8,
          1.81,
          7.29,
          7.98,
          7.1,
          7.39,
          9.83,
          2.84,
          5.98,
          10.94,
          6.35,
          7.21,
          7.25,
          2.65,
          7.03,
          5.18,
          0.71,
          8.94,
          5.88,
          7.55,
          0.81,
          7.46,
          0.26,
          8.92,
          5.39,
          2.82,
          7.4,
          1.97,
          1.68,
          2.49,
          6.69,
          4.47,
          10.14,
          6.61,
          1.38,
          1.48,
          10.76,
          7.86,
          6.37,
          10.73,
          6.98,
          3.83,
          2.57,
          10.01,
          3.01,
          3.13,
          8.7,
          3.44,
          0.24,
          4.26,
          2.28,
          7.55,
          7.39,
          3.32,
          0.1,
          9.15,
          1.73,
          10.59,
          0.27,
          6.37,
          5.74,
          0.53,
          0.26,
          9.61,
          2.84,
          5.76,
          1.79,
          8.74,
          8,
          5.28,
          10.02,
          5.62,
          2.26,
          10.67,
          9.73,
          4.68,
          10.34,
          10.21,
          7.05,
          10.31,
          10.44,
          8.82,
          2.82,
          0.97,
          4.91,
          9.91,
          5.23,
          9.41,
          2.09,
          3.29,
          4.33,
          6.51,
          9.81,
          10.04,
          8.05,
          0.49,
          3.6,
          5.86,
          4.49,
          1.79,
          9.65,
          3.54,
          3.85,
          7.58,
          4.13,
          7.2,
          4.81,
          1.43,
          3.97,
          7.25,
          8.49,
          6.49,
          2.16,
          6.44,
          7.37,
          3.32,
          6.54,
          4.51,
          10.33,
          0.22,
          8.69,
          10.95,
          5.43,
          5.74,
          3.27,
          10.07,
          5.83,
          5.44,
          7.73,
          10,
          8.83,
          9.26,
          3.6,
          1.42,
          0.18,
          1.99,
          9.97,
          8.96,
          7.92,
          1.25,
          5.4,
          2.36,
          2.18,
          7.65,
          10.36,
          9.03,
          0.02,
          3.32,
          4.33,
          10.25,
          6.6,
          9.47,
          5.26,
          4.43,
          9.19,
          8.81,
          0.55,
          6.35,
          7.03,
          9.39,
          9.37,
          8.05,
          6.98,
          2.41,
          8.16,
          2.3,
          2.27,
          10.13,
          6.37,
          10.94,
          10.45,
          7.93,
          7.51,
          2.69,
          5.67,
          3.84,
          4.58,
          0.76,
          1.47,
          1.83,
          6.17,
          7.46,
          4.44,
          9.37,
          1.33,
          1.54,
          0.83,
          1.27,
          1.09,
          8.02,
          0.46,
          4.02,
          7.99,
          10.63,
          5.46,
          2.29,
          2.31,
          10.25,
          8.26,
          2.93,
          3.28,
          8.25,
          6.4,
          0.49,
          6.49,
          8.66,
          1.35,
          5.78,
          8.54,
          9.64,
          3.73,
          11,
          6.39,
          6.89,
          1.64,
          8.89,
          2.53,
          5.02,
          5.98,
          2.28,
          6.9,
          1.25,
          7.69,
          1.13,
          8.79,
          9.6,
          4.15,
          9.77,
          9.97,
          4.17,
          5.19,
          10.93,
          10.5,
          7.89,
          8.92,
          9.83,
          3.76,
          6.52,
          1.5,
          7.56,
          6.79,
          3.65,
          2.64,
          4.61,
          1.33,
          10.52,
          2.89,
          9.57,
          0.52,
          6.77,
          10.87,
          2.64,
          5.83,
          5.47,
          7.07,
          2.41,
          2.37,
          0.59,
          2.57,
          6.67,
          0.03,
          4.95,
          7.1,
          9.47,
          5.6,
          10.92,
          1.29,
          5.77,
          4.98,
          1.29,
          1.39,
          1.47,
          3.46,
          8.66,
          6.8,
          7.11,
          5.16,
          6.03,
          4.12,
          8.35,
          6.92,
          3.32,
          10.56,
          6.22,
          0.62,
          5.17,
          7.42,
          7.03,
          5.02,
          4.58,
          3.95,
          0.1,
          0.88,
          0.11,
          7.59,
          10.39,
          10.87,
          4.18,
          0.19,
          9.13,
          4.94,
          8.55,
          6.42,
          0.55,
          9.45,
          10.53,
          10.21,
          10.12,
          8.54,
          10.39,
          6.02,
          10.13,
          3.42,
          8.25,
          9.42,
          7.68,
          0.93,
          9.3,
          5.38,
          8.01,
          10.78,
          0.8,
          3.56,
          7.3,
          3.31,
          2.97,
          5.52,
          1.74,
          8.94,
          2.01,
          8.25,
          8.44,
          8.16,
          8.58,
          5.95,
          1.01,
          6.22,
          10.18,
          1.77,
          6.63,
          8.36,
          2.03,
          5.99,
          10.27,
          2.24,
          2.54,
          6.73,
          3.74,
          2.57,
          8.87,
          4.64,
          9.63
         ]
        }
       ],
       "layout": {
        "margin": {
         "b": 10,
         "l": 10,
         "r": 10,
         "t": 10
        },
        "template": {
         "data": {
          "bar": [
           {
            "error_x": {
             "color": "#2a3f5f"
            },
            "error_y": {
             "color": "#2a3f5f"
            },
            "marker": {
             "line": {
              "color": "#E5ECF6",
              "width": 0.5
             },
             "pattern": {
              "fillmode": "overlay",
              "size": 10,
              "solidity": 0.2
             }
            },
            "type": "bar"
           }
          ],
          "barpolar": [
           {
            "marker": {
             "line": {
              "color": "#E5ECF6",
              "width": 0.5
             },
             "pattern": {
              "fillmode": "overlay",
              "size": 10,
              "solidity": 0.2
             }
            },
            "type": "barpolar"
           }
          ],
          "carpet": [
           {
            "aaxis": {
             "endlinecolor": "#2a3f5f",
             "gridcolor": "white",
             "linecolor": "white",
             "minorgridcolor": "white",
             "startlinecolor": "#2a3f5f"
            },
            "baxis": {
             "endlinecolor": "#2a3f5f",
             "gridcolor": "white",
             "linecolor": "white",
             "minorgridcolor": "white",
             "startlinecolor": "#2a3f5f"
            },
            "type": "carpet"
           }
          ],
          "choropleth": [
           {
            "colorbar": {
             "outlinewidth": 0,
             "ticks": ""
            },
            "type": "choropleth"
           }
          ],
          "contour": [
           {
            "colorbar": {
             "outlinewidth": 0,
             "ticks": ""
            },
            "colorscale": [
             [
              0,
              "#0d0887"
             ],
             [
              0.1111111111111111,
              "#46039f"
             ],
             [
              0.2222222222222222,
              "#7201a8"
             ],
             [
              0.3333333333333333,
              "#9c179e"
             ],
             [
              0.4444444444444444,
              "#bd3786"
             ],
             [
              0.5555555555555556,
              "#d8576b"
             ],
             [
              0.6666666666666666,
              "#ed7953"
             ],
             [
              0.7777777777777778,
              "#fb9f3a"
             ],
             [
              0.8888888888888888,
              "#fdca26"
             ],
             [
              1,
              "#f0f921"
             ]
            ],
            "type": "contour"
           }
          ],
          "contourcarpet": [
           {
            "colorbar": {
             "outlinewidth": 0,
             "ticks": ""
            },
            "type": "contourcarpet"
           }
          ],
          "heatmap": [
           {
            "colorbar": {
             "outlinewidth": 0,
             "ticks": ""
            },
            "colorscale": [
             [
              0,
              "#0d0887"
             ],
             [
              0.1111111111111111,
              "#46039f"
             ],
             [
              0.2222222222222222,
              "#7201a8"
             ],
             [
              0.3333333333333333,
              "#9c179e"
             ],
             [
              0.4444444444444444,
              "#bd3786"
             ],
             [
              0.5555555555555556,
              "#d8576b"
             ],
             [
              0.6666666666666666,
              "#ed7953"
             ],
             [
              0.7777777777777778,
              "#fb9f3a"
             ],
             [
              0.8888888888888888,
              "#fdca26"
             ],
             [
              1,
              "#f0f921"
             ]
            ],
            "type": "heatmap"
           }
          ],
          "heatmapgl": [
           {
            "colorbar": {
             "outlinewidth": 0,
             "ticks": ""
            },
            "colorscale": [
             [
              0,
              "#0d0887"
             ],
             [
              0.1111111111111111,
              "#46039f"
             ],
             [
              0.2222222222222222,
              "#7201a8"
             ],
             [
              0.3333333333333333,
              "#9c179e"
             ],
             [
              0.4444444444444444,
              "#bd3786"
             ],
             [
              0.5555555555555556,
              "#d8576b"
             ],
             [
              0.6666666666666666,
              "#ed7953"
             ],
             [
              0.7777777777777778,
              "#fb9f3a"
             ],
             [
              0.8888888888888888,
              "#fdca26"
             ],
             [
              1,
              "#f0f921"
             ]
            ],
            "type": "heatmapgl"
           }
          ],
          "histogram": [
           {
            "marker": {
             "pattern": {
              "fillmode": "overlay",
              "size": 10,
              "solidity": 0.2
             }
            },
            "type": "histogram"
           }
          ],
          "histogram2d": [
           {
            "colorbar": {
             "outlinewidth": 0,
             "ticks": ""
            },
            "colorscale": [
             [
              0,
              "#0d0887"
             ],
             [
              0.1111111111111111,
              "#46039f"
             ],
             [
              0.2222222222222222,
              "#7201a8"
             ],
             [
              0.3333333333333333,
              "#9c179e"
             ],
             [
              0.4444444444444444,
              "#bd3786"
             ],
             [
              0.5555555555555556,
              "#d8576b"
             ],
             [
              0.6666666666666666,
              "#ed7953"
             ],
             [
              0.7777777777777778,
              "#fb9f3a"
             ],
             [
              0.8888888888888888,
              "#fdca26"
             ],
             [
              1,
              "#f0f921"
             ]
            ],
            "type": "histogram2d"
           }
          ],
          "histogram2dcontour": [
           {
            "colorbar": {
             "outlinewidth": 0,
             "ticks": ""
            },
            "colorscale": [
             [
              0,
              "#0d0887"
             ],
             [
              0.1111111111111111,
              "#46039f"
             ],
             [
              0.2222222222222222,
              "#7201a8"
             ],
             [
              0.3333333333333333,
              "#9c179e"
             ],
             [
              0.4444444444444444,
              "#bd3786"
             ],
             [
              0.5555555555555556,
              "#d8576b"
             ],
             [
              0.6666666666666666,
              "#ed7953"
             ],
             [
              0.7777777777777778,
              "#fb9f3a"
             ],
             [
              0.8888888888888888,
              "#fdca26"
             ],
             [
              1,
              "#f0f921"
             ]
            ],
            "type": "histogram2dcontour"
           }
          ],
          "mesh3d": [
           {
            "colorbar": {
             "outlinewidth": 0,
             "ticks": ""
            },
            "type": "mesh3d"
           }
          ],
          "parcoords": [
           {
            "line": {
             "colorbar": {
              "outlinewidth": 0,
              "ticks": ""
             }
            },
            "type": "parcoords"
           }
          ],
          "pie": [
           {
            "automargin": true,
            "type": "pie"
           }
          ],
          "scatter": [
           {
            "fillpattern": {
             "fillmode": "overlay",
             "size": 10,
             "solidity": 0.2
            },
            "type": "scatter"
           }
          ],
          "scatter3d": [
           {
            "line": {
             "colorbar": {
              "outlinewidth": 0,
              "ticks": ""
             }
            },
            "marker": {
             "colorbar": {
              "outlinewidth": 0,
              "ticks": ""
             }
            },
            "type": "scatter3d"
           }
          ],
          "scattercarpet": [
           {
            "marker": {
             "colorbar": {
              "outlinewidth": 0,
              "ticks": ""
             }
            },
            "type": "scattercarpet"
           }
          ],
          "scattergeo": [
           {
            "marker": {
             "colorbar": {
              "outlinewidth": 0,
              "ticks": ""
             }
            },
            "type": "scattergeo"
           }
          ],
          "scattergl": [
           {
            "marker": {
             "colorbar": {
              "outlinewidth": 0,
              "ticks": ""
             }
            },
            "type": "scattergl"
           }
          ],
          "scattermapbox": [
           {
            "marker": {
             "colorbar": {
              "outlinewidth": 0,
              "ticks": ""
             }
            },
            "type": "scattermapbox"
           }
          ],
          "scatterpolar": [
           {
            "marker": {
             "colorbar": {
              "outlinewidth": 0,
              "ticks": ""
             }
            },
            "type": "scatterpolar"
           }
          ],
          "scatterpolargl": [
           {
            "marker": {
             "colorbar": {
              "outlinewidth": 0,
              "ticks": ""
             }
            },
            "type": "scatterpolargl"
           }
          ],
          "scatterternary": [
           {
            "marker": {
             "colorbar": {
              "outlinewidth": 0,
              "ticks": ""
             }
            },
            "type": "scatterternary"
           }
          ],
          "surface": [
           {
            "colorbar": {
             "outlinewidth": 0,
             "ticks": ""
            },
            "colorscale": [
             [
              0,
              "#0d0887"
             ],
             [
              0.1111111111111111,
              "#46039f"
             ],
             [
              0.2222222222222222,
              "#7201a8"
             ],
             [
              0.3333333333333333,
              "#9c179e"
             ],
             [
              0.4444444444444444,
              "#bd3786"
             ],
             [
              0.5555555555555556,
              "#d8576b"
             ],
             [
              0.6666666666666666,
              "#ed7953"
             ],
             [
              0.7777777777777778,
              "#fb9f3a"
             ],
             [
              0.8888888888888888,
              "#fdca26"
             ],
             [
              1,
              "#f0f921"
             ]
            ],
            "type": "surface"
           }
          ],
          "table": [
           {
            "cells": {
             "fill": {
              "color": "#EBF0F8"
             },
             "line": {
              "color": "white"
             }
            },
            "header": {
             "fill": {
              "color": "#C8D4E3"
             },
             "line": {
              "color": "white"
             }
            },
            "type": "table"
           }
          ]
         },
         "layout": {
          "annotationdefaults": {
           "arrowcolor": "#2a3f5f",
           "arrowhead": 0,
           "arrowwidth": 1
          },
          "autotypenumbers": "strict",
          "coloraxis": {
           "colorbar": {
            "outlinewidth": 0,
            "ticks": ""
           }
          },
          "colorscale": {
           "diverging": [
            [
             0,
             "#8e0152"
            ],
            [
             0.1,
             "#c51b7d"
            ],
            [
             0.2,
             "#de77ae"
            ],
            [
             0.3,
             "#f1b6da"
            ],
            [
             0.4,
             "#fde0ef"
            ],
            [
             0.5,
             "#f7f7f7"
            ],
            [
             0.6,
             "#e6f5d0"
            ],
            [
             0.7,
             "#b8e186"
            ],
            [
             0.8,
             "#7fbc41"
            ],
            [
             0.9,
             "#4d9221"
            ],
            [
             1,
             "#276419"
            ]
           ],
           "sequential": [
            [
             0,
             "#0d0887"
            ],
            [
             0.1111111111111111,
             "#46039f"
            ],
            [
             0.2222222222222222,
             "#7201a8"
            ],
            [
             0.3333333333333333,
             "#9c179e"
            ],
            [
             0.4444444444444444,
             "#bd3786"
            ],
            [
             0.5555555555555556,
             "#d8576b"
            ],
            [
             0.6666666666666666,
             "#ed7953"
            ],
            [
             0.7777777777777778,
             "#fb9f3a"
            ],
            [
             0.8888888888888888,
             "#fdca26"
            ],
            [
             1,
             "#f0f921"
            ]
           ],
           "sequentialminus": [
            [
             0,
             "#0d0887"
            ],
            [
             0.1111111111111111,
             "#46039f"
            ],
            [
             0.2222222222222222,
             "#7201a8"
            ],
            [
             0.3333333333333333,
             "#9c179e"
            ],
            [
             0.4444444444444444,
             "#bd3786"
            ],
            [
             0.5555555555555556,
             "#d8576b"
            ],
            [
             0.6666666666666666,
             "#ed7953"
            ],
            [
             0.7777777777777778,
             "#fb9f3a"
            ],
            [
             0.8888888888888888,
             "#fdca26"
            ],
            [
             1,
             "#f0f921"
            ]
           ]
          },
          "colorway": [
           "#636efa",
           "#EF553B",
           "#00cc96",
           "#ab63fa",
           "#FFA15A",
           "#19d3f3",
           "#FF6692",
           "#B6E880",
           "#FF97FF",
           "#FECB52"
          ],
          "font": {
           "color": "#2a3f5f"
          },
          "geo": {
           "bgcolor": "white",
           "lakecolor": "white",
           "landcolor": "#E5ECF6",
           "showlakes": true,
           "showland": true,
           "subunitcolor": "white"
          },
          "hoverlabel": {
           "align": "left"
          },
          "hovermode": "closest",
          "mapbox": {
           "style": "light"
          },
          "paper_bgcolor": "white",
          "plot_bgcolor": "#E5ECF6",
          "polar": {
           "angularaxis": {
            "gridcolor": "white",
            "linecolor": "white",
            "ticks": ""
           },
           "bgcolor": "#E5ECF6",
           "radialaxis": {
            "gridcolor": "white",
            "linecolor": "white",
            "ticks": ""
           }
          },
          "scene": {
           "xaxis": {
            "backgroundcolor": "#E5ECF6",
            "gridcolor": "white",
            "gridwidth": 2,
            "linecolor": "white",
            "showbackground": true,
            "ticks": "",
            "zerolinecolor": "white"
           },
           "yaxis": {
            "backgroundcolor": "#E5ECF6",
            "gridcolor": "white",
            "gridwidth": 2,
            "linecolor": "white",
            "showbackground": true,
            "ticks": "",
            "zerolinecolor": "white"
           },
           "zaxis": {
            "backgroundcolor": "#E5ECF6",
            "gridcolor": "white",
            "gridwidth": 2,
            "linecolor": "white",
            "showbackground": true,
            "ticks": "",
            "zerolinecolor": "white"
           }
          },
          "shapedefaults": {
           "line": {
            "color": "#2a3f5f"
           }
          },
          "ternary": {
           "aaxis": {
            "gridcolor": "white",
            "linecolor": "white",
            "ticks": ""
           },
           "baxis": {
            "gridcolor": "white",
            "linecolor": "white",
            "ticks": ""
           },
           "bgcolor": "#E5ECF6",
           "caxis": {
            "gridcolor": "white",
            "linecolor": "white",
            "ticks": ""
           }
          },
          "title": {
           "x": 0.05
          },
          "xaxis": {
           "automargin": true,
           "gridcolor": "white",
           "linecolor": "white",
           "ticks": "",
           "title": {
            "standoff": 15
           },
           "zerolinecolor": "white",
           "zerolinewidth": 2
          },
          "yaxis": {
           "automargin": true,
           "gridcolor": "white",
           "linecolor": "white",
           "ticks": "",
           "title": {
            "standoff": 15
           },
           "zerolinecolor": "white",
           "zerolinewidth": 2
          }
         }
        }
       }
      }
     },
     "metadata": {},
     "output_type": "display_data"
    }
   ],
   "source": [
    "df = kreise_df\n",
    "\n",
    "ids = df['Bundesland'] + '-' + df['Landkreis']\n",
    "labels = df['Landkreis']\n",
    "\n",
    "fig = go.Figure()\n",
    "\n",
    "fig.add_trace(go.Sunburst(\n",
    "    ids=ids,\n",
    "    labels=labels,\n",
    "    parents=df['Bundesland'],\n",
    "    values=df['avg_Score'],\n",
    "    maxdepth=2,\n",
    "    insidetextorientation='radial'\n",
    "))\n",
    "\n",
    "fig.update_layout(\n",
    "    margin = dict(t=10, l=10, r=10, b=10)\n",
    ")\n",
    "\n",
    "fig.show()"
   ]
  },
  {
   "cell_type": "code",
   "execution_count": 3,
   "metadata": {},
   "outputs": [],
   "source": [
    "app = Dash(__name__, external_stylesheets = [dbc.themes.LITERA])"
   ]
  },
  {
   "cell_type": "code",
   "execution_count": 4,
   "metadata": {},
   "outputs": [],
   "source": [
    "# change to app.layout if running as single page app instead\n",
    "app.layout = html.Div([\n",
    "    dbc.Container([\n",
    "        # Überschriften & Einleitung\n",
    "        dbc.Row([\n",
    "            dbc.Col(html.H1(\"Lustnauer 'Ohren' skaliert auf ganz Deutschland\", className=\"text-center\")\n",
    "                    , className=\"mb-5 mt-5\")\n",
    "        ]),\n",
    "        dbc.Row([\n",
    "            dbc.Col(html.H5(children='Erkennen von ungenutzten Potenzialen in ungenutzten Flächen.'\n",
    "                                     )\n",
    "                    , className=\"mb-4\")\n",
    "            ]),\n",
    "\n",
    "        dbc.Row([\n",
    "            dbc.Col(html.H5(children='Auf der zweiten Seite wird eine interaktive Karte dargestellt, welche die verschiedenen Ohren ranked'\n",
    "                                     'Die dritte Seite präsentiert dieselben Daten in tabellarischer Form, zum erkunden und nachschlagen.')\n",
    "                    , className=\"mb-5\")\n",
    "        ]),\n",
    "\n",
    "        # Sunburst Plot\n",
    "        dbc.Row([\n",
    "            dcc.Graph(figure = Ohren_sunburst)\n",
    "        ]),\n",
    "        \n",
    "        # Links und Erklärungen\n",
    "        dbc.Row([\n",
    "\n",
    "            dbc.Col(dbc.Card(children=[html.H3(children='GitHub Repository',\n",
    "                                               className=\"text-center\"),\n",
    "                                       dbc.Button(\"GitHub\",\n",
    "                                                  href=\"https://github.com/felixschulz385/ds_project\",\n",
    "                                                  color=\"primary\",\n",
    "                                                  className=\"mt-3\"),\n",
    "                                       ],\n",
    "                             body=True, color=\"dark\", outline=True)\n",
    "                    , width=4, className=\"mb-4\"),\n",
    "\n",
    "            dbc.Col(dbc.Card(children=[html.H3(children='Wie alles begann',\n",
    "                                               className=\"text-center\"),\n",
    "                                       dbc.Button(\"Zeitungsartikel\",\n",
    "                                                  href=\"https://www.badische-zeitung.de/ob-palmer-will-solaranlagen-auf-freien-stellen-neben-bundesstrassen--211487616.html\",\n",
    "                                                  color=\"primary\",\n",
    "                                                  className=\"mt-3\"),\n",
    "\n",
    "                                       ],\n",
    "                             body=True, color=\"dark\", outline=True)\n",
    "                    , width=4, className=\"mb-4\")\n",
    "        ], className=\"mb-5\")\n",
    "\n",
    "    ])\n",
    "\n",
    "])"
   ]
  },
  {
   "cell_type": "code",
   "execution_count": 5,
   "metadata": {},
   "outputs": [
    {
     "name": "stdout",
     "output_type": "stream",
     "text": [
      "Dash is running on http://127.0.0.1:8050/\n",
      "\n",
      " * Serving Flask app '__main__'\n",
      " * Debug mode: off\n"
     ]
    },
    {
     "name": "stderr",
     "output_type": "stream",
     "text": [
      "WARNING: This is a development server. Do not use it in a production deployment. Use a production WSGI server instead.\n",
      " * Running on http://127.0.0.1:8050\n",
      "Press CTRL+C to quit\n",
      "127.0.0.1 - - [05/Feb/2023 17:32:06] \"GET / HTTP/1.1\" 200 -\n",
      "127.0.0.1 - - [05/Feb/2023 17:32:07] \"GET /_dash-dependencies HTTP/1.1\" 200 -\n",
      "127.0.0.1 - - [05/Feb/2023 17:32:07] \"GET /_dash-layout HTTP/1.1\" 200 -\n",
      "127.0.0.1 - - [05/Feb/2023 17:32:07] \"GET /_dash-component-suites/dash/dcc/async-graph.js HTTP/1.1\" 200 -\n",
      "127.0.0.1 - - [05/Feb/2023 17:32:08] \"GET /_dash-component-suites/dash/dcc/async-plotlyjs.js HTTP/1.1\" 200 -\n"
     ]
    }
   ],
   "source": [
    "# run app\n",
    "if __name__ == '__main__':\n",
    "    app.run_server()"
   ]
  },
  {
   "attachments": {},
   "cell_type": "markdown",
   "metadata": {},
   "source": [
    "# Test Bereich"
   ]
  }
 ],
 "metadata": {
  "kernelspec": {
   "display_name": "Python 3.10.8 64-bit",
   "language": "python",
   "name": "python3"
  },
  "language_info": {
   "codemirror_mode": {
    "name": "ipython",
    "version": 3
   },
   "file_extension": ".py",
   "mimetype": "text/x-python",
   "name": "python",
   "nbconvert_exporter": "python",
   "pygments_lexer": "ipython3",
   "version": "3.10.8"
  },
  "orig_nbformat": 4,
  "vscode": {
   "interpreter": {
    "hash": "e7370f93d1d0cde622a1f8e1c04877d8463912d04d973331ad4851f04de6915a"
   }
  }
 },
 "nbformat": 4,
 "nbformat_minor": 2
}
