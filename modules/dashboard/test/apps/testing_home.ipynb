{
 "cells": [
  {
   "cell_type": "code",
   "execution_count": 1,
   "metadata": {},
   "outputs": [],
   "source": [
    "import dash_bootstrap_components as dbc\n",
    "from dash import Dash, Input, Output, html, dcc\n",
    "from dash_iconify import DashIconify\n",
    "import dash_mantine_components as dmc\n",
    "\n",
    "import pandas as pd\n",
    "import numpy as np\n",
    "import plotly.express as px\n",
    "import plotly.graph_objects as go"
   ]
  },
  {
   "cell_type": "code",
   "execution_count": 2,
   "metadata": {},
   "outputs": [],
   "source": [
    "# import data\n",
    "kreise_df = pd.read_csv('/home/jan/Uni/DS-Project/modules/dashboard/test/assets/kreise_df.csv')\n",
    "# rename and drop columns\n",
    "kreise_df = kreise_df.drop(columns=['Unnamed: 0']).rename(columns={'NAME_1': 'Bundesland', 'NAME_2': 'Region', 'NAME_3': 'Landkreis', 'ENGTYPE_3': 'Land_Stadt'})"
   ]
  },
  {
   "cell_type": "code",
   "execution_count": 3,
   "metadata": {},
   "outputs": [],
   "source": [
    "def flatten_list(lst):\n",
    "    flattened_list = []\n",
    "    for item in lst:\n",
    "        if type(item) == np.ndarray:\n",
    "            flattened_list += [x for x in item.tolist()]\n",
    "        else:\n",
    "            flattened_list.append(item)\n",
    "    return flattened_list\n",
    "\n",
    "def parent_finder(children):\n",
    "    df = kreise_df\n",
    "    children_list = df[children].unique().tolist()\n",
    "    parent_list = []\n",
    "    parent_column = df.columns.get_loc(children) - 1\n",
    "    for child in children_list:\n",
    "        parent_value = df.loc[df[children] == child].iloc[:, parent_column].unique()\n",
    "        parent_list.append(parent_value)\n",
    "    return flatten_list(parent_list)\n",
    "\n",
    "def value_finder(typus):\n",
    "    df = kreise_df\n",
    "    value_list = []\n",
    "    unit_list = df[typus].unique().tolist()\n",
    "    for unit in unit_list:\n",
    "        value_value = round(np.mean(df.loc[df[typus] == unit]['avg_Score']), 1)\n",
    "        value_list.append(value_value)\n",
    "    return value_list"
   ]
  },
  {
   "cell_type": "code",
   "execution_count": 4,
   "metadata": {},
   "outputs": [],
   "source": [
    "# create suburst vectors\n",
    "labels = kreise_df.Bundesland.unique().tolist() + kreise_df.Region.unique().tolist() + kreise_df.Landkreis.unique().tolist()\n",
    "parents = [''] * len(kreise_df.Bundesland.unique()) + parent_finder('Region') + parent_finder('Landkreis')\n",
    "values = value_finder('Bundesland') + value_finder('Region') + value_finder('Landkreis')"
   ]
  },
  {
   "cell_type": "code",
   "execution_count": 5,
   "metadata": {},
   "outputs": [
    {
     "data": {
      "application/vnd.plotly.v1+json": {
       "config": {
        "plotlyServerURL": "https://plot.ly"
       },
       "data": [
        {
         "branchvalues": "total",
         "domain": {
          "x": [
           0,
           1
          ],
          "y": [
           0,
           1
          ]
         },
         "hovertemplate": "labels=%{label}<br>avg_Score=%{value}<br>parent=%{parent}<br>id=%{id}<extra></extra>",
         "ids": [
          "Nordrhein-Westfalen/Köln/Aachen",
          "Nordrhein-Westfalen/Köln/Aachen Städte",
          "Rheinland-Pfalz/Koblenz/Ahrweiler",
          "Bayern/Schwaben/Aichach-Friedberg",
          "Baden-Württemberg/Tübingen/Alb-Donau",
          "Thüringen/Thüringen/Altenburger Land",
          "Rheinland-Pfalz/Koblenz/Altenkirchen",
          "Sachsen-Anhalt/Magdeburg/Altmarkkreis Salzwedel",
          "Bayern/Oberbayern/Altötting",
          "Rheinland-Pfalz/Rheinhessen-Pfalz/Alzey-Worms",
          "Bayern/Oberpfalz/Amberg Städte",
          "Bayern/Oberpfalz/Amberg-Sulzbach",
          "Niedersachsen/Weser-Ems/Ammerland",
          "Sachsen-Anhalt/Dessau/Anhalt-Zerbst",
          "Sachsen/Chemnitz/Annaberg",
          "Bayern/Mittelfranken/Ansbach",
          "Bayern/Mittelfranken/Ansbach Städte",
          "Bayern/Unterfranken/Aschaffenburg",
          "Bayern/Unterfranken/Aschaffenburg Städte",
          "Sachsen-Anhalt/Halle/Aschersleben-Staßfurt",
          "Sachsen/Chemnitz/Aue-Schwarzenberg",
          "Bayern/Schwaben/Augsburg",
          "Bayern/Schwaben/Augsburg Städte",
          "Niedersachsen/Weser-Ems/Aurich",
          "Mecklenburg-Vorpommern/Mecklenburg-Vorpommern/Bad Doberan",
          "Rheinland-Pfalz/Rheinhessen-Pfalz/Bad Dürkheim",
          "Bayern/Unterfranken/Bad Kissingen",
          "Rheinland-Pfalz/Koblenz/Bad Kreuznach",
          "Bayern/Oberbayern/Bad Tölz-Wolfratshausen",
          "Baden-Württemberg/Karlsruhe/Baden-Baden Städte",
          "Bayern/Oberfranken/Bamberg",
          "Bayern/Oberfranken/Bamberg Städte",
          "Brandenburg/Brandenburg/Barnim",
          "Sachsen/Dresden/Bautzen",
          "Bayern/Oberfranken/Bayreuth",
          "Bayern/Oberfranken/Bayreuth Städte",
          "Bayern/Oberbayern/Berchtesgadener Land",
          "Hessen/Darmstadt/Bergstraße",
          "Berlin/Berlin/Berlin",
          "Sachsen-Anhalt/Dessau/Bernburg",
          "Rheinland-Pfalz/Trier/Bernkastel-Wittlich",
          "Baden-Württemberg/Tübingen/Biberach",
          "Nordrhein-Westfalen/Detmold/Bielefeld Städte",
          "Rheinland-Pfalz/Koblenz/Birkenfeld",
          "Rheinland-Pfalz/Trier/Bitburg-Prüm",
          "Sachsen-Anhalt/Dessau/Bitterfeld",
          "Nordrhein-Westfalen/Arnsberg/Bochum Städte",
          "Baden-Württemberg/Tübingen/Bodensee",
          "Nordrhein-Westfalen/Köln/Bonn Städte",
          "Nordrhein-Westfalen/Munster/Borken",
          "Nordrhein-Westfalen/Munster/Bottrop Städte",
          "Brandenburg/Brandenburg/Brandenburg an der Havel Städte",
          "Niedersachsen/Braunschweig/Braunschweig Städte",
          "Baden-Württemberg/Freiburg/Breisgau-Hochschwarzwald",
          "Bremen/Bremen/Bremen Städte",
          "Sachsen-Anhalt/Halle/Burgenlandkreis",
          "Baden-Württemberg/Stuttgart/Böblingen",
          "Sachsen-Anhalt/Magdeburg/Bördekreis",
          "Baden-Württemberg/Karlsruhe/Calw",
          "Niedersachsen/Luneburg/Celle",
          "Bayern/Oberpfalz/Cham",
          "Sachsen/Chemnitz/Chemnitz Städte",
          "Sachsen/Chemnitz/Chemnitzer Land",
          "Nordrhein-Westfalen/Düsseldorf/Cleves",
          "Niedersachsen/Weser-Ems/Cloppenburg",
          "Bayern/Oberfranken/Coburg",
          "Bayern/Oberfranken/Coburg Städte",
          "Rheinland-Pfalz/Koblenz/Cochem-Zell",
          "Nordrhein-Westfalen/Munster/Coesfeld",
          "Nordrhein-Westfalen/Köln/Cologne Städte",
          "Brandenburg/Brandenburg/Cottbus Städte",
          "Niedersachsen/Luneburg/Cuxhaven",
          "Bayern/Oberbayern/Dachau",
          "Brandenburg/Brandenburg/Dahme-Spreewald",
          "Hessen/Darmstadt/Darmstadt Städte",
          "Hessen/Darmstadt/Darmstadt-Dieburg",
          "Bayern/Niederbayern/Deggendorf",
          "Sachsen/Leipzig/Delitzsch",
          "Mecklenburg-Vorpommern/Mecklenburg-Vorpommern/Demmin",
          "Sachsen-Anhalt/Dessau/Dessau Städte",
          "Niedersachsen/Hannover/Diepholz",
          "Bayern/Schwaben/Dillingen",
          "Bayern/Niederbayern/Dingolfing-Landau",
          "Schleswig-Holstein/Schleswig-Holstein/Dithmarschen",
          "Bayern/Schwaben/Donau-Ries",
          "Rheinland-Pfalz/Rheinhessen-Pfalz/Donnersbergkreis",
          "Nordrhein-Westfalen/Arnsberg/Dortmund Städte",
          "Sachsen/Dresden/Dresden Städte",
          "Nordrhein-Westfalen/Düsseldorf/Duisburg Städte",
          "Sachsen/Leipzig/Döbeln",
          "Nordrhein-Westfalen/Köln/Düren",
          "Nordrhein-Westfalen/Düsseldorf/Düsseldorf Städte",
          "Bayern/Oberbayern/Ebersberg",
          "Thüringen/Thüringen/Eichsfeld",
          "Bayern/Oberbayern/Eichstätt",
          "Brandenburg/Brandenburg/Elbe-Elster",
          "Niedersachsen/Weser-Ems/Emden Städte",
          "Baden-Württemberg/Freiburg/Emmendingen",
          "Niedersachsen/Weser-Ems/Emsland",
          "Nordrhein-Westfalen/Arnsberg/Ennepe-Ruhr",
          "Baden-Württemberg/Karlsruhe/Enz",
          "Bayern/Oberbayern/Erding",
          "Thüringen/Thüringen/Erfurt Städte",
          "Bayern/Mittelfranken/Erlangen Städte",
          "Bayern/Mittelfranken/Erlangen-Höchstadt",
          "Nordrhein-Westfalen/Düsseldorf/Essen Städte",
          "Baden-Württemberg/Stuttgart/Esslingen",
          "Nordrhein-Westfalen/Köln/Euskirchen",
          "Schleswig-Holstein/Schleswig-Holstein/Flensburg Städte",
          "Bayern/Oberfranken/Forchheim",
          "Rheinland-Pfalz/Rheinhessen-Pfalz/Frankenthal Städte",
          "Hessen/Darmstadt/Frankfurt am Main Städte",
          "Brandenburg/Brandenburg/Frankfurt am Oder Städte",
          "Sachsen/Chemnitz/Freiberg",
          "Baden-Württemberg/Freiburg/Freiburg",
          "Bayern/Oberbayern/Freising",
          "Baden-Württemberg/Karlsruhe/Freudenstadt",
          "Bayern/Niederbayern/Freyung-Grafenau",
          "Niedersachsen/Weser-Ems/Friesland",
          "Hessen/Kassel/Fulda",
          "Bayern/Oberbayern/Fürstenfeldbruck",
          "Bayern/Mittelfranken/Fürth",
          "Bayern/Mittelfranken/Fürth Städte",
          "Bayern/Oberbayern/Garmisch-Partenkirchen",
          "Nordrhein-Westfalen/Munster/Gelsenkirchen Städte",
          "Thüringen/Thüringen/Gera Städte",
          "Rheinland-Pfalz/Rheinhessen-Pfalz/Germersheim",
          "Hessen/Gießen/Gießen",
          "Niedersachsen/Braunschweig/Gifhorn",
          "Niedersachsen/Braunschweig/Goslar",
          "Thüringen/Thüringen/Gotha",
          "Niedersachsen/Weser-Ems/Grafschaft Bentheim",
          "Mecklenburg-Vorpommern/Mecklenburg-Vorpommern/Greifswald Städte",
          "Thüringen/Thüringen/Greiz",
          "Hessen/Darmstadt/Groß-Gerau",
          "Baden-Württemberg/Stuttgart/Göppingen",
          "Sachsen/Dresden/Görlitz Städte",
          "Niedersachsen/Braunschweig/Göttingen",
          "Bayern/Schwaben/Günzburg",
          "Mecklenburg-Vorpommern/Mecklenburg-Vorpommern/Güstrow",
          "Nordrhein-Westfalen/Detmold/Gütersloh",
          "Nordrhein-Westfalen/Arnsberg/Hagen Städte",
          "Sachsen-Anhalt/Magdeburg/Halberstadt",
          "Sachsen-Anhalt/Halle/Halle Städte",
          "Hamburg/Hamburg/Hamburg Städte",
          "Niedersachsen/Hannover/Hamelin-Pyrmont",
          "Nordrhein-Westfalen/Arnsberg/Hamm Städte",
          "Niedersachsen/Hannover/Hanover",
          "Niedersachsen/Luneburg/Harburg",
          "Brandenburg/Brandenburg/Havelland",
          "Bayern/Unterfranken/Haßberge",
          "Baden-Württemberg/Karlsruhe/Heidelberg Städte",
          "Baden-Württemberg/Stuttgart/Heidenheim",
          "Baden-Württemberg/Stuttgart/Heilbronn",
          "Baden-Württemberg/Stuttgart/Heilbronn city Städte",
          "Nordrhein-Westfalen/Köln/Heinsberg",
          "Niedersachsen/Braunschweig/Helmstedt",
          "Nordrhein-Westfalen/Detmold/Herford",
          "Nordrhein-Westfalen/Arnsberg/Herne Städte",
          "Hessen/Kassel/Hersfeld-Rotenburg",
          "Thüringen/Thüringen/Hildburghausen",
          "Niedersachsen/Hannover/Hildesheim",
          "Nordrhein-Westfalen/Arnsberg/Hochsauerlandkreis",
          "Hessen/Darmstadt/Hochtaunuskreis",
          "Bayern/Oberfranken/Hof",
          "Bayern/Oberfranken/Hof Städte",
          "Baden-Württemberg/Stuttgart/Hohenlohe",
          "Niedersachsen/Hannover/Holzminden",
          "Nordrhein-Westfalen/Detmold/Höxter",
          "Thüringen/Thüringen/Ilm-Kreis",
          "Bayern/Oberbayern/Ingolstadt Städte",
          "Thüringen/Thüringen/Jena Städte",
          "Sachsen-Anhalt/Magdeburg/Jerichower Land",
          "Rheinland-Pfalz/Rheinhessen-Pfalz/Kaiserslautern",
          "Rheinland-Pfalz/Rheinhessen-Pfalz/Kaiserslautern Städte",
          "Sachsen/Dresden/Kamenz",
          "Baden-Württemberg/Karlsruhe/Karlsruhe",
          "Baden-Württemberg/Karlsruhe/Karlsruhe Städte",
          "Hessen/Kassel/Kassel",
          "Hessen/Kassel/Kassel Städte",
          "Bayern/Schwaben/Kaufbeuren Städte",
          "Bayern/Niederbayern/Kelheim",
          "Bayern/Schwaben/Kempten Städte",
          "Schleswig-Holstein/Schleswig-Holstein/Kiel Städte",
          "Bayern/Unterfranken/Kitzingen",
          "Rheinland-Pfalz/Koblenz/Koblenz Coblenz Städte",
          "Baden-Württemberg/Freiburg/Konstanz",
          "Nordrhein-Westfalen/Düsseldorf/Krefeld Städte",
          "Bayern/Oberfranken/Kronach",
          "Bayern/Oberfranken/Kulmbach",
          "Rheinland-Pfalz/Rheinhessen-Pfalz/Kusel",
          "Thüringen/Thüringen/Kyffhäuserkreis",
          "Sachsen-Anhalt/Dessau/Köthen",
          "Hessen/Gießen/Lahn-Dill-Kreis",
          "Rheinland-Pfalz/Rheinhessen-Pfalz/Landau Städte",
          "Bayern/Oberbayern/Landsberg",
          "Bayern/Niederbayern/Landshut",
          "Bayern/Niederbayern/Landshut Städte",
          "Schleswig-Holstein/Schleswig-Holstein/Lauenburg",
          "Niedersachsen/Weser-Ems/Leer",
          "Sachsen/Leipzig/Leipzig Städte",
          "Sachsen/Leipzig/Leipziger Land",
          "Nordrhein-Westfalen/Köln/Leverkusen Städte",
          "Bayern/Oberfranken/Lichtenfels",
          "Hessen/Gießen/Limburg-Weilburg",
          "Bayern/Schwaben/Lindau",
          "Nordrhein-Westfalen/Detmold/Lippe",
          "Baden-Württemberg/Stuttgart/Ludwigsburg",
          "Rheinland-Pfalz/Rheinhessen-Pfalz/Ludwigshafen Städte",
          "Mecklenburg-Vorpommern/Mecklenburg-Vorpommern/Ludwigslust",
          "Sachsen/Dresden/Löbau-Zittau",
          "Baden-Württemberg/Freiburg/Lörrach",
          "Schleswig-Holstein/Schleswig-Holstein/Lübeck Städte",
          "Niedersachsen/Luneburg/Lüchow-Dannenberg",
          "Niedersachsen/Luneburg/Lüneburg",
          "Sachsen-Anhalt/Magdeburg/Magdeburg Städte",
          "Hessen/Darmstadt/Main-Kinzig-Kreis",
          "Bayern/Unterfranken/Main-Spessart",
          "Baden-Württemberg/Stuttgart/Main-Tauber",
          "Hessen/Darmstadt/Main-Taunus-Kreis Städte",
          "Rheinland-Pfalz/Rheinhessen-Pfalz/Mainz Städte",
          "Rheinland-Pfalz/Rheinhessen-Pfalz/Mainz-Bingen",
          "Baden-Württemberg/Karlsruhe/Mannheim Städte",
          "Sachsen-Anhalt/Halle/Mansfelder Land",
          "Hessen/Gießen/Marburg-Biedenkopf",
          "Rheinland-Pfalz/Koblenz/Mayen-Koblenz",
          "Mecklenburg-Vorpommern/Mecklenburg-Vorpommern/Mecklenburg-Strelitz",
          "Sachsen/Dresden/Meißen",
          "Bayern/Schwaben/Memmingen Städte",
          "Sachsen-Anhalt/Halle/Merseburg-Querfurt",
          "Saarland/Saarland/Merzig-Wadern",
          "Nordrhein-Westfalen/Düsseldorf/Mettmann",
          "Bayern/Oberbayern/Miesbach",
          "Bayern/Unterfranken/Miltenberg",
          "Nordrhein-Westfalen/Detmold/Minden-Lübbecke",
          "Sachsen/Chemnitz/Mittlerer Erzgebirgskreis",
          "Sachsen/Chemnitz/Mittweida",
          "Sachsen/Leipzig/Muldentalkreis",
          "Bayern/Oberbayern/Munich Städte",
          "Brandenburg/Brandenburg/Märkisch-Oderland",
          "Nordrhein-Westfalen/Arnsberg/Märkischer Kreis",
          "Nordrhein-Westfalen/Düsseldorf/Mönchengladbach Städte",
          "Bayern/Oberbayern/Mühldorf",
          "Nordrhein-Westfalen/Düsseldorf/Mülheim Städte",
          "Bayern/Oberbayern/München",
          "Nordrhein-Westfalen/Munster/Münster Städte",
          "Mecklenburg-Vorpommern/Mecklenburg-Vorpommern/Müritz",
          "Baden-Württemberg/Karlsruhe/Neckar-Odenwald-Kreis",
          "Bayern/Schwaben/Neu-Ulm",
          "Mecklenburg-Vorpommern/Mecklenburg-Vorpommern/Neubrandenburg Städte",
          "Bayern/Oberbayern/Neuburg-Schrobenhausen",
          "Bayern/Oberpfalz/Neumarkt",
          "Schleswig-Holstein/Schleswig-Holstein/Neumünster Städte",
          "Saarland/Saarland/Neunkirchen",
          "Bayern/Oberpfalz/Neustadt",
          "Rheinland-Pfalz/Rheinhessen-Pfalz/Neustadt Städte",
          "Bayern/Mittelfranken/Neustadt-Bad Windsheim",
          "Rheinland-Pfalz/Koblenz/Neuwied",
          "Sachsen/Dresden/Niederschlesischer Oberlausitzkreis",
          "Niedersachsen/Hannover/Nienburg",
          "Schleswig-Holstein/Schleswig-Holstein/Nordfriesland",
          "Thüringen/Thüringen/Nordhausen",
          "Mecklenburg-Vorpommern/Mecklenburg-Vorpommern/Nordvorpommern",
          "Mecklenburg-Vorpommern/Mecklenburg-Vorpommern/Nordwestmecklenburg",
          "Niedersachsen/Braunschweig/Northeim",
          "Bayern/Mittelfranken/Nuremberg Städte",
          "Bayern/Mittelfranken/Nürnberger Land",
          "Bayern/Schwaben/Oberallgäu",
          "Nordrhein-Westfalen/Köln/Oberbergischer Kreis",
          "Nordrhein-Westfalen/Düsseldorf/Oberhausen Städte",
          "Brandenburg/Brandenburg/Oberhavel",
          "Brandenburg/Brandenburg/Oberspreewald-Lausitz",
          "Hessen/Darmstadt/Odenwaldkreis",
          "Brandenburg/Brandenburg/Oder-Spree",
          "Hessen/Darmstadt/Offenbach",
          "Hessen/Darmstadt/Offenbach am Main Städte",
          "Sachsen-Anhalt/Magdeburg/Ohrekreis",
          "Niedersachsen/Weser-Ems/Oldenburg",
          "Niedersachsen/Weser-Ems/Oldenburg Städte",
          "Nordrhein-Westfalen/Arnsberg/Olpe",
          "Baden-Württemberg/Freiburg/Ortenaukreis",
          "Niedersachsen/Weser-Ems/Osnabrück",
          "Niedersachsen/Weser-Ems/Osnabrück Städte",
          "Baden-Württemberg/Stuttgart/Ostalbkreis",
          "Bayern/Schwaben/Ostallgäu",
          "Niedersachsen/Luneburg/Osterholz",
          "Niedersachsen/Braunschweig/Osterode",
          "Schleswig-Holstein/Schleswig-Holstein/Ostholstein",
          "Brandenburg/Brandenburg/Ostprignitz-Ruppin",
          "Mecklenburg-Vorpommern/Mecklenburg-Vorpommern/Ostvorpommern",
          "Nordrhein-Westfalen/Detmold/Paderborn",
          "Mecklenburg-Vorpommern/Mecklenburg-Vorpommern/Parchim",
          "Bayern/Niederbayern/Passau",
          "Bayern/Niederbayern/Passau Städte",
          "Niedersachsen/Braunschweig/Peine",
          "Bayern/Oberbayern/Pfaffenhofen",
          "Baden-Württemberg/Karlsruhe/Pforzheim Städte",
          "Schleswig-Holstein/Schleswig-Holstein/Pinneberg",
          "Sachsen/Chemnitz/Plauen Städte",
          "Schleswig-Holstein/Schleswig-Holstein/Plön",
          "Brandenburg/Brandenburg/Potsdam Städte",
          "Brandenburg/Brandenburg/Potsdam-Mittelmark",
          "Brandenburg/Brandenburg/Prignitz",
          "Sachsen-Anhalt/Magdeburg/Quedlinburg",
          "Baden-Württemberg/Karlsruhe/Rastatt",
          "Baden-Württemberg/Tübingen/Ravensburg",
          "Nordrhein-Westfalen/Munster/Recklinghausen",
          "Bayern/Niederbayern/Regen",
          "Bayern/Oberpfalz/Regensburg",
          "Bayern/Oberpfalz/Regensburg Städte",
          "Baden-Württemberg/Stuttgart/Rems-Murr-Kreis",
          "Nordrhein-Westfalen/Düsseldorf/Remscheid Städte",
          "Schleswig-Holstein/Schleswig-Holstein/Rendsburg-Eckernförde",
          "Baden-Württemberg/Tübingen/Reutlingen",
          "Nordrhein-Westfalen/Köln/Rhein-Erft-Kreis",
          "Rheinland-Pfalz/Koblenz/Rhein-Hunsrück",
          "Nordrhein-Westfalen/Düsseldorf/Rhein-Kreis Neuss",
          "Rheinland-Pfalz/Koblenz/Rhein-Lahn",
          "Baden-Württemberg/Karlsruhe/Rhein-Neckar-Kreis",
          "Rheinland-Pfalz/Rheinhessen-Pfalz/Rhein-Pfalz-Kreis",
          "Nordrhein-Westfalen/Köln/Rhein-Sieg",
          "Hessen/Darmstadt/Rheingau-Taunus-Kreis",
          "Nordrhein-Westfalen/Köln/Rheinisch-Bergischer Kreis",
          "Bayern/Unterfranken/Rhön-Grabfeld",
          "Sachsen/Dresden/Riesa-Großenhain",
          "Bayern/Oberbayern/Rosenheim",
          "Bayern/Oberbayern/Rosenheim Städte",
          "Mecklenburg-Vorpommern/Mecklenburg-Vorpommern/Rostock Städte",
          "Niedersachsen/Luneburg/Rotenburg",
          "Bayern/Mittelfranken/Roth",
          "Bayern/Niederbayern/Rottal-Inn",
          "Baden-Württemberg/Freiburg/Rottweil",
          "Mecklenburg-Vorpommern/Mecklenburg-Vorpommern/Rügen",
          "Thüringen/Thüringen/Saale-Holzland",
          "Thüringen/Thüringen/Saale-Orla",
          "Thüringen/Thüringen/Saalfeld-Rudolstadt",
          "Sachsen-Anhalt/Halle/Saalkreis",
          "Saarland/Saarland/Saarbrücken Städte",
          "Saarland/Saarland/Saarlouis",
          "Saarland/Saarland/Saarpfalz",
          "Niedersachsen/Braunschweig/Salzgitter Städte",
          "Sachsen-Anhalt/Halle/Sangerhausen",
          "Saarland/Saarland/Sankt Wendel",
          "Niedersachsen/Hannover/Schaumburg",
          "Schleswig-Holstein/Schleswig-Holstein/Schleswig-Flensburg",
          "Thüringen/Thüringen/Schmalkalden-Meiningen",
          "Bayern/Mittelfranken/Schwabach Städte",
          "Hessen/Kassel/Schwalm-Eder-Kreis",
          "Bayern/Oberpfalz/Schwandorf",
          "Baden-Württemberg/Freiburg/Schwarzwald-Baar-Kreis",
          "Bayern/Unterfranken/Schweinfurt",
          "Bayern/Unterfranken/Schweinfurt Städte",
          "Mecklenburg-Vorpommern/Mecklenburg-Vorpommern/Schwerin Städte",
          "Baden-Württemberg/Stuttgart/Schwäbisch Hall",
          "Sachsen-Anhalt/Magdeburg/Schönebeck",
          "Schleswig-Holstein/Schleswig-Holstein/Segeberg",
          "Nordrhein-Westfalen/Arnsberg/Siegen-Wittgenstein",
          "Baden-Württemberg/Tübingen/Sigmaringen",
          "Nordrhein-Westfalen/Arnsberg/Soest",
          "Nordrhein-Westfalen/Düsseldorf/Solingen Städte",
          "Niedersachsen/Luneburg/Soltau-Fallingbostel",
          "Thüringen/Thüringen/Sonneberg",
          "Rheinland-Pfalz/Rheinhessen-Pfalz/Speyer Spires Städte",
          "Brandenburg/Brandenburg/Spree-Neiße",
          "Niedersachsen/Luneburg/Stade",
          "Bayern/Oberbayern/Starnberg",
          "Schleswig-Holstein/Schleswig-Holstein/Steinburg",
          "Nordrhein-Westfalen/Munster/Steinfurt",
          "Sachsen-Anhalt/Magdeburg/Stendal",
          "Sachsen/Chemnitz/Stollberg",
          "Schleswig-Holstein/Schleswig-Holstein/Stormarn",
          "Mecklenburg-Vorpommern/Mecklenburg-Vorpommern/Stralsund Städte",
          "Bayern/Niederbayern/Straubing Städte",
          "Bayern/Niederbayern/Straubing-Bogen",
          "Baden-Württemberg/Stuttgart/Stuttgart Städte",
          "Thüringen/Thüringen/Suhl Städte",
          "Sachsen/Dresden/Sächsische Schweiz",
          "Thüringen/Thüringen/Sömmerda",
          "Rheinland-Pfalz/Rheinhessen-Pfalz/Südliche Weinstraße",
          "Rheinland-Pfalz/Rheinhessen-Pfalz/Südwestpfalz",
          "Brandenburg/Brandenburg/Teltow-Fläming",
          "Bayern/Oberpfalz/Tirschenreuth",
          "Sachsen/Leipzig/Torgau-Oschatz",
          "Bayern/Oberbayern/Traunstein",
          "Rheinland-Pfalz/Trier/Trier Städte",
          "Rheinland-Pfalz/Trier/Trier-Saarburg",
          "Baden-Württemberg/Freiburg/Tuttlingen",
          "Baden-Württemberg/Tübingen/Tübingen",
          "Brandenburg/Brandenburg/Uckermark",
          "Mecklenburg-Vorpommern/Mecklenburg-Vorpommern/Uecker-Randow",
          "Niedersachsen/Luneburg/Uelzen",
          "Baden-Württemberg/Tübingen/Ulm Städte",
          "Nordrhein-Westfalen/Arnsberg/Unna",
          "Thüringen/Thüringen/Unstrut-Hainich",
          "Bayern/Schwaben/Unterallgäu",
          "Niedersachsen/Weser-Ems/Vechta",
          "Niedersachsen/Luneburg/Verden",
          "Nordrhein-Westfalen/Düsseldorf/Viersen",
          "Hessen/Gießen/Vogelsbergkreis",
          "Sachsen/Chemnitz/Vogtlandkreis",
          "Rheinland-Pfalz/Trier/Vulkaneifel",
          "Hessen/Kassel/Waldeck-Frankenberg",
          "Baden-Württemberg/Freiburg/Waldshut",
          "Nordrhein-Westfalen/Munster/Warendorf",
          "Thüringen/Thüringen/Wartburgkreis",
          "Bayern/Oberpfalz/Weiden Städte",
          "Bayern/Oberbayern/Weilheim-Schongau",
          "Thüringen/Thüringen/Weimar Städte",
          "Thüringen/Thüringen/Weimarer Land",
          "Bayern/Mittelfranken/Weißenburg-Gunzenhausen",
          "Sachsen-Anhalt/Halle/Weißenfels",
          "Sachsen/Dresden/Weißeritzkreis",
          "Sachsen-Anhalt/Magdeburg/Wernigerode",
          "Hessen/Kassel/Werra-Meißner-Kreis",
          "Nordrhein-Westfalen/Düsseldorf/Wesel",
          "Niedersachsen/Weser-Ems/Wesermarsch",
          "Rheinland-Pfalz/Koblenz/Westerwaldkreis",
          "Hessen/Darmstadt/Wetteraukreis",
          "Hessen/Darmstadt/Wiesbaden Städte",
          "Niedersachsen/Weser-Ems/Wilhelmshaven Städte",
          "Mecklenburg-Vorpommern/Mecklenburg-Vorpommern/Wismar Städte",
          "Sachsen-Anhalt/Dessau/Wittenberg",
          "Niedersachsen/Weser-Ems/Wittmund",
          "Niedersachsen/Braunschweig/Wolfenbüttel",
          "Niedersachsen/Braunschweig/Wolfsburg Städte",
          "Rheinland-Pfalz/Rheinhessen-Pfalz/Worms Städte",
          "Bayern/Oberfranken/Wunsiedel",
          "Nordrhein-Westfalen/Düsseldorf/Wuppertal Städte",
          "Bayern/Unterfranken/Würzburg",
          "Bayern/Unterfranken/Würzburg Städte",
          "Baden-Württemberg/Tübingen/Zollernalbkreis",
          "Rheinland-Pfalz/Rheinhessen-Pfalz/Zweibrücken Städte",
          "Sachsen/Chemnitz/Zwickau Städte",
          "Sachsen/Chemnitz/Zwickauer Land",
          "Nordrhein-Westfalen/Arnsberg",
          "Berlin/Berlin",
          "Brandenburg/Brandenburg",
          "Niedersachsen/Braunschweig",
          "Bremen/Bremen",
          "Sachsen/Chemnitz",
          "Hessen/Darmstadt",
          "Sachsen-Anhalt/Dessau",
          "Nordrhein-Westfalen/Detmold",
          "Sachsen/Dresden",
          "Nordrhein-Westfalen/Düsseldorf",
          "Baden-Württemberg/Freiburg",
          "Hessen/Gießen",
          "Sachsen-Anhalt/Halle",
          "Hamburg/Hamburg",
          "Niedersachsen/Hannover",
          "Baden-Württemberg/Karlsruhe",
          "Hessen/Kassel",
          "Rheinland-Pfalz/Koblenz",
          "Nordrhein-Westfalen/Köln",
          "Sachsen/Leipzig",
          "Niedersachsen/Luneburg",
          "Sachsen-Anhalt/Magdeburg",
          "Mecklenburg-Vorpommern/Mecklenburg-Vorpommern",
          "Bayern/Mittelfranken",
          "Nordrhein-Westfalen/Munster",
          "Bayern/Niederbayern",
          "Bayern/Oberbayern",
          "Bayern/Oberfranken",
          "Bayern/Oberpfalz",
          "Rheinland-Pfalz/Rheinhessen-Pfalz",
          "Saarland/Saarland",
          "Schleswig-Holstein/Schleswig-Holstein",
          "Bayern/Schwaben",
          "Baden-Württemberg/Stuttgart",
          "Thüringen/Thüringen",
          "Rheinland-Pfalz/Trier",
          "Baden-Württemberg/Tübingen",
          "Bayern/Unterfranken",
          "Niedersachsen/Weser-Ems",
          "Baden-Württemberg",
          "Bayern",
          "Berlin",
          "Brandenburg",
          "Bremen",
          "Hamburg",
          "Hessen",
          "Mecklenburg-Vorpommern",
          "Niedersachsen",
          "Nordrhein-Westfalen",
          "Rheinland-Pfalz",
          "Saarland",
          "Sachsen",
          "Sachsen-Anhalt",
          "Schleswig-Holstein",
          "Thüringen"
         ],
         "insidetextorientation": "radial",
         "labels": [
          "Aachen",
          "Aachen Städte",
          "Ahrweiler",
          "Aichach-Friedberg",
          "Alb-Donau",
          "Altenburger Land",
          "Altenkirchen",
          "Altmarkkreis Salzwedel",
          "Altötting",
          "Alzey-Worms",
          "Amberg Städte",
          "Amberg-Sulzbach",
          "Ammerland",
          "Anhalt-Zerbst",
          "Annaberg",
          "Ansbach",
          "Ansbach Städte",
          "Aschaffenburg",
          "Aschaffenburg Städte",
          "Aschersleben-Staßfurt",
          "Aue-Schwarzenberg",
          "Augsburg",
          "Augsburg Städte",
          "Aurich",
          "Bad Doberan",
          "Bad Dürkheim",
          "Bad Kissingen",
          "Bad Kreuznach",
          "Bad Tölz-Wolfratshausen",
          "Baden-Baden Städte",
          "Bamberg",
          "Bamberg Städte",
          "Barnim",
          "Bautzen",
          "Bayreuth",
          "Bayreuth Städte",
          "Berchtesgadener Land",
          "Bergstraße",
          "Berlin",
          "Bernburg",
          "Bernkastel-Wittlich",
          "Biberach",
          "Bielefeld Städte",
          "Birkenfeld",
          "Bitburg-Prüm",
          "Bitterfeld",
          "Bochum Städte",
          "Bodensee",
          "Bonn Städte",
          "Borken",
          "Bottrop Städte",
          "Brandenburg an der Havel Städte",
          "Braunschweig Städte",
          "Breisgau-Hochschwarzwald",
          "Bremen Städte",
          "Burgenlandkreis",
          "Böblingen",
          "Bördekreis",
          "Calw",
          "Celle",
          "Cham",
          "Chemnitz Städte",
          "Chemnitzer Land",
          "Cleves",
          "Cloppenburg",
          "Coburg",
          "Coburg Städte",
          "Cochem-Zell",
          "Coesfeld",
          "Cologne Städte",
          "Cottbus Städte",
          "Cuxhaven",
          "Dachau",
          "Dahme-Spreewald",
          "Darmstadt Städte",
          "Darmstadt-Dieburg",
          "Deggendorf",
          "Delitzsch",
          "Demmin",
          "Dessau Städte",
          "Diepholz",
          "Dillingen",
          "Dingolfing-Landau",
          "Dithmarschen",
          "Donau-Ries",
          "Donnersbergkreis",
          "Dortmund Städte",
          "Dresden Städte",
          "Duisburg Städte",
          "Döbeln",
          "Düren",
          "Düsseldorf Städte",
          "Ebersberg",
          "Eichsfeld",
          "Eichstätt",
          "Elbe-Elster",
          "Emden Städte",
          "Emmendingen",
          "Emsland",
          "Ennepe-Ruhr",
          "Enz",
          "Erding",
          "Erfurt Städte",
          "Erlangen Städte",
          "Erlangen-Höchstadt",
          "Essen Städte",
          "Esslingen",
          "Euskirchen",
          "Flensburg Städte",
          "Forchheim",
          "Frankenthal Städte",
          "Frankfurt am Main Städte",
          "Frankfurt am Oder Städte",
          "Freiberg",
          "Freiburg",
          "Freising",
          "Freudenstadt",
          "Freyung-Grafenau",
          "Friesland",
          "Fulda",
          "Fürstenfeldbruck",
          "Fürth",
          "Fürth Städte",
          "Garmisch-Partenkirchen",
          "Gelsenkirchen Städte",
          "Gera Städte",
          "Germersheim",
          "Gießen",
          "Gifhorn",
          "Goslar",
          "Gotha",
          "Grafschaft Bentheim",
          "Greifswald Städte",
          "Greiz",
          "Groß-Gerau",
          "Göppingen",
          "Görlitz Städte",
          "Göttingen",
          "Günzburg",
          "Güstrow",
          "Gütersloh",
          "Hagen Städte",
          "Halberstadt",
          "Halle Städte",
          "Hamburg Städte",
          "Hamelin-Pyrmont",
          "Hamm Städte",
          "Hanover",
          "Harburg",
          "Havelland",
          "Haßberge",
          "Heidelberg Städte",
          "Heidenheim",
          "Heilbronn",
          "Heilbronn city Städte",
          "Heinsberg",
          "Helmstedt",
          "Herford",
          "Herne Städte",
          "Hersfeld-Rotenburg",
          "Hildburghausen",
          "Hildesheim",
          "Hochsauerlandkreis",
          "Hochtaunuskreis",
          "Hof",
          "Hof Städte",
          "Hohenlohe",
          "Holzminden",
          "Höxter",
          "Ilm-Kreis",
          "Ingolstadt Städte",
          "Jena Städte",
          "Jerichower Land",
          "Kaiserslautern",
          "Kaiserslautern Städte",
          "Kamenz",
          "Karlsruhe",
          "Karlsruhe Städte",
          "Kassel",
          "Kassel Städte",
          "Kaufbeuren Städte",
          "Kelheim",
          "Kempten Städte",
          "Kiel Städte",
          "Kitzingen",
          "Koblenz Coblenz Städte",
          "Konstanz",
          "Krefeld Städte",
          "Kronach",
          "Kulmbach",
          "Kusel",
          "Kyffhäuserkreis",
          "Köthen",
          "Lahn-Dill-Kreis",
          "Landau Städte",
          "Landsberg",
          "Landshut",
          "Landshut Städte",
          "Lauenburg",
          "Leer",
          "Leipzig Städte",
          "Leipziger Land",
          "Leverkusen Städte",
          "Lichtenfels",
          "Limburg-Weilburg",
          "Lindau",
          "Lippe",
          "Ludwigsburg",
          "Ludwigshafen Städte",
          "Ludwigslust",
          "Löbau-Zittau",
          "Lörrach",
          "Lübeck Städte",
          "Lüchow-Dannenberg",
          "Lüneburg",
          "Magdeburg Städte",
          "Main-Kinzig-Kreis",
          "Main-Spessart",
          "Main-Tauber",
          "Main-Taunus-Kreis Städte",
          "Mainz Städte",
          "Mainz-Bingen",
          "Mannheim Städte",
          "Mansfelder Land",
          "Marburg-Biedenkopf",
          "Mayen-Koblenz",
          "Mecklenburg-Strelitz",
          "Meißen",
          "Memmingen Städte",
          "Merseburg-Querfurt",
          "Merzig-Wadern",
          "Mettmann",
          "Miesbach",
          "Miltenberg",
          "Minden-Lübbecke",
          "Mittlerer Erzgebirgskreis",
          "Mittweida",
          "Muldentalkreis",
          "Munich Städte",
          "Märkisch-Oderland",
          "Märkischer Kreis",
          "Mönchengladbach Städte",
          "Mühldorf",
          "Mülheim Städte",
          "München",
          "Münster Städte",
          "Müritz",
          "Neckar-Odenwald-Kreis",
          "Neu-Ulm",
          "Neubrandenburg Städte",
          "Neuburg-Schrobenhausen",
          "Neumarkt",
          "Neumünster Städte",
          "Neunkirchen",
          "Neustadt",
          "Neustadt Städte",
          "Neustadt-Bad Windsheim",
          "Neuwied",
          "Niederschlesischer Oberlausitzkreis",
          "Nienburg",
          "Nordfriesland",
          "Nordhausen",
          "Nordvorpommern",
          "Nordwestmecklenburg",
          "Northeim",
          "Nuremberg Städte",
          "Nürnberger Land",
          "Oberallgäu",
          "Oberbergischer Kreis",
          "Oberhausen Städte",
          "Oberhavel",
          "Oberspreewald-Lausitz",
          "Odenwaldkreis",
          "Oder-Spree",
          "Offenbach",
          "Offenbach am Main Städte",
          "Ohrekreis",
          "Oldenburg",
          "Oldenburg Städte",
          "Olpe",
          "Ortenaukreis",
          "Osnabrück",
          "Osnabrück Städte",
          "Ostalbkreis",
          "Ostallgäu",
          "Osterholz",
          "Osterode",
          "Ostholstein",
          "Ostprignitz-Ruppin",
          "Ostvorpommern",
          "Paderborn",
          "Parchim",
          "Passau",
          "Passau Städte",
          "Peine",
          "Pfaffenhofen",
          "Pforzheim Städte",
          "Pinneberg",
          "Plauen Städte",
          "Plön",
          "Potsdam Städte",
          "Potsdam-Mittelmark",
          "Prignitz",
          "Quedlinburg",
          "Rastatt",
          "Ravensburg",
          "Recklinghausen",
          "Regen",
          "Regensburg",
          "Regensburg Städte",
          "Rems-Murr-Kreis",
          "Remscheid Städte",
          "Rendsburg-Eckernförde",
          "Reutlingen",
          "Rhein-Erft-Kreis",
          "Rhein-Hunsrück",
          "Rhein-Kreis Neuss",
          "Rhein-Lahn",
          "Rhein-Neckar-Kreis",
          "Rhein-Pfalz-Kreis",
          "Rhein-Sieg",
          "Rheingau-Taunus-Kreis",
          "Rheinisch-Bergischer Kreis",
          "Rhön-Grabfeld",
          "Riesa-Großenhain",
          "Rosenheim",
          "Rosenheim Städte",
          "Rostock Städte",
          "Rotenburg",
          "Roth",
          "Rottal-Inn",
          "Rottweil",
          "Rügen",
          "Saale-Holzland",
          "Saale-Orla",
          "Saalfeld-Rudolstadt",
          "Saalkreis",
          "Saarbrücken Städte",
          "Saarlouis",
          "Saarpfalz",
          "Salzgitter Städte",
          "Sangerhausen",
          "Sankt Wendel",
          "Schaumburg",
          "Schleswig-Flensburg",
          "Schmalkalden-Meiningen",
          "Schwabach Städte",
          "Schwalm-Eder-Kreis",
          "Schwandorf",
          "Schwarzwald-Baar-Kreis",
          "Schweinfurt",
          "Schweinfurt Städte",
          "Schwerin Städte",
          "Schwäbisch Hall",
          "Schönebeck",
          "Segeberg",
          "Siegen-Wittgenstein",
          "Sigmaringen",
          "Soest",
          "Solingen Städte",
          "Soltau-Fallingbostel",
          "Sonneberg",
          "Speyer Spires Städte",
          "Spree-Neiße",
          "Stade",
          "Starnberg",
          "Steinburg",
          "Steinfurt",
          "Stendal",
          "Stollberg",
          "Stormarn",
          "Stralsund Städte",
          "Straubing Städte",
          "Straubing-Bogen",
          "Stuttgart Städte",
          "Suhl Städte",
          "Sächsische Schweiz",
          "Sömmerda",
          "Südliche Weinstraße",
          "Südwestpfalz",
          "Teltow-Fläming",
          "Tirschenreuth",
          "Torgau-Oschatz",
          "Traunstein",
          "Trier Städte",
          "Trier-Saarburg",
          "Tuttlingen",
          "Tübingen",
          "Uckermark",
          "Uecker-Randow",
          "Uelzen",
          "Ulm Städte",
          "Unna",
          "Unstrut-Hainich",
          "Unterallgäu",
          "Vechta",
          "Verden",
          "Viersen",
          "Vogelsbergkreis",
          "Vogtlandkreis",
          "Vulkaneifel",
          "Waldeck-Frankenberg",
          "Waldshut",
          "Warendorf",
          "Wartburgkreis",
          "Weiden Städte",
          "Weilheim-Schongau",
          "Weimar Städte",
          "Weimarer Land",
          "Weißenburg-Gunzenhausen",
          "Weißenfels",
          "Weißeritzkreis",
          "Wernigerode",
          "Werra-Meißner-Kreis",
          "Wesel",
          "Wesermarsch",
          "Westerwaldkreis",
          "Wetteraukreis",
          "Wiesbaden Städte",
          "Wilhelmshaven Städte",
          "Wismar Städte",
          "Wittenberg",
          "Wittmund",
          "Wolfenbüttel",
          "Wolfsburg Städte",
          "Worms Städte",
          "Wunsiedel",
          "Wuppertal Städte",
          "Würzburg",
          "Würzburg Städte",
          "Zollernalbkreis",
          "Zweibrücken Städte",
          "Zwickau Städte",
          "Zwickauer Land",
          "Arnsberg",
          "Berlin",
          "Brandenburg",
          "Braunschweig",
          "Bremen",
          "Chemnitz",
          "Darmstadt",
          "Dessau",
          "Detmold",
          "Dresden",
          "Düsseldorf",
          "Freiburg",
          "Gießen",
          "Halle",
          "Hamburg",
          "Hannover",
          "Karlsruhe",
          "Kassel",
          "Koblenz",
          "Köln",
          "Leipzig",
          "Luneburg",
          "Magdeburg",
          "Mecklenburg-Vorpommern",
          "Mittelfranken",
          "Munster",
          "Niederbayern",
          "Oberbayern",
          "Oberfranken",
          "Oberpfalz",
          "Rheinhessen-Pfalz",
          "Saarland",
          "Schleswig-Holstein",
          "Schwaben",
          "Stuttgart",
          "Thüringen",
          "Trier",
          "Tübingen",
          "Unterfranken",
          "Weser-Ems",
          "Baden-Württemberg",
          "Bayern",
          "Berlin",
          "Brandenburg",
          "Bremen",
          "Hamburg",
          "Hessen",
          "Mecklenburg-Vorpommern",
          "Niedersachsen",
          "Nordrhein-Westfalen",
          "Rheinland-Pfalz",
          "Saarland",
          "Sachsen",
          "Sachsen-Anhalt",
          "Schleswig-Holstein",
          "Thüringen"
         ],
         "name": "",
         "parents": [
          "Nordrhein-Westfalen/Köln",
          "Nordrhein-Westfalen/Köln",
          "Rheinland-Pfalz/Koblenz",
          "Bayern/Schwaben",
          "Baden-Württemberg/Tübingen",
          "Thüringen/Thüringen",
          "Rheinland-Pfalz/Koblenz",
          "Sachsen-Anhalt/Magdeburg",
          "Bayern/Oberbayern",
          "Rheinland-Pfalz/Rheinhessen-Pfalz",
          "Bayern/Oberpfalz",
          "Bayern/Oberpfalz",
          "Niedersachsen/Weser-Ems",
          "Sachsen-Anhalt/Dessau",
          "Sachsen/Chemnitz",
          "Bayern/Mittelfranken",
          "Bayern/Mittelfranken",
          "Bayern/Unterfranken",
          "Bayern/Unterfranken",
          "Sachsen-Anhalt/Halle",
          "Sachsen/Chemnitz",
          "Bayern/Schwaben",
          "Bayern/Schwaben",
          "Niedersachsen/Weser-Ems",
          "Mecklenburg-Vorpommern/Mecklenburg-Vorpommern",
          "Rheinland-Pfalz/Rheinhessen-Pfalz",
          "Bayern/Unterfranken",
          "Rheinland-Pfalz/Koblenz",
          "Bayern/Oberbayern",
          "Baden-Württemberg/Karlsruhe",
          "Bayern/Oberfranken",
          "Bayern/Oberfranken",
          "Brandenburg/Brandenburg",
          "Sachsen/Dresden",
          "Bayern/Oberfranken",
          "Bayern/Oberfranken",
          "Bayern/Oberbayern",
          "Hessen/Darmstadt",
          "Berlin/Berlin",
          "Sachsen-Anhalt/Dessau",
          "Rheinland-Pfalz/Trier",
          "Baden-Württemberg/Tübingen",
          "Nordrhein-Westfalen/Detmold",
          "Rheinland-Pfalz/Koblenz",
          "Rheinland-Pfalz/Trier",
          "Sachsen-Anhalt/Dessau",
          "Nordrhein-Westfalen/Arnsberg",
          "Baden-Württemberg/Tübingen",
          "Nordrhein-Westfalen/Köln",
          "Nordrhein-Westfalen/Munster",
          "Nordrhein-Westfalen/Munster",
          "Brandenburg/Brandenburg",
          "Niedersachsen/Braunschweig",
          "Baden-Württemberg/Freiburg",
          "Bremen/Bremen",
          "Sachsen-Anhalt/Halle",
          "Baden-Württemberg/Stuttgart",
          "Sachsen-Anhalt/Magdeburg",
          "Baden-Württemberg/Karlsruhe",
          "Niedersachsen/Luneburg",
          "Bayern/Oberpfalz",
          "Sachsen/Chemnitz",
          "Sachsen/Chemnitz",
          "Nordrhein-Westfalen/Düsseldorf",
          "Niedersachsen/Weser-Ems",
          "Bayern/Oberfranken",
          "Bayern/Oberfranken",
          "Rheinland-Pfalz/Koblenz",
          "Nordrhein-Westfalen/Munster",
          "Nordrhein-Westfalen/Köln",
          "Brandenburg/Brandenburg",
          "Niedersachsen/Luneburg",
          "Bayern/Oberbayern",
          "Brandenburg/Brandenburg",
          "Hessen/Darmstadt",
          "Hessen/Darmstadt",
          "Bayern/Niederbayern",
          "Sachsen/Leipzig",
          "Mecklenburg-Vorpommern/Mecklenburg-Vorpommern",
          "Sachsen-Anhalt/Dessau",
          "Niedersachsen/Hannover",
          "Bayern/Schwaben",
          "Bayern/Niederbayern",
          "Schleswig-Holstein/Schleswig-Holstein",
          "Bayern/Schwaben",
          "Rheinland-Pfalz/Rheinhessen-Pfalz",
          "Nordrhein-Westfalen/Arnsberg",
          "Sachsen/Dresden",
          "Nordrhein-Westfalen/Düsseldorf",
          "Sachsen/Leipzig",
          "Nordrhein-Westfalen/Köln",
          "Nordrhein-Westfalen/Düsseldorf",
          "Bayern/Oberbayern",
          "Thüringen/Thüringen",
          "Bayern/Oberbayern",
          "Brandenburg/Brandenburg",
          "Niedersachsen/Weser-Ems",
          "Baden-Württemberg/Freiburg",
          "Niedersachsen/Weser-Ems",
          "Nordrhein-Westfalen/Arnsberg",
          "Baden-Württemberg/Karlsruhe",
          "Bayern/Oberbayern",
          "Thüringen/Thüringen",
          "Bayern/Mittelfranken",
          "Bayern/Mittelfranken",
          "Nordrhein-Westfalen/Düsseldorf",
          "Baden-Württemberg/Stuttgart",
          "Nordrhein-Westfalen/Köln",
          "Schleswig-Holstein/Schleswig-Holstein",
          "Bayern/Oberfranken",
          "Rheinland-Pfalz/Rheinhessen-Pfalz",
          "Hessen/Darmstadt",
          "Brandenburg/Brandenburg",
          "Sachsen/Chemnitz",
          "Baden-Württemberg/Freiburg",
          "Bayern/Oberbayern",
          "Baden-Württemberg/Karlsruhe",
          "Bayern/Niederbayern",
          "Niedersachsen/Weser-Ems",
          "Hessen/Kassel",
          "Bayern/Oberbayern",
          "Bayern/Mittelfranken",
          "Bayern/Mittelfranken",
          "Bayern/Oberbayern",
          "Nordrhein-Westfalen/Munster",
          "Thüringen/Thüringen",
          "Rheinland-Pfalz/Rheinhessen-Pfalz",
          "Hessen/Gießen",
          "Niedersachsen/Braunschweig",
          "Niedersachsen/Braunschweig",
          "Thüringen/Thüringen",
          "Niedersachsen/Weser-Ems",
          "Mecklenburg-Vorpommern/Mecklenburg-Vorpommern",
          "Thüringen/Thüringen",
          "Hessen/Darmstadt",
          "Baden-Württemberg/Stuttgart",
          "Sachsen/Dresden",
          "Niedersachsen/Braunschweig",
          "Bayern/Schwaben",
          "Mecklenburg-Vorpommern/Mecklenburg-Vorpommern",
          "Nordrhein-Westfalen/Detmold",
          "Nordrhein-Westfalen/Arnsberg",
          "Sachsen-Anhalt/Magdeburg",
          "Sachsen-Anhalt/Halle",
          "Hamburg/Hamburg",
          "Niedersachsen/Hannover",
          "Nordrhein-Westfalen/Arnsberg",
          "Niedersachsen/Hannover",
          "Niedersachsen/Luneburg",
          "Brandenburg/Brandenburg",
          "Bayern/Unterfranken",
          "Baden-Württemberg/Karlsruhe",
          "Baden-Württemberg/Stuttgart",
          "Baden-Württemberg/Stuttgart",
          "Baden-Württemberg/Stuttgart",
          "Nordrhein-Westfalen/Köln",
          "Niedersachsen/Braunschweig",
          "Nordrhein-Westfalen/Detmold",
          "Nordrhein-Westfalen/Arnsberg",
          "Hessen/Kassel",
          "Thüringen/Thüringen",
          "Niedersachsen/Hannover",
          "Nordrhein-Westfalen/Arnsberg",
          "Hessen/Darmstadt",
          "Bayern/Oberfranken",
          "Bayern/Oberfranken",
          "Baden-Württemberg/Stuttgart",
          "Niedersachsen/Hannover",
          "Nordrhein-Westfalen/Detmold",
          "Thüringen/Thüringen",
          "Bayern/Oberbayern",
          "Thüringen/Thüringen",
          "Sachsen-Anhalt/Magdeburg",
          "Rheinland-Pfalz/Rheinhessen-Pfalz",
          "Rheinland-Pfalz/Rheinhessen-Pfalz",
          "Sachsen/Dresden",
          "Baden-Württemberg/Karlsruhe",
          "Baden-Württemberg/Karlsruhe",
          "Hessen/Kassel",
          "Hessen/Kassel",
          "Bayern/Schwaben",
          "Bayern/Niederbayern",
          "Bayern/Schwaben",
          "Schleswig-Holstein/Schleswig-Holstein",
          "Bayern/Unterfranken",
          "Rheinland-Pfalz/Koblenz",
          "Baden-Württemberg/Freiburg",
          "Nordrhein-Westfalen/Düsseldorf",
          "Bayern/Oberfranken",
          "Bayern/Oberfranken",
          "Rheinland-Pfalz/Rheinhessen-Pfalz",
          "Thüringen/Thüringen",
          "Sachsen-Anhalt/Dessau",
          "Hessen/Gießen",
          "Rheinland-Pfalz/Rheinhessen-Pfalz",
          "Bayern/Oberbayern",
          "Bayern/Niederbayern",
          "Bayern/Niederbayern",
          "Schleswig-Holstein/Schleswig-Holstein",
          "Niedersachsen/Weser-Ems",
          "Sachsen/Leipzig",
          "Sachsen/Leipzig",
          "Nordrhein-Westfalen/Köln",
          "Bayern/Oberfranken",
          "Hessen/Gießen",
          "Bayern/Schwaben",
          "Nordrhein-Westfalen/Detmold",
          "Baden-Württemberg/Stuttgart",
          "Rheinland-Pfalz/Rheinhessen-Pfalz",
          "Mecklenburg-Vorpommern/Mecklenburg-Vorpommern",
          "Sachsen/Dresden",
          "Baden-Württemberg/Freiburg",
          "Schleswig-Holstein/Schleswig-Holstein",
          "Niedersachsen/Luneburg",
          "Niedersachsen/Luneburg",
          "Sachsen-Anhalt/Magdeburg",
          "Hessen/Darmstadt",
          "Bayern/Unterfranken",
          "Baden-Württemberg/Stuttgart",
          "Hessen/Darmstadt",
          "Rheinland-Pfalz/Rheinhessen-Pfalz",
          "Rheinland-Pfalz/Rheinhessen-Pfalz",
          "Baden-Württemberg/Karlsruhe",
          "Sachsen-Anhalt/Halle",
          "Hessen/Gießen",
          "Rheinland-Pfalz/Koblenz",
          "Mecklenburg-Vorpommern/Mecklenburg-Vorpommern",
          "Sachsen/Dresden",
          "Bayern/Schwaben",
          "Sachsen-Anhalt/Halle",
          "Saarland/Saarland",
          "Nordrhein-Westfalen/Düsseldorf",
          "Bayern/Oberbayern",
          "Bayern/Unterfranken",
          "Nordrhein-Westfalen/Detmold",
          "Sachsen/Chemnitz",
          "Sachsen/Chemnitz",
          "Sachsen/Leipzig",
          "Bayern/Oberbayern",
          "Brandenburg/Brandenburg",
          "Nordrhein-Westfalen/Arnsberg",
          "Nordrhein-Westfalen/Düsseldorf",
          "Bayern/Oberbayern",
          "Nordrhein-Westfalen/Düsseldorf",
          "Bayern/Oberbayern",
          "Nordrhein-Westfalen/Munster",
          "Mecklenburg-Vorpommern/Mecklenburg-Vorpommern",
          "Baden-Württemberg/Karlsruhe",
          "Bayern/Schwaben",
          "Mecklenburg-Vorpommern/Mecklenburg-Vorpommern",
          "Bayern/Oberbayern",
          "Bayern/Oberpfalz",
          "Schleswig-Holstein/Schleswig-Holstein",
          "Saarland/Saarland",
          "Bayern/Oberpfalz",
          "Rheinland-Pfalz/Rheinhessen-Pfalz",
          "Bayern/Mittelfranken",
          "Rheinland-Pfalz/Koblenz",
          "Sachsen/Dresden",
          "Niedersachsen/Hannover",
          "Schleswig-Holstein/Schleswig-Holstein",
          "Thüringen/Thüringen",
          "Mecklenburg-Vorpommern/Mecklenburg-Vorpommern",
          "Mecklenburg-Vorpommern/Mecklenburg-Vorpommern",
          "Niedersachsen/Braunschweig",
          "Bayern/Mittelfranken",
          "Bayern/Mittelfranken",
          "Bayern/Schwaben",
          "Nordrhein-Westfalen/Köln",
          "Nordrhein-Westfalen/Düsseldorf",
          "Brandenburg/Brandenburg",
          "Brandenburg/Brandenburg",
          "Hessen/Darmstadt",
          "Brandenburg/Brandenburg",
          "Hessen/Darmstadt",
          "Hessen/Darmstadt",
          "Sachsen-Anhalt/Magdeburg",
          "Niedersachsen/Weser-Ems",
          "Niedersachsen/Weser-Ems",
          "Nordrhein-Westfalen/Arnsberg",
          "Baden-Württemberg/Freiburg",
          "Niedersachsen/Weser-Ems",
          "Niedersachsen/Weser-Ems",
          "Baden-Württemberg/Stuttgart",
          "Bayern/Schwaben",
          "Niedersachsen/Luneburg",
          "Niedersachsen/Braunschweig",
          "Schleswig-Holstein/Schleswig-Holstein",
          "Brandenburg/Brandenburg",
          "Mecklenburg-Vorpommern/Mecklenburg-Vorpommern",
          "Nordrhein-Westfalen/Detmold",
          "Mecklenburg-Vorpommern/Mecklenburg-Vorpommern",
          "Bayern/Niederbayern",
          "Bayern/Niederbayern",
          "Niedersachsen/Braunschweig",
          "Bayern/Oberbayern",
          "Baden-Württemberg/Karlsruhe",
          "Schleswig-Holstein/Schleswig-Holstein",
          "Sachsen/Chemnitz",
          "Schleswig-Holstein/Schleswig-Holstein",
          "Brandenburg/Brandenburg",
          "Brandenburg/Brandenburg",
          "Brandenburg/Brandenburg",
          "Sachsen-Anhalt/Magdeburg",
          "Baden-Württemberg/Karlsruhe",
          "Baden-Württemberg/Tübingen",
          "Nordrhein-Westfalen/Munster",
          "Bayern/Niederbayern",
          "Bayern/Oberpfalz",
          "Bayern/Oberpfalz",
          "Baden-Württemberg/Stuttgart",
          "Nordrhein-Westfalen/Düsseldorf",
          "Schleswig-Holstein/Schleswig-Holstein",
          "Baden-Württemberg/Tübingen",
          "Nordrhein-Westfalen/Köln",
          "Rheinland-Pfalz/Koblenz",
          "Nordrhein-Westfalen/Düsseldorf",
          "Rheinland-Pfalz/Koblenz",
          "Baden-Württemberg/Karlsruhe",
          "Rheinland-Pfalz/Rheinhessen-Pfalz",
          "Nordrhein-Westfalen/Köln",
          "Hessen/Darmstadt",
          "Nordrhein-Westfalen/Köln",
          "Bayern/Unterfranken",
          "Sachsen/Dresden",
          "Bayern/Oberbayern",
          "Bayern/Oberbayern",
          "Mecklenburg-Vorpommern/Mecklenburg-Vorpommern",
          "Niedersachsen/Luneburg",
          "Bayern/Mittelfranken",
          "Bayern/Niederbayern",
          "Baden-Württemberg/Freiburg",
          "Mecklenburg-Vorpommern/Mecklenburg-Vorpommern",
          "Thüringen/Thüringen",
          "Thüringen/Thüringen",
          "Thüringen/Thüringen",
          "Sachsen-Anhalt/Halle",
          "Saarland/Saarland",
          "Saarland/Saarland",
          "Saarland/Saarland",
          "Niedersachsen/Braunschweig",
          "Sachsen-Anhalt/Halle",
          "Saarland/Saarland",
          "Niedersachsen/Hannover",
          "Schleswig-Holstein/Schleswig-Holstein",
          "Thüringen/Thüringen",
          "Bayern/Mittelfranken",
          "Hessen/Kassel",
          "Bayern/Oberpfalz",
          "Baden-Württemberg/Freiburg",
          "Bayern/Unterfranken",
          "Bayern/Unterfranken",
          "Mecklenburg-Vorpommern/Mecklenburg-Vorpommern",
          "Baden-Württemberg/Stuttgart",
          "Sachsen-Anhalt/Magdeburg",
          "Schleswig-Holstein/Schleswig-Holstein",
          "Nordrhein-Westfalen/Arnsberg",
          "Baden-Württemberg/Tübingen",
          "Nordrhein-Westfalen/Arnsberg",
          "Nordrhein-Westfalen/Düsseldorf",
          "Niedersachsen/Luneburg",
          "Thüringen/Thüringen",
          "Rheinland-Pfalz/Rheinhessen-Pfalz",
          "Brandenburg/Brandenburg",
          "Niedersachsen/Luneburg",
          "Bayern/Oberbayern",
          "Schleswig-Holstein/Schleswig-Holstein",
          "Nordrhein-Westfalen/Munster",
          "Sachsen-Anhalt/Magdeburg",
          "Sachsen/Chemnitz",
          "Schleswig-Holstein/Schleswig-Holstein",
          "Mecklenburg-Vorpommern/Mecklenburg-Vorpommern",
          "Bayern/Niederbayern",
          "Bayern/Niederbayern",
          "Baden-Württemberg/Stuttgart",
          "Thüringen/Thüringen",
          "Sachsen/Dresden",
          "Thüringen/Thüringen",
          "Rheinland-Pfalz/Rheinhessen-Pfalz",
          "Rheinland-Pfalz/Rheinhessen-Pfalz",
          "Brandenburg/Brandenburg",
          "Bayern/Oberpfalz",
          "Sachsen/Leipzig",
          "Bayern/Oberbayern",
          "Rheinland-Pfalz/Trier",
          "Rheinland-Pfalz/Trier",
          "Baden-Württemberg/Freiburg",
          "Baden-Württemberg/Tübingen",
          "Brandenburg/Brandenburg",
          "Mecklenburg-Vorpommern/Mecklenburg-Vorpommern",
          "Niedersachsen/Luneburg",
          "Baden-Württemberg/Tübingen",
          "Nordrhein-Westfalen/Arnsberg",
          "Thüringen/Thüringen",
          "Bayern/Schwaben",
          "Niedersachsen/Weser-Ems",
          "Niedersachsen/Luneburg",
          "Nordrhein-Westfalen/Düsseldorf",
          "Hessen/Gießen",
          "Sachsen/Chemnitz",
          "Rheinland-Pfalz/Trier",
          "Hessen/Kassel",
          "Baden-Württemberg/Freiburg",
          "Nordrhein-Westfalen/Munster",
          "Thüringen/Thüringen",
          "Bayern/Oberpfalz",
          "Bayern/Oberbayern",
          "Thüringen/Thüringen",
          "Thüringen/Thüringen",
          "Bayern/Mittelfranken",
          "Sachsen-Anhalt/Halle",
          "Sachsen/Dresden",
          "Sachsen-Anhalt/Magdeburg",
          "Hessen/Kassel",
          "Nordrhein-Westfalen/Düsseldorf",
          "Niedersachsen/Weser-Ems",
          "Rheinland-Pfalz/Koblenz",
          "Hessen/Darmstadt",
          "Hessen/Darmstadt",
          "Niedersachsen/Weser-Ems",
          "Mecklenburg-Vorpommern/Mecklenburg-Vorpommern",
          "Sachsen-Anhalt/Dessau",
          "Niedersachsen/Weser-Ems",
          "Niedersachsen/Braunschweig",
          "Niedersachsen/Braunschweig",
          "Rheinland-Pfalz/Rheinhessen-Pfalz",
          "Bayern/Oberfranken",
          "Nordrhein-Westfalen/Düsseldorf",
          "Bayern/Unterfranken",
          "Bayern/Unterfranken",
          "Baden-Württemberg/Tübingen",
          "Rheinland-Pfalz/Rheinhessen-Pfalz",
          "Sachsen/Chemnitz",
          "Sachsen/Chemnitz",
          "Nordrhein-Westfalen",
          "Berlin",
          "Brandenburg",
          "Niedersachsen",
          "Bremen",
          "Sachsen",
          "Hessen",
          "Sachsen-Anhalt",
          "Nordrhein-Westfalen",
          "Sachsen",
          "Nordrhein-Westfalen",
          "Baden-Württemberg",
          "Hessen",
          "Sachsen-Anhalt",
          "Hamburg",
          "Niedersachsen",
          "Baden-Württemberg",
          "Hessen",
          "Rheinland-Pfalz",
          "Nordrhein-Westfalen",
          "Sachsen",
          "Niedersachsen",
          "Sachsen-Anhalt",
          "Mecklenburg-Vorpommern",
          "Bayern",
          "Nordrhein-Westfalen",
          "Bayern",
          "Bayern",
          "Bayern",
          "Bayern",
          "Rheinland-Pfalz",
          "Saarland",
          "Schleswig-Holstein",
          "Bayern",
          "Baden-Württemberg",
          "Thüringen",
          "Rheinland-Pfalz",
          "Baden-Württemberg",
          "Bayern",
          "Niedersachsen",
          "",
          "",
          "",
          "",
          "",
          "",
          "",
          "",
          "",
          "",
          "",
          "",
          "",
          "",
          "",
          ""
         ],
         "type": "sunburst",
         "values": [
          9.72,
          6.98,
          10.74,
          2.02,
          8.45,
          6.13,
          7.94,
          6.56,
          9.42,
          1.14,
          7.55,
          4.41,
          2.42,
          6.24,
          4.68,
          7.14,
          1.89,
          2.37,
          5.97,
          5.97,
          2.02,
          8.81,
          7.11,
          1.94,
          0.56,
          4.69,
          1.03,
          5.42,
          9.05,
          7,
          1.35,
          1.19,
          3.19,
          1.77,
          6.45,
          10.3,
          7.68,
          0.8,
          3.66,
          6.43,
          9.06,
          5.51,
          3.84,
          8.9,
          2.78,
          10.67,
          3.53,
          10.56,
          0.29,
          6.96,
          10.16,
          7.56,
          0,
          1.55,
          9.52,
          0.49,
          1.46,
          2.03,
          9.51,
          4.96,
          6.2,
          3.55,
          7.97,
          0.18,
          4.17,
          10.7,
          1.3,
          5.71,
          4.26,
          3.31,
          1.96,
          9.54,
          6.52,
          2.47,
          4.77,
          10.8,
          2.02,
          4.57,
          0.89,
          2.28,
          5.86,
          8.27,
          6.85,
          9.56,
          8.06,
          3.33,
          9,
          10.48,
          8.3,
          0.39,
          4.05,
          6.6,
          8.4,
          7.77,
          5.36,
          6.22,
          8.87,
          9.14,
          4.61,
          3.39,
          10.1,
          0.81,
          4.89,
          1.79,
          4.12,
          3.87,
          10.45,
          7.6,
          3.37,
          5.13,
          4.02,
          0.21,
          3.98,
          5.32,
          4.91,
          4.97,
          8.32,
          1.67,
          8.19,
          3.72,
          4.4,
          3.18,
          3.49,
          0.91,
          6.82,
          0.12,
          6.85,
          2.66,
          4.68,
          1.98,
          8.33,
          6.36,
          0.96,
          3.14,
          0.66,
          0.49,
          5.97,
          3.82,
          9.77,
          5.97,
          9.61,
          6.34,
          4.5,
          7.79,
          2.77,
          10.35,
          7.82,
          0.84,
          6.17,
          0.35,
          3.02,
          6.14,
          2.26,
          8.77,
          2.79,
          8.49,
          9.84,
          8.48,
          6.9,
          3.1,
          7.08,
          3.21,
          3.31,
          8.42,
          7.33,
          4.95,
          6.53,
          2.4,
          10.16,
          6.89,
          9.39,
          8.1,
          4.58,
          2.74,
          8.39,
          7.25,
          3.5,
          1.17,
          7.7,
          9.28,
          8.43,
          8.3,
          5.54,
          4.24,
          7.91,
          7.71,
          2.43,
          2.53,
          7.15,
          0.07,
          9.24,
          5.56,
          7.23,
          5.18,
          7.12,
          5.81,
          3.83,
          7.94,
          4.25,
          7.12,
          7.96,
          2.63,
          6.23,
          8.43,
          10.12,
          9.01,
          9.86,
          7.33,
          9.48,
          9.48,
          2.38,
          8.25,
          10.38,
          1.79,
          3.32,
          10.47,
          4.84,
          3.93,
          1.72,
          1.58,
          1.3,
          4.24,
          6.61,
          1.78,
          10.27,
          3.95,
          2.73,
          1.86,
          5.54,
          8.7,
          3.85,
          0.32,
          4.77,
          8.01,
          4.21,
          1.08,
          6.09,
          9.17,
          2.52,
          3.03,
          2.5,
          2.57,
          7.51,
          10.04,
          9.27,
          8.67,
          9.31,
          2.38,
          4.52,
          4.31,
          10.32,
          3.98,
          2.84,
          1.34,
          4.66,
          4.97,
          10.34,
          4.68,
          2.52,
          6.72,
          2.14,
          5.8,
          7.25,
          8.09,
          3.65,
          7.92,
          2.26,
          4.03,
          0.94,
          9.63,
          10.47,
          1.25,
          1.25,
          8.1,
          9.58,
          4.54,
          3.23,
          0.41,
          6.02,
          5.31,
          0.21,
          1.77,
          4.12,
          10.03,
          4.69,
          1.57,
          1.43,
          9.3,
          5.65,
          7.35,
          1.1,
          4.66,
          6.8,
          2.2,
          4.98,
          4.8,
          6.09,
          1.01,
          7.12,
          8.95,
          10.42,
          1.19,
          8.31,
          5.2,
          5.73,
          3.08,
          1.75,
          3,
          8.04,
          5.04,
          8.45,
          0.95,
          3.72,
          9.79,
          7.94,
          8.47,
          4.48,
          5.08,
          2.94,
          1.48,
          3.47,
          4.51,
          9.31,
          10.6,
          5.57,
          3.52,
          9.81,
          9.03,
          9.65,
          0.77,
          6.74,
          8.62,
          1.43,
          2.12,
          3.68,
          9.04,
          10.28,
          5.33,
          0.45,
          2,
          1.99,
          3.46,
          8.14,
          5.15,
          0.42,
          6.31,
          0.19,
          8.44,
          2.53,
          0.41,
          3.91,
          10.62,
          6.3,
          4.09,
          7.65,
          7.33,
          5.68,
          3.92,
          3.14,
          10.91,
          8.54,
          3.45,
          1.65,
          2.12,
          10.28,
          1.63,
          0.45,
          10.49,
          2.41,
          5.8,
          0.28,
          7.09,
          10.9,
          5.85,
          5.75,
          2.81,
          10.68,
          7.6,
          5.09,
          5.57,
          4.18,
          0.73,
          3.09,
          0.32,
          8.54,
          1.85,
          6.28,
          6.23,
          2.41,
          5.46,
          0.54,
          7.66,
          7.99,
          7.96,
          3.42,
          5.53,
          5.73,
          0.79,
          0.73,
          7.87,
          9.03,
          8.33,
          7.37,
          9.87,
          5.93,
          6.51,
          1.66,
          5.34,
          2.97,
          0.06,
          1.45,
          7,
          6.7,
          6.58,
          5.34,
          2.25,
          5.74,
          9.16,
          6.94,
          6.65,
          3.66,
          4.1,
          9.96,
          10.65,
          1.64,
          5.18,
          0.71,
          1.66,
          10.47,
          8.39,
          10.98,
          2.24,
          3.14,
          8.26,
          64.91,
          3.66,
          82.86,
          44.660000000000004,
          9.52,
          62.9,
          68.06,
          36.95,
          47.26,
          55.480000000000004,
          68.17,
          49.17,
          28.959999999999997,
          39.919999999999995,
          2.77,
          34.53,
          69.49,
          47.15,
          74.34,
          68.33,
          27.81,
          62.089999999999996,
          53.33,
          94.53,
          43.15,
          58.980000000000004,
          66.1,
          128.85,
          65.06,
          49.65,
          88.72,
          21.11,
          68.24,
          89.22,
          70.11999999999999,
          121.02,
          31.259999999999998,
          66.18,
          76.23,
          80.39,
          254.96,
          518.26,
          3.66,
          82.86,
          9.52,
          2.77,
          144.17,
          94.53,
          221.67000000000002,
          307.65,
          194.32,
          21.11,
          146.19,
          130.2,
          68.24,
          121.02
         ]
        }
       ],
       "layout": {
        "legend": {
         "tracegroupgap": 0
        },
        "margin": {
         "t": 60
        },
        "template": {
         "data": {
          "bar": [
           {
            "error_x": {
             "color": "#2a3f5f"
            },
            "error_y": {
             "color": "#2a3f5f"
            },
            "marker": {
             "line": {
              "color": "#E5ECF6",
              "width": 0.5
             },
             "pattern": {
              "fillmode": "overlay",
              "size": 10,
              "solidity": 0.2
             }
            },
            "type": "bar"
           }
          ],
          "barpolar": [
           {
            "marker": {
             "line": {
              "color": "#E5ECF6",
              "width": 0.5
             },
             "pattern": {
              "fillmode": "overlay",
              "size": 10,
              "solidity": 0.2
             }
            },
            "type": "barpolar"
           }
          ],
          "carpet": [
           {
            "aaxis": {
             "endlinecolor": "#2a3f5f",
             "gridcolor": "white",
             "linecolor": "white",
             "minorgridcolor": "white",
             "startlinecolor": "#2a3f5f"
            },
            "baxis": {
             "endlinecolor": "#2a3f5f",
             "gridcolor": "white",
             "linecolor": "white",
             "minorgridcolor": "white",
             "startlinecolor": "#2a3f5f"
            },
            "type": "carpet"
           }
          ],
          "choropleth": [
           {
            "colorbar": {
             "outlinewidth": 0,
             "ticks": ""
            },
            "type": "choropleth"
           }
          ],
          "contour": [
           {
            "colorbar": {
             "outlinewidth": 0,
             "ticks": ""
            },
            "colorscale": [
             [
              0,
              "#0d0887"
             ],
             [
              0.1111111111111111,
              "#46039f"
             ],
             [
              0.2222222222222222,
              "#7201a8"
             ],
             [
              0.3333333333333333,
              "#9c179e"
             ],
             [
              0.4444444444444444,
              "#bd3786"
             ],
             [
              0.5555555555555556,
              "#d8576b"
             ],
             [
              0.6666666666666666,
              "#ed7953"
             ],
             [
              0.7777777777777778,
              "#fb9f3a"
             ],
             [
              0.8888888888888888,
              "#fdca26"
             ],
             [
              1,
              "#f0f921"
             ]
            ],
            "type": "contour"
           }
          ],
          "contourcarpet": [
           {
            "colorbar": {
             "outlinewidth": 0,
             "ticks": ""
            },
            "type": "contourcarpet"
           }
          ],
          "heatmap": [
           {
            "colorbar": {
             "outlinewidth": 0,
             "ticks": ""
            },
            "colorscale": [
             [
              0,
              "#0d0887"
             ],
             [
              0.1111111111111111,
              "#46039f"
             ],
             [
              0.2222222222222222,
              "#7201a8"
             ],
             [
              0.3333333333333333,
              "#9c179e"
             ],
             [
              0.4444444444444444,
              "#bd3786"
             ],
             [
              0.5555555555555556,
              "#d8576b"
             ],
             [
              0.6666666666666666,
              "#ed7953"
             ],
             [
              0.7777777777777778,
              "#fb9f3a"
             ],
             [
              0.8888888888888888,
              "#fdca26"
             ],
             [
              1,
              "#f0f921"
             ]
            ],
            "type": "heatmap"
           }
          ],
          "heatmapgl": [
           {
            "colorbar": {
             "outlinewidth": 0,
             "ticks": ""
            },
            "colorscale": [
             [
              0,
              "#0d0887"
             ],
             [
              0.1111111111111111,
              "#46039f"
             ],
             [
              0.2222222222222222,
              "#7201a8"
             ],
             [
              0.3333333333333333,
              "#9c179e"
             ],
             [
              0.4444444444444444,
              "#bd3786"
             ],
             [
              0.5555555555555556,
              "#d8576b"
             ],
             [
              0.6666666666666666,
              "#ed7953"
             ],
             [
              0.7777777777777778,
              "#fb9f3a"
             ],
             [
              0.8888888888888888,
              "#fdca26"
             ],
             [
              1,
              "#f0f921"
             ]
            ],
            "type": "heatmapgl"
           }
          ],
          "histogram": [
           {
            "marker": {
             "pattern": {
              "fillmode": "overlay",
              "size": 10,
              "solidity": 0.2
             }
            },
            "type": "histogram"
           }
          ],
          "histogram2d": [
           {
            "colorbar": {
             "outlinewidth": 0,
             "ticks": ""
            },
            "colorscale": [
             [
              0,
              "#0d0887"
             ],
             [
              0.1111111111111111,
              "#46039f"
             ],
             [
              0.2222222222222222,
              "#7201a8"
             ],
             [
              0.3333333333333333,
              "#9c179e"
             ],
             [
              0.4444444444444444,
              "#bd3786"
             ],
             [
              0.5555555555555556,
              "#d8576b"
             ],
             [
              0.6666666666666666,
              "#ed7953"
             ],
             [
              0.7777777777777778,
              "#fb9f3a"
             ],
             [
              0.8888888888888888,
              "#fdca26"
             ],
             [
              1,
              "#f0f921"
             ]
            ],
            "type": "histogram2d"
           }
          ],
          "histogram2dcontour": [
           {
            "colorbar": {
             "outlinewidth": 0,
             "ticks": ""
            },
            "colorscale": [
             [
              0,
              "#0d0887"
             ],
             [
              0.1111111111111111,
              "#46039f"
             ],
             [
              0.2222222222222222,
              "#7201a8"
             ],
             [
              0.3333333333333333,
              "#9c179e"
             ],
             [
              0.4444444444444444,
              "#bd3786"
             ],
             [
              0.5555555555555556,
              "#d8576b"
             ],
             [
              0.6666666666666666,
              "#ed7953"
             ],
             [
              0.7777777777777778,
              "#fb9f3a"
             ],
             [
              0.8888888888888888,
              "#fdca26"
             ],
             [
              1,
              "#f0f921"
             ]
            ],
            "type": "histogram2dcontour"
           }
          ],
          "mesh3d": [
           {
            "colorbar": {
             "outlinewidth": 0,
             "ticks": ""
            },
            "type": "mesh3d"
           }
          ],
          "parcoords": [
           {
            "line": {
             "colorbar": {
              "outlinewidth": 0,
              "ticks": ""
             }
            },
            "type": "parcoords"
           }
          ],
          "pie": [
           {
            "automargin": true,
            "type": "pie"
           }
          ],
          "scatter": [
           {
            "fillpattern": {
             "fillmode": "overlay",
             "size": 10,
             "solidity": 0.2
            },
            "type": "scatter"
           }
          ],
          "scatter3d": [
           {
            "line": {
             "colorbar": {
              "outlinewidth": 0,
              "ticks": ""
             }
            },
            "marker": {
             "colorbar": {
              "outlinewidth": 0,
              "ticks": ""
             }
            },
            "type": "scatter3d"
           }
          ],
          "scattercarpet": [
           {
            "marker": {
             "colorbar": {
              "outlinewidth": 0,
              "ticks": ""
             }
            },
            "type": "scattercarpet"
           }
          ],
          "scattergeo": [
           {
            "marker": {
             "colorbar": {
              "outlinewidth": 0,
              "ticks": ""
             }
            },
            "type": "scattergeo"
           }
          ],
          "scattergl": [
           {
            "marker": {
             "colorbar": {
              "outlinewidth": 0,
              "ticks": ""
             }
            },
            "type": "scattergl"
           }
          ],
          "scattermapbox": [
           {
            "marker": {
             "colorbar": {
              "outlinewidth": 0,
              "ticks": ""
             }
            },
            "type": "scattermapbox"
           }
          ],
          "scatterpolar": [
           {
            "marker": {
             "colorbar": {
              "outlinewidth": 0,
              "ticks": ""
             }
            },
            "type": "scatterpolar"
           }
          ],
          "scatterpolargl": [
           {
            "marker": {
             "colorbar": {
              "outlinewidth": 0,
              "ticks": ""
             }
            },
            "type": "scatterpolargl"
           }
          ],
          "scatterternary": [
           {
            "marker": {
             "colorbar": {
              "outlinewidth": 0,
              "ticks": ""
             }
            },
            "type": "scatterternary"
           }
          ],
          "surface": [
           {
            "colorbar": {
             "outlinewidth": 0,
             "ticks": ""
            },
            "colorscale": [
             [
              0,
              "#0d0887"
             ],
             [
              0.1111111111111111,
              "#46039f"
             ],
             [
              0.2222222222222222,
              "#7201a8"
             ],
             [
              0.3333333333333333,
              "#9c179e"
             ],
             [
              0.4444444444444444,
              "#bd3786"
             ],
             [
              0.5555555555555556,
              "#d8576b"
             ],
             [
              0.6666666666666666,
              "#ed7953"
             ],
             [
              0.7777777777777778,
              "#fb9f3a"
             ],
             [
              0.8888888888888888,
              "#fdca26"
             ],
             [
              1,
              "#f0f921"
             ]
            ],
            "type": "surface"
           }
          ],
          "table": [
           {
            "cells": {
             "fill": {
              "color": "#EBF0F8"
             },
             "line": {
              "color": "white"
             }
            },
            "header": {
             "fill": {
              "color": "#C8D4E3"
             },
             "line": {
              "color": "white"
             }
            },
            "type": "table"
           }
          ]
         },
         "layout": {
          "annotationdefaults": {
           "arrowcolor": "#2a3f5f",
           "arrowhead": 0,
           "arrowwidth": 1
          },
          "autotypenumbers": "strict",
          "coloraxis": {
           "colorbar": {
            "outlinewidth": 0,
            "ticks": ""
           }
          },
          "colorscale": {
           "diverging": [
            [
             0,
             "#8e0152"
            ],
            [
             0.1,
             "#c51b7d"
            ],
            [
             0.2,
             "#de77ae"
            ],
            [
             0.3,
             "#f1b6da"
            ],
            [
             0.4,
             "#fde0ef"
            ],
            [
             0.5,
             "#f7f7f7"
            ],
            [
             0.6,
             "#e6f5d0"
            ],
            [
             0.7,
             "#b8e186"
            ],
            [
             0.8,
             "#7fbc41"
            ],
            [
             0.9,
             "#4d9221"
            ],
            [
             1,
             "#276419"
            ]
           ],
           "sequential": [
            [
             0,
             "#0d0887"
            ],
            [
             0.1111111111111111,
             "#46039f"
            ],
            [
             0.2222222222222222,
             "#7201a8"
            ],
            [
             0.3333333333333333,
             "#9c179e"
            ],
            [
             0.4444444444444444,
             "#bd3786"
            ],
            [
             0.5555555555555556,
             "#d8576b"
            ],
            [
             0.6666666666666666,
             "#ed7953"
            ],
            [
             0.7777777777777778,
             "#fb9f3a"
            ],
            [
             0.8888888888888888,
             "#fdca26"
            ],
            [
             1,
             "#f0f921"
            ]
           ],
           "sequentialminus": [
            [
             0,
             "#0d0887"
            ],
            [
             0.1111111111111111,
             "#46039f"
            ],
            [
             0.2222222222222222,
             "#7201a8"
            ],
            [
             0.3333333333333333,
             "#9c179e"
            ],
            [
             0.4444444444444444,
             "#bd3786"
            ],
            [
             0.5555555555555556,
             "#d8576b"
            ],
            [
             0.6666666666666666,
             "#ed7953"
            ],
            [
             0.7777777777777778,
             "#fb9f3a"
            ],
            [
             0.8888888888888888,
             "#fdca26"
            ],
            [
             1,
             "#f0f921"
            ]
           ]
          },
          "colorway": [
           "#636efa",
           "#EF553B",
           "#00cc96",
           "#ab63fa",
           "#FFA15A",
           "#19d3f3",
           "#FF6692",
           "#B6E880",
           "#FF97FF",
           "#FECB52"
          ],
          "font": {
           "color": "#2a3f5f"
          },
          "geo": {
           "bgcolor": "white",
           "lakecolor": "white",
           "landcolor": "#E5ECF6",
           "showlakes": true,
           "showland": true,
           "subunitcolor": "white"
          },
          "hoverlabel": {
           "align": "left"
          },
          "hovermode": "closest",
          "mapbox": {
           "style": "light"
          },
          "paper_bgcolor": "white",
          "plot_bgcolor": "#E5ECF6",
          "polar": {
           "angularaxis": {
            "gridcolor": "white",
            "linecolor": "white",
            "ticks": ""
           },
           "bgcolor": "#E5ECF6",
           "radialaxis": {
            "gridcolor": "white",
            "linecolor": "white",
            "ticks": ""
           }
          },
          "scene": {
           "xaxis": {
            "backgroundcolor": "#E5ECF6",
            "gridcolor": "white",
            "gridwidth": 2,
            "linecolor": "white",
            "showbackground": true,
            "ticks": "",
            "zerolinecolor": "white"
           },
           "yaxis": {
            "backgroundcolor": "#E5ECF6",
            "gridcolor": "white",
            "gridwidth": 2,
            "linecolor": "white",
            "showbackground": true,
            "ticks": "",
            "zerolinecolor": "white"
           },
           "zaxis": {
            "backgroundcolor": "#E5ECF6",
            "gridcolor": "white",
            "gridwidth": 2,
            "linecolor": "white",
            "showbackground": true,
            "ticks": "",
            "zerolinecolor": "white"
           }
          },
          "shapedefaults": {
           "line": {
            "color": "#2a3f5f"
           }
          },
          "ternary": {
           "aaxis": {
            "gridcolor": "white",
            "linecolor": "white",
            "ticks": ""
           },
           "baxis": {
            "gridcolor": "white",
            "linecolor": "white",
            "ticks": ""
           },
           "bgcolor": "#E5ECF6",
           "caxis": {
            "gridcolor": "white",
            "linecolor": "white",
            "ticks": ""
           }
          },
          "title": {
           "x": 0.05
          },
          "xaxis": {
           "automargin": true,
           "gridcolor": "white",
           "linecolor": "white",
           "ticks": "",
           "title": {
            "standoff": 15
           },
           "zerolinecolor": "white",
           "zerolinewidth": 2
          },
          "yaxis": {
           "automargin": true,
           "gridcolor": "white",
           "linecolor": "white",
           "ticks": "",
           "title": {
            "standoff": 15
           },
           "zerolinecolor": "white",
           "zerolinewidth": 2
          }
         }
        }
       }
      }
     },
     "metadata": {},
     "output_type": "display_data"
    }
   ],
   "source": [
    "# create sunburst plot\n",
    "Ohren_sunburst = px.sunburst(kreise_df, path=['Bundesland', 'Region', 'Landkreis'], values='avg_Score')\n",
    "Ohren_sunburst.update_traces(insidetextorientation='radial')"
   ]
  },
  {
   "cell_type": "code",
   "execution_count": 6,
   "metadata": {},
   "outputs": [
    {
     "data": {
      "application/vnd.plotly.v1+json": {
       "config": {
        "plotlyServerURL": "https://plot.ly"
       },
       "data": [
        {
         "insidetextorientation": "radial",
         "labels": [
          "Niedersachsen",
          "Nordrhein-Westfalen",
          "Baden-Württemberg",
          "Bayern",
          "Berlin",
          "Brandenburg",
          "Bremen",
          "Hamburg",
          "Hessen",
          "Mecklenburg-Vorpommern",
          "Rheinland-Pfalz",
          "Saarland",
          "Sachsen-Anhalt",
          "Sachsen",
          "Schleswig-Holstein",
          "Thüringen",
          "Weser-Ems",
          "Arnsberg",
          "Stuttgart",
          "Tübingen",
          "Mittelfranken",
          "Freiburg",
          "Karlsruhe",
          "Niederbayern",
          "Oberbayern",
          "Oberfranken"
         ],
         "parents": [
          "",
          "",
          "",
          "",
          "",
          "",
          "",
          "",
          "",
          "",
          "",
          "",
          "",
          "",
          "",
          "",
          "Niedersachsen",
          "Nordrhein-Westfalen",
          "Baden-Württemberg",
          "Baden-Württemberg",
          "Bayern",
          "Baden-Württemberg",
          "Baden-Württemberg",
          "Bayern",
          "Bayern",
          "Bayern"
         ],
         "type": "sunburst",
         "values": [
          4.9,
          5.7,
          5.8,
          5.4,
          3.7,
          4.6,
          9.5,
          2.8,
          5.5,
          5.3,
          5.6,
          3.5,
          5.4,
          5.2,
          4.5,
          5.5,
          5,
          5.4,
          5.4,
          7.4,
          3.6,
          4.9,
          5.8,
          5.5,
          5.6,
          5
         ]
        }
       ],
       "layout": {
        "margin": {
         "b": 10,
         "l": 10,
         "r": 10,
         "t": 10
        },
        "template": {
         "data": {
          "bar": [
           {
            "error_x": {
             "color": "#2a3f5f"
            },
            "error_y": {
             "color": "#2a3f5f"
            },
            "marker": {
             "line": {
              "color": "#E5ECF6",
              "width": 0.5
             },
             "pattern": {
              "fillmode": "overlay",
              "size": 10,
              "solidity": 0.2
             }
            },
            "type": "bar"
           }
          ],
          "barpolar": [
           {
            "marker": {
             "line": {
              "color": "#E5ECF6",
              "width": 0.5
             },
             "pattern": {
              "fillmode": "overlay",
              "size": 10,
              "solidity": 0.2
             }
            },
            "type": "barpolar"
           }
          ],
          "carpet": [
           {
            "aaxis": {
             "endlinecolor": "#2a3f5f",
             "gridcolor": "white",
             "linecolor": "white",
             "minorgridcolor": "white",
             "startlinecolor": "#2a3f5f"
            },
            "baxis": {
             "endlinecolor": "#2a3f5f",
             "gridcolor": "white",
             "linecolor": "white",
             "minorgridcolor": "white",
             "startlinecolor": "#2a3f5f"
            },
            "type": "carpet"
           }
          ],
          "choropleth": [
           {
            "colorbar": {
             "outlinewidth": 0,
             "ticks": ""
            },
            "type": "choropleth"
           }
          ],
          "contour": [
           {
            "colorbar": {
             "outlinewidth": 0,
             "ticks": ""
            },
            "colorscale": [
             [
              0,
              "#0d0887"
             ],
             [
              0.1111111111111111,
              "#46039f"
             ],
             [
              0.2222222222222222,
              "#7201a8"
             ],
             [
              0.3333333333333333,
              "#9c179e"
             ],
             [
              0.4444444444444444,
              "#bd3786"
             ],
             [
              0.5555555555555556,
              "#d8576b"
             ],
             [
              0.6666666666666666,
              "#ed7953"
             ],
             [
              0.7777777777777778,
              "#fb9f3a"
             ],
             [
              0.8888888888888888,
              "#fdca26"
             ],
             [
              1,
              "#f0f921"
             ]
            ],
            "type": "contour"
           }
          ],
          "contourcarpet": [
           {
            "colorbar": {
             "outlinewidth": 0,
             "ticks": ""
            },
            "type": "contourcarpet"
           }
          ],
          "heatmap": [
           {
            "colorbar": {
             "outlinewidth": 0,
             "ticks": ""
            },
            "colorscale": [
             [
              0,
              "#0d0887"
             ],
             [
              0.1111111111111111,
              "#46039f"
             ],
             [
              0.2222222222222222,
              "#7201a8"
             ],
             [
              0.3333333333333333,
              "#9c179e"
             ],
             [
              0.4444444444444444,
              "#bd3786"
             ],
             [
              0.5555555555555556,
              "#d8576b"
             ],
             [
              0.6666666666666666,
              "#ed7953"
             ],
             [
              0.7777777777777778,
              "#fb9f3a"
             ],
             [
              0.8888888888888888,
              "#fdca26"
             ],
             [
              1,
              "#f0f921"
             ]
            ],
            "type": "heatmap"
           }
          ],
          "heatmapgl": [
           {
            "colorbar": {
             "outlinewidth": 0,
             "ticks": ""
            },
            "colorscale": [
             [
              0,
              "#0d0887"
             ],
             [
              0.1111111111111111,
              "#46039f"
             ],
             [
              0.2222222222222222,
              "#7201a8"
             ],
             [
              0.3333333333333333,
              "#9c179e"
             ],
             [
              0.4444444444444444,
              "#bd3786"
             ],
             [
              0.5555555555555556,
              "#d8576b"
             ],
             [
              0.6666666666666666,
              "#ed7953"
             ],
             [
              0.7777777777777778,
              "#fb9f3a"
             ],
             [
              0.8888888888888888,
              "#fdca26"
             ],
             [
              1,
              "#f0f921"
             ]
            ],
            "type": "heatmapgl"
           }
          ],
          "histogram": [
           {
            "marker": {
             "pattern": {
              "fillmode": "overlay",
              "size": 10,
              "solidity": 0.2
             }
            },
            "type": "histogram"
           }
          ],
          "histogram2d": [
           {
            "colorbar": {
             "outlinewidth": 0,
             "ticks": ""
            },
            "colorscale": [
             [
              0,
              "#0d0887"
             ],
             [
              0.1111111111111111,
              "#46039f"
             ],
             [
              0.2222222222222222,
              "#7201a8"
             ],
             [
              0.3333333333333333,
              "#9c179e"
             ],
             [
              0.4444444444444444,
              "#bd3786"
             ],
             [
              0.5555555555555556,
              "#d8576b"
             ],
             [
              0.6666666666666666,
              "#ed7953"
             ],
             [
              0.7777777777777778,
              "#fb9f3a"
             ],
             [
              0.8888888888888888,
              "#fdca26"
             ],
             [
              1,
              "#f0f921"
             ]
            ],
            "type": "histogram2d"
           }
          ],
          "histogram2dcontour": [
           {
            "colorbar": {
             "outlinewidth": 0,
             "ticks": ""
            },
            "colorscale": [
             [
              0,
              "#0d0887"
             ],
             [
              0.1111111111111111,
              "#46039f"
             ],
             [
              0.2222222222222222,
              "#7201a8"
             ],
             [
              0.3333333333333333,
              "#9c179e"
             ],
             [
              0.4444444444444444,
              "#bd3786"
             ],
             [
              0.5555555555555556,
              "#d8576b"
             ],
             [
              0.6666666666666666,
              "#ed7953"
             ],
             [
              0.7777777777777778,
              "#fb9f3a"
             ],
             [
              0.8888888888888888,
              "#fdca26"
             ],
             [
              1,
              "#f0f921"
             ]
            ],
            "type": "histogram2dcontour"
           }
          ],
          "mesh3d": [
           {
            "colorbar": {
             "outlinewidth": 0,
             "ticks": ""
            },
            "type": "mesh3d"
           }
          ],
          "parcoords": [
           {
            "line": {
             "colorbar": {
              "outlinewidth": 0,
              "ticks": ""
             }
            },
            "type": "parcoords"
           }
          ],
          "pie": [
           {
            "automargin": true,
            "type": "pie"
           }
          ],
          "scatter": [
           {
            "fillpattern": {
             "fillmode": "overlay",
             "size": 10,
             "solidity": 0.2
            },
            "type": "scatter"
           }
          ],
          "scatter3d": [
           {
            "line": {
             "colorbar": {
              "outlinewidth": 0,
              "ticks": ""
             }
            },
            "marker": {
             "colorbar": {
              "outlinewidth": 0,
              "ticks": ""
             }
            },
            "type": "scatter3d"
           }
          ],
          "scattercarpet": [
           {
            "marker": {
             "colorbar": {
              "outlinewidth": 0,
              "ticks": ""
             }
            },
            "type": "scattercarpet"
           }
          ],
          "scattergeo": [
           {
            "marker": {
             "colorbar": {
              "outlinewidth": 0,
              "ticks": ""
             }
            },
            "type": "scattergeo"
           }
          ],
          "scattergl": [
           {
            "marker": {
             "colorbar": {
              "outlinewidth": 0,
              "ticks": ""
             }
            },
            "type": "scattergl"
           }
          ],
          "scattermapbox": [
           {
            "marker": {
             "colorbar": {
              "outlinewidth": 0,
              "ticks": ""
             }
            },
            "type": "scattermapbox"
           }
          ],
          "scatterpolar": [
           {
            "marker": {
             "colorbar": {
              "outlinewidth": 0,
              "ticks": ""
             }
            },
            "type": "scatterpolar"
           }
          ],
          "scatterpolargl": [
           {
            "marker": {
             "colorbar": {
              "outlinewidth": 0,
              "ticks": ""
             }
            },
            "type": "scatterpolargl"
           }
          ],
          "scatterternary": [
           {
            "marker": {
             "colorbar": {
              "outlinewidth": 0,
              "ticks": ""
             }
            },
            "type": "scatterternary"
           }
          ],
          "surface": [
           {
            "colorbar": {
             "outlinewidth": 0,
             "ticks": ""
            },
            "colorscale": [
             [
              0,
              "#0d0887"
             ],
             [
              0.1111111111111111,
              "#46039f"
             ],
             [
              0.2222222222222222,
              "#7201a8"
             ],
             [
              0.3333333333333333,
              "#9c179e"
             ],
             [
              0.4444444444444444,
              "#bd3786"
             ],
             [
              0.5555555555555556,
              "#d8576b"
             ],
             [
              0.6666666666666666,
              "#ed7953"
             ],
             [
              0.7777777777777778,
              "#fb9f3a"
             ],
             [
              0.8888888888888888,
              "#fdca26"
             ],
             [
              1,
              "#f0f921"
             ]
            ],
            "type": "surface"
           }
          ],
          "table": [
           {
            "cells": {
             "fill": {
              "color": "#EBF0F8"
             },
             "line": {
              "color": "white"
             }
            },
            "header": {
             "fill": {
              "color": "#C8D4E3"
             },
             "line": {
              "color": "white"
             }
            },
            "type": "table"
           }
          ]
         },
         "layout": {
          "annotationdefaults": {
           "arrowcolor": "#2a3f5f",
           "arrowhead": 0,
           "arrowwidth": 1
          },
          "autotypenumbers": "strict",
          "coloraxis": {
           "colorbar": {
            "outlinewidth": 0,
            "ticks": ""
           }
          },
          "colorscale": {
           "diverging": [
            [
             0,
             "#8e0152"
            ],
            [
             0.1,
             "#c51b7d"
            ],
            [
             0.2,
             "#de77ae"
            ],
            [
             0.3,
             "#f1b6da"
            ],
            [
             0.4,
             "#fde0ef"
            ],
            [
             0.5,
             "#f7f7f7"
            ],
            [
             0.6,
             "#e6f5d0"
            ],
            [
             0.7,
             "#b8e186"
            ],
            [
             0.8,
             "#7fbc41"
            ],
            [
             0.9,
             "#4d9221"
            ],
            [
             1,
             "#276419"
            ]
           ],
           "sequential": [
            [
             0,
             "#0d0887"
            ],
            [
             0.1111111111111111,
             "#46039f"
            ],
            [
             0.2222222222222222,
             "#7201a8"
            ],
            [
             0.3333333333333333,
             "#9c179e"
            ],
            [
             0.4444444444444444,
             "#bd3786"
            ],
            [
             0.5555555555555556,
             "#d8576b"
            ],
            [
             0.6666666666666666,
             "#ed7953"
            ],
            [
             0.7777777777777778,
             "#fb9f3a"
            ],
            [
             0.8888888888888888,
             "#fdca26"
            ],
            [
             1,
             "#f0f921"
            ]
           ],
           "sequentialminus": [
            [
             0,
             "#0d0887"
            ],
            [
             0.1111111111111111,
             "#46039f"
            ],
            [
             0.2222222222222222,
             "#7201a8"
            ],
            [
             0.3333333333333333,
             "#9c179e"
            ],
            [
             0.4444444444444444,
             "#bd3786"
            ],
            [
             0.5555555555555556,
             "#d8576b"
            ],
            [
             0.6666666666666666,
             "#ed7953"
            ],
            [
             0.7777777777777778,
             "#fb9f3a"
            ],
            [
             0.8888888888888888,
             "#fdca26"
            ],
            [
             1,
             "#f0f921"
            ]
           ]
          },
          "colorway": [
           "#636efa",
           "#EF553B",
           "#00cc96",
           "#ab63fa",
           "#FFA15A",
           "#19d3f3",
           "#FF6692",
           "#B6E880",
           "#FF97FF",
           "#FECB52"
          ],
          "font": {
           "color": "#2a3f5f"
          },
          "geo": {
           "bgcolor": "white",
           "lakecolor": "white",
           "landcolor": "#E5ECF6",
           "showlakes": true,
           "showland": true,
           "subunitcolor": "white"
          },
          "hoverlabel": {
           "align": "left"
          },
          "hovermode": "closest",
          "mapbox": {
           "style": "light"
          },
          "paper_bgcolor": "white",
          "plot_bgcolor": "#E5ECF6",
          "polar": {
           "angularaxis": {
            "gridcolor": "white",
            "linecolor": "white",
            "ticks": ""
           },
           "bgcolor": "#E5ECF6",
           "radialaxis": {
            "gridcolor": "white",
            "linecolor": "white",
            "ticks": ""
           }
          },
          "scene": {
           "xaxis": {
            "backgroundcolor": "#E5ECF6",
            "gridcolor": "white",
            "gridwidth": 2,
            "linecolor": "white",
            "showbackground": true,
            "ticks": "",
            "zerolinecolor": "white"
           },
           "yaxis": {
            "backgroundcolor": "#E5ECF6",
            "gridcolor": "white",
            "gridwidth": 2,
            "linecolor": "white",
            "showbackground": true,
            "ticks": "",
            "zerolinecolor": "white"
           },
           "zaxis": {
            "backgroundcolor": "#E5ECF6",
            "gridcolor": "white",
            "gridwidth": 2,
            "linecolor": "white",
            "showbackground": true,
            "ticks": "",
            "zerolinecolor": "white"
           }
          },
          "shapedefaults": {
           "line": {
            "color": "#2a3f5f"
           }
          },
          "ternary": {
           "aaxis": {
            "gridcolor": "white",
            "linecolor": "white",
            "ticks": ""
           },
           "baxis": {
            "gridcolor": "white",
            "linecolor": "white",
            "ticks": ""
           },
           "bgcolor": "#E5ECF6",
           "caxis": {
            "gridcolor": "white",
            "linecolor": "white",
            "ticks": ""
           }
          },
          "title": {
           "x": 0.05
          },
          "xaxis": {
           "automargin": true,
           "gridcolor": "white",
           "linecolor": "white",
           "ticks": "",
           "title": {
            "standoff": 15
           },
           "zerolinecolor": "white",
           "zerolinewidth": 2
          },
          "yaxis": {
           "automargin": true,
           "gridcolor": "white",
           "linecolor": "white",
           "ticks": "",
           "title": {
            "standoff": 15
           },
           "zerolinecolor": "white",
           "zerolinewidth": 2
          }
         }
        }
       }
      }
     },
     "metadata": {},
     "output_type": "display_data"
    }
   ],
   "source": [
    "fig =go.Figure(go.Sunburst(\n",
    "    labels=labels[:26],\n",
    "    parents=parents[:26],\n",
    "    values=values[:26],\n",
    "    insidetextorientation='radial'\n",
    "))\n",
    "# Update layout for tight margin\n",
    "fig.update_layout(margin = dict(t=10, l=10, r=10, b=10))\n",
    "\n",
    "fig.show()"
   ]
  },
  {
   "cell_type": "code",
   "execution_count": 7,
   "metadata": {},
   "outputs": [],
   "source": [
    "app = Dash(__name__, external_stylesheets = [dbc.themes.LITERA])"
   ]
  },
  {
   "cell_type": "code",
   "execution_count": 8,
   "metadata": {},
   "outputs": [],
   "source": [
    "# the style arguments for the sidebar. We use position:fixed and a fixed width\n",
    "SIDEBAR_STYLE = {\n",
    "    \"position\": \"fixed\",\n",
    "    \"top\": 0,\n",
    "    \"left\": 0,\n",
    "    \"bottom\": 0,\n",
    "    \"width\": \"26rem\",\n",
    "    \"padding\": \"2rem 1rem\",\n",
    "    \"background-color\": \"#f8f9fa\",\n",
    "}\n",
    "\n",
    "# the styles for the main content position it to the right of the sidebar and add some padding.\n",
    "CONTENT_STYLE = {\n",
    "    \"margin-left\": \"28rem\",\n",
    "    \"margin-right\": \"2rem\",\n",
    "    \"padding\": \"2rem 1rem\",\n",
    "}"
   ]
  },
  {
   "cell_type": "code",
   "execution_count": 11,
   "metadata": {},
   "outputs": [],
   "source": [
    "sidebar = html.Div(\n",
    "    [\n",
    "        html.H3('Willkommen auf dem Dashboard für PV-Nutzung in \"Ohren\"'),\n",
    "        html.Hr(),\n",
    "        html.P(\n",
    "            'Erkunden Sie die Potenziale einzelner Ohren', className=\"lead\"\n",
    "        ),\n",
    "                # Links und Erklärungen\n",
    "        dbc.Row([\n",
    "\n",
    "            dbc.Col(dmc.Button(\"GitHub Repo\",\n",
    "                                        leftIcon=[DashIconify(icon=\"bi:github\")],\n",
    "                                        #href=\"https://github.com/felixschulz385/ds_project\",\n",
    "                                        )),\n",
    "\n",
    "             dbc.Col(dmc.Button(\"How it started\",\n",
    "                                        leftIcon=[DashIconify(icon=\"bi:newspaper\")],\n",
    "                                        #href=\"https://www.badische-zeitung.de/ob-palmer-will-solaranlagen-auf-freien-stellen-neben-bundesstrassen--211487616.html\",\n",
    "                                        )),\n",
    "    ])\n",
    "], style=SIDEBAR_STYLE)"
   ]
  },
  {
   "cell_type": "code",
   "execution_count": 12,
   "metadata": {},
   "outputs": [],
   "source": [
    "# change to app.layout if running as single page app instead\n",
    "content = html.Div([\n",
    "    dbc.Container([\n",
    "        # Überschriften & Einleitung\n",
    "        dbc.Row([\n",
    "            dbc.Col(html.H1(\"Lustnauer 'Ohren' skaliert auf ganz Deutschland\", className=\"text-center\")\n",
    "                    , className=\"mb-5 mt-5\")\n",
    "        ]),\n",
    "        dbc.Row([\n",
    "            dbc.Col(html.H5(children='Erkennen von ungenutzten Potenzialen in ungenutzten Flächen.'\n",
    "                                     )\n",
    "                    , className=\"mb-4\")\n",
    "            ]),\n",
    "\n",
    "        dbc.Row([\n",
    "            dbc.Col(html.H5(children='Auf der zweiten Seite wird eine interaktive Karte dargestellt, welche die verschiedenen Ohren ranked'\n",
    "                                     'Die dritte Seite präsentiert dieselben Daten in tabellarischer Form, zum erkunden und nachschlagen.')\n",
    "                    , className=\"mb-5\")\n",
    "        ]),\n",
    "\n",
    "        # Sunburst Plot\n",
    "        dbc.Row([\n",
    "            dcc.Graph(figure = Ohren_sunburst)\n",
    "        ])\n",
    "\n",
    "    ])\n",
    "\n",
    "], style=CONTENT_STYLE)"
   ]
  },
  {
   "cell_type": "code",
   "execution_count": 13,
   "metadata": {},
   "outputs": [
    {
     "name": "stdout",
     "output_type": "stream",
     "text": [
      "Dash is running on http://127.0.0.1:8050/\n",
      "\n",
      " * Serving Flask app '__main__'\n",
      " * Debug mode: off\n"
     ]
    },
    {
     "name": "stderr",
     "output_type": "stream",
     "text": [
      "WARNING: This is a development server. Do not use it in a production deployment. Use a production WSGI server instead.\n",
      " * Running on http://127.0.0.1:8050\n",
      "Press CTRL+C to quit\n",
      "127.0.0.1 - - [06/Feb/2023 17:00:57] \"GET / HTTP/1.1\" 200 -\n",
      "127.0.0.1 - - [06/Feb/2023 17:00:58] \"GET /_dash-component-suites/dash_iconify/dash_iconify.v0_1_2m1675698649.min.js HTTP/1.1\" 200 -\n",
      "127.0.0.1 - - [06/Feb/2023 17:00:58] \"GET /_dash-component-suites/dash_mantine_components/dash_mantine_components.v0_11_1m1675699154.js HTTP/1.1\" 200 -\n",
      "127.0.0.1 - - [06/Feb/2023 17:00:58] \"GET /_dash-layout HTTP/1.1\" 200 -\n",
      "127.0.0.1 - - [06/Feb/2023 17:00:58] \"GET /_dash-dependencies HTTP/1.1\" 200 -\n",
      "127.0.0.1 - - [06/Feb/2023 17:00:59] \"GET /_dash-component-suites/dash_iconify/async-DashIconify.v0_1_2m1650551946.js HTTP/1.1\" 200 -\n",
      "127.0.0.1 - - [06/Feb/2023 17:00:59] \"GET /_dash-component-suites/dash/dcc/async-graph.js HTTP/1.1\" 200 -\n",
      "127.0.0.1 - - [06/Feb/2023 17:00:59] \"GET /_dash-component-suites/dash/dcc/async-plotlyjs.js HTTP/1.1\" 304 -\n"
     ]
    }
   ],
   "source": [
    "app.layout = html.Div([sidebar, content])\n",
    "\n",
    "# run app\n",
    "if __name__ == '__main__':\n",
    "    app.run_server()"
   ]
  },
  {
   "attachments": {},
   "cell_type": "markdown",
   "metadata": {},
   "source": [
    "# Test Bereich"
   ]
  }
 ],
 "metadata": {
  "kernelspec": {
   "display_name": "Python 3.10.8 64-bit",
   "language": "python",
   "name": "python3"
  },
  "language_info": {
   "codemirror_mode": {
    "name": "ipython",
    "version": 3
   },
   "file_extension": ".py",
   "mimetype": "text/x-python",
   "name": "python",
   "nbconvert_exporter": "python",
   "pygments_lexer": "ipython3",
   "version": "3.10.8"
  },
  "orig_nbformat": 4,
  "vscode": {
   "interpreter": {
    "hash": "e7370f93d1d0cde622a1f8e1c04877d8463912d04d973331ad4851f04de6915a"
   }
  }
 },
 "nbformat": 4,
 "nbformat_minor": 2
}
