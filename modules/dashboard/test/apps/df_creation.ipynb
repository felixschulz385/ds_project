{
 "cells": [
  {
   "cell_type": "code",
   "execution_count": 1,
   "metadata": {},
   "outputs": [],
   "source": [
    "# libraries\n",
    "import geopandas as gpd\n",
    "import pandas as pd\n",
    "import numpy as np\n",
    "import json\n",
    "import random\n",
    "\n",
    "personal_directory = '/home/jan/Uni/DS-Project/'"
   ]
  },
  {
   "attachments": {},
   "cell_type": "markdown",
   "metadata": {},
   "source": [
    "### create data to show in dashboard\n"
   ]
  },
  {
   "cell_type": "code",
   "execution_count": 2,
   "metadata": {},
   "outputs": [],
   "source": [
    "region_namen = pd.read_csv(personal_directory + 'modules/dashboard/test/apps/assets/region_name_trans.csv')"
   ]
  },
  {
   "cell_type": "code",
   "execution_count": 3,
   "metadata": {},
   "outputs": [],
   "source": [
    "# Gemeinden\n",
    "# Load the GeoJSON file\n",
    "with open(personal_directory + 'modules/dashboard/test/apps/assets/BB_gemeinde_final.json') as f:\n",
    "    geojson = f.read()\n",
    "\n",
    "# Convert the GeoJSON string to a Python dictionary\n",
    "geojson_dict = json.loads(geojson)\n",
    "\n",
    "gemeinde = gpd.GeoDataFrame.from_features(geojson_dict['features'])\n",
    "gemeinde = gemeinde[['NAME_3', 'suitable_area', 'terrain_score', 'irradiation_score', 'distance_score', 'overall_score']]\n",
    "\n",
    "# join df with extra regions\n",
    "region_namen['NAME_3'] = region_namen['NAME_3'].astype('object')\n",
    "gemeinde_df = gemeinde.merge(region_namen, on='NAME_3', how='left')"
   ]
  },
  {
   "cell_type": "code",
   "execution_count": 68,
   "metadata": {},
   "outputs": [
    {
     "name": "stdout",
     "output_type": "stream",
     "text": [
      "0.18052194953335637\n",
      "2089\n"
     ]
    }
   ],
   "source": [
    "print(gemeinde_df['NAME_2'].isna().sum() / len(gemeinde_df.NAME_2))\n",
    "print(gemeinde_df['NAME_2'].isna().sum())"
   ]
  },
  {
   "cell_type": "code",
   "execution_count": 69,
   "metadata": {},
   "outputs": [],
   "source": [
    "# Kreise\n",
    "# Load the GeoJSON file\n",
    "with open(personal_directory + 'modules/dashboard/test/apps/assets/BB_kreis_final.json') as f:\n",
    "    geojson = f.read()\n",
    "\n",
    "# Convert the GeoJSON string to a Python dictionary\n",
    "geojson_dict = json.loads(geojson)\n",
    "\n",
    "kreise = gpd.GeoDataFrame.from_features(geojson_dict['features'])\n",
    "kreise = kreise[['NAME_2', 'terrain_score', 'irradiation_score', 'distance_score', 'overall_score']]\n",
    "\n",
    "# join df with extra regions\n",
    "region_namen['NAME_2'] = region_namen['NAME_2'].astype('object')\n",
    "kreise_df = kreise.merge(region_namen[['NAME_1', 'NAME_2']], on='NAME_2', how='left')"
   ]
  },
  {
   "cell_type": "code",
   "execution_count": 70,
   "metadata": {},
   "outputs": [
    {
     "data": {
      "text/plain": [
       "0"
      ]
     },
     "execution_count": 70,
     "metadata": {},
     "output_type": "execute_result"
    }
   ],
   "source": [
    "kreise_df['NAME_1'].isna().sum()"
   ]
  },
  {
   "cell_type": "code",
   "execution_count": 71,
   "metadata": {},
   "outputs": [],
   "source": [
    "# Zusatzinfos\n",
    "# Load the GeoJSON file\n",
    "with open(personal_directory + 'data/Maps/georef-germany-gemeinde-millesime.geojson') as f:\n",
    "    geojson = f.read()\n",
    "\n",
    "# Convert the GeoJSON string to a Python dictionary\n",
    "geojson_dict = json.loads(geojson)\n",
    "zusatz = gpd.GeoDataFrame.from_features(geojson_dict['features'])\n",
    "zusatz = zusatz[['lan_name', 'krs_name', 'gem_name_short']]\n",
    "\n",
    "zusatz = zusatz.astype(str)  # convert each element to string\n",
    "zusatz = zusatz.applymap(lambda x: x.strip(\"['']\"))  # remove brackets from all columns\n",
    "zusatz['krs_name'] = zusatz['krs_name'].apply(lambda x: x.split(' ', 1)[1])  # split the second column and keep only the second part\n",
    "zusatz = zusatz[['lan_name', 'krs_name', 'gem_name_short']]  # select desired columns\n",
    "\n",
    "# rename columns\n",
    "# create a dictionary of the new column names\n",
    "new_columns = {'lan_name': 'NAME_1', 'krs_name': 'NAME_2', 'gem_name_short': 'NAME_3'}\n",
    "\n",
    "# rename the columns using the rename() method\n",
    "zusatz = zusatz.rename(columns=new_columns)"
   ]
  },
  {
   "cell_type": "code",
   "execution_count": 72,
   "metadata": {},
   "outputs": [
    {
     "data": {
      "text/html": [
       "<div>\n",
       "<style scoped>\n",
       "    .dataframe tbody tr th:only-of-type {\n",
       "        vertical-align: middle;\n",
       "    }\n",
       "\n",
       "    .dataframe tbody tr th {\n",
       "        vertical-align: top;\n",
       "    }\n",
       "\n",
       "    .dataframe thead th {\n",
       "        text-align: right;\n",
       "    }\n",
       "</style>\n",
       "<table border=\"1\" class=\"dataframe\">\n",
       "  <thead>\n",
       "    <tr style=\"text-align: right;\">\n",
       "      <th></th>\n",
       "      <th>NAME_1</th>\n",
       "      <th>NAME_2</th>\n",
       "      <th>NAME_3</th>\n",
       "    </tr>\n",
       "  </thead>\n",
       "  <tbody>\n",
       "    <tr>\n",
       "      <th>0</th>\n",
       "      <td>Saarland</td>\n",
       "      <td>Saarlouis</td>\n",
       "      <td>Rehlingen-Siersburg</td>\n",
       "    </tr>\n",
       "    <tr>\n",
       "      <th>1</th>\n",
       "      <td>Saarland</td>\n",
       "      <td>Saarpfalz-Kreis</td>\n",
       "      <td>Mandelbachtal</td>\n",
       "    </tr>\n",
       "    <tr>\n",
       "      <th>2</th>\n",
       "      <td>Brandenburg</td>\n",
       "      <td>Dahme-Spreewald</td>\n",
       "      <td>Neu Zauche</td>\n",
       "    </tr>\n",
       "    <tr>\n",
       "      <th>3</th>\n",
       "      <td>Brandenburg</td>\n",
       "      <td>Dahme-Spreewald</td>\n",
       "      <td>Steinreich</td>\n",
       "    </tr>\n",
       "    <tr>\n",
       "      <th>4</th>\n",
       "      <td>Brandenburg</td>\n",
       "      <td>Elbe-Elster</td>\n",
       "      <td>Schönborn</td>\n",
       "    </tr>\n",
       "  </tbody>\n",
       "</table>\n",
       "</div>"
      ],
      "text/plain": [
       "        NAME_1           NAME_2               NAME_3\n",
       "0     Saarland        Saarlouis  Rehlingen-Siersburg\n",
       "1     Saarland  Saarpfalz-Kreis        Mandelbachtal\n",
       "2  Brandenburg  Dahme-Spreewald           Neu Zauche\n",
       "3  Brandenburg  Dahme-Spreewald           Steinreich\n",
       "4  Brandenburg      Elbe-Elster            Schönborn"
      ]
     },
     "execution_count": 72,
     "metadata": {},
     "output_type": "execute_result"
    }
   ],
   "source": [
    "zusatz.head()"
   ]
  },
  {
   "cell_type": "code",
   "execution_count": 73,
   "metadata": {},
   "outputs": [],
   "source": [
    "gemeinde_test = gemeinde.merge(zusatz, on='NAME_3', how='left')"
   ]
  },
  {
   "cell_type": "code",
   "execution_count": 74,
   "metadata": {},
   "outputs": [
    {
     "name": "stdout",
     "output_type": "stream",
     "text": [
      "0.37282085339531795\n",
      "4491\n"
     ]
    }
   ],
   "source": [
    "print(gemeinde_test['NAME_2'].isna().sum() / len(gemeinde_test.NAME_2))\n",
    "print(gemeinde_test['NAME_2'].isna().sum())"
   ]
  },
  {
   "cell_type": "code",
   "execution_count": 75,
   "metadata": {},
   "outputs": [],
   "source": [
    "kreise_df.to_csv('assets/kreise_df.csv')\n",
    "gemeinde_df.to_csv('assets/gemeinde_df.csv')"
   ]
  }
 ],
 "metadata": {
  "kernelspec": {
   "display_name": "Python 3.10.8 64-bit",
   "language": "python",
   "name": "python3"
  },
  "language_info": {
   "codemirror_mode": {
    "name": "ipython",
    "version": 3
   },
   "file_extension": ".py",
   "mimetype": "text/x-python",
   "name": "python",
   "nbconvert_exporter": "python",
   "pygments_lexer": "ipython3",
   "version": "3.10.8"
  },
  "orig_nbformat": 4,
  "vscode": {
   "interpreter": {
    "hash": "e7370f93d1d0cde622a1f8e1c04877d8463912d04d973331ad4851f04de6915a"
   }
  }
 },
 "nbformat": 4,
 "nbformat_minor": 2
}
