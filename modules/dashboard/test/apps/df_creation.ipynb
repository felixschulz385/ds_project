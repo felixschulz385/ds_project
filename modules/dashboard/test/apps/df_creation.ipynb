{
 "cells": [
  {
   "cell_type": "code",
   "execution_count": 1,
   "metadata": {},
   "outputs": [],
   "source": [
    "# libraries\n",
    "import geopandas as gpd\n",
    "import pandas as pd\n",
    "import numpy as np\n",
    "import json\n",
    "import random\n",
    "\n",
    "personal_directory = '/home/jan/Uni'"
   ]
  },
  {
   "attachments": {},
   "cell_type": "markdown",
   "metadata": {},
   "source": [
    "### create data to show in dashboard\n",
    "\n",
    "dataframe with all 'Kreise' and its:\n",
    "- number of Ohren\n",
    "- available in total\n",
    "- avg score"
   ]
  },
  {
   "cell_type": "code",
   "execution_count": 2,
   "metadata": {},
   "outputs": [],
   "source": [
    "# load relevant geojson\n",
    "\n",
    "# Load the GeoJSON file\n",
    "with open(personal_directory + '/DS-Project/data/Maps/Kreiskarte.geojson') as f:\n",
    "    geojson = f.read()\n",
    "\n",
    "# Convert the GeoJSON string to a Python dictionary\n",
    "geojson_dict = json.loads(geojson)\n",
    "\n",
    "kreise = gpd.GeoDataFrame.from_features(geojson_dict['features'])\n",
    "kreise = kreise[['NAME_1', 'NAME_2', 'NAME_3', 'ENGTYPE_3']]"
   ]
  },
  {
   "cell_type": "code",
   "execution_count": 3,
   "metadata": {},
   "outputs": [],
   "source": [
    "kreise['Zahl_Ohren'] = random.choices(range(4,50), k = len(kreise))\n",
    "kreise['Zahl_PV'] = [round(x * np.random.uniform(10, 25)) for x in kreise['Zahl_Ohren']]\n",
    "kreise['avg_Score'] = np.round(np.random.uniform(0, 11, size=len(kreise)),2)"
   ]
  },
  {
   "cell_type": "code",
   "execution_count": 4,
   "metadata": {},
   "outputs": [
    {
     "name": "stdout",
     "output_type": "stream",
     "text": [
      "          NAME_1     NAME_2            NAME_3       ENGTYPE_3  Zahl_Ohren  \\\n",
      "0  Niedersachsen  Weser-Ems         Oldenburg  Rural district          29   \n",
      "1  Niedersachsen  Weser-Ems  Osnabrück Städte  Urban district          24   \n",
      "2  Niedersachsen  Weser-Ems         Osnabrück  Rural district          45   \n",
      "3  Niedersachsen  Weser-Ems            Vechta  Rural district          28   \n",
      "4  Niedersachsen  Weser-Ems       Wesermarsch  Rural district          42   \n",
      "\n",
      "   Zahl_PV  avg_Score  \n",
      "0      327       0.41  \n",
      "1      355       4.12  \n",
      "2      616       1.77  \n",
      "3      290       5.53  \n",
      "4      518       2.25  \n"
     ]
    }
   ],
   "source": [
    "print(kreise.head())"
   ]
  },
  {
   "cell_type": "code",
   "execution_count": 5,
   "metadata": {},
   "outputs": [],
   "source": [
    "kreise.to_csv('kreise_df.csv')"
   ]
  }
 ],
 "metadata": {
  "kernelspec": {
   "display_name": "Python 3.10.8 64-bit",
   "language": "python",
   "name": "python3"
  },
  "language_info": {
   "codemirror_mode": {
    "name": "ipython",
    "version": 3
   },
   "file_extension": ".py",
   "mimetype": "text/x-python",
   "name": "python",
   "nbconvert_exporter": "python",
   "pygments_lexer": "ipython3",
   "version": "3.10.8"
  },
  "orig_nbformat": 4,
  "vscode": {
   "interpreter": {
    "hash": "e7370f93d1d0cde622a1f8e1c04877d8463912d04d973331ad4851f04de6915a"
   }
  }
 },
 "nbformat": 4,
 "nbformat_minor": 2
}
