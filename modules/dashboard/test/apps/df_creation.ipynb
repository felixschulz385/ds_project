{
 "cells": [
  {
   "cell_type": "code",
   "execution_count": 2,
   "metadata": {},
   "outputs": [],
   "source": [
    "# libraries\n",
    "import geopandas as gpd\n",
    "import pandas as pd\n",
    "import numpy as np\n",
    "import json\n",
    "import random\n",
    "\n",
    "personal_directory = '/home/jan/Uni/DS-Project/'"
   ]
  },
  {
   "attachments": {},
   "cell_type": "markdown",
   "metadata": {},
   "source": [
    "### create data to show in dashboard\n"
   ]
  },
  {
   "cell_type": "code",
   "execution_count": 21,
   "metadata": {},
   "outputs": [],
   "source": [
    "region_namen = pd.read_csv(personal_directory + 'modules/dashboard/test/apps/assets/region_name_trans.csv')"
   ]
  },
  {
   "cell_type": "code",
   "execution_count": 39,
   "metadata": {},
   "outputs": [],
   "source": [
    "# Gemeinden\n",
    "# Load the GeoJSON file\n",
    "with open(personal_directory + 'modules/dashboard/test/apps/assets/BB_gemeinde_final.json') as f:\n",
    "    geojson = f.read()\n",
    "\n",
    "# Convert the GeoJSON string to a Python dictionary\n",
    "geojson_dict = json.loads(geojson)\n",
    "\n",
    "gemeinde = gpd.GeoDataFrame.from_features(geojson_dict['features'])\n",
    "gemeinde = gemeinde[['NAME_3', 'suitable_area', 'terrain_score', 'irradiation_score', 'distance_score', 'overall_score']]\n",
    "\n",
    "# join df with extra regions\n",
    "region_namen['NAME_3'] = region_namen['NAME_3'].astype('object')\n",
    "gemeinde_df = gemeinde.merge(region_namen, on='NAME_3', how='left')"
   ]
  },
  {
   "cell_type": "code",
   "execution_count": 43,
   "metadata": {},
   "outputs": [
    {
     "name": "stdout",
     "output_type": "stream",
     "text": [
      "         NAME_3  suitable_area  terrain_score  irradiation_score  \\\n",
      "0  Allmendingen            NaN            NaN                NaN   \n",
      "1  Allmendingen            NaN            NaN                NaN   \n",
      "2    Blaubeuren            NaN            NaN                NaN   \n",
      "3    Blaubeuren            NaN            NaN                NaN   \n",
      "4     Blaustein            NaN            NaN                NaN   \n",
      "\n",
      "   distance_score  overall_score  Unnamed: 0             NAME_1  \\\n",
      "0             NaN            NaN         0.0  Baden-Württemberg   \n",
      "1             NaN            NaN         0.0  Baden-Württemberg   \n",
      "2             NaN            NaN         2.0  Baden-Württemberg   \n",
      "3             NaN            NaN         2.0  Baden-Württemberg   \n",
      "4             NaN            NaN         4.0  Baden-Württemberg   \n",
      "\n",
      "            NAME_2  \n",
      "0  Alb-Donau-Kreis  \n",
      "1  Alb-Donau-Kreis  \n",
      "2  Alb-Donau-Kreis  \n",
      "3  Alb-Donau-Kreis  \n",
      "4  Alb-Donau-Kreis  \n",
      "0.18052194953335637\n",
      "2089\n"
     ]
    }
   ],
   "source": [
    "print(gemeinde_df.head())\n",
    "\n",
    "print(gemeinde_df['NAME_2'].isna().sum() / len(gemeinde_df.NAME_2))\n",
    "print(gemeinde_df['NAME_2'].isna().sum())"
   ]
  },
  {
   "cell_type": "code",
   "execution_count": null,
   "metadata": {},
   "outputs": [],
   "source": [
    "# Kreise\n",
    "# Load the GeoJSON file\n",
    "with open(personal_directory + 'modules/dashboard/test/apps/assets/BB_kreis_final.json') as f:\n",
    "    geojson = f.read()\n",
    "\n",
    "# Convert the GeoJSON string to a Python dictionary\n",
    "geojson_dict = json.loads(geojson)\n",
    "\n",
    "kreise = gpd.GeoDataFrame.from_features(geojson_dict['features'])\n",
    "kreise = kreise[['NAME_2', 'terrain_score', 'irradiation_score', 'distance_score', 'overall_score']]"
   ]
  },
  {
   "cell_type": "code",
   "execution_count": 44,
   "metadata": {},
   "outputs": [
    {
     "ename": "AttributeError",
     "evalue": "'list' object has no attribute 'strip'",
     "output_type": "error",
     "traceback": [
      "\u001b[0;31m---------------------------------------------------------------------------\u001b[0m",
      "\u001b[0;31mAttributeError\u001b[0m                            Traceback (most recent call last)",
      "Cell \u001b[0;32mIn [44], line 12\u001b[0m\n\u001b[1;32m      9\u001b[0m zusatz \u001b[39m=\u001b[39m zusatz[[\u001b[39m'\u001b[39m\u001b[39mlan_name\u001b[39m\u001b[39m'\u001b[39m, \u001b[39m'\u001b[39m\u001b[39mkrs_name\u001b[39m\u001b[39m'\u001b[39m, \u001b[39m'\u001b[39m\u001b[39mgem_name_short\u001b[39m\u001b[39m'\u001b[39m]]\n\u001b[1;32m     11\u001b[0m \u001b[39m# remove brackets from all columns\u001b[39;00m\n\u001b[0;32m---> 12\u001b[0m zusatz \u001b[39m=\u001b[39m zusatz\u001b[39m.\u001b[39;49mapplymap(\u001b[39mlambda\u001b[39;49;00m x: x\u001b[39m.\u001b[39;49mstrip(\u001b[39m'\u001b[39;49m\u001b[39m[]\u001b[39;49m\u001b[39m'\u001b[39;49m))\n\u001b[1;32m     14\u001b[0m \u001b[39m# split the second column and keep only the second part\u001b[39;00m\n\u001b[1;32m     15\u001b[0m zusatz[\u001b[39m'\u001b[39m\u001b[39mkrs_name\u001b[39m\u001b[39m'\u001b[39m] \u001b[39m=\u001b[39m zusatz[\u001b[39m'\u001b[39m\u001b[39mkrs_name\u001b[39m\u001b[39m'\u001b[39m]\u001b[39m.\u001b[39mapply(\u001b[39mlambda\u001b[39;00m x: x\u001b[39m.\u001b[39msplit(\u001b[39m'\u001b[39m\u001b[39m \u001b[39m\u001b[39m'\u001b[39m, \u001b[39m1\u001b[39m)[\u001b[39m1\u001b[39m])\n",
      "File \u001b[0;32m~/.local/lib/python3.10/site-packages/pandas/core/frame.py:8930\u001b[0m, in \u001b[0;36mDataFrame.applymap\u001b[0;34m(self, func, na_action, **kwargs)\u001b[0m\n\u001b[1;32m   8927\u001b[0m         \u001b[39mreturn\u001b[39;00m lib\u001b[39m.\u001b[39mmap_infer(x, func, ignore_na\u001b[39m=\u001b[39mignore_na)\n\u001b[1;32m   8928\u001b[0m     \u001b[39mreturn\u001b[39;00m lib\u001b[39m.\u001b[39mmap_infer(x\u001b[39m.\u001b[39mastype(\u001b[39mobject\u001b[39m)\u001b[39m.\u001b[39m_values, func, ignore_na\u001b[39m=\u001b[39mignore_na)\n\u001b[0;32m-> 8930\u001b[0m \u001b[39mreturn\u001b[39;00m \u001b[39mself\u001b[39;49m\u001b[39m.\u001b[39;49mapply(infer)\u001b[39m.\u001b[39m__finalize__(\u001b[39mself\u001b[39m, \u001b[39m\"\u001b[39m\u001b[39mapplymap\u001b[39m\u001b[39m\"\u001b[39m)\n",
      "File \u001b[0;32m~/.local/lib/python3.10/site-packages/pandas/core/frame.py:8845\u001b[0m, in \u001b[0;36mDataFrame.apply\u001b[0;34m(self, func, axis, raw, result_type, args, **kwargs)\u001b[0m\n\u001b[1;32m   8834\u001b[0m \u001b[39mfrom\u001b[39;00m \u001b[39mpandas\u001b[39;00m\u001b[39m.\u001b[39;00m\u001b[39mcore\u001b[39;00m\u001b[39m.\u001b[39;00m\u001b[39mapply\u001b[39;00m \u001b[39mimport\u001b[39;00m frame_apply\n\u001b[1;32m   8836\u001b[0m op \u001b[39m=\u001b[39m frame_apply(\n\u001b[1;32m   8837\u001b[0m     \u001b[39mself\u001b[39m,\n\u001b[1;32m   8838\u001b[0m     func\u001b[39m=\u001b[39mfunc,\n\u001b[0;32m   (...)\u001b[0m\n\u001b[1;32m   8843\u001b[0m     kwargs\u001b[39m=\u001b[39mkwargs,\n\u001b[1;32m   8844\u001b[0m )\n\u001b[0;32m-> 8845\u001b[0m \u001b[39mreturn\u001b[39;00m op\u001b[39m.\u001b[39;49mapply()\u001b[39m.\u001b[39m__finalize__(\u001b[39mself\u001b[39m, method\u001b[39m=\u001b[39m\u001b[39m\"\u001b[39m\u001b[39mapply\u001b[39m\u001b[39m\"\u001b[39m)\n",
      "File \u001b[0;32m~/.local/lib/python3.10/site-packages/pandas/core/apply.py:733\u001b[0m, in \u001b[0;36mFrameApply.apply\u001b[0;34m(self)\u001b[0m\n\u001b[1;32m    730\u001b[0m \u001b[39melif\u001b[39;00m \u001b[39mself\u001b[39m\u001b[39m.\u001b[39mraw:\n\u001b[1;32m    731\u001b[0m     \u001b[39mreturn\u001b[39;00m \u001b[39mself\u001b[39m\u001b[39m.\u001b[39mapply_raw()\n\u001b[0;32m--> 733\u001b[0m \u001b[39mreturn\u001b[39;00m \u001b[39mself\u001b[39;49m\u001b[39m.\u001b[39;49mapply_standard()\n",
      "File \u001b[0;32m~/.local/lib/python3.10/site-packages/pandas/core/apply.py:857\u001b[0m, in \u001b[0;36mFrameApply.apply_standard\u001b[0;34m(self)\u001b[0m\n\u001b[1;32m    856\u001b[0m \u001b[39mdef\u001b[39;00m \u001b[39mapply_standard\u001b[39m(\u001b[39mself\u001b[39m):\n\u001b[0;32m--> 857\u001b[0m     results, res_index \u001b[39m=\u001b[39m \u001b[39mself\u001b[39;49m\u001b[39m.\u001b[39;49mapply_series_generator()\n\u001b[1;32m    859\u001b[0m     \u001b[39m# wrap results\u001b[39;00m\n\u001b[1;32m    860\u001b[0m     \u001b[39mreturn\u001b[39;00m \u001b[39mself\u001b[39m\u001b[39m.\u001b[39mwrap_results(results, res_index)\n",
      "File \u001b[0;32m~/.local/lib/python3.10/site-packages/pandas/core/apply.py:873\u001b[0m, in \u001b[0;36mFrameApply.apply_series_generator\u001b[0;34m(self)\u001b[0m\n\u001b[1;32m    870\u001b[0m \u001b[39mwith\u001b[39;00m option_context(\u001b[39m\"\u001b[39m\u001b[39mmode.chained_assignment\u001b[39m\u001b[39m\"\u001b[39m, \u001b[39mNone\u001b[39;00m):\n\u001b[1;32m    871\u001b[0m     \u001b[39mfor\u001b[39;00m i, v \u001b[39min\u001b[39;00m \u001b[39menumerate\u001b[39m(series_gen):\n\u001b[1;32m    872\u001b[0m         \u001b[39m# ignore SettingWithCopy here in case the user mutates\u001b[39;00m\n\u001b[0;32m--> 873\u001b[0m         results[i] \u001b[39m=\u001b[39m \u001b[39mself\u001b[39;49m\u001b[39m.\u001b[39;49mf(v)\n\u001b[1;32m    874\u001b[0m         \u001b[39mif\u001b[39;00m \u001b[39misinstance\u001b[39m(results[i], ABCSeries):\n\u001b[1;32m    875\u001b[0m             \u001b[39m# If we have a view on v, we need to make a copy because\u001b[39;00m\n\u001b[1;32m    876\u001b[0m             \u001b[39m#  series_generator will swap out the underlying data\u001b[39;00m\n\u001b[1;32m    877\u001b[0m             results[i] \u001b[39m=\u001b[39m results[i]\u001b[39m.\u001b[39mcopy(deep\u001b[39m=\u001b[39m\u001b[39mFalse\u001b[39;00m)\n",
      "File \u001b[0;32m~/.local/lib/python3.10/site-packages/pandas/core/frame.py:8928\u001b[0m, in \u001b[0;36mDataFrame.applymap.<locals>.infer\u001b[0;34m(x)\u001b[0m\n\u001b[1;32m   8926\u001b[0m \u001b[39mif\u001b[39;00m x\u001b[39m.\u001b[39mempty:\n\u001b[1;32m   8927\u001b[0m     \u001b[39mreturn\u001b[39;00m lib\u001b[39m.\u001b[39mmap_infer(x, func, ignore_na\u001b[39m=\u001b[39mignore_na)\n\u001b[0;32m-> 8928\u001b[0m \u001b[39mreturn\u001b[39;00m lib\u001b[39m.\u001b[39;49mmap_infer(x\u001b[39m.\u001b[39;49mastype(\u001b[39mobject\u001b[39;49m)\u001b[39m.\u001b[39;49m_values, func, ignore_na\u001b[39m=\u001b[39;49mignore_na)\n",
      "File \u001b[0;32m~/.local/lib/python3.10/site-packages/pandas/_libs/lib.pyx:2870\u001b[0m, in \u001b[0;36mpandas._libs.lib.map_infer\u001b[0;34m()\u001b[0m\n",
      "Cell \u001b[0;32mIn [44], line 12\u001b[0m, in \u001b[0;36m<lambda>\u001b[0;34m(x)\u001b[0m\n\u001b[1;32m      9\u001b[0m zusatz \u001b[39m=\u001b[39m zusatz[[\u001b[39m'\u001b[39m\u001b[39mlan_name\u001b[39m\u001b[39m'\u001b[39m, \u001b[39m'\u001b[39m\u001b[39mkrs_name\u001b[39m\u001b[39m'\u001b[39m, \u001b[39m'\u001b[39m\u001b[39mgem_name_short\u001b[39m\u001b[39m'\u001b[39m]]\n\u001b[1;32m     11\u001b[0m \u001b[39m# remove brackets from all columns\u001b[39;00m\n\u001b[0;32m---> 12\u001b[0m zusatz \u001b[39m=\u001b[39m zusatz\u001b[39m.\u001b[39mapplymap(\u001b[39mlambda\u001b[39;00m x: x\u001b[39m.\u001b[39;49mstrip(\u001b[39m'\u001b[39m\u001b[39m[]\u001b[39m\u001b[39m'\u001b[39m))\n\u001b[1;32m     14\u001b[0m \u001b[39m# split the second column and keep only the second part\u001b[39;00m\n\u001b[1;32m     15\u001b[0m zusatz[\u001b[39m'\u001b[39m\u001b[39mkrs_name\u001b[39m\u001b[39m'\u001b[39m] \u001b[39m=\u001b[39m zusatz[\u001b[39m'\u001b[39m\u001b[39mkrs_name\u001b[39m\u001b[39m'\u001b[39m]\u001b[39m.\u001b[39mapply(\u001b[39mlambda\u001b[39;00m x: x\u001b[39m.\u001b[39msplit(\u001b[39m'\u001b[39m\u001b[39m \u001b[39m\u001b[39m'\u001b[39m, \u001b[39m1\u001b[39m)[\u001b[39m1\u001b[39m])\n",
      "\u001b[0;31mAttributeError\u001b[0m: 'list' object has no attribute 'strip'"
     ]
    }
   ],
   "source": [
    "# Zusatzinfos\n",
    "# Load the GeoJSON file\n",
    "with open(personal_directory + 'data/Maps/georef-germany-gemeinde-millesime.geojson') as f:\n",
    "    geojson = f.read()\n",
    "\n",
    "# Convert the GeoJSON string to a Python dictionary\n",
    "geojson_dict = json.loads(geojson)\n",
    "zusatz = gpd.GeoDataFrame.from_features(geojson_dict['features'])\n",
    "zusatz = zusatz[['lan_name', 'krs_name', 'gem_name_short']]\n",
    "\n",
    "# remove brackets from all columns\n",
    "zusatz = zusatz.applymap(lambda x: x.strip('[]'))\n",
    "\n",
    "# split the second column and keep only the second part\n",
    "zusatz['krs_name'] = zusatz['krs_name'].apply(lambda x: x.split(' ', 1)[1])"
   ]
  },
  {
   "cell_type": "code",
   "execution_count": 20,
   "metadata": {},
   "outputs": [
    {
     "data": {
      "text/html": [
       "<div>\n",
       "<style scoped>\n",
       "    .dataframe tbody tr th:only-of-type {\n",
       "        vertical-align: middle;\n",
       "    }\n",
       "\n",
       "    .dataframe tbody tr th {\n",
       "        vertical-align: top;\n",
       "    }\n",
       "\n",
       "    .dataframe thead th {\n",
       "        text-align: right;\n",
       "    }\n",
       "</style>\n",
       "<table border=\"1\" class=\"dataframe\">\n",
       "  <thead>\n",
       "    <tr style=\"text-align: right;\">\n",
       "      <th></th>\n",
       "      <th>lan_name</th>\n",
       "      <th>krs_name</th>\n",
       "      <th>gem_name_short</th>\n",
       "    </tr>\n",
       "  </thead>\n",
       "  <tbody>\n",
       "    <tr>\n",
       "      <th>0</th>\n",
       "      <td>[Saarland]</td>\n",
       "      <td>[Landkreis Saarlouis]</td>\n",
       "      <td>[Rehlingen-Siersburg]</td>\n",
       "    </tr>\n",
       "    <tr>\n",
       "      <th>1</th>\n",
       "      <td>[Saarland]</td>\n",
       "      <td>[Landkreis Saarpfalz-Kreis]</td>\n",
       "      <td>[Mandelbachtal]</td>\n",
       "    </tr>\n",
       "    <tr>\n",
       "      <th>2</th>\n",
       "      <td>[Brandenburg]</td>\n",
       "      <td>[Landkreis Dahme-Spreewald]</td>\n",
       "      <td>[Neu Zauche]</td>\n",
       "    </tr>\n",
       "    <tr>\n",
       "      <th>3</th>\n",
       "      <td>[Brandenburg]</td>\n",
       "      <td>[Landkreis Dahme-Spreewald]</td>\n",
       "      <td>[Steinreich]</td>\n",
       "    </tr>\n",
       "    <tr>\n",
       "      <th>4</th>\n",
       "      <td>[Brandenburg]</td>\n",
       "      <td>[Landkreis Elbe-Elster]</td>\n",
       "      <td>[Schönborn]</td>\n",
       "    </tr>\n",
       "  </tbody>\n",
       "</table>\n",
       "</div>"
      ],
      "text/plain": [
       "        lan_name                     krs_name         gem_name_short\n",
       "0     [Saarland]        [Landkreis Saarlouis]  [Rehlingen-Siersburg]\n",
       "1     [Saarland]  [Landkreis Saarpfalz-Kreis]        [Mandelbachtal]\n",
       "2  [Brandenburg]  [Landkreis Dahme-Spreewald]           [Neu Zauche]\n",
       "3  [Brandenburg]  [Landkreis Dahme-Spreewald]           [Steinreich]\n",
       "4  [Brandenburg]      [Landkreis Elbe-Elster]            [Schönborn]"
      ]
     },
     "execution_count": 20,
     "metadata": {},
     "output_type": "execute_result"
    }
   ],
   "source": [
    "zusatz.head()"
   ]
  },
  {
   "cell_type": "code",
   "execution_count": 5,
   "metadata": {},
   "outputs": [],
   "source": [
    "kreise.to_csv('kreise_df.csv')"
   ]
  }
 ],
 "metadata": {
  "kernelspec": {
   "display_name": "Python 3.10.8 64-bit",
   "language": "python",
   "name": "python3"
  },
  "language_info": {
   "codemirror_mode": {
    "name": "ipython",
    "version": 3
   },
   "file_extension": ".py",
   "mimetype": "text/x-python",
   "name": "python",
   "nbconvert_exporter": "python",
   "pygments_lexer": "ipython3",
   "version": "3.10.8"
  },
  "orig_nbformat": 4,
  "vscode": {
   "interpreter": {
    "hash": "e7370f93d1d0cde622a1f8e1c04877d8463912d04d973331ad4851f04de6915a"
   }
  }
 },
 "nbformat": 4,
 "nbformat_minor": 2
}
