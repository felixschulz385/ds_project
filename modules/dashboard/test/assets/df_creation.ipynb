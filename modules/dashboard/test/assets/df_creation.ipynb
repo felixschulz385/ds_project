{
 "cells": [
  {
   "cell_type": "code",
   "execution_count": 1,
   "metadata": {},
   "outputs": [],
   "source": [
    "# libraries\n",
    "import geopandas as gpd\n",
    "import pandas as pd\n",
    "import numpy as np\n",
    "import json\n",
    "import random\n",
    "\n",
    "personal_directory = '/home/jan/Uni'"
   ]
  },
  {
   "attachments": {},
   "cell_type": "markdown",
   "metadata": {},
   "source": [
    "### create data to show in dashboard\n",
    "\n",
    "dataframe with all 'Kreise' and its:\n",
    "- number of Ohren\n",
    "- available in total\n",
    "- avg score"
   ]
  },
  {
   "cell_type": "code",
   "execution_count": 2,
   "metadata": {},
   "outputs": [],
   "source": [
    "# load relevant geojson\n",
    "\n",
    "# Load the GeoJSON file\n",
    "with open(personal_directory + '/DS-Project/data/Maps/Kreiskarte.geojson') as f:\n",
    "    geojson = f.read()\n",
    "\n",
    "# Convert the GeoJSON string to a Python dictionary\n",
    "geojson_dict = json.loads(geojson)\n",
    "\n",
    "kreise = gpd.GeoDataFrame.from_features(geojson_dict['features'])\n",
    "kreise = kreise[['ID_1', 'NAME_1', 'ID_3', 'NAME_3', 'ENGTYPE_3']]"
   ]
  },
  {
   "cell_type": "code",
   "execution_count": 5,
   "metadata": {},
   "outputs": [],
   "source": [
    "kreise['Zahl_Ohren'] = random.choices(range(4,50), k = len(kreise))\n",
    "kreise['Zahl_PV'] = [round(x * np.random.uniform(10, 25)) for x in kreise['Zahl_Ohren']]\n",
    "kreise['avg_Score'] = np.round(np.random.uniform(0, 11, size=len(kreise)),2)"
   ]
  },
  {
   "cell_type": "code",
   "execution_count": 6,
   "metadata": {},
   "outputs": [
    {
     "name": "stdout",
     "output_type": "stream",
     "text": [
      "   ID_1         NAME_1  ID_3            NAME_3       ENGTYPE_3  Zahl_Ohren  \\\n",
      "0     9  Niedersachsen   244         Oldenburg  Rural district          26   \n",
      "1     9  Niedersachsen   245  Osnabrück Städte  Urban district           9   \n",
      "2     9  Niedersachsen   246         Osnabrück  Rural district          10   \n",
      "3     9  Niedersachsen   247            Vechta  Rural district          22   \n",
      "4     9  Niedersachsen   248       Wesermarsch  Rural district          22   \n",
      "\n",
      "   Zahl_PV  avg_Score  \n",
      "0      278       0.56  \n",
      "1       94       4.03  \n",
      "2      211       4.50  \n",
      "3      471       9.30  \n",
      "4      240       3.55  \n"
     ]
    }
   ],
   "source": [
    "print(kreise.head())"
   ]
  },
  {
   "cell_type": "code",
   "execution_count": 7,
   "metadata": {},
   "outputs": [],
   "source": [
    "kreise.to_csv('kreise_df.csv')"
   ]
  }
 ],
 "metadata": {
  "kernelspec": {
   "display_name": "Python 3.10.8 64-bit",
   "language": "python",
   "name": "python3"
  },
  "language_info": {
   "codemirror_mode": {
    "name": "ipython",
    "version": 3
   },
   "file_extension": ".py",
   "mimetype": "text/x-python",
   "name": "python",
   "nbconvert_exporter": "python",
   "pygments_lexer": "ipython3",
   "version": "3.10.8"
  },
  "orig_nbformat": 4,
  "vscode": {
   "interpreter": {
    "hash": "e7370f93d1d0cde622a1f8e1c04877d8463912d04d973331ad4851f04de6915a"
   }
  }
 },
 "nbformat": 4,
 "nbformat_minor": 2
}
