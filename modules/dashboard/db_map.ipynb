{
 "cells": [
  {
   "cell_type": "code",
   "execution_count": 58,
   "metadata": {},
   "outputs": [],
   "source": [
    "import folium\n",
    "import greppo\n",
    "import numpy as np\n",
    "import geojson"
   ]
  },
  {
   "cell_type": "code",
   "execution_count": 36,
   "metadata": {},
   "outputs": [],
   "source": [
    "# load germany geojson data\n",
    "with open('/home/jan/Uni/DS-Project/data/Maps/Bundeskarte.geojson') as file:\n",
    "    bund_map = geojson.load(file)\n",
    "bund_features = bund_map['features'][0]\n",
    "with open('/home/jan/Uni/DS-Project/data/Maps/Laenderkarte.geojson') as file:\n",
    "    laender_map = geojson.load(file)\n",
    "laender_features = laender_map['features'][0]\n",
    "with open('/home/jan/Uni/DS-Project/data/Maps/Kreiskarte.geojson') as file:\n",
    "    kreis_map = geojson.load(file)\n",
    "kreis_features = kreis_map['features'][0]"
   ]
  },
  {
   "cell_type": "code",
   "execution_count": 55,
   "metadata": {},
   "outputs": [],
   "source": [
    "map = folium.Map(location=[51.2, 10.5], zoom_start=7)"
   ]
  },
  {
   "cell_type": "code",
   "execution_count": 56,
   "metadata": {},
   "outputs": [],
   "source": [
    "folium.GeoJson(kreis_map).add_to(map)\n",
    "\n",
    "map.save('kreis_map.html')"
   ]
  },
  {
   "attachments": {},
   "cell_type": "markdown",
   "metadata": {},
   "source": [
    "# test area"
   ]
  }
 ],
 "metadata": {
  "kernelspec": {
   "display_name": "Python 3.10.8 64-bit",
   "language": "python",
   "name": "python3"
  },
  "language_info": {
   "codemirror_mode": {
    "name": "ipython",
    "version": 3
   },
   "file_extension": ".py",
   "mimetype": "text/x-python",
   "name": "python",
   "nbconvert_exporter": "python",
   "pygments_lexer": "ipython3",
   "version": "3.10.8"
  },
  "orig_nbformat": 4,
  "vscode": {
   "interpreter": {
    "hash": "e7370f93d1d0cde622a1f8e1c04877d8463912d04d973331ad4851f04de6915a"
   }
  }
 },
 "nbformat": 4,
 "nbformat_minor": 2
}
