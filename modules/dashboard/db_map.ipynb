{
 "cells": [
  {
   "cell_type": "code",
   "execution_count": 2,
   "metadata": {},
   "outputs": [],
   "source": [
    "import folium\n",
    "from folium import plugins\n",
    "import greppo\n",
    "import numpy as np\n",
    "import pandas as pd\n",
    "import geojson\n",
    "import requests\n",
    "from bs4 import BeautifulSoup as bfs\n",
    "import re"
   ]
  },
  {
   "cell_type": "code",
   "execution_count": 3,
   "metadata": {},
   "outputs": [],
   "source": [
    "# load germany geojson data\n",
    "with open('/home/jan/Uni/DS-Project/data/Maps/Bundeskarte.geojson') as file:\n",
    "    bund_map = geojson.load(file)\n",
    "with open('/home/jan/Uni/DS-Project/data/Maps/Laenderkarte.geojson') as file:\n",
    "    laender_map = geojson.load(file)\n",
    "with open('/home/jan/Uni/DS-Project/data/Maps/Kreiskarte.geojson') as file:\n",
    "    kreis_map = geojson.load(file)\n",
    "# load cities\n",
    "with open('/home/jan/Uni/DS-Project/data/Maps/Staedte.geojson') as file:\n",
    "    staedte_map = geojson.load(file)"
   ]
  },
  {
   "cell_type": "code",
   "execution_count": 4,
   "metadata": {},
   "outputs": [
    {
     "data": {
      "text/plain": [
       "<folium.plugins.scroll_zoom_toggler.ScrollZoomToggler at 0x7f3051575000>"
      ]
     },
     "execution_count": 4,
     "metadata": {},
     "output_type": "execute_result"
    }
   ],
   "source": [
    "Germany = folium.Map(location=[51.2, 10.5],\n",
    "                 min_lon=5,\n",
    "                 max_lon=15.7,\n",
    "                 min_lat=55.5,\n",
    "                 max_lat=46.5,\n",
    "                 min_zoom=6,\n",
    "                 zoom_start=6,\n",
    "                 max_bounds=True,\n",
    "                 control_scale=True,\n",
    "                 tiles = \"OpenStreetMap\")\n",
    "# implement extras\n",
    "minimap = plugins.MiniMap(toggle_display = True)\n",
    "Germany.add_child(minimap)\n",
    "plugins.Fullscreen(position = 'topright').add_to(Germany)\n",
    "plugins.ScrollZoomToggler().add_to(Germany)"
   ]
  },
  {
   "cell_type": "code",
   "execution_count": 5,
   "metadata": {},
   "outputs": [],
   "source": [
    "folium.GeoJson(kreis_map).add_to(Germany)\n",
    "#folium.GeoJson(staedte_map).add_to(map)\n",
    "\n",
    "Germany.save('Germany_borders.html')"
   ]
  },
  {
   "cell_type": "code",
   "execution_count": null,
   "metadata": {},
   "outputs": [],
   "source": [
    "Germany"
   ]
  },
  {
   "attachments": {},
   "cell_type": "markdown",
   "metadata": {},
   "source": [
    "# test area"
   ]
  },
  {
   "cell_type": "code",
   "execution_count": null,
   "metadata": {},
   "outputs": [],
   "source": [
    "\n",
    "drop_Bund = folium.FeatureGroup(name=\"Bund\")\n",
    "\n",
    "drop_Bund.add_child(folium.GeoJson(data = bund_map,\n",
    "                                   style_function = lambda x: {\n",
    "                                       'fillColor': get_at_once(x['properties']['NAME'], 'Bund'),\n",
    "                                       'color' = 'black',\n",
    "                                       'fillOpacity' = .75\n",
    "                                   }))\n",
    "\n",
    "drop_Staedte = folium.FeatureGroup(name=\"Staedte\", show=False)\n",
    "\n",
    "drop_Staedte.add_child(folium.GeoJson(data = staedte_map,\n",
    "                                   style_function = lambda x: {\n",
    "                                       'fillColor': get_at_once(x['properties']['NAME'], 'Staedte'),\n",
    "                                       'color' = 'pink',\n",
    "                                       'fillOpacity' = .5\n",
    "                                   }))\n",
    "\n",
    "map.add_child(drop_Bund)\n",
    "map.add_child(drop_Staedte)\n",
    "map.add_child(folium.LayerControl())\n",
    "map.save('germany_borders.html')"
   ]
  },
  {
   "cell_type": "code",
   "execution_count": 5,
   "metadata": {},
   "outputs": [
    {
     "data": {
      "text/plain": [
       "{'ID_0': 86,\n",
       " 'ISO': 'DEU',\n",
       " 'NAME_0': 'Germany',\n",
       " 'ID_1': 9,\n",
       " 'NAME_1': 'Niedersachsen',\n",
       " 'ID_2': 23,\n",
       " 'NAME_2': 'Weser-Ems',\n",
       " 'ID_3': 244,\n",
       " 'NAME_3': 'Oldenburg',\n",
       " 'NL_NAME_3': None,\n",
       " 'VARNAME_3': None,\n",
       " 'TYPE_3': 'Landkreise',\n",
       " 'ENGTYPE_3': 'Rural district'}"
      ]
     },
     "execution_count": 5,
     "metadata": {},
     "output_type": "execute_result"
    }
   ],
   "source": [
    "test = kreis_map\n",
    "\n",
    "test['features'][0]['properties']#['NAME_3']\n",
    "\n"
   ]
  },
  {
   "cell_type": "code",
   "execution_count": 19,
   "metadata": {},
   "outputs": [
    {
     "data": {
      "text/plain": [
       "'HONNINGSVAG'"
      ]
     },
     "execution_count": 19,
     "metadata": {},
     "output_type": "execute_result"
    }
   ],
   "source": [
    "staedte_map['features'][2]['properties']['NAME']"
   ]
  },
  {
   "cell_type": "code",
   "execution_count": 7,
   "metadata": {},
   "outputs": [],
   "source": [
    "city_list = pd.read_csv('/home/jan/Uni/DS-Project/data/Maps/worldcities.csv')\n",
    "city_list = city_list[['city', 'lat', 'lng', 'country', 'population']]"
   ]
  },
  {
   "cell_type": "code",
   "execution_count": 8,
   "metadata": {},
   "outputs": [],
   "source": [
    "german_cities = city_list[(city_list.country == 'Germany') & (city_list.population > 100000)]"
   ]
  },
  {
   "cell_type": "code",
   "execution_count": 9,
   "metadata": {},
   "outputs": [
    {
     "name": "stdout",
     "output_type": "stream",
     "text": [
      "Berlin\n",
      "Hamburg\n",
      "Munich\n",
      "Cologne\n",
      "Frankfurt\n",
      "Düsseldorf\n",
      "Stuttgart\n",
      "Leipzig\n",
      "Dortmund\n",
      "Essen\n",
      "Bremen\n",
      "Dresden\n",
      "Hannover\n",
      "Nuremberg\n",
      "Duisburg\n",
      "Bochum\n",
      "Wuppertal\n",
      "Bielefeld\n",
      "Bonn\n",
      "Münster\n",
      "Mannheim\n",
      "Karlsruhe\n",
      "Augsburg\n",
      "Wiesbaden\n",
      "Gelsenkirchen\n",
      "Mönchengladbach\n",
      "Aachen\n",
      "Braunschweig\n",
      "Kiel\n",
      "Chemnitz\n",
      "Halle\n",
      "Magdeburg\n",
      "Freiburg im Breisgau\n",
      "Krefeld\n",
      "Mainz\n",
      "Lübeck\n",
      "Erfurt\n",
      "Oberhausen\n",
      "Rostock\n",
      "Kassel\n",
      "Hagen\n",
      "Potsdam\n",
      "Saarbrücken\n",
      "Hamm\n",
      "Ludwigshafen\n",
      "Mülheim\n",
      "Oldenburg\n",
      "Osnabrück\n",
      "Leverkusen\n",
      "Solingen\n",
      "Darmstadt\n",
      "Heidelberg\n",
      "Herne\n",
      "Neuss\n",
      "Regensburg\n",
      "Paderborn\n",
      "Ingolstadt\n",
      "Fürth\n",
      "Würzburg\n",
      "Heilbronn\n",
      "Ulm\n",
      "Pforzheim\n",
      "Wolfsburg\n",
      "Göttingen\n",
      "Bottrop\n",
      "Reutlingen\n",
      "Koblenz\n",
      "Bremerhaven\n",
      "Recklinghausen\n",
      "Erlangen\n",
      "Bergisch Gladbach\n",
      "Remscheid\n",
      "Jena\n",
      "Trier\n",
      "Moers\n",
      "Salzgitter\n",
      "Siegen\n",
      "Hildesheim\n",
      "Gütersloh\n",
      "Kaiserslautern\n"
     ]
    }
   ],
   "source": [
    "german_staedte_map = []\n",
    "for city in german_cities.city:\n",
    "    print(city)"
   ]
  },
  {
   "cell_type": "code",
   "execution_count": 10,
   "metadata": {},
   "outputs": [
    {
     "name": "stdout",
     "output_type": "stream",
     "text": [
      "200\n"
     ]
    }
   ],
   "source": [
    "wikiurl = 'https://de.wikipedia.org/wiki/Liste_der_Gro%C3%9Fst%C3%A4dte_in_Deutschland'\n",
    "table_class = 'wikitable sortable jquery-tablesorter'\n",
    "response = requests.get(wikiurl)\n",
    "print(response.status_code)"
   ]
  },
  {
   "cell_type": "code",
   "execution_count": 11,
   "metadata": {},
   "outputs": [],
   "source": [
    "soup = bfs(response.text, 'html.parser')\n",
    "indiatable=soup.find('table',{'class':\"wikitable\"})"
   ]
  },
  {
   "cell_type": "code",
   "execution_count": 12,
   "metadata": {},
   "outputs": [],
   "source": [
    "df=pd.read_html(str(indiatable))\n",
    "# convert list to dataframe\n",
    "df=pd.DataFrame(df[0])[['Name']]\n",
    "\n",
    "german_cities = df.Name.Name"
   ]
  },
  {
   "cell_type": "code",
   "execution_count": 17,
   "metadata": {},
   "outputs": [
    {
     "name": "stdout",
     "output_type": "stream",
     "text": [
      "Berlin\n",
      "Hamburg\n",
      "München\n",
      "Köln\n",
      "FrankfurtamMain\n",
      "Stuttgart\n",
      "Düsseldorf\n",
      "Leipzig\n",
      "Dortmund\n",
      "Essen\n",
      "Bremen\n",
      "Dresden\n",
      "Hannover\n",
      "Nürnberg\n",
      "Duisburg\n",
      "Bochum\n",
      "Wuppertal\n",
      "Bielefeld\n",
      "Bonn\n",
      "Münster\n",
      "Mannheim\n",
      "Karlsruhe\n",
      "Augsburg\n",
      "Wiesbaden\n",
      "Mönchengladbach\n",
      "Gelsenkirchen\n",
      "Aachen\n",
      "Braunschweig\n",
      "Kiel\n",
      "Chemnitz\n",
      "HalleSaale\n",
      "Magdeburg\n",
      "FreiburgimBreisgau\n",
      "Krefeld\n",
      "Mainz\n",
      "Lübeck\n",
      "Erfurt\n",
      "Oberhausen\n",
      "Rostock\n",
      "Kassel\n",
      "Hagen\n",
      "Potsdam\n",
      "Saarbrücken\n",
      "Hamm\n",
      "LudwigshafenamRhein\n",
      "MülheimanderRuhr\n",
      "OldenburgOldb\n",
      "Osnabrück\n",
      "Leverkusen\n",
      "Darmstadt\n",
      "Heidelberg\n",
      "Solingen\n",
      "Herne\n",
      "Regensburg\n",
      "Neuss\n",
      "Paderborn\n",
      "Ingolstadt\n",
      "OffenbachamMain\n",
      "Fürth\n",
      "Würzburg\n",
      "Ulm\n",
      "Heilbronn\n",
      "Pforzheim\n",
      "Wolfsburg\n",
      "Bottrop\n",
      "Göttingen\n",
      "Reutlingen\n",
      "Koblenz\n",
      "Erlangen\n",
      "Bremerhaven\n",
      "Remscheid\n",
      "BergischGladbach\n",
      "Recklinghausen\n",
      "Trier\n",
      "Jena\n",
      "Moers\n",
      "Salzgitter\n",
      "Siegen\n",
      "Gütersloh\n",
      "Hildesheim\n",
      "Name\n",
      "Name\n"
     ]
    }
   ],
   "source": [
    "german_cities_map = []\n",
    "for city in german_cities:\n",
    "    german_city = re.sub(r'[^a-zA-ZäöüßÄÖÜ]+', '', city)\n",
    "    print(german_city)\n",
    "    german_cities_map.append(german_city)"
   ]
  }
 ],
 "metadata": {
  "kernelspec": {
   "display_name": "Python 3.10.8 64-bit",
   "language": "python",
   "name": "python3"
  },
  "language_info": {
   "codemirror_mode": {
    "name": "ipython",
    "version": 3
   },
   "file_extension": ".py",
   "mimetype": "text/x-python",
   "name": "python",
   "nbconvert_exporter": "python",
   "pygments_lexer": "ipython3",
   "version": "3.10.8"
  },
  "orig_nbformat": 4,
  "vscode": {
   "interpreter": {
    "hash": "e7370f93d1d0cde622a1f8e1c04877d8463912d04d973331ad4851f04de6915a"
   }
  }
 },
 "nbformat": 4,
 "nbformat_minor": 2
}
