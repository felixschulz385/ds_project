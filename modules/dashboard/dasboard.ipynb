{
 "cells": [
  {
   "cell_type": "code",
   "execution_count": 1,
   "metadata": {},
   "outputs": [],
   "source": [
    "import os\n",
    "os.environ['PROTOCOL_BUFFERS_PYTHON_IMPLEMENTATION'] = 'python'"
   ]
  },
  {
   "cell_type": "code",
   "execution_count": 2,
   "metadata": {},
   "outputs": [],
   "source": [
    "from dash import Dash, html, Output, Input\n",
    "import dash_leaflet as dl\n",
    "import dash_leaflet.express as dlx\n",
    "from dash_extensions.enrich import html, DashProxy\n",
    "from dash_extensions.javascript import arrow_function, assign\n",
    "# standalone map\n",
    "import folium\n",
    "from folium import plugins\n",
    "# data manipulation\n",
    "import numpy as np\n",
    "import pandas as pd\n",
    "import json\n",
    "import geojson\n",
    "import geopandas as gpd\n",
    "\n",
    "data_directory = '/home/jan/Uni/DS-Project/data/Maps/'"
   ]
  },
  {
   "cell_type": "code",
   "execution_count": 3,
   "metadata": {},
   "outputs": [],
   "source": [
    "# load germany maps & polygons\n",
    "#bund = gpd.read_file(data_directory + 'Bundeskarte.geojson').to_crs(4326)\n",
    "#land = gpd.read_file(data_directory + 'Laenderkarte.geojson').to_crs(4326)\n",
    "kreis = gpd.read_file(data_directory + 'Kreiskarte.geojson').to_crs(4326)\n",
    "polygon = gpd.read_file(data_directory + 'brandenburg_polygons.geojson').set_crs(25833, allow_override = True).to_crs(4326)"
   ]
  },
  {
   "cell_type": "code",
   "execution_count": 4,
   "metadata": {},
   "outputs": [],
   "source": [
    "polygon_offset = polygon.copy().to_crs(3043)\n",
    "polygon_offset['geometry'] = polygon_offset.geometry.buffer(-12, single_sided = True)\n",
    "polygon_offset['area'] = polygon_offset['geometry'].area / 10**3\n",
    "polygon_offset['geometry'] = polygon_offset.geometry.to_crs(4326)"
   ]
  },
  {
   "cell_type": "code",
   "execution_count": 5,
   "metadata": {},
   "outputs": [],
   "source": [
    "# add random score between 0 and 10 to kreis\n",
    "np.random.seed(123)\n",
    "kreis.insert(\n",
    "    13,\n",
    "    \"Score\",\n",
    "    np.random.uniform(0, 11, size=len(kreis))\n",
    ")"
   ]
  },
  {
   "cell_type": "code",
   "execution_count": 6,
   "metadata": {},
   "outputs": [],
   "source": [
    "'''\n",
    "with open(\"kreis.json\", \"w\") as f:\n",
    "    f.write(kreis.to_json())\n",
    "'''"
   ]
  },
  {
   "cell_type": "code",
   "execution_count": 7,
   "metadata": {},
   "outputs": [],
   "source": [
    "kreis_path = \"assets/kreis.json\"\n",
    "# load kreis\n",
    "with open(kreis_path, 'r') as f:\n",
    "    kreis = [f['properties'] for f in json.loads(f.read())['features']]"
   ]
  },
  {
   "cell_type": "code",
   "execution_count": 8,
   "metadata": {},
   "outputs": [],
   "source": [
    "# define info box\n",
    "def get_info(feature=None):\n",
    "    header = [html.H4(\"Fitness für Ohren\")]\n",
    "    if not feature:\n",
    "        return header + [html.P(\"Über Kreis schweben\")]\n",
    "    return header + [html.B(feature[\"properties\"][\"NAME_3\"]), html.Br(),\n",
    "                     \"{:.2f} Lustnauer Score\".format(feature[\"properties\"][\"Score\"])]\n",
    "\n",
    "classes = [0, 2, 4, 6, 8, 10]\n",
    "colorscale = ['#ffd34c', '#e5f3e5', '#99d099', '#66b967', '#32a234', '#008b02']\n",
    "style = dict(weight=2, opacity=1, color='white', dashArray='3', fillOpacity=0.7)\n",
    "# Create colorbar.\n",
    "ctg = [\"{}+\".format(cls, classes[i + 1]) for i, cls in enumerate(classes[:-1])]\n",
    "colorbar = dlx.categorical_colorbar(categories=ctg, colorscale=colorscale, width=300, height=30, position=\"bottomleft\")\n",
    "# Geojson rendering logic, must be JavaScript as it is executed in clientside.\n",
    "style_handle = assign(\"\"\"function(feature, context){\n",
    "    const {classes, colorscale, style, colorProp} = context.props.hideout;  // get props from hideout\n",
    "    const value = feature.properties[colorProp];  // get value the determines the color\n",
    "    for (let i = 0; i < classes.length; ++i) {\n",
    "        if (value > classes[i]) {\n",
    "            style.fillColor = colorscale[i];  // set the fill color according to the class\n",
    "        }\n",
    "    }\n",
    "    return style;\n",
    "}\"\"\")\n",
    "# Create geojson.\n",
    "geojson = dl.GeoJSON(url=f\"/{kreis_path}\",  # url to geojson file\n",
    "                     options=dict(style=style_handle),  # how to style each polygon\n",
    "                     zoomToBounds=True,  # when true, zooms to bounds when data changes (e.g. on load)\n",
    "                     zoomToBoundsOnClick=True,  # when true, zooms to bounds of feature (e.g. polygon) on click\n",
    "                     hoverStyle=arrow_function(dict(weight=5, color='#666', dashArray='')),  # style applied on hover\n",
    "                     hideout=dict(colorscale=colorscale, classes=classes, style=style, colorProp=\"Score\"),\n",
    "                     id=\"geojson\")\n",
    "# Create info control.\n",
    "info = html.Div(children=get_info(), id=\"info\", className=\"info\",\n",
    "                style={\"position\": \"absolute\", \"top\": \"10px\", \"right\": \"10px\", \"z-index\": \"1000\"})\n",
    "# app backend\n",
    "app = Dash(prevent_initial_callbacks=True)\n",
    "app.layout = html.Div([dl.Map(children=[dl.TileLayer(), geojson, colorbar, info])],\n",
    "                      style={'width': '50%', 'height': '75vh', 'margin': \"auto\", \"display\": \"block\"}, id=\"map\")\n",
    "\n",
    "\n",
    "@app.callback(Output(\"info\", \"children\"), [Input(\"geojson\", \"hover_feature\")])\n",
    "def info_hover(feature):\n",
    "    return get_info(feature)"
   ]
  },
  {
   "cell_type": "code",
   "execution_count": 9,
   "metadata": {},
   "outputs": [
    {
     "name": "stdout",
     "output_type": "stream",
     "text": [
      "Dash is running on http://127.0.0.1:8050/\n",
      "\n",
      " * Serving Flask app '__main__'\n",
      " * Debug mode: off\n"
     ]
    },
    {
     "name": "stderr",
     "output_type": "stream",
     "text": [
      "WARNING: This is a development server. Do not use it in a production deployment. Use a production WSGI server instead.\n",
      " * Running on http://127.0.0.1:8050\n",
      "Press CTRL+C to quit\n",
      "127.0.0.1 - - [04/Jan/2023 11:55:04] \"GET / HTTP/1.1\" 200 -\n",
      "127.0.0.1 - - [04/Jan/2023 11:55:05] \"GET /assets/dashExtensions_default.js?m=1672829694.0023456 HTTP/1.1\" 200 -\n",
      "127.0.0.1 - - [04/Jan/2023 11:55:07] \"GET /_dash-layout HTTP/1.1\" 200 -\n",
      "127.0.0.1 - - [04/Jan/2023 11:55:07] \"GET /_dash-dependencies HTTP/1.1\" 200 -\n",
      "127.0.0.1 - - [04/Jan/2023 11:55:08] \"GET /assets/kreis.json HTTP/1.1\" 200 -\n",
      "127.0.0.1 - - [04/Jan/2023 11:55:41] \"POST /_dash-update-component HTTP/1.1\" 200 -\n",
      "127.0.0.1 - - [04/Jan/2023 11:55:54] \"POST /_dash-update-component HTTP/1.1\" 200 -\n",
      "127.0.0.1 - - [04/Jan/2023 11:55:54] \"POST /_dash-update-component HTTP/1.1\" 200 -\n",
      "127.0.0.1 - - [04/Jan/2023 11:55:56] \"POST /_dash-update-component HTTP/1.1\" 200 -\n",
      "127.0.0.1 - - [04/Jan/2023 11:55:57] \"POST /_dash-update-component HTTP/1.1\" 200 -\n",
      "127.0.0.1 - - [04/Jan/2023 11:55:57] \"POST /_dash-update-component HTTP/1.1\" 200 -\n",
      "127.0.0.1 - - [04/Jan/2023 11:55:58] \"POST /_dash-update-component HTTP/1.1\" 200 -\n",
      "127.0.0.1 - - [04/Jan/2023 11:56:05] \"POST /_dash-update-component HTTP/1.1\" 200 -\n",
      "127.0.0.1 - - [04/Jan/2023 11:56:07] \"POST /_dash-update-component HTTP/1.1\" 200 -\n"
     ]
    }
   ],
   "source": [
    "# run app\n",
    "if __name__ == '__main__':\n",
    "    app.run_server()"
   ]
  }
 ],
 "metadata": {
  "kernelspec": {
   "display_name": "Python 3.10.8 64-bit",
   "language": "python",
   "name": "python3"
  },
  "language_info": {
   "codemirror_mode": {
    "name": "ipython",
    "version": 3
   },
   "file_extension": ".py",
   "mimetype": "text/x-python",
   "name": "python",
   "nbconvert_exporter": "python",
   "pygments_lexer": "ipython3",
   "version": "3.10.8"
  },
  "orig_nbformat": 4,
  "vscode": {
   "interpreter": {
    "hash": "e7370f93d1d0cde622a1f8e1c04877d8463912d04d973331ad4851f04de6915a"
   }
  }
 },
 "nbformat": 4,
 "nbformat_minor": 2
}
