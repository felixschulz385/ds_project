{
 "cells": [
  {
   "cell_type": "code",
   "execution_count": 3,
   "metadata": {},
   "outputs": [],
   "source": [
    "import os\n",
    "os.environ['PROTOCOL_BUFFERS_PYTHON_IMPLEMENTATION'] = 'python'"
   ]
  },
  {
   "cell_type": "code",
   "execution_count": 4,
   "metadata": {},
   "outputs": [
    {
     "name": "stderr",
     "output_type": "stream",
     "text": [
      "/tmp/ipykernel_48082/3046874679.py:17: UserWarning: \n",
      "The dash_html_components package is deprecated. Please replace\n",
      "`import dash_html_components as html` with `from dash import html`\n",
      "  import dash_html_components as html\n"
     ]
    }
   ],
   "source": [
    "from dash import Dash, html, Output, Input\n",
    "import dash_leaflet as dl\n",
    "import dash_leaflet.express as dlx\n",
    "from dash_extensions.enrich import html, DashProxy\n",
    "from dash_extensions.javascript import arrow_function, assign\n",
    "from dash.dependencies import Input, Output\n",
    "import dash_bootstrap_components as dbc\n",
    "# standalone map\n",
    "import folium\n",
    "from folium import plugins\n",
    "# data manipulation\n",
    "import numpy as np\n",
    "import pandas as pd\n",
    "import json\n",
    "import geojson\n",
    "import geopandas as gpd\n",
    "\n",
    "data_directory = '/home/jan/Uni/DS-Project/data/Maps/'"
   ]
  },
  {
   "attachments": {},
   "cell_type": "markdown",
   "metadata": {},
   "source": [
    "# Design"
   ]
  },
  {
   "cell_type": "code",
   "execution_count": 5,
   "metadata": {},
   "outputs": [],
   "source": [
    "# specify design choices\n",
    "app = Dash(external_stylesheets=[dbc.themes.LITERA])\n",
    "\n",
    "# create 3 pages\n",
    "layout_page_1 = html.Div([dbc.Container([dbc.Row([\n",
    "                        dbc.Col(html.H1(\"Page 1\"), width={\"size\": 6, \"offset\": 3})\n",
    "                    ])])])\n",
    "\n",
    "layout_page_2 = html.Div([dbc.Container([dbc.Row([\n",
    "                        dbc.Col(html.H1(\"Page 2\"), width={\"size\": 6, \"offset\": 3})\n",
    "                    ])])])\n",
    "\n",
    "layout_page_3 = html.Div([dbc.Container([dbc.Row([\n",
    "                        dbc.Col(html.H1(\"Page 3\"), width={\"size\": 6, \"offset\": 3})\n",
    "                    ])])])\n",
    "\n",
    "# callback for switching between pages\n",
    "@app.callback(\n",
    "    Output(\"page-content\", \"children\"),\n",
    "    [Input(\"page-selector\", \"value\")]\n",
    ")\n",
    "def display_page(page_idx):\n",
    "    if page_idx == \"page-1\":\n",
    "        return layout_page_1\n",
    "    elif page_idx == \"page-2\":\n",
    "        return layout_page_2\n",
    "    elif page_idx == \"page-3\":\n",
    "        return layout_page_3\n",
    "\n",
    "# layout for navbar\n",
    "app.layout = html.Div([dbc.Container(\n",
    "    [dbc.Row([dbc.Col([\n",
    "        html.H1(\"Dashboard with Bootstrap\"),\n",
    "            dbc.RadioItems(\n",
    "                id=\"page-selector\",\n",
    "                options=[\n",
    "                    {\"label\": \"Page 1\", \"value\": \"page-1\"},\n",
    "                    {\"label\": \"Page 2\", \"value\": \"page-2\"},\n",
    "                    {\"label\": \"Page 3\", \"value\": \"page-3\"},\n",
    "                    ],\n",
    "                value=\"page-1\",\n",
    "                inline=True,),],\n",
    "                width={\"size\": 2, \"offset\": 5},),]),\n",
    "    dbc.Row([dbc.Col(\n",
    "                id=\"page-content\",\n",
    "                width={\"size\": 8, \"offset\": 2},),]),]),])\n"
   ]
  },
  {
   "attachments": {},
   "cell_type": "markdown",
   "metadata": {},
   "source": [
    "# Map"
   ]
  },
  {
   "cell_type": "code",
   "execution_count": 6,
   "metadata": {},
   "outputs": [],
   "source": [
    "# load germany maps & polygons\n",
    "#bund = gpd.read_file(data_directory + 'Bundeskarte.geojson').to_crs(4326)\n",
    "land = gpd.read_file(data_directory + 'Laenderkarte.geojson').to_crs(4326)\n",
    "kreis = gpd.read_file(data_directory + 'Kreiskarte.geojson').to_crs(4326)\n",
    "polygon = gpd.read_file(data_directory + 'brandenburg_polygons.geojson').set_crs(25833, allow_override = True).to_crs(4326)"
   ]
  },
  {
   "cell_type": "code",
   "execution_count": 7,
   "metadata": {},
   "outputs": [],
   "source": [
    "polygon_offset = polygon.copy().to_crs(3043)\n",
    "polygon_offset['geometry'] = polygon_offset.geometry.buffer(-12, single_sided = True)\n",
    "polygon_offset['area'] = polygon_offset['geometry'].area / 10**3\n",
    "polygon_offset['geometry'] = polygon_offset.geometry.to_crs(4326)"
   ]
  },
  {
   "cell_type": "code",
   "execution_count": 8,
   "metadata": {},
   "outputs": [],
   "source": [
    "# add random score between 0 and 10 to kreis\n",
    "np.random.seed(123)\n",
    "kreis.insert(\n",
    "    13,\n",
    "    \"Score\",\n",
    "    np.random.uniform(0, 11, size=len(kreis))\n",
    ")"
   ]
  },
  {
   "cell_type": "code",
   "execution_count": 9,
   "metadata": {},
   "outputs": [
    {
     "data": {
      "text/plain": [
       "'\\nwith open(\"kreis.json\", \"w\") as f:\\n    f.write(kreis.to_json())\\nwith open(\"land.json\", \"w\") as f:\\n    f.write(land.to_json())\\nwith open(\"polygone.json\", \"w\") as f:\\n    f.write(polygon_offset.to_json())\\n'"
      ]
     },
     "execution_count": 9,
     "metadata": {},
     "output_type": "execute_result"
    }
   ],
   "source": [
    "'''\n",
    "with open(\"kreis.json\", \"w\") as f:\n",
    "    f.write(kreis.to_json())\n",
    "with open(\"land.json\", \"w\") as f:\n",
    "    f.write(land.to_json())\n",
    "with open(\"polygone.json\", \"w\") as f:\n",
    "    f.write(polygon_offset.to_json())\n",
    "'''"
   ]
  },
  {
   "cell_type": "code",
   "execution_count": 10,
   "metadata": {},
   "outputs": [],
   "source": [
    "# feed kreis in dash app\n",
    "kreis_path = \"assets/kreis.json\"\n",
    "# load kreis\n",
    "with open(kreis_path, 'r') as f:\n",
    "    kreis = [f['properties'] for f in json.loads(f.read())['features']]\n",
    "\n",
    "# feed land in dash app\n",
    "land_path = \"assets/land.json\"\n",
    "# load kreis\n",
    "with open(land_path, 'r') as f:\n",
    "    land = [f['properties'] for f in json.loads(f.read())['features']]\n",
    "\n",
    "# feed polygone in dash app\n",
    "polygon_path = \"assets/polygone.json\"\n",
    "# load kreis\n",
    "with open(polygon_path, 'r') as f:\n",
    "    polygone = [f['properties'] for f in json.loads(f.read())['features']]"
   ]
  },
  {
   "cell_type": "code",
   "execution_count": 11,
   "metadata": {},
   "outputs": [],
   "source": [
    "# define info box\n",
    "def get_info(feature=None):\n",
    "    header = [html.H4(\"Fitness für Ohren\")]\n",
    "    if not feature:\n",
    "        return header + [html.P(\"Über Provinz hovern\")]\n",
    "    return header + [html.B(feature[\"properties\"][\"NAME_3\"]), html.Br(),\n",
    "                     \"{:.2f} Lustnauer Score\".format(feature[\"properties\"][\"Score\"])]\n",
    "\n",
    "classes = [0, 2, 4, 6, 8, 10]\n",
    "colorscale = ['#ffd34c', '#e5f3e5', '#99d099', '#66b967', '#32a234', '#008b02']\n",
    "style = dict(weight=2, opacity=1, color='white', dashArray='3', fillOpacity=0.7)\n",
    "# Create colorbar.\n",
    "ctg = [\"{}+\".format(cls, classes[i + 1]) for i, cls in enumerate(classes[:-1])]\n",
    "colorbar = dlx.categorical_colorbar(categories=ctg, colorscale=colorscale, width=300, height=30, position=\"bottomleft\")\n",
    "# Geojson rendering logic, must be JavaScript as it is executed in clientside.\n",
    "style_handle = assign(\"\"\"function(feature, context){\n",
    "    const {classes, colorscale, style, colorProp} = context.props.hideout;  // get props from hideout\n",
    "    const value = feature.properties[colorProp];  // get value the determines the color\n",
    "    for (let i = 0; i < classes.length; ++i) {\n",
    "        if (value > classes[i]) {\n",
    "            style.fillColor = colorscale[i];  // set the fill color according to the class\n",
    "        }\n",
    "    }\n",
    "    return style;\n",
    "}\"\"\")\n",
    "# Create geojsons.\n",
    "kreis_geojson = dl.GeoJSON(url=f\"/{kreis_path}\",  # url to geojson file\n",
    "                     options=dict(style=style_handle),  # how to style each polygon\n",
    "                     zoomToBounds=True,  # when true, zooms to bounds when data changes (e.g. on load)\n",
    "                     zoomToBoundsOnClick=True,  # when true, zooms to bounds of feature (e.g. polygon) on click\n",
    "                     hoverStyle=arrow_function(dict(weight=5, color='#666', dashArray='')),  # style applied on hover\n",
    "                     hideout=dict(colorscale=colorscale, classes=classes, style=style, colorProp=\"Score\"),\n",
    "                     id=\"geojson\")\n",
    "polygon_geojson = dl.GeoJSON(url=f\"/{polygon_path}\",  # url to geojson file\n",
    "                     #options=dict(style=style_handle),  # how to style each polygon\n",
    "                     #zoomToBounds=True,  # when true, zooms to bounds when data changes (e.g. on load)\n",
    "                     zoomToBoundsOnClick=True,  # when true, zooms to bounds of feature (e.g. polygon) on click\n",
    "                     #hoverStyle=arrow_function(dict(weight=5, color='#666', dashArray='')),  # style applied on hover\n",
    "                     #hideout=dict(colorscale=colorscale, classes=classes, style=style, colorProp=\"Score\"),\n",
    "                     id=\"geojson\")\n",
    "\n",
    "\n",
    "# Create info control.\n",
    "info = html.Div(children=get_info(), id=\"info\", className=\"info\",\n",
    "                style={\"position\": \"absolute\", \"top\": \"10px\", \"right\": \"50px\", \"z-index\": \"1000\"})\n",
    "# app backend\n",
    "app = Dash(prevent_initial_callbacks=True)\n",
    "'''\n",
    "app.layout = html.Div(\n",
    "    # show map\n",
    "    [dl.Map(\n",
    "        children=[#dl.LayersControl(\n",
    "                  #    dl.BaseLayer(\n",
    "                          dl.TileLayer(),\n",
    "                  #        ),\n",
    "                      #dl.Overlay(dl.LayerGroup(polygon_geojson), name = 'Ohren', checked = True)\n",
    "                  #  ),\n",
    "                  dl.GestureHandling(), kreis_geojson, colorbar, info\n",
    "                  ],\n",
    "    # set max bounds and zoom\n",
    "    maxBounds = [\n",
    "        # north-east\n",
    "        [55.5, 15.7],\n",
    "        # south-west\n",
    "        [47.1, 5.4]\n",
    "        ],\n",
    "    zoom = 6,\n",
    "    minZoom = 6,\n",
    "    # set style in dash board                  \n",
    "    style={'width': '50%', 'height': '75vh', 'margin': \"auto\", \"display\": \"block\"})],\n",
    "    id=\"map\")\n",
    "'''\n",
    "app.layout = html.Div([dl.Map(children=[dl.TileLayer(), kreis_geojson, colorbar, info])],\n",
    "                      style={'width': '50%', 'height': '75vh', 'margin': \"auto\", \"display\": \"block\"}, id=\"map\")\n",
    "\n",
    "@app.callback(\n",
    "    Output(\"info\", \"children\"),\n",
    "    [Input(\"geojson\", \"hover_feature\")]\n",
    ")\n",
    "\n",
    "def info_hover(feature):\n",
    "    return get_info(feature)"
   ]
  },
  {
   "attachments": {},
   "cell_type": "markdown",
   "metadata": {},
   "source": [
    "# Run App"
   ]
  },
  {
   "cell_type": "code",
   "execution_count": 12,
   "metadata": {},
   "outputs": [
    {
     "name": "stdout",
     "output_type": "stream",
     "text": [
      "Dash is running on http://127.0.0.1:8050/\n",
      "\n",
      "Dash is running on http://127.0.0.1:8050/\n",
      "\n",
      " * Serving Flask app '__main__'\n",
      " * Debug mode: off\n"
     ]
    },
    {
     "name": "stderr",
     "output_type": "stream",
     "text": [
      "WARNING: This is a development server. Do not use it in a production deployment. Use a production WSGI server instead.\n",
      " * Running on http://127.0.0.1:8050\n",
      "Press CTRL+C to quit\n",
      "127.0.0.1 - - [03/Feb/2023 14:46:38] \"GET / HTTP/1.1\" 200 -\n",
      "127.0.0.1 - - [03/Feb/2023 14:46:39] \"GET /_dash-component-suites/dash/deps/react@16.v2_7_1m1672739997.14.0.min.js HTTP/1.1\" 200 -\n",
      "127.0.0.1 - - [03/Feb/2023 14:46:39] \"GET /_dash-component-suites/dash/deps/polyfill@7.v2_7_1m1672739997.12.1.min.js HTTP/1.1\" 200 -\n",
      "127.0.0.1 - - [03/Feb/2023 14:46:39] \"GET /_dash-component-suites/dash/deps/prop-types@15.v2_7_1m1672739997.8.1.min.js HTTP/1.1\" 200 -\n",
      "127.0.0.1 - - [03/Feb/2023 14:46:39] \"GET /_dash-component-suites/dash/deps/react-dom@16.v2_7_1m1672739997.14.0.min.js HTTP/1.1\" 200 -\n",
      "127.0.0.1 - - [03/Feb/2023 14:46:39] \"GET /_dash-component-suites/dash_extensions/dash_extensions.v0_1_9m1672739997.min.js HTTP/1.1\" 200 -\n",
      "127.0.0.1 - - [03/Feb/2023 14:46:39] \"GET /_dash-component-suites/dash_leaflet/dash_leaflet.v0_1_23m1672739996.min.js HTTP/1.1\" 200 -\n",
      "127.0.0.1 - - [03/Feb/2023 14:46:39] \"GET /_dash-component-suites/dash/dcc/dash_core_components-shared.v2_7_1m1672739997.js HTTP/1.1\" 200 -\n",
      "127.0.0.1 - - [03/Feb/2023 14:46:39] \"GET /assets/dashExtensions_default.js?m=1675431977.8811634 HTTP/1.1\" 200 -\n",
      "127.0.0.1 - - [03/Feb/2023 14:46:39] \"GET /_dash-component-suites/dash/dash-renderer/build/dash_renderer.v2_7_1m1672739996.min.js HTTP/1.1\" 200 -\n",
      "127.0.0.1 - - [03/Feb/2023 14:46:39] \"GET /_dash-component-suites/dash_bootstrap_components/_components/dash_bootstrap_components.v1_3_1m1675430724.min.js HTTP/1.1\" 200 -\n",
      "127.0.0.1 - - [03/Feb/2023 14:46:39] \"GET /_dash-component-suites/dash/dcc/dash_core_components.v2_7_1m1672739997.js HTTP/1.1\" 200 -\n",
      "127.0.0.1 - - [03/Feb/2023 14:46:39] \"GET /_dash-component-suites/dash/html/dash_html_components.v2_0_7m1672739997.min.js HTTP/1.1\" 200 -\n",
      "127.0.0.1 - - [03/Feb/2023 14:46:39] \"GET /_dash-component-suites/dash/dash_table/bundle.v5_2_1m1672739996.js HTTP/1.1\" 200 -\n",
      "127.0.0.1 - - [03/Feb/2023 14:46:39] \"GET /_dash-layout HTTP/1.1\" 200 -\n",
      "127.0.0.1 - - [03/Feb/2023 14:46:39] \"GET /_dash-dependencies HTTP/1.1\" 200 -\n",
      "127.0.0.1 - - [03/Feb/2023 14:46:39] \"GET /_favicon.ico?v=2.7.1 HTTP/1.1\" 200 -\n",
      "127.0.0.1 - - [03/Feb/2023 14:46:40] \"GET /assets/kreis.json HTTP/1.1\" 200 -\n",
      "127.0.0.1 - - [03/Feb/2023 14:46:41] \"POST /_dash-update-component HTTP/1.1\" 200 -\n",
      "127.0.0.1 - - [03/Feb/2023 14:46:41] \"POST /_dash-update-component HTTP/1.1\" 200 -\n",
      "127.0.0.1 - - [03/Feb/2023 14:46:41] \"POST /_dash-update-component HTTP/1.1\" 200 -\n",
      "127.0.0.1 - - [03/Feb/2023 14:46:42] \"POST /_dash-update-component HTTP/1.1\" 200 -\n",
      "127.0.0.1 - - [03/Feb/2023 14:46:42] \"POST /_dash-update-component HTTP/1.1\" 200 -\n",
      "127.0.0.1 - - [03/Feb/2023 14:46:42] \"POST /_dash-update-component HTTP/1.1\" 200 -\n",
      "127.0.0.1 - - [03/Feb/2023 14:46:42] \"POST /_dash-update-component HTTP/1.1\" 200 -\n",
      "127.0.0.1 - - [03/Feb/2023 14:46:42] \"POST /_dash-update-component HTTP/1.1\" 200 -\n"
     ]
    }
   ],
   "source": [
    "# run app\n",
    "if __name__ == '__main__':\n",
    "    app.run_server()"
   ]
  }
 ],
 "metadata": {
  "kernelspec": {
   "display_name": "Python 3.10.8 64-bit",
   "language": "python",
   "name": "python3"
  },
  "language_info": {
   "codemirror_mode": {
    "name": "ipython",
    "version": 3
   },
   "file_extension": ".py",
   "mimetype": "text/x-python",
   "name": "python",
   "nbconvert_exporter": "python",
   "pygments_lexer": "ipython3",
   "version": "3.10.8"
  },
  "orig_nbformat": 4,
  "vscode": {
   "interpreter": {
    "hash": "e7370f93d1d0cde622a1f8e1c04877d8463912d04d973331ad4851f04de6915a"
   }
  }
 },
 "nbformat": 4,
 "nbformat_minor": 2
}
