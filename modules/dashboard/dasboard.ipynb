{
 "cells": [
  {
   "cell_type": "code",
   "execution_count": 1,
   "metadata": {},
   "outputs": [],
   "source": [
    "from dash import Dash\n",
    "import dash_leaflet as dl\n",
    "from dash_extensions.enrich import html, DashProxy\n",
    "import folium\n",
    "from folium import plugins\n",
    "import numpy as np\n",
    "import pandas as pd\n",
    "import geojson\n",
    "import geopandas as gpd\n",
    "\n",
    "data_directory = '/home/jan/Uni/DS-Project/data/Maps/'"
   ]
  },
  {
   "cell_type": "code",
   "execution_count": 2,
   "metadata": {},
   "outputs": [],
   "source": [
    "# load germany maps & polygons\n",
    "bund = gpd.read_file(data_directory + 'Bundeskarte.geojson').to_crs(3857)\n",
    "land = gpd.read_file(data_directory + 'Laenderkarte.geojson').to_crs(3857)\n",
    "kreis = gpd.read_file(data_directory + 'Kreiskarte.geojson').to_crs(3857)\n",
    "polygon = gpd.read_file(data_directory + 'brandenburg_polygons.geojson').set_crs(25833, allow_override = True).to_crs(4326)"
   ]
  },
  {
   "cell_type": "code",
   "execution_count": 3,
   "metadata": {},
   "outputs": [],
   "source": [
    "polygon_offset = polygon.copy().to_crs(3043)\n",
    "polygon_offset['geometry'] = polygon_offset.geometry.buffer(-12, single_sided = True)\n",
    "polygon_offset['area'] = polygon_offset['geometry'].area / 10**3\n",
    "polygon_offset['geometry'] = polygon_offset.geometry.to_crs(4326)"
   ]
  },
  {
   "cell_type": "code",
   "execution_count": 4,
   "metadata": {},
   "outputs": [
    {
     "data": {
      "text/plain": [
       "'\\nGermany = folium.Map(location=[51.2, 10.5],\\n                 min_lon=5,\\n                 max_lon=15.7,\\n                 min_lat=55.5,\\n                 max_lat=46.5,\\n                 min_zoom=6,\\n                 zoom_start=6,\\n                 max_bounds=True,\\n                 control_scale=True,\\n                 tiles = \"OpenStreetMap\")\\n# different map layers\\nfolium.TileLayer(\\'openstreetmap\\').add_to(Germany)\\nfolium.TileLayer(\\'stamenterrain\\').add_to(Germany)\\nfolium.LayerControl().add_to(Germany)\\n# implement extras\\nminimap = plugins.MiniMap(toggle_display = True)\\nGermany.add_child(minimap)\\nplugins.Fullscreen(position = \\'topright\\').add_to(Germany)\\nplugins.ScrollZoomToggler().add_to(Germany)\\n'"
      ]
     },
     "execution_count": 4,
     "metadata": {},
     "output_type": "execute_result"
    }
   ],
   "source": [
    "'''\n",
    "Germany = folium.Map(location=[51.2, 10.5],\n",
    "                 min_lon=5,\n",
    "                 max_lon=15.7,\n",
    "                 min_lat=55.5,\n",
    "                 max_lat=46.5,\n",
    "                 min_zoom=6,\n",
    "                 zoom_start=6,\n",
    "                 max_bounds=True,\n",
    "                 control_scale=True,\n",
    "                 tiles = \"OpenStreetMap\")\n",
    "# different map layers\n",
    "folium.TileLayer('openstreetmap').add_to(Germany)\n",
    "folium.TileLayer('stamenterrain').add_to(Germany)\n",
    "folium.LayerControl().add_to(Germany)\n",
    "# implement extras\n",
    "minimap = plugins.MiniMap(toggle_display = True)\n",
    "Germany.add_child(minimap)\n",
    "plugins.Fullscreen(position = 'topright').add_to(Germany)\n",
    "plugins.ScrollZoomToggler().add_to(Germany)\n",
    "'''"
   ]
  },
  {
   "cell_type": "code",
   "execution_count": 5,
   "metadata": {},
   "outputs": [],
   "source": [
    "# Some tile urls.\n",
    "keys = [\"watercolor\", \"toner\", \"terrain\"]\n",
    "url_template = \"http://{{s}}.tile.stamen.com/{}/{{z}}/{{x}}/{{y}}.png\""
   ]
  },
  {
   "cell_type": "code",
   "execution_count": 6,
   "metadata": {},
   "outputs": [],
   "source": [
    "# Create app.\n",
    "app = Dash()\n",
    "app.layout = html.Div(dl.Map([\n",
    "    dl.LayersControl(\n",
    "        [dl.BaseLayer(dl.TileLayer(url=url_template.format(key)),\n",
    "                      name=key,\n",
    "                      checked=key == \"toner\")\n",
    "         for key in keys] +\n",
    "        [dl.Overlay(dl.LayerGroup(kreis.to_json()),\n",
    "                    name=\"test\",\n",
    "                    checked=True)])],\n",
    "                        center=[51.2, 10.5],\n",
    "                        maxBounds=[\n",
    "                            # north-east corner\n",
    "                            [55.5, 15.7],\n",
    "                            # south-west corner\n",
    "                            [46.5, 5]\n",
    "                        ],\n",
    "                        #min_lon=5,\n",
    "                        #max_lon=15.7,\n",
    "                        #min_lat=55.5,\n",
    "                        #max_lat=46.5,\n",
    "                        minZoom=6,\n",
    "                        zoom=6,\n",
    "                        #max_bounds=True\n",
    "                        ),\n",
    "                      style={'width': '50%',\n",
    "                             'height': '50vh',\n",
    "                             'margin': \"auto\",\n",
    "                             \"display\": \"block\"})"
   ]
  },
  {
   "attachments": {},
   "cell_type": "markdown",
   "metadata": {},
   "source": [
    "last part to run the dashboard locally"
   ]
  },
  {
   "cell_type": "code",
   "execution_count": 7,
   "metadata": {},
   "outputs": [
    {
     "name": "stdout",
     "output_type": "stream",
     "text": [
      "Dash is running on http://127.0.0.1:8050/\n",
      "\n",
      " * Serving Flask app '__main__'\n",
      " * Debug mode: off\n"
     ]
    },
    {
     "name": "stderr",
     "output_type": "stream",
     "text": [
      "WARNING: This is a development server. Do not use it in a production deployment. Use a production WSGI server instead.\n",
      " * Running on http://127.0.0.1:8050\n",
      "Press CTRL+C to quit\n",
      "127.0.0.1 - - [27/Dec/2022 14:30:33] \"GET / HTTP/1.1\" 200 -\n",
      "127.0.0.1 - - [27/Dec/2022 14:30:33] \"GET /_dash-layout HTTP/1.1\" 200 -\n",
      "127.0.0.1 - - [27/Dec/2022 14:30:33] \"GET /_dash-dependencies HTTP/1.1\" 200 -\n"
     ]
    }
   ],
   "source": [
    "if __name__ == '__main__':\n",
    "    app.run_server()"
   ]
  }
 ],
 "metadata": {
  "kernelspec": {
   "display_name": "Python 3.10.8 64-bit",
   "language": "python",
   "name": "python3"
  },
  "language_info": {
   "codemirror_mode": {
    "name": "ipython",
    "version": 3
   },
   "file_extension": ".py",
   "mimetype": "text/x-python",
   "name": "python",
   "nbconvert_exporter": "python",
   "pygments_lexer": "ipython3",
   "version": "3.10.8"
  },
  "orig_nbformat": 4,
  "vscode": {
   "interpreter": {
    "hash": "e7370f93d1d0cde622a1f8e1c04877d8463912d04d973331ad4851f04de6915a"
   }
  }
 },
 "nbformat": 4,
 "nbformat_minor": 2
}
