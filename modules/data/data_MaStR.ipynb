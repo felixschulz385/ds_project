{
 "cells": [
  {
   "cell_type": "code",
   "execution_count": 9,
   "metadata": {},
   "outputs": [],
   "source": [
    "# packages\n",
    "import pandas as pd\n",
    "from bs4 import BeautifulSoup\n",
    "import requests\n",
    "from zipfile import ZipFile\n",
    "import requests\n",
    "import re\n",
    "from datetime import date\n",
    "import json\n",
    "import xmltodict\n",
    "import xml.etree.ElementTree as ET\n",
    "import numpy as np\n",
    "import os"
   ]
  },
  {
   "cell_type": "code",
   "execution_count": 33,
   "metadata": {},
   "outputs": [],
   "source": [
    "# get links from website\n",
    "\n",
    "URL = \"https://ds.marktstammdatenregister.dev/Marktstammdatenregister\"\n",
    "page = requests.get(URL)\n",
    "\n",
    "soup = BeautifulSoup(page.content, \"html.parser\")\n",
    "DataLink = soup.findAll('a', href = re.compile('^https://download.marktstammdatenregister.de/Gesamtdatenexport_'))[0]['href']"
   ]
  },
  {
   "attachments": {},
   "cell_type": "markdown",
   "metadata": {},
   "source": [
    "!!! Download takes ~15 minutes !!!"
   ]
  },
  {
   "cell_type": "code",
   "execution_count": null,
   "metadata": {},
   "outputs": [],
   "source": [
    "# download data\n",
    "req = requests.get(DataLink)"
   ]
  },
  {
   "cell_type": "code",
   "execution_count": 6,
   "metadata": {},
   "outputs": [],
   "source": [
    "# set filename\n",
    "datum = date.today()\n",
    "filename = f'MaStR_Gesamtdatenexport_{datum}.zip'\n"
   ]
  },
  {
   "cell_type": "code",
   "execution_count": null,
   "metadata": {},
   "outputs": [],
   "source": [
    "# writing file to system\n",
    "print('Download started')\n",
    "with open(filename, 'wb') as output_file:\n",
    "    output_file.write(req.content)\n",
    "print('Download completed')"
   ]
  },
  {
   "cell_type": "code",
   "execution_count": null,
   "metadata": {},
   "outputs": [],
   "source": [
    "mastr_directory = \"/home/jan/Uni/DS-Project/data/MaStR/\"\n",
    "zip_path = \"/home/jan/Uni/DS-Project/modules/data/MaStR_Gesamtdatenexport_2022-11-06\"\n",
    "# unzip folder and extract required data\n",
    "Matches = []\n",
    "with ZipFile(zip_path, 'r') as ZipObject:\n",
    "    for names in ZipObject.namelist():\n",
    "        PVA = re.findall(r'^EinheitenSolar.*xml$', names)\n",
    "        Matches.append(PVA)\n",
    "        WKA = re.findall(r'^EinheitenWind.*xml$', names)\n",
    "        Matches.append(WKA)\n",
    "    while [] in Matches :\n",
    "        Matches.remove([])\n",
    "    Matches = [str(M) for M in Matches]\n",
    "    for i in range(len(Matches)-1):\n",
    "        Source_Name = Matches[i][2:-2]\n",
    "        ZipObject.extract(\n",
    "            Source_Name, path = mastr_directory\n",
    "        )\n",
    "# delete zip folder\n",
    "os.remove(zip_path)"
   ]
  },
  {
   "cell_type": "code",
   "execution_count": 2,
   "metadata": {},
   "outputs": [],
   "source": [
    "def parse_XML(xml_file, df_cols): \n",
    "    \"\"\"\n",
    "    shamelessly stolen from:\n",
    "    https://medium.com/@robertopreste/from-xml-to-pandas-dataframes-9292980b1c1c\n",
    "    \"\"\"\n",
    "    \n",
    "    xtree = ET.parse(xml_file)\n",
    "    xroot = xtree.getroot()\n",
    "    rows = []\n",
    "    \n",
    "    for node in xroot: \n",
    "        res = []\n",
    "        res.append(node.attrib.get(df_cols[0]))\n",
    "        for el in df_cols[1:]: \n",
    "            if node is not None and node.find(el) is not None:\n",
    "                res.append(node.find(el).text)\n",
    "            else: \n",
    "                res.append(None)\n",
    "        rows.append({df_cols[i]: res[i] \n",
    "                     for i, _ in enumerate(df_cols)})\n",
    "    \n",
    "    out_df = pd.DataFrame(rows, columns=df_cols)\n",
    "        \n",
    "    return out_df"
   ]
  },
  {
   "cell_type": "code",
   "execution_count": 3,
   "metadata": {},
   "outputs": [],
   "source": [
    "WKA_cols = [\"EinheitMastrNummer\",\n",
    "           \"EinheitMastrNummer\",\n",
    "           \"AnlagenbetreiberMastrNummer\",\n",
    "           \"Land\",\n",
    "           \"Bundesland\",\n",
    "           \"Landkreis\",\n",
    "           \"Gemeinde\",\n",
    "           \"Gemeindeschluessel\",\n",
    "           \"Postleitzahl\",\n",
    "           \"Inbetriebnahmedatum\",\n",
    "           \"EinheitSystemstatus\",\n",
    "           \"Nettonennleistung\",\n",
    "           # WKA specific\n",
    "           \"Laengengrad\",\n",
    "           \"Breitengrad\",\n",
    "           \"Einspeisungsart\",\n",
    "           \"Hersteller\",\n",
    "           \"Nabenhoehe\",\n",
    "           \"Rotordurchmesser\",\n",
    "           \"AuflagenAbschaltungSchallimmissionsschutzNachts\",\n",
    "           \"AuflagenAbschaltungSchallimmissionsschutzTagsueber\",\n",
    "           \"AuflagenAbschaltungSchattenwurf\",\n",
    "           \"AuflagenAbschaltungTierschutz\",\n",
    "           \"AuflagenAbschaltungEiswurf\"\n",
    "           ]\n",
    "PVA_cols = [\"EinheitMastrNummer\",\n",
    "            \"AnlagenbetreiberMastrNummer\",\n",
    "            \"Land\",\n",
    "            \"Bundesland\",\n",
    "            \"Landkreis\",\n",
    "            \"Gemeinde\",\n",
    "            \"Gemeindeschluessel\",\n",
    "            \"Postleitzahl\",\n",
    "            \"Inbetriebnahmedatum\",\n",
    "            \"EinheitSystemstatus\",\n",
    "            \"Nettonennleistung\",\n",
    "            \"Einspeisungsart\",\n",
    "            \"ZugeordneteWirkleistungWechselrichter\",\n",
    "            \"AnzahlModule\",\n",
    "            \"Lage\",\n",
    "            \"Leistungsbegrenzung\",\n",
    "            \"EinheitlicheAusrichtungUndNeigungswinkel\",\n",
    "            \"Hauptausrichtung\",\n",
    "            \"HauptausrichtungNeigungswinkel\",\n",
    "            \"Nutzungsbereich\"\n",
    "            ]"
   ]
  },
  {
   "cell_type": "code",
   "execution_count": 11,
   "metadata": {},
   "outputs": [],
   "source": [
    "# parse Wind file\n",
    "WKA_df = parse_XML(\"/home/jan/Uni/DS-Project/data/MaStR/EinheitenWind.xml\",\n",
    "          WKA_cols)\n",
    "os.remove(\"/home/jan/Uni/DS-Project/data/MaStR/EinheitenWind.xml\")"
   ]
  },
  {
   "attachments": {},
   "cell_type": "markdown",
   "metadata": {},
   "source": [
    "!!! takes ~6 minutes to run !!!"
   ]
  },
  {
   "cell_type": "code",
   "execution_count": 5,
   "metadata": {},
   "outputs": [],
   "source": [
    "Matches = []\n",
    "with ZipFile(\"/home/jan/Uni/DS-Project/modules/data/MaStR_Gesamtdatenexport_2022-11-06\", 'r') as ZipObject:\n",
    "    for names in ZipObject.namelist():\n",
    "        PVA = re.findall(r'^EinheitenSolar.*xml$', names)\n",
    "        Matches.append(PVA)\n",
    "        WKA = re.findall(r'^EinheitenWind.*xml$', names)\n",
    "        Matches.append(WKA)\n",
    "    while [] in Matches :\n",
    "        Matches.remove([])\n",
    "    Matches = [str(M) for M in Matches]"
   ]
  },
  {
   "cell_type": "code",
   "execution_count": null,
   "metadata": {},
   "outputs": [],
   "source": [
    "# parse Solar files\n",
    "PVA_df = pd.DataFrame()\n",
    "# get PVA filenames\n",
    "mastr_directory = \"/home/jan/Uni/DS-Project/data/MaStR/\"\n",
    "for i in range(len(Matches)-1):\n",
    "    Source_Name = Matches[i][2:-2]\n",
    "    Unit = mastr_directory + Source_Name\n",
    "    print(Source_Name)\n",
    "    # fill PVA_df\n",
    "    PVA_part = parse_XML(Unit, PVA_cols)\n",
    "    PVA_df = PVA_df.append(PVA_part)\n",
    "    os.remove(Unit)"
   ]
  },
  {
   "cell_type": "code",
   "execution_count": 8,
   "metadata": {},
   "outputs": [
    {
     "name": "stdout",
     "output_type": "stream",
     "text": [
      "Writing started\n",
      "Writing completed\n"
     ]
    }
   ],
   "source": [
    "# write csv files to disc\n",
    "\n",
    "print('Writing started')\n",
    "WKA_df.to_csv(mastr_directory + \"WKA.csv\")\n",
    "PVA_df.to_csv(mastr_directory + \"PVA.csv\")\n",
    "print('Writing completed')"
   ]
  }
 ],
 "metadata": {
  "kernelspec": {
   "display_name": "Python 3.10.8 64-bit",
   "language": "python",
   "name": "python3"
  },
  "language_info": {
   "codemirror_mode": {
    "name": "ipython",
    "version": 3
   },
   "file_extension": ".py",
   "mimetype": "text/x-python",
   "name": "python",
   "nbconvert_exporter": "python",
   "pygments_lexer": "ipython3",
   "version": "3.10.8"
  },
  "orig_nbformat": 4,
  "vscode": {
   "interpreter": {
    "hash": "e7370f93d1d0cde622a1f8e1c04877d8463912d04d973331ad4851f04de6915a"
   }
  }
 },
 "nbformat": 4,
 "nbformat_minor": 2
}
