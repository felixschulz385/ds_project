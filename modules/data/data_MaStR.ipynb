{
 "cells": [
  {
   "cell_type": "code",
   "execution_count": 5,
   "metadata": {},
   "outputs": [],
   "source": [
    "# packages\n",
    "import pandas as pd\n",
    "from bs4 import BeautifulSoup\n",
    "import requests\n",
    "from zipfile import ZipFile\n",
    "import requests\n",
    "import re\n",
    "from datetime import date\n",
    "import json\n",
    "import xmltodict\n",
    "import xml.etree.ElementTree as ET"
   ]
  },
  {
   "cell_type": "code",
   "execution_count": 33,
   "metadata": {},
   "outputs": [],
   "source": [
    "# get links from website\n",
    "\n",
    "URL = \"https://ds.marktstammdatenregister.dev/Marktstammdatenregister\"\n",
    "page = requests.get(URL)\n",
    "\n",
    "soup = BeautifulSoup(page.content, \"html.parser\")\n",
    "DataLink = soup.findAll('a', href = re.compile('^https://download.marktstammdatenregister.de/Gesamtdatenexport_'))[0]['href']"
   ]
  },
  {
   "attachments": {},
   "cell_type": "markdown",
   "metadata": {},
   "source": [
    "!!! Download takes ~15 minutes !!!"
   ]
  },
  {
   "cell_type": "code",
   "execution_count": 34,
   "metadata": {},
   "outputs": [
    {
     "name": "stdout",
     "output_type": "stream",
     "text": [
      "Download started\n",
      "Download completed\n"
     ]
    }
   ],
   "source": [
    "# download data\n",
    "req = requests.get(DataLink)\n",
    "# set filename\n",
    "datum = date.today()\n",
    "filename = f'MaStR_Gesamtdatenexport_{datum}.zip'\n",
    "# writing file to system\n",
    "print('Download started')\n",
    "with open(filename, 'wb') as output_file:\n",
    "    output_file.write(req.content)\n",
    "print('Download completed')"
   ]
  },
  {
   "cell_type": "code",
   "execution_count": 40,
   "metadata": {},
   "outputs": [],
   "source": [
    "# unzip folder and extract required data\n",
    "with ZipFile(\"/home/jan/Uni/DS-Project/modules/data/MaStR_Gesamtdatenexport_2022-11-06\", 'r') as ZipObject:\n",
    "    ZipObject.extract(\n",
    "        \"EinheitenSolar_1.xml\", path = \"/home/jan/Uni/DS-Project/data/MaStR/\"\n",
    "    )\n",
    "    ZipObject.extract(\n",
    "        \"EinheitenWind.xml\", path = \"/home/jan/Uni/DS-Project/data/MaStR/\"\n",
    "    )\n",
    "ZipObject.close()"
   ]
  },
  {
   "cell_type": "code",
   "execution_count": 7,
   "metadata": {},
   "outputs": [],
   "source": [
    "# xml to data frame\n",
    "WKA = \"/home/jan/Uni/DS-Project/data/MaStR/EinheitenWind.xml\"\n",
    "\n",
    "# transform into python dictionary        \n",
    "tree = ET.parse(WKA)\n",
    "xml_data = tree.getroot()\n",
    "#here you can change the encoding type to be able to set it to the one you need\n",
    "xmlstr = ET.tostring(xml_data, encoding='utf-8', method='xml')\n",
    "\n",
    "data_dict = dict(xmltodict.parse(xmlstr))\n",
    "\n",
    "# transform into json\n",
    "json_data = json.dumps(data_dict)\n",
    "with open(\"WKA.json\", \"w\") as json_file:\n",
    "    json_file.write(json_data)"
   ]
  }
 ],
 "metadata": {
  "kernelspec": {
   "display_name": "Python 3.10.8 64-bit",
   "language": "python",
   "name": "python3"
  },
  "language_info": {
   "codemirror_mode": {
    "name": "ipython",
    "version": 3
   },
   "file_extension": ".py",
   "mimetype": "text/x-python",
   "name": "python",
   "nbconvert_exporter": "python",
   "pygments_lexer": "ipython3",
   "version": "3.10.8"
  },
  "orig_nbformat": 4,
  "vscode": {
   "interpreter": {
    "hash": "e7370f93d1d0cde622a1f8e1c04877d8463912d04d973331ad4851f04de6915a"
   }
  }
 },
 "nbformat": 4,
 "nbformat_minor": 2
}
