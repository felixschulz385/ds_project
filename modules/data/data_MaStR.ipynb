{
 "cells": [
  {
   "cell_type": "code",
   "execution_count": 11,
   "metadata": {},
   "outputs": [],
   "source": [
    "# packages\n",
    "import pandas as pd\n",
    "from bs4 import BeautifulSoup\n",
    "import requests\n",
    "from zipfile import ZipFile\n",
    "import requests\n",
    "import re\n",
    "from datetime import date\n",
    "import json\n",
    "import xmltodict\n",
    "import xml.etree.ElementTree as ET\n",
    "import numpy as np"
   ]
  },
  {
   "cell_type": "code",
   "execution_count": 33,
   "metadata": {},
   "outputs": [],
   "source": [
    "# get links from website\n",
    "\n",
    "URL = \"https://ds.marktstammdatenregister.dev/Marktstammdatenregister\"\n",
    "page = requests.get(URL)\n",
    "\n",
    "soup = BeautifulSoup(page.content, \"html.parser\")\n",
    "DataLink = soup.findAll('a', href = re.compile('^https://download.marktstammdatenregister.de/Gesamtdatenexport_'))[0]['href']"
   ]
  },
  {
   "attachments": {},
   "cell_type": "markdown",
   "metadata": {},
   "source": [
    "!!! Download takes ~15 minutes !!!"
   ]
  },
  {
   "cell_type": "code",
   "execution_count": null,
   "metadata": {},
   "outputs": [],
   "source": [
    "# download data\n",
    "req = requests.get(DataLink)"
   ]
  },
  {
   "cell_type": "code",
   "execution_count": 6,
   "metadata": {},
   "outputs": [],
   "source": [
    "# set filename\n",
    "datum = date.today()\n",
    "filename = f'MaStR_Gesamtdatenexport_{datum}.zip'\n"
   ]
  },
  {
   "cell_type": "code",
   "execution_count": null,
   "metadata": {},
   "outputs": [],
   "source": [
    "# writing file to system\n",
    "print('Download started')\n",
    "with open(filename, 'wb') as output_file:\n",
    "    output_file.write(req.content)\n",
    "print('Download completed')"
   ]
  },
  {
   "cell_type": "code",
   "execution_count": 7,
   "metadata": {},
   "outputs": [
    {
     "ename": "AttributeError",
     "evalue": "'str' object has no attribute 'namelist'",
     "output_type": "error",
     "traceback": [
      "\u001b[0;31m---------------------------------------------------------------------------\u001b[0m",
      "\u001b[0;31mAttributeError\u001b[0m                            Traceback (most recent call last)",
      "Cell \u001b[0;32mIn [7], line 1\u001b[0m\n\u001b[0;32m----> 1\u001b[0m \u001b[39mfor\u001b[39;00m name \u001b[39min\u001b[39;00m filename\u001b[39m.\u001b[39;49mnamelist():\n\u001b[1;32m      2\u001b[0m     \u001b[39mprint\u001b[39m (\u001b[39m'\u001b[39m\u001b[39m%s\u001b[39;00m\u001b[39m'\u001b[39m \u001b[39m%\u001b[39m (name))\n\u001b[1;32m      4\u001b[0m filename\u001b[39m.\u001b[39mclose()\n",
      "\u001b[0;31mAttributeError\u001b[0m: 'str' object has no attribute 'namelist'"
     ]
    }
   ],
   "source": [
    "for name in filename.namelist():\n",
    "    print ('%s' % (name))\n",
    "\n",
    "filename.close()"
   ]
  },
  {
   "cell_type": "code",
   "execution_count": 56,
   "metadata": {},
   "outputs": [],
   "source": [
    "mastr_directory = \"/home/jan/Uni/DS-Project/data/MaStR/\"\n",
    "\n",
    "# unzip folder and extract required data\n",
    "Matches = []\n",
    "with ZipFile(\"/home/jan/Uni/DS-Project/modules/data/MaStR_Gesamtdatenexport_2022-11-06\", 'r') as ZipObject:\n",
    "    for names in ZipObject.namelist():\n",
    "        PVA = re.findall(r'^EinheitenSolar.*xml$', names)\n",
    "        Matches.append(PVA)\n",
    "        WKA = re.findall(r'^EinheitenWind.*xml$', names)\n",
    "        Matches.append(WKA)\n",
    "    while [] in Matches :\n",
    "        Matches.remove([])\n",
    "    Matches = [str(M) for M in Matches]\n",
    "    for i in range(len(Matches)-1):\n",
    "        Source_Name = Matches[i][2:-2]\n",
    "        ZipObject.extract(\n",
    "            Source_Name, path = mastr_directory\n",
    "        )"
   ]
  },
  {
   "attachments": {},
   "cell_type": "markdown",
   "metadata": {},
   "source": [
    "!!! takes 15 minutes to compute !!!"
   ]
  },
  {
   "cell_type": "code",
   "execution_count": 58,
   "metadata": {},
   "outputs": [
    {
     "name": "stdout",
     "output_type": "stream",
     "text": [
      "/home/jan/Uni/DS-Project/data/MaStR/EinheitenSolar_1.xml\n",
      "/home/jan/Uni/DS-Project/data/MaStR/EinheitenSolar_10.xml\n",
      "/home/jan/Uni/DS-Project/data/MaStR/EinheitenSolar_11.xml\n",
      "/home/jan/Uni/DS-Project/data/MaStR/EinheitenSolar_12.xml\n",
      "/home/jan/Uni/DS-Project/data/MaStR/EinheitenSolar_13.xml\n",
      "/home/jan/Uni/DS-Project/data/MaStR/EinheitenSolar_14.xml\n",
      "/home/jan/Uni/DS-Project/data/MaStR/EinheitenSolar_15.xml\n",
      "/home/jan/Uni/DS-Project/data/MaStR/EinheitenSolar_16.xml\n",
      "/home/jan/Uni/DS-Project/data/MaStR/EinheitenSolar_17.xml\n",
      "/home/jan/Uni/DS-Project/data/MaStR/EinheitenSolar_18.xml\n",
      "/home/jan/Uni/DS-Project/data/MaStR/EinheitenSolar_19.xml\n",
      "/home/jan/Uni/DS-Project/data/MaStR/EinheitenSolar_2.xml\n",
      "/home/jan/Uni/DS-Project/data/MaStR/EinheitenSolar_20.xml\n",
      "/home/jan/Uni/DS-Project/data/MaStR/EinheitenSolar_21.xml\n",
      "/home/jan/Uni/DS-Project/data/MaStR/EinheitenSolar_22.xml\n",
      "/home/jan/Uni/DS-Project/data/MaStR/EinheitenSolar_23.xml\n",
      "/home/jan/Uni/DS-Project/data/MaStR/EinheitenSolar_24.xml\n",
      "/home/jan/Uni/DS-Project/data/MaStR/EinheitenSolar_25.xml\n",
      "/home/jan/Uni/DS-Project/data/MaStR/EinheitenSolar_26.xml\n",
      "/home/jan/Uni/DS-Project/data/MaStR/EinheitenSolar_3.xml\n",
      "/home/jan/Uni/DS-Project/data/MaStR/EinheitenSolar_4.xml\n",
      "/home/jan/Uni/DS-Project/data/MaStR/EinheitenSolar_5.xml\n",
      "/home/jan/Uni/DS-Project/data/MaStR/EinheitenSolar_6.xml\n",
      "/home/jan/Uni/DS-Project/data/MaStR/EinheitenSolar_7.xml\n",
      "/home/jan/Uni/DS-Project/data/MaStR/EinheitenSolar_8.xml\n",
      "/home/jan/Uni/DS-Project/data/MaStR/EinheitenSolar_9.xml\n"
     ]
    }
   ],
   "source": [
    "mastr_directory = \"/home/jan/Uni/DS-Project/data/MaStR/\"\n",
    "# xml to data frame\n",
    "for i in range(len(Matches)-1):\n",
    "    Source_Name = Matches[i][2:-2]\n",
    "    Unit = mastr_directory + Source_Name\n",
    "    print(Unit)\n",
    "    # transform into python dictionary        \n",
    "    tree = ET.parse(Unit)\n",
    "    xml_data = tree.getroot()\n",
    "    xmlstr = ET.tostring(xml_data, encoding='latin-1', method='xml')\n",
    "    data_dict = dict(xmltodict.parse(xmlstr))\n",
    "    # transform into json\n",
    "    json_data = json.dumps(data_dict)\n",
    "    with open(Source_Name[:-4] + \".json\", \"w\") as json_file:\n",
    "        json_file.write(json_data)"
   ]
  }
 ],
 "metadata": {
  "kernelspec": {
   "display_name": "Python 3.10.8 64-bit",
   "language": "python",
   "name": "python3"
  },
  "language_info": {
   "codemirror_mode": {
    "name": "ipython",
    "version": 3
   },
   "file_extension": ".py",
   "mimetype": "text/x-python",
   "name": "python",
   "nbconvert_exporter": "python",
   "pygments_lexer": "ipython3",
   "version": "3.10.8"
  },
  "orig_nbformat": 4,
  "vscode": {
   "interpreter": {
    "hash": "e7370f93d1d0cde622a1f8e1c04877d8463912d04d973331ad4851f04de6915a"
   }
  }
 },
 "nbformat": 4,
 "nbformat_minor": 2
}
