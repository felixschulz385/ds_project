{
 "cells": [
  {
   "cell_type": "code",
   "execution_count": 3,
   "metadata": {},
   "outputs": [],
   "source": [
    "from urllib.request import urlretrieve"
   ]
  },
  {
   "cell_type": "code",
   "execution_count": 4,
   "metadata": {},
   "outputs": [
    {
     "data": {
      "text/plain": [
       "('/pfs/work7/workspace/scratch/tu_zxobe27-ds_project/data/orthography/raw/dlm250.utm32s.nas_bda.kompakt.zip',\n",
       " <http.client.HTTPMessage at 0x1554f4ad10c0>)"
      ]
     },
     "execution_count": 4,
     "metadata": {},
     "output_type": "execute_result"
    }
   ],
   "source": [
    "urlretrieve(\"https://daten.gdz.bkg.bund.de/produkte/dlm/dlm250/aktuell/dlm250.utm32s.nas_bda.kompakt.zip\",\n",
    "            \"/pfs/work7/workspace/scratch/tu_zxobe27-ds_project/data/orthography/raw/dlm250.utm32s.nas_bda.kompakt.zip\")"
   ]
  }
 ],
 "metadata": {
  "interpreter": {
   "hash": "488307011aaf990456e74b9f2d65811f2d14a922aa5ea10f6ce2a4be1284880c"
  },
  "kernelspec": {
   "display_name": "Python 3.10.6 ('ds_project')",
   "language": "python",
   "name": "python3"
  },
  "language_info": {
   "codemirror_mode": {
    "name": "ipython",
    "version": 3
   },
   "file_extension": ".py",
   "mimetype": "text/x-python",
   "name": "python",
   "nbconvert_exporter": "python",
   "pygments_lexer": "ipython3",
   "version": "3.10.6"
  },
  "orig_nbformat": 4
 },
 "nbformat": 4,
 "nbformat_minor": 2
}
